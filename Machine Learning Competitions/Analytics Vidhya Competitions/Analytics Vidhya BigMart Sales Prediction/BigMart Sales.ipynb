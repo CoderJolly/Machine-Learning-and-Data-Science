{
 "cells": [
  {
   "cell_type": "code",
   "execution_count": 1,
   "metadata": {
    "collapsed": true
   },
   "outputs": [],
   "source": [
    "%matplotlib inline\n",
    "import seaborn as sns\n",
    "import numpy as np\n",
    "import matplotlib.pyplot as plt\n",
    "import pandas as pd\n",
    "from math import sqrt\n",
    "from pyspark.sql.functions import col as column"
   ]
  },
  {
   "cell_type": "code",
   "execution_count": 2,
   "metadata": {
    "collapsed": true
   },
   "outputs": [],
   "source": [
    "train_df1=pd.read_csv('/Users/adityavyas/Desktop/Machine Learning and Big Data/Datasets/BigMart Sales/Train.csv')\n",
    "test_df1=pd.read_csv('/Users/adityavyas/Desktop/Machine Learning and Big Data/Datasets/BigMart Sales/Test.csv')"
   ]
  },
  {
   "cell_type": "code",
   "execution_count": 3,
   "metadata": {
    "collapsed": false
   },
   "outputs": [
    {
     "data": {
      "text/html": [
       "<div>\n",
       "<table border=\"1\" class=\"dataframe\">\n",
       "  <thead>\n",
       "    <tr style=\"text-align: right;\">\n",
       "      <th></th>\n",
       "      <th>Item_Identifier</th>\n",
       "      <th>Item_Weight</th>\n",
       "      <th>Item_Fat_Content</th>\n",
       "      <th>Item_Visibility</th>\n",
       "      <th>Item_Type</th>\n",
       "      <th>Item_MRP</th>\n",
       "      <th>Outlet_Identifier</th>\n",
       "      <th>Outlet_Establishment_Year</th>\n",
       "      <th>Outlet_Size</th>\n",
       "      <th>Outlet_Location_Type</th>\n",
       "      <th>Outlet_Type</th>\n",
       "      <th>Item_Outlet_Sales</th>\n",
       "    </tr>\n",
       "  </thead>\n",
       "  <tbody>\n",
       "    <tr>\n",
       "      <th>0</th>\n",
       "      <td>FDA15</td>\n",
       "      <td>9.30</td>\n",
       "      <td>Low Fat</td>\n",
       "      <td>0.016047</td>\n",
       "      <td>Dairy</td>\n",
       "      <td>249.8092</td>\n",
       "      <td>OUT049</td>\n",
       "      <td>1999</td>\n",
       "      <td>Medium</td>\n",
       "      <td>Tier 1</td>\n",
       "      <td>Supermarket Type1</td>\n",
       "      <td>3735.1380</td>\n",
       "    </tr>\n",
       "    <tr>\n",
       "      <th>1</th>\n",
       "      <td>DRC01</td>\n",
       "      <td>5.92</td>\n",
       "      <td>Regular</td>\n",
       "      <td>0.019278</td>\n",
       "      <td>Soft Drinks</td>\n",
       "      <td>48.2692</td>\n",
       "      <td>OUT018</td>\n",
       "      <td>2009</td>\n",
       "      <td>Medium</td>\n",
       "      <td>Tier 3</td>\n",
       "      <td>Supermarket Type2</td>\n",
       "      <td>443.4228</td>\n",
       "    </tr>\n",
       "    <tr>\n",
       "      <th>2</th>\n",
       "      <td>FDN15</td>\n",
       "      <td>17.50</td>\n",
       "      <td>Low Fat</td>\n",
       "      <td>0.016760</td>\n",
       "      <td>Meat</td>\n",
       "      <td>141.6180</td>\n",
       "      <td>OUT049</td>\n",
       "      <td>1999</td>\n",
       "      <td>Medium</td>\n",
       "      <td>Tier 1</td>\n",
       "      <td>Supermarket Type1</td>\n",
       "      <td>2097.2700</td>\n",
       "    </tr>\n",
       "    <tr>\n",
       "      <th>3</th>\n",
       "      <td>FDX07</td>\n",
       "      <td>19.20</td>\n",
       "      <td>Regular</td>\n",
       "      <td>0.000000</td>\n",
       "      <td>Fruits and Vegetables</td>\n",
       "      <td>182.0950</td>\n",
       "      <td>OUT010</td>\n",
       "      <td>1998</td>\n",
       "      <td>NaN</td>\n",
       "      <td>Tier 3</td>\n",
       "      <td>Grocery Store</td>\n",
       "      <td>732.3800</td>\n",
       "    </tr>\n",
       "    <tr>\n",
       "      <th>4</th>\n",
       "      <td>NCD19</td>\n",
       "      <td>8.93</td>\n",
       "      <td>Low Fat</td>\n",
       "      <td>0.000000</td>\n",
       "      <td>Household</td>\n",
       "      <td>53.8614</td>\n",
       "      <td>OUT013</td>\n",
       "      <td>1987</td>\n",
       "      <td>High</td>\n",
       "      <td>Tier 3</td>\n",
       "      <td>Supermarket Type1</td>\n",
       "      <td>994.7052</td>\n",
       "    </tr>\n",
       "  </tbody>\n",
       "</table>\n",
       "</div>"
      ],
      "text/plain": [
       "  Item_Identifier  Item_Weight Item_Fat_Content  Item_Visibility  \\\n",
       "0           FDA15         9.30          Low Fat         0.016047   \n",
       "1           DRC01         5.92          Regular         0.019278   \n",
       "2           FDN15        17.50          Low Fat         0.016760   \n",
       "3           FDX07        19.20          Regular         0.000000   \n",
       "4           NCD19         8.93          Low Fat         0.000000   \n",
       "\n",
       "               Item_Type  Item_MRP Outlet_Identifier  \\\n",
       "0                  Dairy  249.8092            OUT049   \n",
       "1            Soft Drinks   48.2692            OUT018   \n",
       "2                   Meat  141.6180            OUT049   \n",
       "3  Fruits and Vegetables  182.0950            OUT010   \n",
       "4              Household   53.8614            OUT013   \n",
       "\n",
       "   Outlet_Establishment_Year Outlet_Size Outlet_Location_Type  \\\n",
       "0                       1999      Medium               Tier 1   \n",
       "1                       2009      Medium               Tier 3   \n",
       "2                       1999      Medium               Tier 1   \n",
       "3                       1998         NaN               Tier 3   \n",
       "4                       1987        High               Tier 3   \n",
       "\n",
       "         Outlet_Type  Item_Outlet_Sales  \n",
       "0  Supermarket Type1          3735.1380  \n",
       "1  Supermarket Type2           443.4228  \n",
       "2  Supermarket Type1          2097.2700  \n",
       "3      Grocery Store           732.3800  \n",
       "4  Supermarket Type1           994.7052  "
      ]
     },
     "execution_count": 3,
     "metadata": {},
     "output_type": "execute_result"
    }
   ],
   "source": [
    "train_df1.head(5)"
   ]
  },
  {
   "cell_type": "code",
   "execution_count": 4,
   "metadata": {
    "collapsed": false
   },
   "outputs": [
    {
     "name": "stderr",
     "output_type": "stream",
     "text": [
      "/Users/adityavyas/anaconda/lib/python2.7/site-packages/numpy/lib/function_base.py:3834: RuntimeWarning: Invalid value encountered in percentile\n",
      "  RuntimeWarning)\n"
     ]
    },
    {
     "data": {
      "text/html": [
       "<div>\n",
       "<table border=\"1\" class=\"dataframe\">\n",
       "  <thead>\n",
       "    <tr style=\"text-align: right;\">\n",
       "      <th></th>\n",
       "      <th>Item_Weight</th>\n",
       "      <th>Item_Visibility</th>\n",
       "      <th>Item_MRP</th>\n",
       "      <th>Outlet_Establishment_Year</th>\n",
       "      <th>Item_Outlet_Sales</th>\n",
       "    </tr>\n",
       "  </thead>\n",
       "  <tbody>\n",
       "    <tr>\n",
       "      <th>count</th>\n",
       "      <td>7060.000000</td>\n",
       "      <td>8523.000000</td>\n",
       "      <td>8523.000000</td>\n",
       "      <td>8523.000000</td>\n",
       "      <td>8523.000000</td>\n",
       "    </tr>\n",
       "    <tr>\n",
       "      <th>mean</th>\n",
       "      <td>12.857645</td>\n",
       "      <td>0.066132</td>\n",
       "      <td>140.992782</td>\n",
       "      <td>1997.831867</td>\n",
       "      <td>2181.288914</td>\n",
       "    </tr>\n",
       "    <tr>\n",
       "      <th>std</th>\n",
       "      <td>4.643456</td>\n",
       "      <td>0.051598</td>\n",
       "      <td>62.275067</td>\n",
       "      <td>8.371760</td>\n",
       "      <td>1706.499616</td>\n",
       "    </tr>\n",
       "    <tr>\n",
       "      <th>min</th>\n",
       "      <td>4.555000</td>\n",
       "      <td>0.000000</td>\n",
       "      <td>31.290000</td>\n",
       "      <td>1985.000000</td>\n",
       "      <td>33.290000</td>\n",
       "    </tr>\n",
       "    <tr>\n",
       "      <th>25%</th>\n",
       "      <td>NaN</td>\n",
       "      <td>0.026989</td>\n",
       "      <td>93.826500</td>\n",
       "      <td>1987.000000</td>\n",
       "      <td>834.247400</td>\n",
       "    </tr>\n",
       "    <tr>\n",
       "      <th>50%</th>\n",
       "      <td>NaN</td>\n",
       "      <td>0.053931</td>\n",
       "      <td>143.012800</td>\n",
       "      <td>1999.000000</td>\n",
       "      <td>1794.331000</td>\n",
       "    </tr>\n",
       "    <tr>\n",
       "      <th>75%</th>\n",
       "      <td>NaN</td>\n",
       "      <td>0.094585</td>\n",
       "      <td>185.643700</td>\n",
       "      <td>2004.000000</td>\n",
       "      <td>3101.296400</td>\n",
       "    </tr>\n",
       "    <tr>\n",
       "      <th>max</th>\n",
       "      <td>21.350000</td>\n",
       "      <td>0.328391</td>\n",
       "      <td>266.888400</td>\n",
       "      <td>2009.000000</td>\n",
       "      <td>13086.964800</td>\n",
       "    </tr>\n",
       "  </tbody>\n",
       "</table>\n",
       "</div>"
      ],
      "text/plain": [
       "       Item_Weight  Item_Visibility     Item_MRP  Outlet_Establishment_Year  \\\n",
       "count  7060.000000      8523.000000  8523.000000                8523.000000   \n",
       "mean     12.857645         0.066132   140.992782                1997.831867   \n",
       "std       4.643456         0.051598    62.275067                   8.371760   \n",
       "min       4.555000         0.000000    31.290000                1985.000000   \n",
       "25%            NaN         0.026989    93.826500                1987.000000   \n",
       "50%            NaN         0.053931   143.012800                1999.000000   \n",
       "75%            NaN         0.094585   185.643700                2004.000000   \n",
       "max      21.350000         0.328391   266.888400                2009.000000   \n",
       "\n",
       "       Item_Outlet_Sales  \n",
       "count        8523.000000  \n",
       "mean         2181.288914  \n",
       "std          1706.499616  \n",
       "min            33.290000  \n",
       "25%           834.247400  \n",
       "50%          1794.331000  \n",
       "75%          3101.296400  \n",
       "max         13086.964800  "
      ]
     },
     "execution_count": 4,
     "metadata": {},
     "output_type": "execute_result"
    }
   ],
   "source": [
    "#We will see how the features are\n",
    "\n",
    "train_df1.describe()"
   ]
  },
  {
   "cell_type": "code",
   "execution_count": 5,
   "metadata": {
    "collapsed": false
   },
   "outputs": [
    {
     "name": "stdout",
     "output_type": "stream",
     "text": [
      "Item_Identifier                 0\n",
      "Item_Weight                  1463\n",
      "Item_Fat_Content                0\n",
      "Item_Visibility                 0\n",
      "Item_Type                       0\n",
      "Item_MRP                        0\n",
      "Outlet_Identifier               0\n",
      "Outlet_Establishment_Year       0\n",
      "Outlet_Size                  2410\n",
      "Outlet_Location_Type            0\n",
      "Outlet_Type                     0\n",
      "Item_Outlet_Sales               0\n",
      "dtype: int64\n",
      "-----------------------\n",
      "Item_Identifier                 0\n",
      "Item_Weight                   976\n",
      "Item_Fat_Content                0\n",
      "Item_Visibility                 0\n",
      "Item_Type                       0\n",
      "Item_MRP                        0\n",
      "Outlet_Identifier               0\n",
      "Outlet_Establishment_Year       0\n",
      "Outlet_Size                  1606\n",
      "Outlet_Location_Type            0\n",
      "Outlet_Type                     0\n",
      "dtype: int64\n"
     ]
    }
   ],
   "source": [
    "#We check if there are any null values or not.\n",
    "\n",
    "print train_df1.isnull().sum()\n",
    "print '-----------------------'\n",
    "print test_df1.isnull().sum()"
   ]
  },
  {
   "cell_type": "code",
   "execution_count": 6,
   "metadata": {
    "collapsed": false
   },
   "outputs": [
    {
     "data": {
      "text/plain": [
       "<matplotlib.axes._subplots.AxesSubplot at 0x1159c4290>"
      ]
     },
     "execution_count": 6,
     "metadata": {},
     "output_type": "execute_result"
    },
    {
     "data": {
      "image/png": "[encoded data removed]",
      "text/plain": [
       "<matplotlib.figure.Figure at 0x109beab50>"
      ]
     },
     "metadata": {},
     "output_type": "display_data"
    }
   ],
   "source": [
    "#We plot a graph between Outlet Size and Outlet Location Type\n",
    "\n",
    "sns.countplot('Outlet_Location_Type',hue='Outlet_Size',data=train_df1)"
   ]
  },
  {
   "cell_type": "code",
   "execution_count": 7,
   "metadata": {
    "collapsed": false
   },
   "outputs": [],
   "source": [
    "#Since Tier-2 has only small sizes we will assign Small to all items in Tier2 where values are missing.\n",
    "\n",
    "def remove_null(x):\n",
    "    if pd.isnull(x['Outlet_Size']):\n",
    "        if x['Outlet_Location_Type']=='Tier 2':\n",
    "            x['Outlet_Size']='Small'\n",
    "        if x['Outlet_Location_Type']=='Tier 3':\n",
    "            x['Outlet_Size']='Medium'\n",
    "        if x['Outlet_Location_Type']=='Tier 1':\n",
    "            x['Outlet_Size']='Small'\n",
    "    if pd.isnull(x['Item_Weight']):\n",
    "        x['Item_Weight']=train_df1['Item_Weight'].mean()\n",
    "    return x\n",
    "\n",
    "\n",
    "train_df2=train_df1.apply(lambda x:remove_null(x),1)\n",
    "test_df2=test_df1.apply(lambda x:remove_null(x),1)"
   ]
  },
  {
   "cell_type": "code",
   "execution_count": 8,
   "metadata": {
    "collapsed": false
   },
   "outputs": [
    {
     "name": "stdout",
     "output_type": "stream",
     "text": [
      "Item_Identifier              0\n",
      "Item_Weight                  0\n",
      "Item_Fat_Content             0\n",
      "Item_Visibility              0\n",
      "Item_Type                    0\n",
      "Item_MRP                     0\n",
      "Outlet_Identifier            0\n",
      "Outlet_Establishment_Year    0\n",
      "Outlet_Size                  0\n",
      "Outlet_Location_Type         0\n",
      "Outlet_Type                  0\n",
      "Item_Outlet_Sales            0\n",
      "dtype: int64\n",
      "-----------------------\n",
      "Item_Identifier              0\n",
      "Item_Weight                  0\n",
      "Item_Fat_Content             0\n",
      "Item_Visibility              0\n",
      "Item_Type                    0\n",
      "Item_MRP                     0\n",
      "Outlet_Identifier            0\n",
      "Outlet_Establishment_Year    0\n",
      "Outlet_Size                  0\n",
      "Outlet_Location_Type         0\n",
      "Outlet_Type                  0\n",
      "dtype: int64\n"
     ]
    }
   ],
   "source": [
    "print train_df2.isnull().sum()\n",
    "print '-----------------------'\n",
    "print test_df2.isnull().sum()"
   ]
  },
  {
   "cell_type": "code",
   "execution_count": 9,
   "metadata": {
    "collapsed": false
   },
   "outputs": [
    {
     "data": {
      "text/plain": [
       "Index([u'Item_Identifier', u'Item_Weight', u'Item_Fat_Content',\n",
       "       u'Item_Visibility', u'Item_Type', u'Item_MRP', u'Outlet_Identifier',\n",
       "       u'Outlet_Establishment_Year', u'Outlet_Size', u'Outlet_Location_Type',\n",
       "       u'Outlet_Type', u'Item_Outlet_Sales'],\n",
       "      dtype='object')"
      ]
     },
     "execution_count": 9,
     "metadata": {},
     "output_type": "execute_result"
    }
   ],
   "source": [
    "#Now we check what each column/feature represents.\n",
    "\n",
    "train_df2.columns"
   ]
  },
  {
   "cell_type": "code",
   "execution_count": 10,
   "metadata": {
    "collapsed": false
   },
   "outputs": [
    {
     "name": "stdout",
     "output_type": "stream",
     "text": [
      "Unique values in Item_Identifier 1559\n",
      "\n",
      "Unique values in Item_Weight 416\n",
      "\n",
      "Unique values in Item_Fat_Content 5\n",
      "\n",
      "Unique values in Item_Visibility 7880\n",
      "\n",
      "Unique values in Item_Type 16\n",
      "\n",
      "Unique values in Item_MRP 5938\n",
      "\n",
      "Unique values in Outlet_Identifier 10\n",
      "\n",
      "Unique values in Outlet_Establishment_Year 9\n",
      "\n",
      "Unique values in Outlet_Size 3\n",
      "\n",
      "Unique values in Outlet_Location_Type 3\n",
      "\n",
      "Unique values in Outlet_Type 4\n",
      "\n",
      "Unique values in Item_Outlet_Sales 3493\n",
      "\n"
     ]
    }
   ],
   "source": [
    "for col in train_df2.columns:\n",
    "    print \"Unique values in \"+col+\" \"+str(len(train_df2[col].unique()))+'\\n'"
   ]
  },
  {
   "cell_type": "code",
   "execution_count": 11,
   "metadata": {
    "collapsed": false
   },
   "outputs": [
    {
     "data": {
      "text/plain": [
       "0    FDA15\n",
       "1    DRC01\n",
       "2    FDN15\n",
       "3    FDX07\n",
       "4    NCD19\n",
       "Name: Item_Identifier, dtype: object"
      ]
     },
     "execution_count": 11,
     "metadata": {},
     "output_type": "execute_result"
    }
   ],
   "source": [
    "#Item_Identifier\n",
    "\n",
    "train_df2['Item_Identifier'].head(5)"
   ]
  },
  {
   "cell_type": "code",
   "execution_count": 12,
   "metadata": {
    "collapsed": false
   },
   "outputs": [
    {
     "data": {
      "text/plain": [
       "FD    6125\n",
       "NC    1599\n",
       "DR     799\n",
       "Name: Item_Identified_As, dtype: int64"
      ]
     },
     "execution_count": 12,
     "metadata": {},
     "output_type": "execute_result"
    }
   ],
   "source": [
    "#We see that FD,DR and NC stand for Food,Drinks and Non-Consumable. Hence we reduce each identifier to FD,DR or NC\n",
    "\n",
    "train_df2['Item_Identified_As']=train_df2['Item_Identifier'].apply(lambda x:x[0:2])\n",
    "train_df2['Item_Identified_As'].value_counts()"
   ]
  },
  {
   "cell_type": "code",
   "execution_count": 13,
   "metadata": {
    "collapsed": false
   },
   "outputs": [
    {
     "data": {
      "text/plain": [
       "FD    4076\n",
       "NC    1087\n",
       "DR     518\n",
       "Name: Item_Identified_As, dtype: int64"
      ]
     },
     "execution_count": 13,
     "metadata": {},
     "output_type": "execute_result"
    }
   ],
   "source": [
    "test_df2['Item_Identified_As']=test_df2['Item_Identifier'].apply(lambda x:x[0:2])\n",
    "item_identifier_test=test_df2['Item_Identifier']\n",
    "test_df2['Item_Identified_As'].value_counts()"
   ]
  },
  {
   "cell_type": "code",
   "execution_count": 14,
   "metadata": {
    "collapsed": false
   },
   "outputs": [
    {
     "data": {
      "text/html": [
       "<div>\n",
       "<table border=\"1\" class=\"dataframe\">\n",
       "  <thead>\n",
       "    <tr style=\"text-align: right;\">\n",
       "      <th></th>\n",
       "      <th>Item_Identifier</th>\n",
       "      <th>Item_Weight</th>\n",
       "      <th>Item_Fat_Content</th>\n",
       "      <th>Item_Visibility</th>\n",
       "      <th>Item_Type</th>\n",
       "      <th>Item_MRP</th>\n",
       "      <th>Outlet_Identifier</th>\n",
       "      <th>Outlet_Establishment_Year</th>\n",
       "      <th>Outlet_Size</th>\n",
       "      <th>Outlet_Location_Type</th>\n",
       "      <th>Outlet_Type</th>\n",
       "      <th>Item_Outlet_Sales</th>\n",
       "      <th>Item_Identified_As</th>\n",
       "    </tr>\n",
       "  </thead>\n",
       "  <tbody>\n",
       "    <tr>\n",
       "      <th>0</th>\n",
       "      <td>FDA15</td>\n",
       "      <td>9.3</td>\n",
       "      <td>Low Fat</td>\n",
       "      <td>0.016047</td>\n",
       "      <td>Dairy</td>\n",
       "      <td>249.8092</td>\n",
       "      <td>OUT049</td>\n",
       "      <td>1999</td>\n",
       "      <td>Medium</td>\n",
       "      <td>Tier 1</td>\n",
       "      <td>Supermarket Type1</td>\n",
       "      <td>3735.138</td>\n",
       "      <td>FD</td>\n",
       "    </tr>\n",
       "  </tbody>\n",
       "</table>\n",
       "</div>"
      ],
      "text/plain": [
       "  Item_Identifier  Item_Weight Item_Fat_Content  Item_Visibility Item_Type  \\\n",
       "0           FDA15          9.3          Low Fat         0.016047     Dairy   \n",
       "\n",
       "   Item_MRP Outlet_Identifier  Outlet_Establishment_Year Outlet_Size  \\\n",
       "0  249.8092            OUT049                       1999      Medium   \n",
       "\n",
       "  Outlet_Location_Type        Outlet_Type  Item_Outlet_Sales  \\\n",
       "0               Tier 1  Supermarket Type1           3735.138   \n",
       "\n",
       "  Item_Identified_As  \n",
       "0                 FD  "
      ]
     },
     "execution_count": 14,
     "metadata": {},
     "output_type": "execute_result"
    }
   ],
   "source": [
    "train_df2.head(1)"
   ]
  },
  {
   "cell_type": "code",
   "execution_count": 15,
   "metadata": {
    "collapsed": false
   },
   "outputs": [
    {
     "data": {
      "text/plain": [
       "count    8523.000000\n",
       "mean       12.857645\n",
       "std         4.226124\n",
       "min         4.555000\n",
       "25%         9.310000\n",
       "50%        12.857645\n",
       "75%        16.000000\n",
       "max        21.350000\n",
       "Name: Item_Weight, dtype: float64"
      ]
     },
     "execution_count": 15,
     "metadata": {},
     "output_type": "execute_result"
    }
   ],
   "source": [
    "#Item Weight\n",
    "\n",
    "train_df2['Item_Weight'].describe()"
   ]
  },
  {
   "cell_type": "code",
   "execution_count": 16,
   "metadata": {
    "collapsed": false
   },
   "outputs": [
    {
     "data": {
      "text/plain": [
       "<seaborn.axisgrid.JointGrid at 0x115425610>"
      ]
     },
     "execution_count": 16,
     "metadata": {},
     "output_type": "execute_result"
    },
    {
     "data": {
      "image/png": "[encoded data removed]",
      "text/plain": [
       "<matplotlib.figure.Figure at 0x115425950>"
      ]
     },
     "metadata": {},
     "output_type": "display_data"
    }
   ],
   "source": [
    "#We are not doing anything with the weight. Obviously Low Fat foods will have lesser weight and vice-versa.If we look \n",
    "#at how the weight affects the sales(linearity or not) we can plot the graph\n",
    "\n",
    "sns.jointplot('Item_Weight','Item_Outlet_Sales',data=train_df2)"
   ]
  },
  {
   "cell_type": "code",
   "execution_count": 17,
   "metadata": {
    "collapsed": false
   },
   "outputs": [
    {
     "data": {
      "text/plain": [
       "count        8523\n",
       "unique          5\n",
       "top       Low Fat\n",
       "freq         5089\n",
       "Name: Item_Fat_Content, dtype: object"
      ]
     },
     "execution_count": 17,
     "metadata": {},
     "output_type": "execute_result"
    }
   ],
   "source": [
    "#We see that weight has very less linear relationship with the item sales. Now for the Item Fat Content\n",
    "\n",
    "train_df2['Item_Fat_Content'].describe()"
   ]
  },
  {
   "cell_type": "code",
   "execution_count": 18,
   "metadata": {
    "collapsed": false
   },
   "outputs": [
    {
     "data": {
      "text/plain": [
       "Low Fat    5089\n",
       "Regular    2889\n",
       "LF          316\n",
       "reg         117\n",
       "low fat     112\n",
       "Name: Item_Fat_Content, dtype: int64"
      ]
     },
     "execution_count": 18,
     "metadata": {},
     "output_type": "execute_result"
    }
   ],
   "source": [
    "train_df2['Item_Fat_Content'].value_counts()"
   ]
  },
  {
   "cell_type": "code",
   "execution_count": 19,
   "metadata": {
    "collapsed": false
   },
   "outputs": [
    {
     "data": {
      "text/plain": [
       "array(['Low Fat', 'Regular', 'low fat', 'LF', 'reg'], dtype=object)"
      ]
     },
     "execution_count": 19,
     "metadata": {},
     "output_type": "execute_result"
    }
   ],
   "source": [
    "train_df2['Item_Fat_Content'].unique()"
   ]
  },
  {
   "cell_type": "code",
   "execution_count": 20,
   "metadata": {
    "collapsed": false
   },
   "outputs": [],
   "source": [
    "#We can group low fat and Low Fat as same.Hence we will remove it\n",
    "\n",
    "train_df2['Item_Fat_Content']=train_df2['Item_Fat_Content'].replace({'Low Fat':'LF','low fat':'LF','reg':'Reg'\n",
    "                                                                     ,'Regular':'Reg'})\n",
    "test_df2['Item_Fat_Content']=test_df2['Item_Fat_Content'].replace({'Low Fat':'LF','low fat':'LF','reg':'Reg'\n",
    "                                                                     ,'Regular':'Reg'})"
   ]
  },
  {
   "cell_type": "code",
   "execution_count": 21,
   "metadata": {
    "collapsed": false
   },
   "outputs": [
    {
     "data": {
      "text/plain": [
       "LF     5517\n",
       "Reg    3006\n",
       "Name: Item_Fat_Content, dtype: int64"
      ]
     },
     "execution_count": 21,
     "metadata": {},
     "output_type": "execute_result"
    }
   ],
   "source": [
    "train_df2['Item_Fat_Content'].value_counts()"
   ]
  },
  {
   "cell_type": "code",
   "execution_count": 22,
   "metadata": {
    "collapsed": false
   },
   "outputs": [
    {
     "data": {
      "text/plain": [
       "count    8523.000000\n",
       "mean        0.066132\n",
       "std         0.051598\n",
       "min         0.000000\n",
       "25%         0.026989\n",
       "50%         0.053931\n",
       "75%         0.094585\n",
       "max         0.328391\n",
       "Name: Item_Visibility, dtype: float64"
      ]
     },
     "execution_count": 22,
     "metadata": {},
     "output_type": "execute_result"
    }
   ],
   "source": [
    "#Item Visibility\n",
    "\n",
    "train_df2['Item_Visibility'].describe()"
   ]
  },
  {
   "cell_type": "code",
   "execution_count": 23,
   "metadata": {
    "collapsed": false
   },
   "outputs": [],
   "source": [
    "#We see that the minimum value value of the visibility is 0.000. However we will set it to the mean of each product\n",
    "visibility_avg = train_df2.pivot_table(values='Item_Visibility', index='Item_Identifier')\n",
    "miss_bool = (train_df2['Item_Visibility'] == 0)\n",
    "\n",
    "train_df2.loc[miss_bool,'Item_Visibility'] = train_df2.loc[miss_bool,'Item_Identifier'].apply(lambda x: visibility_avg[x])"
   ]
  },
  {
   "cell_type": "code",
   "execution_count": 24,
   "metadata": {
    "collapsed": false
   },
   "outputs": [],
   "source": [
    "visibility_avg2 = test_df2.pivot_table(values='Item_Visibility', index='Item_Identifier')\n",
    "miss_bool2 = (test_df2['Item_Visibility'] == 0)\n",
    "\n",
    "test_df2.loc[miss_bool2,'Item_Visibility'] = test_df2.loc[miss_bool2,'Item_Identifier'].apply(lambda x: visibility_avg2[x])"
   ]
  },
  {
   "cell_type": "code",
   "execution_count": 25,
   "metadata": {
    "collapsed": false
   },
   "outputs": [
    {
     "data": {
      "text/plain": [
       "count    8523.000000\n",
       "mean        0.069670\n",
       "std         0.049810\n",
       "min         0.003575\n",
       "25%         0.031114\n",
       "50%         0.056922\n",
       "75%         0.097160\n",
       "max         0.328391\n",
       "Name: Item_Visibility, dtype: float64"
      ]
     },
     "execution_count": 25,
     "metadata": {},
     "output_type": "execute_result"
    }
   ],
   "source": [
    "train_df2['Item_Visibility'].describe()"
   ]
  },
  {
   "cell_type": "code",
   "execution_count": 26,
   "metadata": {
    "collapsed": false
   },
   "outputs": [
    {
     "data": {
      "text/html": [
       "<div>\n",
       "<table border=\"1\" class=\"dataframe\">\n",
       "  <thead>\n",
       "    <tr style=\"text-align: right;\">\n",
       "      <th></th>\n",
       "      <th>Item_Identifier</th>\n",
       "      <th>Item_Weight</th>\n",
       "      <th>Item_Fat_Content</th>\n",
       "      <th>Item_Visibility</th>\n",
       "      <th>Item_Type</th>\n",
       "      <th>Item_MRP</th>\n",
       "      <th>Outlet_Identifier</th>\n",
       "      <th>Outlet_Establishment_Year</th>\n",
       "      <th>Outlet_Size</th>\n",
       "      <th>Outlet_Location_Type</th>\n",
       "      <th>Outlet_Type</th>\n",
       "      <th>Item_Outlet_Sales</th>\n",
       "      <th>Item_Identified_As</th>\n",
       "    </tr>\n",
       "  </thead>\n",
       "  <tbody>\n",
       "    <tr>\n",
       "      <th>0</th>\n",
       "      <td>FDA15</td>\n",
       "      <td>9.3</td>\n",
       "      <td>LF</td>\n",
       "      <td>0.016047</td>\n",
       "      <td>Dairy</td>\n",
       "      <td>249.8092</td>\n",
       "      <td>OUT049</td>\n",
       "      <td>1999</td>\n",
       "      <td>Medium</td>\n",
       "      <td>Tier 1</td>\n",
       "      <td>Supermarket Type1</td>\n",
       "      <td>3735.138</td>\n",
       "      <td>FD</td>\n",
       "    </tr>\n",
       "  </tbody>\n",
       "</table>\n",
       "</div>"
      ],
      "text/plain": [
       "  Item_Identifier  Item_Weight Item_Fat_Content  Item_Visibility Item_Type  \\\n",
       "0           FDA15          9.3               LF         0.016047     Dairy   \n",
       "\n",
       "   Item_MRP Outlet_Identifier  Outlet_Establishment_Year Outlet_Size  \\\n",
       "0  249.8092            OUT049                       1999      Medium   \n",
       "\n",
       "  Outlet_Location_Type        Outlet_Type  Item_Outlet_Sales  \\\n",
       "0               Tier 1  Supermarket Type1           3735.138   \n",
       "\n",
       "  Item_Identified_As  \n",
       "0                 FD  "
      ]
     },
     "execution_count": 26,
     "metadata": {},
     "output_type": "execute_result"
    }
   ],
   "source": [
    "train_df2.head(1)"
   ]
  },
  {
   "cell_type": "code",
   "execution_count": 27,
   "metadata": {
    "collapsed": false
   },
   "outputs": [
    {
     "data": {
      "text/plain": [
       "array(['Dairy', 'Soft Drinks', 'Meat', 'Fruits and Vegetables',\n",
       "       'Household', 'Baking Goods', 'Snack Foods', 'Frozen Foods',\n",
       "       'Breakfast', 'Health and Hygiene', 'Hard Drinks', 'Canned',\n",
       "       'Breads', 'Starchy Foods', 'Others', 'Seafood'], dtype=object)"
      ]
     },
     "execution_count": 27,
     "metadata": {},
     "output_type": "execute_result"
    }
   ],
   "source": [
    "#Item_Type\n",
    "\n",
    "train_df2['Item_Type'].unique()"
   ]
  },
  {
   "cell_type": "code",
   "execution_count": 28,
   "metadata": {
    "collapsed": false
   },
   "outputs": [
    {
     "data": {
      "text/plain": [
       "Fruits and Vegetables    1232\n",
       "Snack Foods              1200\n",
       "Household                 910\n",
       "Frozen Foods              856\n",
       "Dairy                     682\n",
       "Canned                    649\n",
       "Baking Goods              648\n",
       "Health and Hygiene        520\n",
       "Soft Drinks               445\n",
       "Meat                      425\n",
       "Breads                    251\n",
       "Hard Drinks               214\n",
       "Others                    169\n",
       "Starchy Foods             148\n",
       "Breakfast                 110\n",
       "Seafood                    64\n",
       "Name: Item_Type, dtype: int64"
      ]
     },
     "execution_count": 28,
     "metadata": {},
     "output_type": "execute_result"
    }
   ],
   "source": [
    "train_df2['Item_Type'].value_counts()"
   ]
  },
  {
   "cell_type": "code",
   "execution_count": 29,
   "metadata": {
    "collapsed": false
   },
   "outputs": [
    {
     "data": {
      "text/plain": [
       "<seaborn.axisgrid.JointGrid at 0x1188c41d0>"
      ]
     },
     "execution_count": 29,
     "metadata": {},
     "output_type": "execute_result"
    },
    {
     "data": {
      "image/png": "[encoded data removed]",
      "text/plain": [
       "<matplotlib.figure.Figure at 0x114fa3e90>"
      ]
     },
     "metadata": {},
     "output_type": "display_data"
    }
   ],
   "source": [
    "#Item MRP. Item MRP has the highest linear variance with the item sales at each outlets and is thus a very strong \n",
    "#feature.\n",
    "\n",
    "sns.jointplot('Item_MRP','Item_Outlet_Sales',data=train_df2)"
   ]
  },
  {
   "cell_type": "code",
   "execution_count": 30,
   "metadata": {
    "collapsed": false
   },
   "outputs": [
    {
     "data": {
      "text/plain": [
       "count       8523\n",
       "unique        10\n",
       "top       OUT027\n",
       "freq         935\n",
       "Name: Outlet_Identifier, dtype: object"
      ]
     },
     "execution_count": 30,
     "metadata": {},
     "output_type": "execute_result"
    }
   ],
   "source": [
    "#Outlet Identifier \n",
    "\n",
    "train_df2['Outlet_Identifier'].describe()"
   ]
  },
  {
   "cell_type": "code",
   "execution_count": 31,
   "metadata": {
    "collapsed": false
   },
   "outputs": [
    {
     "name": "stdout",
     "output_type": "stream",
     "text": [
      "['OUT049' 'OUT018' 'OUT010' 'OUT013' 'OUT027' 'OUT045' 'OUT017' 'OUT046'\n",
      " 'OUT035' 'OUT019']\n",
      "OUT027    935\n",
      "OUT013    932\n",
      "OUT035    930\n",
      "OUT046    930\n",
      "OUT049    930\n",
      "OUT045    929\n",
      "OUT018    928\n",
      "OUT017    926\n",
      "OUT010    555\n",
      "OUT019    528\n",
      "Name: Outlet_Identifier, dtype: int64\n"
     ]
    }
   ],
   "source": [
    "print train_df2['Outlet_Identifier'].unique()\n",
    "print train_df2['Outlet_Identifier'].value_counts()"
   ]
  },
  {
   "cell_type": "code",
   "execution_count": 32,
   "metadata": {
    "collapsed": false
   },
   "outputs": [
    {
     "data": {
      "text/plain": [
       "count    8523.000000\n",
       "mean     1997.831867\n",
       "std         8.371760\n",
       "min      1985.000000\n",
       "25%      1987.000000\n",
       "50%      1999.000000\n",
       "75%      2004.000000\n",
       "max      2009.000000\n",
       "Name: Outlet_Establishment_Year, dtype: float64"
      ]
     },
     "execution_count": 32,
     "metadata": {},
     "output_type": "execute_result"
    }
   ],
   "source": [
    "#Outlet Establishment Year\n",
    "#Obviously outlets which are established before have higher chances of increased sales\n",
    "\n",
    "train_df2['Outlet_Establishment_Year'].describe()"
   ]
  },
  {
   "cell_type": "code",
   "execution_count": 33,
   "metadata": {
    "collapsed": false
   },
   "outputs": [
    {
     "name": "stdout",
     "output_type": "stream",
     "text": [
      "[1999 2009 1998 1987 1985 2002 2007 1997 2004]\n",
      "1985    1463\n",
      "1987     932\n",
      "1999     930\n",
      "1997     930\n",
      "2004     930\n",
      "2002     929\n",
      "2009     928\n",
      "2007     926\n",
      "1998     555\n",
      "Name: Outlet_Establishment_Year, dtype: int64\n"
     ]
    }
   ],
   "source": [
    "print train_df2['Outlet_Establishment_Year'].unique()\n",
    "print train_df2['Outlet_Establishment_Year'].value_counts()"
   ]
  },
  {
   "cell_type": "code",
   "execution_count": 34,
   "metadata": {
    "collapsed": true
   },
   "outputs": [],
   "source": [
    "#We can find out for how many years they have been operating\n",
    "\n",
    "train_df2['Outlet_Operating_Years']=2013-train_df2['Outlet_Establishment_Year']\n",
    "test_df2['Outlet_Operating_Years']=2013-test_df2['Outlet_Establishment_Year']"
   ]
  },
  {
   "cell_type": "code",
   "execution_count": 35,
   "metadata": {
    "collapsed": false
   },
   "outputs": [
    {
     "data": {
      "text/html": [
       "<div>\n",
       "<table border=\"1\" class=\"dataframe\">\n",
       "  <thead>\n",
       "    <tr style=\"text-align: right;\">\n",
       "      <th></th>\n",
       "      <th>Item_Identifier</th>\n",
       "      <th>Item_Weight</th>\n",
       "      <th>Item_Fat_Content</th>\n",
       "      <th>Item_Visibility</th>\n",
       "      <th>Item_Type</th>\n",
       "      <th>Item_MRP</th>\n",
       "      <th>Outlet_Identifier</th>\n",
       "      <th>Outlet_Establishment_Year</th>\n",
       "      <th>Outlet_Size</th>\n",
       "      <th>Outlet_Location_Type</th>\n",
       "      <th>Outlet_Type</th>\n",
       "      <th>Item_Outlet_Sales</th>\n",
       "      <th>Item_Identified_As</th>\n",
       "      <th>Outlet_Operating_Years</th>\n",
       "    </tr>\n",
       "  </thead>\n",
       "  <tbody>\n",
       "    <tr>\n",
       "      <th>0</th>\n",
       "      <td>FDA15</td>\n",
       "      <td>9.3</td>\n",
       "      <td>LF</td>\n",
       "      <td>0.016047</td>\n",
       "      <td>Dairy</td>\n",
       "      <td>249.8092</td>\n",
       "      <td>OUT049</td>\n",
       "      <td>1999</td>\n",
       "      <td>Medium</td>\n",
       "      <td>Tier 1</td>\n",
       "      <td>Supermarket Type1</td>\n",
       "      <td>3735.138</td>\n",
       "      <td>FD</td>\n",
       "      <td>14</td>\n",
       "    </tr>\n",
       "  </tbody>\n",
       "</table>\n",
       "</div>"
      ],
      "text/plain": [
       "  Item_Identifier  Item_Weight Item_Fat_Content  Item_Visibility Item_Type  \\\n",
       "0           FDA15          9.3               LF         0.016047     Dairy   \n",
       "\n",
       "   Item_MRP Outlet_Identifier  Outlet_Establishment_Year Outlet_Size  \\\n",
       "0  249.8092            OUT049                       1999      Medium   \n",
       "\n",
       "  Outlet_Location_Type        Outlet_Type  Item_Outlet_Sales  \\\n",
       "0               Tier 1  Supermarket Type1           3735.138   \n",
       "\n",
       "  Item_Identified_As  Outlet_Operating_Years  \n",
       "0                 FD                      14  "
      ]
     },
     "execution_count": 35,
     "metadata": {},
     "output_type": "execute_result"
    }
   ],
   "source": [
    "train_df2.head(1)"
   ]
  },
  {
   "cell_type": "code",
   "execution_count": 36,
   "metadata": {
    "collapsed": false
   },
   "outputs": [
    {
     "data": {
      "text/plain": [
       "count      8523\n",
       "unique        3\n",
       "top       Small\n",
       "freq       4243\n",
       "Name: Outlet_Size, dtype: object"
      ]
     },
     "execution_count": 36,
     "metadata": {},
     "output_type": "execute_result"
    }
   ],
   "source": [
    "#Outlet Size\n",
    "\n",
    "train_df2['Outlet_Size'].describe()"
   ]
  },
  {
   "cell_type": "code",
   "execution_count": 37,
   "metadata": {
    "collapsed": false
   },
   "outputs": [
    {
     "name": "stdout",
     "output_type": "stream",
     "text": [
      "['Medium' 'High' 'Small']\n",
      "Small     4243\n",
      "Medium    3348\n",
      "High       932\n",
      "Name: Outlet_Size, dtype: int64\n"
     ]
    }
   ],
   "source": [
    "print train_df2['Outlet_Size'].unique()\n",
    "print train_df2['Outlet_Size'].value_counts()"
   ]
  },
  {
   "cell_type": "code",
   "execution_count": 38,
   "metadata": {
    "collapsed": false
   },
   "outputs": [],
   "source": [
    "dummies_for=['Item_Fat_Content','Item_Type','Outlet_Identifier','Outlet_Size','Outlet_Location_Type','Outlet_Type',\n",
    "                'Item_Identified_As']\n",
    "\n",
    "for col in dummies_for:\n",
    "    train_df2=train_df2.join(pd.get_dummies(train_df2[col]))\n",
    "    test_df2=test_df2.join(pd.get_dummies(test_df2[col]))\n",
    "    "
   ]
  },
  {
   "cell_type": "code",
   "execution_count": 39,
   "metadata": {
    "collapsed": false
   },
   "outputs": [
    {
     "data": {
      "text/html": [
       "<div>\n",
       "<table border=\"1\" class=\"dataframe\">\n",
       "  <thead>\n",
       "    <tr style=\"text-align: right;\">\n",
       "      <th></th>\n",
       "      <th>Item_Identifier</th>\n",
       "      <th>Item_Weight</th>\n",
       "      <th>Item_Fat_Content</th>\n",
       "      <th>Item_Visibility</th>\n",
       "      <th>Item_Type</th>\n",
       "      <th>Item_MRP</th>\n",
       "      <th>Outlet_Identifier</th>\n",
       "      <th>Outlet_Establishment_Year</th>\n",
       "      <th>Outlet_Size</th>\n",
       "      <th>Outlet_Location_Type</th>\n",
       "      <th>...</th>\n",
       "      <th>Tier 1</th>\n",
       "      <th>Tier 2</th>\n",
       "      <th>Tier 3</th>\n",
       "      <th>Grocery Store</th>\n",
       "      <th>Supermarket Type1</th>\n",
       "      <th>Supermarket Type2</th>\n",
       "      <th>Supermarket Type3</th>\n",
       "      <th>DR</th>\n",
       "      <th>FD</th>\n",
       "      <th>NC</th>\n",
       "    </tr>\n",
       "  </thead>\n",
       "  <tbody>\n",
       "    <tr>\n",
       "      <th>0</th>\n",
       "      <td>FDA15</td>\n",
       "      <td>9.3</td>\n",
       "      <td>LF</td>\n",
       "      <td>0.016047</td>\n",
       "      <td>Dairy</td>\n",
       "      <td>249.8092</td>\n",
       "      <td>OUT049</td>\n",
       "      <td>1999</td>\n",
       "      <td>Medium</td>\n",
       "      <td>Tier 1</td>\n",
       "      <td>...</td>\n",
       "      <td>1.0</td>\n",
       "      <td>0.0</td>\n",
       "      <td>0.0</td>\n",
       "      <td>0.0</td>\n",
       "      <td>1.0</td>\n",
       "      <td>0.0</td>\n",
       "      <td>0.0</td>\n",
       "      <td>0.0</td>\n",
       "      <td>1.0</td>\n",
       "      <td>0.0</td>\n",
       "    </tr>\n",
       "  </tbody>\n",
       "</table>\n",
       "<p>1 rows × 55 columns</p>\n",
       "</div>"
      ],
      "text/plain": [
       "  Item_Identifier  Item_Weight Item_Fat_Content  Item_Visibility Item_Type  \\\n",
       "0           FDA15          9.3               LF         0.016047     Dairy   \n",
       "\n",
       "   Item_MRP Outlet_Identifier  Outlet_Establishment_Year Outlet_Size  \\\n",
       "0  249.8092            OUT049                       1999      Medium   \n",
       "\n",
       "  Outlet_Location_Type ...  Tier 1  Tier 2 Tier 3  Grocery Store  \\\n",
       "0               Tier 1 ...     1.0     0.0    0.0            0.0   \n",
       "\n",
       "   Supermarket Type1  Supermarket Type2  Supermarket Type3   DR   FD   NC  \n",
       "0                1.0                0.0                0.0  0.0  1.0  0.0  \n",
       "\n",
       "[1 rows x 55 columns]"
      ]
     },
     "execution_count": 39,
     "metadata": {},
     "output_type": "execute_result"
    }
   ],
   "source": [
    "train_df2.head(1)"
   ]
  },
  {
   "cell_type": "code",
   "execution_count": 40,
   "metadata": {
    "collapsed": false
   },
   "outputs": [],
   "source": [
    "#We can drop the unnecessary columns\n",
    "\n",
    "train_df3=train_df2.drop(dummies_for+['Item_Identifier','Outlet_Establishment_Year'],1)\n",
    "\n",
    "item_identifiers_test=test_df2['Item_Identifier']\n",
    "outlet_identifiers_test=test_df2['Outlet_Identifier']\n",
    "\n",
    "test_df3=test_df2.drop(dummies_for+['Item_Identifier','Outlet_Establishment_Year'],1)"
   ]
  },
  {
   "cell_type": "code",
   "execution_count": 41,
   "metadata": {
    "collapsed": false
   },
   "outputs": [
    {
     "data": {
      "text/html": [
       "<div>\n",
       "<table border=\"1\" class=\"dataframe\">\n",
       "  <thead>\n",
       "    <tr style=\"text-align: right;\">\n",
       "      <th></th>\n",
       "      <th>Item_Weight</th>\n",
       "      <th>Item_Visibility</th>\n",
       "      <th>Item_MRP</th>\n",
       "      <th>Item_Outlet_Sales</th>\n",
       "      <th>Outlet_Operating_Years</th>\n",
       "      <th>LF</th>\n",
       "      <th>Reg</th>\n",
       "      <th>Baking Goods</th>\n",
       "      <th>Breads</th>\n",
       "      <th>Breakfast</th>\n",
       "      <th>...</th>\n",
       "      <th>Tier 1</th>\n",
       "      <th>Tier 2</th>\n",
       "      <th>Tier 3</th>\n",
       "      <th>Grocery Store</th>\n",
       "      <th>Supermarket Type1</th>\n",
       "      <th>Supermarket Type2</th>\n",
       "      <th>Supermarket Type3</th>\n",
       "      <th>DR</th>\n",
       "      <th>FD</th>\n",
       "      <th>NC</th>\n",
       "    </tr>\n",
       "  </thead>\n",
       "  <tbody>\n",
       "    <tr>\n",
       "      <th>0</th>\n",
       "      <td>9.3</td>\n",
       "      <td>0.016047</td>\n",
       "      <td>249.8092</td>\n",
       "      <td>3735.138</td>\n",
       "      <td>14</td>\n",
       "      <td>1.0</td>\n",
       "      <td>0.0</td>\n",
       "      <td>0.0</td>\n",
       "      <td>0.0</td>\n",
       "      <td>0.0</td>\n",
       "      <td>...</td>\n",
       "      <td>1.0</td>\n",
       "      <td>0.0</td>\n",
       "      <td>0.0</td>\n",
       "      <td>0.0</td>\n",
       "      <td>1.0</td>\n",
       "      <td>0.0</td>\n",
       "      <td>0.0</td>\n",
       "      <td>0.0</td>\n",
       "      <td>1.0</td>\n",
       "      <td>0.0</td>\n",
       "    </tr>\n",
       "  </tbody>\n",
       "</table>\n",
       "<p>1 rows × 46 columns</p>\n",
       "</div>"
      ],
      "text/plain": [
       "   Item_Weight  Item_Visibility  Item_MRP  Item_Outlet_Sales  \\\n",
       "0          9.3         0.016047  249.8092           3735.138   \n",
       "\n",
       "   Outlet_Operating_Years   LF  Reg  Baking Goods  Breads  Breakfast ...   \\\n",
       "0                      14  1.0  0.0           0.0     0.0        0.0 ...    \n",
       "\n",
       "   Tier 1  Tier 2  Tier 3  Grocery Store  Supermarket Type1  \\\n",
       "0     1.0     0.0     0.0            0.0                1.0   \n",
       "\n",
       "   Supermarket Type2  Supermarket Type3   DR   FD   NC  \n",
       "0                0.0                0.0  0.0  1.0  0.0  \n",
       "\n",
       "[1 rows x 46 columns]"
      ]
     },
     "execution_count": 41,
     "metadata": {},
     "output_type": "execute_result"
    }
   ],
   "source": [
    "train_df3.head(1)"
   ]
  },
  {
   "cell_type": "code",
   "execution_count": 43,
   "metadata": {
    "collapsed": true
   },
   "outputs": [],
   "source": [
    "from sklearn.preprocessing import StandardScaler\n",
    "from math import sqrt\n",
    "\n",
    "scaler=StandardScaler(with_mean=True,with_std=True)\n",
    "X_TRAIN_SCALED,Y_TRAIN=scaler.fit_transform(train_df3.drop('Item_Outlet_Sales',1)),train_df3['Item_Outlet_Sales']\n",
    "X_TEST_SCALED=scaler.fit_transform(test_df3)"
   ]
  },
  {
   "cell_type": "code",
   "execution_count": 46,
   "metadata": {
    "collapsed": true
   },
   "outputs": [],
   "source": [
    "from sklearn import linear_model,cross_validation,ensemble,metrics\n",
    "from math import sqrt\n",
    "\n",
    "\n",
    "X_TRAIN,Y_TRAIN=train_df3.drop('Item_Outlet_Sales',1),train_df3['Item_Outlet_Sales']\n",
    "X_TEST=test_df3"
   ]
  },
  {
   "cell_type": "code",
   "execution_count": 2272,
   "metadata": {
    "collapsed": true
   },
   "outputs": [],
   "source": [
    "#Split training data into training and validation sets\n",
    "\n",
    "train1,val1=cross_validation.train_test_split(train_df3,train_size=0.8)\n",
    "x_train,y_train=train1.drop('Item_Outlet_Sales',1),train1['Item_Outlet_Sales']\n",
    "x_val,y_val=val1.drop('Item_Outlet_Sales',1),val1['Item_Outlet_Sales']"
   ]
  },
  {
   "cell_type": "code",
   "execution_count": 2273,
   "metadata": {
    "collapsed": false
   },
   "outputs": [
    {
     "data": {
      "text/plain": [
       "1145.1572694564015"
      ]
     },
     "execution_count": 2273,
     "metadata": {},
     "output_type": "execute_result"
    }
   ],
   "source": [
    "#Simple Linear Regression\n",
    "\n",
    "linreg=linear_model.LinearRegression(fit_intercept=True,normalize=False)\n",
    "linreg.fit(x_train,y_train)\n",
    "y_pred=linreg.predict(x_val)\n",
    "rmse1=sqrt(metrics.mean_squared_error(y_val,y_pred))\n",
    "rmse1"
   ]
  },
  {
   "cell_type": "code",
   "execution_count": 2274,
   "metadata": {
    "collapsed": false
   },
   "outputs": [
    {
     "data": {
      "text/plain": [
       "0.56372823328875632"
      ]
     },
     "execution_count": 2274,
     "metadata": {},
     "output_type": "execute_result"
    }
   ],
   "source": [
    "#Predict on the final train data\n",
    "\n",
    "linreg.fit(X_TRAIN,Y_TRAIN)\n",
    "Y_PRED1=linreg.predict(X_TEST)\n",
    "linreg.score(X_TRAIN,Y_TRAIN)"
   ]
  },
  {
   "cell_type": "code",
   "execution_count": 2275,
   "metadata": {
    "collapsed": false
   },
   "outputs": [
    {
     "data": {
      "text/plain": [
       "1145.151140400316"
      ]
     },
     "execution_count": 2275,
     "metadata": {},
     "output_type": "execute_result"
    }
   ],
   "source": [
    "#Ridge Regression Model\n",
    "\n",
    "ridge=linear_model.Ridge(alpha=0.10)\n",
    "ridge.fit(x_train,y_train)\n",
    "y_pred2=ridge.predict(x_val)\n",
    "rmse2=sqrt(metrics.mean_squared_error(y_val,y_pred2))\n",
    "rmse2"
   ]
  },
  {
   "cell_type": "code",
   "execution_count": 2276,
   "metadata": {
    "collapsed": false
   },
   "outputs": [
    {
     "data": {
      "text/plain": [
       "0.56372823179477227"
      ]
     },
     "execution_count": 2276,
     "metadata": {},
     "output_type": "execute_result"
    }
   ],
   "source": [
    "#Predict on the final train data\n",
    "\n",
    "ridge.fit(X_TRAIN,Y_TRAIN)\n",
    "Y_PRED2=ridge.predict(X_TEST)\n",
    "ridge.score(X_TRAIN,Y_TRAIN)"
   ]
  },
  {
   "cell_type": "code",
   "execution_count": 2277,
   "metadata": {
    "collapsed": true
   },
   "outputs": [],
   "source": [
    "y_train_forest=np.asarray(y_train, dtype=\"|S6\")\n",
    "y_val_forest=np.asarray(y_val, dtype=\"|S6\")\n",
    "\n",
    "Y_TRAIN_FOREST=np.asarray(Y_TRAIN, dtype=\"|S6\")"
   ]
  },
  {
   "cell_type": "code",
   "execution_count": 47,
   "metadata": {
    "collapsed": false
   },
   "outputs": [],
   "source": [
    "#Random Forest Model\n",
    "\n",
    "rforest=ensemble.RandomForestRegressor(n_estimators=400,max_depth=6, min_samples_leaf=100,n_jobs=4)\n",
    "gboost=ensemble.GradientBoostingRegressor(n_estimators=58,max_depth=3)\n",
    "#rforest.fit(x_train,y_train)\n",
    "#y_pred3=rforest.predict(x_val)"
   ]
  },
  {
   "cell_type": "code",
   "execution_count": 48,
   "metadata": {
    "collapsed": false
   },
   "outputs": [],
   "source": [
    "gboost.fit(X_TRAIN_SCALED,Y_TRAIN)\n",
    "rforest.fit(X_TRAIN_SCALED,Y_TRAIN)\n",
    "Y_PRED3=gboost.predict(X_TEST_SCALED)\n",
    "Y_PRED4=rforest.predict(X_TEST_SCALED)"
   ]
  },
  {
   "cell_type": "code",
   "execution_count": 49,
   "metadata": {
    "collapsed": false
   },
   "outputs": [
    {
     "name": "stdout",
     "output_type": "stream",
     "text": [
      "[ 1568.65034638  1375.30156335   625.39461688 ...,  1830.8798784\n",
      "  3559.3126818   1309.68502332]\n",
      "[ 1649.08020051  1366.12996503   572.32786059 ...,  1923.30703216\n",
      "  3646.73810369  1287.47311917]\n"
     ]
    }
   ],
   "source": [
    "print (Y_PRED3)\n",
    "print Y_PRED4"
   ]
  },
  {
   "cell_type": "code",
   "execution_count": 2283,
   "metadata": {
    "collapsed": false
   },
   "outputs": [
    {
     "data": {
      "text/plain": [
       "array([  4.26075045e-02,   9.24422692e-02,   4.92341055e-01,\n",
       "         2.16457790e-02,   0.00000000e+00,   0.00000000e+00,\n",
       "         0.00000000e+00,   9.68103959e-04,   4.96763819e-03,\n",
       "         4.04260316e-04,   0.00000000e+00,   0.00000000e+00,\n",
       "         1.45994456e-02,   0.00000000e+00,   0.00000000e+00,\n",
       "         3.85911052e-03,   6.46914891e-05,   0.00000000e+00,\n",
       "         2.61112020e-03,   0.00000000e+00,   0.00000000e+00,\n",
       "         0.00000000e+00,   1.12434045e-03,   8.99337360e-04,\n",
       "         3.99591960e-03,   1.49246110e-04,   0.00000000e+00,\n",
       "         5.34867840e-02,   9.02329210e-03,   2.09273342e-02,\n",
       "         0.00000000e+00,   2.05860451e-03,   0.00000000e+00,\n",
       "         0.00000000e+00,   0.00000000e+00,   0.00000000e+00,\n",
       "         5.54376999e-03,   0.00000000e+00,   1.36594472e-01,\n",
       "         4.05562224e-02,   1.42840746e-03,   4.71378325e-02,\n",
       "         0.00000000e+00,   5.63458736e-04,   0.00000000e+00])"
      ]
     },
     "execution_count": 2283,
     "metadata": {},
     "output_type": "execute_result"
    }
   ],
   "source": [
    "gboost.feature_importances_"
   ]
  },
  {
   "cell_type": "code",
   "execution_count": 50,
   "metadata": {
    "collapsed": false
   },
   "outputs": [],
   "source": [
    "test_df4=test_df3\n",
    "test_df4['Item_Outlet_Sales']=Y_PRED4\n",
    "test_df4['Item_Identifier']=item_identifiers_test\n",
    "test_df4['Outlet_Identifier']=outlet_identifiers_test"
   ]
  },
  {
   "cell_type": "code",
   "execution_count": 51,
   "metadata": {
    "collapsed": false
   },
   "outputs": [],
   "source": [
    "test_df4[['Item_Identifier','Outlet_Identifier','Item_Outlet_Sales']].to_csv('/Users/adityavyas/Desktop/sales_.csv')"
   ]
  },
  {
   "cell_type": "code",
   "execution_count": null,
   "metadata": {
    "collapsed": true
   },
   "outputs": [],
   "source": []
  }
 ],
 "metadata": {
  "anaconda-cloud": {},
  "kernelspec": {
   "display_name": "Python [default]",
   "language": "python",
   "name": "python2"
  },
  "language_info": {
   "codemirror_mode": {
    "name": "ipython",
    "version": 2
   },
   "file_extension": ".py",
   "mimetype": "text/x-python",
   "name": "python",
   "nbconvert_exporter": "python",
   "pygments_lexer": "ipython2",
   "version": "2.7.13"
  }
 },
 "nbformat": 4,
 "nbformat_minor": 1
}
