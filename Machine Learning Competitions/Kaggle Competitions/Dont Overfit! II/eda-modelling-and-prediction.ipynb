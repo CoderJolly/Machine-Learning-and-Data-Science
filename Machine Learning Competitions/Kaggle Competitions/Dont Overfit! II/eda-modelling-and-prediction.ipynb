{
 "cells": [
  {
   "cell_type": "code",
   "execution_count": 1,
   "metadata": {
    "_cell_guid": "b1076dfc-b9ad-4769-8c92-a6c4dae69d19",
    "_uuid": "8f2839f25d086af736a60e9eeb907d3b93b6e0e5"
   },
   "outputs": [],
   "source": [
    "import numpy as np\n",
    "import pandas as pd\n",
    "import os\n",
    "import sklearn\n",
    "import lightgbm as lgb\n",
    "from sklearn.model_selection import StratifiedKFold, RepeatedStratifiedKFold\n",
    "from sklearn.linear_model import LogisticRegression\n",
    "from sklearn.svm import SVC\n",
    "from sklearn.metrics import roc_auc_score, make_scorer\n",
    "from sklearn.ensemble import RandomForestClassifier\n",
    "from sklearn.model_selection import GridSearchCV\n",
    "from sklearn.preprocessing import StandardScaler\n",
    "from sklearn.feature_selection import RFE, RFECV\n",
    "from boruta import BorutaPy\n",
    "\n",
    "%matplotlib inline"
   ]
  },
  {
   "cell_type": "markdown",
   "metadata": {},
   "source": [
    "## Read Data"
   ]
  },
  {
   "cell_type": "code",
   "execution_count": 2,
   "metadata": {
    "_cell_guid": "79c7e3d0-c299-4dcb-8224-4455121ee9b0",
    "_uuid": "d629ff2d2480ee46fbb7e2d37f6b5fab8052498a"
   },
   "outputs": [],
   "source": [
    "def read_data():\n",
    "    print(\"############# Read Data #############\")\n",
    "    \n",
    "    train_orig = pd.read_csv('../input/train.csv')\n",
    "    test_orig = pd.read_csv('../input/test.csv')\n",
    "    \n",
    "    return train_orig, test_orig"
   ]
  },
  {
   "cell_type": "markdown",
   "metadata": {
    "_uuid": "e8116d0ae842574c6624cbc901d06b15db3e7320"
   },
   "source": [
    "## Preprocess Data"
   ]
  },
  {
   "cell_type": "code",
   "execution_count": 3,
   "metadata": {
    "_uuid": "b911806c5b2f350dad6d4738782e2682119ad848"
   },
   "outputs": [],
   "source": [
    "def preprocess_data(train_orig, test_orig, scale_features = True):\n",
    "    print(\"############# Preprocess Data #############\")\n",
    "    \n",
    "    train, test = train_orig.copy(), test_orig.copy()\n",
    "    train, target = train.drop(['target', 'id'], 1), train['target']\n",
    "    test = test.drop('id', 1)\n",
    "    \n",
    "    if scale_features:\n",
    "        scaler = StandardScaler()\n",
    "        train = pd.DataFrame(scaler.fit_transform(train))\n",
    "        test = pd.DataFrame(scaler.fit_transform(test))\n",
    "        \n",
    "    return train, test, target"
   ]
  },
  {
   "cell_type": "markdown",
   "metadata": {},
   "source": [
    "## SMOTE"
   ]
  },
  {
   "cell_type": "code",
   "execution_count": 4,
   "metadata": {},
   "outputs": [],
   "source": [
    "def smote(train, test):\n",
    "    return"
   ]
  },
  {
   "cell_type": "markdown",
   "metadata": {},
   "source": [
    "## Feature Engineering"
   ]
  },
  {
   "cell_type": "code",
   "execution_count": 5,
   "metadata": {},
   "outputs": [],
   "source": [
    "def create_features():\n",
    "    return"
   ]
  },
  {
   "cell_type": "markdown",
   "metadata": {
    "_uuid": "6c52bc3b50ca1895c60ae9df6b3c5137fcbfeda3"
   },
   "source": [
    "## Feature Selection"
   ]
  },
  {
   "cell_type": "code",
   "execution_count": 6,
   "metadata": {},
   "outputs": [],
   "source": [
    "def feature_selector(train, target, best_params = None, num_features = 100, method = \"rfe\", model_name = \"logistic\"):\n",
    "    print(\"############# Feature Selection #############\")\n",
    "    \n",
    "    if model_name == 'logistic':\n",
    "        model = LogisticRegression(**best_params) if best_params else LogisticRegression(solver = \"liblinear\")\n",
    "        model.fit(train, target)\n",
    "    elif model_name == \"rforest\":\n",
    "        return\n",
    "    elif model_name == \"xgb\":\n",
    "        return\n",
    "    else:\n",
    "        return\n",
    "    \n",
    "    if method == \"rfe\":\n",
    "        selector = RFE(model, num_features, step = 1)\n",
    "        selector.fit(train.values, target.values)\n",
    "        selected_features = train.columns[selector.support_]\n",
    "    elif method == \"boruta\":\n",
    "        return\n",
    "    elif method == 'eli5':\n",
    "        return\n",
    "    else:\n",
    "        return\n",
    "    \n",
    "    return selected_features"
   ]
  },
  {
   "cell_type": "markdown",
   "metadata": {},
   "source": [
    "## GridSearchCV"
   ]
  },
  {
   "cell_type": "code",
   "execution_count": 7,
   "metadata": {},
   "outputs": [],
   "source": [
    "def grid_search(train, target, selected_features = None, cv = 5, model_name = \"logistic\"):\n",
    "    print(\"############# Grid Search #############\")\n",
    "    \n",
    "    if selected_features is None:\n",
    "        selected_features = train.columns\n",
    "        \n",
    "    if model_name == \"logistic\":\n",
    "        model = LogisticRegression(random_state = 42)\n",
    "        param_grid = {\n",
    "            'class_weight' : ['balanced'], \n",
    "            'penalty' : ['l2', 'l1'],\n",
    "            'solver': ['liblinear', 'saga'],\n",
    "            'C' : np.arange(0.1, 0.2, 0.001)\n",
    "        }\n",
    "    elif model_name == \"svm\":\n",
    "        model = SVC(random_state = 42)\n",
    "        param_grid = {\n",
    "            'C': [0.001, 0.01, 0.1, 1, 10, 100],\n",
    "            'class_weight': ['balanced'],\n",
    "            'gamma': ['auto'],\n",
    "            'probability': [True],\n",
    "            'kernel': ['linear', 'poly', 'rbf', 'sigmoid']\n",
    "        }\n",
    "\n",
    "    grid = GridSearchCV(estimator = model, cv = cv, param_grid = param_grid , scoring = 'roc_auc', verbose = 1, n_jobs = -1)\n",
    "    grid.fit(train[selected_features], target)\n",
    "\n",
    "    print(\"Best Score:\" + str(grid.best_score_))\n",
    "    print(\"Best Parameters: \" + str(grid.best_params_))\n",
    "\n",
    "    return grid.best_params_"
   ]
  },
  {
   "cell_type": "markdown",
   "metadata": {
    "_uuid": "eb070ce90aa759bd3adff0c2e662c5c0ab7396b8"
   },
   "source": [
    "## Train Models"
   ]
  },
  {
   "cell_type": "code",
   "execution_count": 8,
   "metadata": {
    "_uuid": "11755e30790985cbc6183033a0bafb83eed8159c",
    "scrolled": true
   },
   "outputs": [],
   "source": [
    "def train_model(train, \n",
    "                target, \n",
    "                test, \n",
    "                best_params, \n",
    "                selected_features = None, \n",
    "                n_folds = 11, \n",
    "                n_repeats = 15, \n",
    "                model_name = 'logistic'):\n",
    "    print(\"############# Train Model Logistic #############\")\n",
    "    \n",
    "    if selected_features is None:\n",
    "        selected_features = train.columns\n",
    "        \n",
    "    train_predictions = np.zeros((train.shape[0], 1))\n",
    "    test_predictions = np.zeros((test.shape[0], 1))\n",
    "\n",
    "    cv = RepeatedStratifiedKFold(n_splits = n_folds, random_state = 420, n_repeats = n_repeats)\n",
    "    cv.get_n_splits(train, target)\n",
    "\n",
    "    cv_scores = []\n",
    "    fold = 1\n",
    "    for train_idx, valid_idx in cv.split(train, target):\n",
    "        xtrain, xvalid = train.iloc[train_idx][selected_features], train.iloc[valid_idx][selected_features]\n",
    "        ytrain, yvalid = target.iloc[train_idx], target.iloc[valid_idx]\n",
    "        \n",
    "        if model_name == \"logistic\":\n",
    "            model = LogisticRegression(**best_params)\n",
    "        elif model_name == \"svm\":\n",
    "            model = SVC(**best_params)\n",
    "        else:\n",
    "            return\n",
    "        model.fit(xtrain, ytrain)\n",
    "\n",
    "        valid_preds = model.predict_proba(xvalid)[:, 1]\n",
    "        train_predictions[valid_idx] = valid_preds.reshape(-1, 1)\n",
    "\n",
    "        scr = roc_auc_score(yvalid.values, valid_preds)\n",
    "        cv_scores.append(scr)\n",
    "        print(\"Fold = {}. AUC = {}.\".format(fold, scr))\n",
    "\n",
    "        test_preds = model.predict_proba(test[selected_features])[:, 1]\n",
    "        test_predictions += test_preds.reshape(-1, 1)\n",
    "        fold += 1\n",
    "    test_predictions = test_predictions * 1./(n_folds*n_repeats)\n",
    "    print(\"Mean Score: {}. Std Dev: {}\".format(np.mean(cv_scores), np.std(cv_scores)))\n",
    "    \n",
    "    return test_predictions"
   ]
  },
  {
   "cell_type": "code",
   "execution_count": 9,
   "metadata": {},
   "outputs": [
    {
     "name": "stdout",
     "output_type": "stream",
     "text": [
      "############# Read Data #############\n",
      "############# Preprocess Data #############\n"
     ]
    }
   ],
   "source": [
    "# Read the data and scale features\n",
    "train_orig, test_orig = read_data()\n",
    "\n",
    "# Preprocess data\n",
    "train, test, target = preprocess_data(train_orig, test_orig, scale_features = False)"
   ]
  },
  {
   "cell_type": "code",
   "execution_count": 10,
   "metadata": {},
   "outputs": [
    {
     "name": "stdout",
     "output_type": "stream",
     "text": [
      "############# Feature Selection #############\n"
     ]
    }
   ],
   "source": [
    "# Find best features\n",
    "best_features = feature_selector(train, target, num_features = 20, model_name = \"logistic\")"
   ]
  },
  {
   "cell_type": "code",
   "execution_count": 11,
   "metadata": {},
   "outputs": [
    {
     "name": "stdout",
     "output_type": "stream",
     "text": [
      "############# Grid Search #############\n",
      "Fitting 3 folds for each of 400 candidates, totalling 1200 fits\n"
     ]
    },
    {
     "name": "stderr",
     "output_type": "stream",
     "text": [
      "[Parallel(n_jobs=-1)]: Using backend LokyBackend with 4 concurrent workers.\n",
      "[Parallel(n_jobs=-1)]: Done  84 tasks      | elapsed:    4.3s\n",
      "[Parallel(n_jobs=-1)]: Done 1200 out of 1200 | elapsed:    8.5s finished\n",
      "/opt/conda/lib/python3.6/site-packages/sklearn/model_selection/_search.py:841: DeprecationWarning: The default of the `iid` parameter will change from True to False in version 0.22 and will be removed in 0.24. This will change numeric results when test-set sizes are unequal.\n",
      "  DeprecationWarning)\n",
      "[Parallel(n_jobs=-1)]: Using backend LokyBackend with 4 concurrent workers.\n"
     ]
    },
    {
     "name": "stdout",
     "output_type": "stream",
     "text": [
      "Best Score:0.9277948287910553\n",
      "Best Parameters: {'C': 0.10500000000000001, 'class_weight': 'balanced', 'penalty': 'l2', 'solver': 'saga'}\n",
      "############# Grid Search #############\n",
      "Fitting 3 folds for each of 24 candidates, totalling 72 fits\n",
      "Best Score:0.9256969951083158\n",
      "Best Parameters: {'C': 1, 'class_weight': 'balanced', 'gamma': 'auto', 'kernel': 'rbf', 'probability': True}\n"
     ]
    },
    {
     "name": "stderr",
     "output_type": "stream",
     "text": [
      "[Parallel(n_jobs=-1)]: Done  72 out of  72 | elapsed:    1.7s finished\n",
      "/opt/conda/lib/python3.6/site-packages/sklearn/model_selection/_search.py:841: DeprecationWarning: The default of the `iid` parameter will change from True to False in version 0.22 and will be removed in 0.24. This will change numeric results when test-set sizes are unequal.\n",
      "  DeprecationWarning)\n"
     ]
    }
   ],
   "source": [
    "# Find best params\n",
    "best_params_logistic = grid_search(train, target, cv = 3, selected_features = best_features, model_name = 'logistic')\n",
    "best_params_svm = grid_search(train, target, cv = 3, selected_features = best_features, model_name = 'svm')"
   ]
  },
  {
   "cell_type": "code",
   "execution_count": 12,
   "metadata": {},
   "outputs": [
    {
     "name": "stdout",
     "output_type": "stream",
     "text": [
      "############# Train Model Logistic #############\n",
      "Fold = 1. AUC = 0.9375.\n",
      "Fold = 2. AUC = 0.9375.\n",
      "Fold = 3. AUC = 0.9375.\n",
      "Fold = 4. AUC = 0.9722222222222222.\n",
      "Fold = 5. AUC = 0.9305555555555556.\n",
      "Fold = 6. AUC = 0.9236111111111112.\n",
      "Fold = 7. AUC = 0.8055555555555556.\n",
      "Fold = 8. AUC = 0.9930555555555555.\n",
      "Fold = 9. AUC = 0.8958333333333334.\n",
      "Fold = 10. AUC = 0.9305555555555556.\n",
      "Fold = 11. AUC = 0.9722222222222222.\n",
      "Fold = 12. AUC = 0.7638888888888891.\n",
      "Fold = 13. AUC = 0.9097222222222223.\n",
      "Fold = 14. AUC = 0.9583333333333334.\n",
      "Fold = 15. AUC = 0.9722222222222222.\n",
      "Fold = 16. AUC = 0.9097222222222223.\n",
      "Fold = 17. AUC = 0.9583333333333333.\n",
      "Fold = 18. AUC = 0.951388888888889.\n",
      "Fold = 19. AUC = 0.9166666666666666.\n",
      "Fold = 20. AUC = 0.9652777777777778.\n",
      "Fold = 21. AUC = 0.9444444444444445.\n",
      "Fold = 22. AUC = 0.986111111111111.\n",
      "Fold = 23. AUC = 0.9722222222222222.\n",
      "Fold = 24. AUC = 0.7986111111111112.\n",
      "Fold = 25. AUC = 1.0.\n",
      "Fold = 26. AUC = 0.9027777777777779.\n",
      "Fold = 27. AUC = 0.9791666666666666.\n",
      "Fold = 28. AUC = 0.7777777777777778.\n",
      "Fold = 29. AUC = 0.9513888888888888.\n",
      "Fold = 30. AUC = 0.9583333333333333.\n",
      "Fold = 31. AUC = 0.9236111111111112.\n",
      "Fold = 32. AUC = 0.9166666666666666.\n",
      "Fold = 33. AUC = 0.9652777777777778.\n",
      "Fold = 34. AUC = 0.9513888888888888.\n",
      "Fold = 35. AUC = 0.9791666666666666.\n",
      "Fold = 36. AUC = 0.9305555555555556.\n",
      "Fold = 37. AUC = 0.7708333333333334.\n",
      "Fold = 38. AUC = 0.8402777777777778.\n",
      "Fold = 39. AUC = 0.9374999999999999.\n",
      "Fold = 40. AUC = 0.9444444444444444.\n",
      "Fold = 41. AUC = 0.9166666666666667.\n",
      "Fold = 42. AUC = 0.9375.\n",
      "Fold = 43. AUC = 0.9305555555555556.\n",
      "Fold = 44. AUC = 0.9513888888888888.\n",
      "Fold = 45. AUC = 0.9722222222222222.\n",
      "Fold = 46. AUC = 0.9583333333333334.\n",
      "Fold = 47. AUC = 0.951388888888889.\n",
      "Fold = 48. AUC = 0.888888888888889.\n",
      "Fold = 49. AUC = 0.9027777777777777.\n",
      "Fold = 50. AUC = 0.9027777777777778.\n",
      "Fold = 51. AUC = 0.9236111111111112.\n",
      "Fold = 52. AUC = 0.8750000000000001.\n",
      "Fold = 53. AUC = 0.9652777777777778.\n",
      "Fold = 54. AUC = 0.9583333333333334.\n",
      "Fold = 55. AUC = 0.9722222222222222.\n",
      "Fold = 56. AUC = 0.9375.\n",
      "Fold = 57. AUC = 0.9652777777777777.\n",
      "Fold = 58. AUC = 0.8263888888888888.\n",
      "Fold = 59. AUC = 0.9444444444444444.\n",
      "Fold = 60. AUC = 0.951388888888889.\n",
      "Fold = 61. AUC = 0.9930555555555555.\n",
      "Fold = 62. AUC = 0.9097222222222222.\n",
      "Fold = 63. AUC = 0.8819444444444445.\n",
      "Fold = 64. AUC = 0.8472222222222222.\n",
      "Fold = 65. AUC = 0.9444444444444444.\n",
      "Fold = 66. AUC = 0.9236111111111112.\n",
      "Fold = 67. AUC = 0.9305555555555556.\n",
      "Fold = 68. AUC = 0.9722222222222222.\n",
      "Fold = 69. AUC = 0.9722222222222222.\n",
      "Fold = 70. AUC = 0.8472222222222222.\n",
      "Fold = 71. AUC = 1.0.\n",
      "Fold = 72. AUC = 0.9513888888888888.\n",
      "Fold = 73. AUC = 0.8958333333333334.\n",
      "Fold = 74. AUC = 0.9930555555555555.\n",
      "Fold = 75. AUC = 0.8402777777777778.\n",
      "Fold = 76. AUC = 0.8541666666666666.\n",
      "Fold = 77. AUC = 0.8680555555555556.\n",
      "Fold = 78. AUC = 0.986111111111111.\n",
      "Fold = 79. AUC = 0.9097222222222222.\n",
      "Fold = 80. AUC = 0.951388888888889.\n",
      "Fold = 81. AUC = 0.9305555555555556.\n",
      "Fold = 82. AUC = 0.9791666666666666.\n",
      "Fold = 83. AUC = 0.875.\n",
      "Fold = 84. AUC = 0.9375000000000001.\n",
      "Fold = 85. AUC = 0.9861111111111112.\n",
      "Fold = 86. AUC = 0.8819444444444444.\n",
      "Fold = 87. AUC = 0.9722222222222222.\n",
      "Fold = 88. AUC = 0.9166666666666667.\n",
      "Fold = 89. AUC = 0.8680555555555556.\n",
      "Fold = 90. AUC = 0.9166666666666667.\n",
      "Fold = 91. AUC = 0.986111111111111.\n",
      "Fold = 92. AUC = 1.0.\n",
      "Fold = 93. AUC = 0.861111111111111.\n",
      "Fold = 94. AUC = 0.9444444444444445.\n",
      "Fold = 95. AUC = 0.9513888888888888.\n",
      "Fold = 96. AUC = 0.9375.\n",
      "Fold = 97. AUC = 0.9583333333333333.\n",
      "Fold = 98. AUC = 0.9722222222222222.\n",
      "Fold = 99. AUC = 0.7569444444444444.\n",
      "Fold = 100. AUC = 0.8541666666666667.\n",
      "Mean Score: 0.9256249999999998. Std Dev: 0.054832930525932376\n"
     ]
    }
   ],
   "source": [
    "# Get predictions\n",
    "predictions_logistic = train_model(train = train, \n",
    "                                   target = target, \n",
    "                                   test = test, \n",
    "                                   best_params = best_params_logistic, \n",
    "                                   n_folds = 10, \n",
    "                                   n_repeats = 10, \n",
    "                                   selected_features = best_features,\n",
    "                                   model_name = \"logistic\")"
   ]
  },
  {
   "cell_type": "code",
   "execution_count": 13,
   "metadata": {},
   "outputs": [
    {
     "name": "stdout",
     "output_type": "stream",
     "text": [
      "############# Train Model Logistic #############\n",
      "Fold = 1. AUC = 0.9166666666666667.\n",
      "Fold = 2. AUC = 0.9722222222222222.\n",
      "Fold = 3. AUC = 0.9097222222222222.\n",
      "Fold = 4. AUC = 0.9513888888888888.\n",
      "Fold = 5. AUC = 0.9444444444444444.\n",
      "Fold = 6. AUC = 0.9097222222222223.\n",
      "Fold = 7. AUC = 0.798611111111111.\n",
      "Fold = 8. AUC = 0.9930555555555555.\n",
      "Fold = 9. AUC = 0.9236111111111112.\n",
      "Fold = 10. AUC = 0.9027777777777778.\n",
      "Fold = 11. AUC = 0.9444444444444444.\n",
      "Fold = 12. AUC = 0.8055555555555556.\n",
      "Fold = 13. AUC = 0.9305555555555556.\n",
      "Fold = 14. AUC = 0.9375.\n",
      "Fold = 15. AUC = 0.9791666666666666.\n",
      "Fold = 16. AUC = 0.875.\n",
      "Fold = 17. AUC = 0.8819444444444444.\n",
      "Fold = 18. AUC = 0.9722222222222222.\n",
      "Fold = 19. AUC = 0.9305555555555556.\n",
      "Fold = 20. AUC = 0.9722222222222222.\n",
      "Fold = 21. AUC = 0.9513888888888888.\n",
      "Fold = 22. AUC = 0.986111111111111.\n",
      "Fold = 23. AUC = 0.9375.\n",
      "Fold = 24. AUC = 0.7777777777777778.\n",
      "Fold = 25. AUC = 1.0.\n",
      "Fold = 26. AUC = 0.9166666666666667.\n",
      "Fold = 27. AUC = 0.9791666666666666.\n",
      "Fold = 28. AUC = 0.8472222222222222.\n",
      "Fold = 29. AUC = 0.9166666666666666.\n",
      "Fold = 30. AUC = 0.9791666666666666.\n",
      "Fold = 31. AUC = 0.8541666666666666.\n",
      "Fold = 32. AUC = 0.8958333333333334.\n",
      "Fold = 33. AUC = 0.9305555555555556.\n",
      "Fold = 34. AUC = 0.9236111111111112.\n",
      "Fold = 35. AUC = 1.0.\n",
      "Fold = 36. AUC = 0.9375.\n",
      "Fold = 37. AUC = 0.763888888888889.\n",
      "Fold = 38. AUC = 0.8541666666666666.\n",
      "Fold = 39. AUC = 0.9652777777777778.\n",
      "Fold = 40. AUC = 0.9583333333333333.\n",
      "Fold = 41. AUC = 0.9375.\n",
      "Fold = 42. AUC = 0.9027777777777778.\n",
      "Fold = 43. AUC = 0.9583333333333333.\n",
      "Fold = 44. AUC = 0.9444444444444444.\n",
      "Fold = 45. AUC = 0.9305555555555556.\n",
      "Fold = 46. AUC = 0.9652777777777778.\n",
      "Fold = 47. AUC = 0.9097222222222223.\n",
      "Fold = 48. AUC = 0.9027777777777778.\n",
      "Fold = 49. AUC = 0.9444444444444444.\n",
      "Fold = 50. AUC = 0.951388888888889.\n",
      "Fold = 51. AUC = 0.8888888888888888.\n",
      "Fold = 52. AUC = 0.8402777777777779.\n",
      "Fold = 53. AUC = 0.9652777777777778.\n",
      "Fold = 54. AUC = 0.9375.\n",
      "Fold = 55. AUC = 0.9027777777777778.\n",
      "Fold = 56. AUC = 0.9305555555555556.\n",
      "Fold = 57. AUC = 0.9583333333333333.\n",
      "Fold = 58. AUC = 0.8194444444444445.\n",
      "Fold = 59. AUC = 0.9305555555555556.\n",
      "Fold = 60. AUC = 0.9305555555555556.\n",
      "Fold = 61. AUC = 0.9722222222222222.\n",
      "Fold = 62. AUC = 0.9236111111111112.\n",
      "Fold = 63. AUC = 0.9236111111111112.\n",
      "Fold = 64. AUC = 0.8333333333333333.\n",
      "Fold = 65. AUC = 0.951388888888889.\n",
      "Fold = 66. AUC = 0.9236111111111112.\n",
      "Fold = 67. AUC = 0.8680555555555556.\n",
      "Fold = 68. AUC = 0.9236111111111112.\n",
      "Fold = 69. AUC = 0.9652777777777778.\n",
      "Fold = 70. AUC = 0.8958333333333334.\n",
      "Fold = 71. AUC = 0.9930555555555555.\n",
      "Fold = 72. AUC = 0.9166666666666667.\n",
      "Fold = 73. AUC = 0.888888888888889.\n",
      "Fold = 74. AUC = 1.0.\n",
      "Fold = 75. AUC = 0.8958333333333333.\n",
      "Fold = 76. AUC = 0.8402777777777778.\n",
      "Fold = 77. AUC = 0.7916666666666667.\n",
      "Fold = 78. AUC = 0.986111111111111.\n",
      "Fold = 79. AUC = 0.9027777777777778.\n",
      "Fold = 80. AUC = 0.9166666666666667.\n",
      "Fold = 81. AUC = 0.8993055555555556.\n",
      "Fold = 82. AUC = 0.9930555555555555.\n",
      "Fold = 83. AUC = 0.8333333333333334.\n",
      "Fold = 84. AUC = 0.9444444444444444.\n",
      "Fold = 85. AUC = 0.9652777777777778.\n",
      "Fold = 86. AUC = 0.9375.\n",
      "Fold = 87. AUC = 0.9652777777777778.\n",
      "Fold = 88. AUC = 0.9097222222222223.\n",
      "Fold = 89. AUC = 0.8472222222222222.\n",
      "Fold = 90. AUC = 0.9097222222222223.\n",
      "Fold = 91. AUC = 0.9722222222222223.\n",
      "Fold = 92. AUC = 1.0.\n",
      "Fold = 93. AUC = 0.8263888888888888.\n",
      "Fold = 94. AUC = 0.861111111111111.\n",
      "Fold = 95. AUC = 0.9583333333333333.\n",
      "Fold = 96. AUC = 0.9027777777777778.\n",
      "Fold = 97. AUC = 0.9236111111111112.\n",
      "Fold = 98. AUC = 0.9722222222222222.\n",
      "Fold = 99. AUC = 0.7638888888888888.\n",
      "Fold = 100. AUC = 0.8472222222222223.\n",
      "Mean Score: 0.9182291666666669. Std Dev: 0.05525171906367022\n"
     ]
    }
   ],
   "source": [
    "predictions_svm = train_model(train = train, \n",
    "                            target = target, \n",
    "                            test = test, \n",
    "                            best_params = best_params_svm, \n",
    "                            n_folds = 10, \n",
    "                            n_repeats = 10, \n",
    "                            selected_features = best_features,\n",
    "                            model_name = \"svm\")"
   ]
  },
  {
   "cell_type": "code",
   "execution_count": 14,
   "metadata": {},
   "outputs": [],
   "source": [
    "# Ensemble the predictions\n",
    "predictions = (predictions_logistic + predictions_svm)/2"
   ]
  },
  {
   "cell_type": "markdown",
   "metadata": {},
   "source": [
    "## Submission"
   ]
  },
  {
   "cell_type": "code",
   "execution_count": 15,
   "metadata": {},
   "outputs": [
    {
     "data": {
      "text/html": [
       "<div>\n",
       "<style scoped>\n",
       "    .dataframe tbody tr th:only-of-type {\n",
       "        vertical-align: middle;\n",
       "    }\n",
       "\n",
       "    .dataframe tbody tr th {\n",
       "        vertical-align: top;\n",
       "    }\n",
       "\n",
       "    .dataframe thead th {\n",
       "        text-align: right;\n",
       "    }\n",
       "</style>\n",
       "<table border=\"1\" class=\"dataframe\">\n",
       "  <thead>\n",
       "    <tr style=\"text-align: right;\">\n",
       "      <th></th>\n",
       "      <th>id</th>\n",
       "      <th>target</th>\n",
       "    </tr>\n",
       "  </thead>\n",
       "  <tbody>\n",
       "    <tr>\n",
       "      <th>0</th>\n",
       "      <td>250</td>\n",
       "      <td>0.636664</td>\n",
       "    </tr>\n",
       "    <tr>\n",
       "      <th>1</th>\n",
       "      <td>251</td>\n",
       "      <td>0.458076</td>\n",
       "    </tr>\n",
       "    <tr>\n",
       "      <th>2</th>\n",
       "      <td>252</td>\n",
       "      <td>0.764640</td>\n",
       "    </tr>\n",
       "    <tr>\n",
       "      <th>3</th>\n",
       "      <td>253</td>\n",
       "      <td>0.865834</td>\n",
       "    </tr>\n",
       "    <tr>\n",
       "      <th>4</th>\n",
       "      <td>254</td>\n",
       "      <td>0.880059</td>\n",
       "    </tr>\n",
       "    <tr>\n",
       "      <th>5</th>\n",
       "      <td>255</td>\n",
       "      <td>0.880226</td>\n",
       "    </tr>\n",
       "    <tr>\n",
       "      <th>6</th>\n",
       "      <td>256</td>\n",
       "      <td>0.674761</td>\n",
       "    </tr>\n",
       "    <tr>\n",
       "      <th>7</th>\n",
       "      <td>257</td>\n",
       "      <td>0.030773</td>\n",
       "    </tr>\n",
       "    <tr>\n",
       "      <th>8</th>\n",
       "      <td>258</td>\n",
       "      <td>0.818908</td>\n",
       "    </tr>\n",
       "    <tr>\n",
       "      <th>9</th>\n",
       "      <td>259</td>\n",
       "      <td>0.045504</td>\n",
       "    </tr>\n",
       "  </tbody>\n",
       "</table>\n",
       "</div>"
      ],
      "text/plain": [
       "    id    target\n",
       "0  250  0.636664\n",
       "1  251  0.458076\n",
       "2  252  0.764640\n",
       "3  253  0.865834\n",
       "4  254  0.880059\n",
       "5  255  0.880226\n",
       "6  256  0.674761\n",
       "7  257  0.030773\n",
       "8  258  0.818908\n",
       "9  259  0.045504"
      ]
     },
     "execution_count": 15,
     "metadata": {},
     "output_type": "execute_result"
    }
   ],
   "source": [
    "submit = pd.read_csv('../input/sample_submission.csv')\n",
    "submit[\"target\"] = predictions\n",
    "submit.to_csv(\"submission.csv\", index = False)\n",
    "submit.head(10)"
   ]
  },
  {
   "cell_type": "code",
   "execution_count": 16,
   "metadata": {},
   "outputs": [],
   "source": []
  }
 ],
 "metadata": {
  "kernelspec": {
   "display_name": "Python 3",
   "language": "python",
   "name": "python3"
  },
  "language_info": {
   "codemirror_mode": {
    "name": "ipython",
    "version": 3
   },
   "file_extension": ".py",
   "mimetype": "text/x-python",
   "name": "python",
   "nbconvert_exporter": "python",
   "pygments_lexer": "ipython3",
   "version": "3.6.6"
  }
 },
 "nbformat": 4,
 "nbformat_minor": 1
}
