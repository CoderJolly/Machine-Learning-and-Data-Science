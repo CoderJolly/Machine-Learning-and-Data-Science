{
 "cells": [
  {
   "cell_type": "code",
   "execution_count": 1,
   "metadata": {},
   "outputs": [],
   "source": [
    "import datetime\n",
    "import gc\n",
    "import lightgbm\n",
    "import lightgbm as lgb\n",
    "# import matplotlib.pyplot as plt\n",
    "import numpy as np\n",
    "import os\n",
    "import pandas as pd\n",
    "from itertools import compress\n",
    "# import seaborn as sns\n",
    "import time\n",
    "import warnings\n",
    "import optuna \n",
    "from sklearn.metrics import mean_squared_error, make_scorer\n",
    "from sklearn.model_selection import KFold, StratifiedKFold, GroupKFold\n",
    "from sklearn.impute import SimpleImputer\n",
    "from sklearn.feature_selection import RFECV\n",
    "from boruta import BorutaPy\n",
    "\n",
    "warnings.simplefilter(action='ignore')\n",
    "\n",
    "FEATS_EXCLUDED = ['first_active_month', 'target', 'card_id', 'outliers',\n",
    "                  'hist_purchase_date_max', 'hist_purchase_date_min', 'hist_card_id_size',\n",
    "                  'auth_purchase_date_max', 'auth_purchase_date_min', 'auth_card_id_size',\n",
    "                  'new_purchase_date_max', 'new_purchase_date_min', 'new_card_id_size',\n",
    "                  'OOF_PRED', 'month_0']"
   ]
  },
  {
   "cell_type": "code",
   "execution_count": 2,
   "metadata": {
    "collapsed": true
   },
   "outputs": [],
   "source": [
    "# rmse\n",
    "def rmse(y_true, y_pred):\n",
    "    return np.sqrt(mean_squared_error(y_true, y_pred))\n",
    "\n",
    "# One-hot encoding for categorical columns with get_dummies\n",
    "def one_hot_encoder(df, nan_as_category = True):\n",
    "    original_columns = list(df.columns)\n",
    "    categorical_columns = [col for col in df.columns if df[col].dtype == 'object']\n",
    "    df = pd.get_dummies(df, columns= categorical_columns, dummy_na= nan_as_category)\n",
    "    new_columns = [c for c in df.columns if c not in original_columns]\n",
    "    return df, new_columns\n",
    "    \n",
    "# Display/plot feature importance\n",
    "def display_importances(feature_importance_df_):\n",
    "    cols = feature_importance_df_[[\"feature\", \"importance\"]].groupby(\"feature\").mean().sort_values(by=\"importance\", ascending=False)[:40].index\n",
    "    best_features = feature_importance_df_.loc[feature_importance_df_.feature.isin(cols)]\n",
    "\n",
    "    plt.figure(figsize=(8, 10))\n",
    "    sns.barplot(x=\"importance\", y=\"feature\", data=best_features.sort_values(by=\"importance\", ascending=False))\n",
    "    plt.title('LightGBM Features (avg over folds)')\n",
    "    plt.tight_layout()\n",
    "    plt.savefig('lgbm_importances.png')\n",
    "\n",
    "# reduce memory\n",
    "def reduce_mem_usage(df, verbose=True):\n",
    "    numerics = ['int16', 'int32', 'int64', 'float16', 'float32', 'float64']\n",
    "    start_mem = df.memory_usage().sum() / 1024**2\n",
    "    for col in df.columns:\n",
    "        col_type = df[col].dtypes\n",
    "        if col_type in numerics:\n",
    "            c_min = df[col].min()\n",
    "            c_max = df[col].max()\n",
    "            if str(col_type)[:3] == 'int':\n",
    "                if c_min > np.iinfo(np.int8).min and c_max < np.iinfo(np.int8).max:\n",
    "                    df[col] = df[col].astype(np.int8)\n",
    "                elif c_min > np.iinfo(np.int16).min and c_max < np.iinfo(np.int16).max:\n",
    "                    df[col] = df[col].astype(np.int16)\n",
    "                elif c_min > np.iinfo(np.int32).min and c_max < np.iinfo(np.int32).max:\n",
    "                    df[col] = df[col].astype(np.int32)\n",
    "                elif c_min > np.iinfo(np.int64).min and c_max < np.iinfo(np.int64).max:\n",
    "                    df[col] = df[col].astype(np.int64)\n",
    "            else:\n",
    "                if c_min > np.finfo(np.float16).min and c_max < np.finfo(np.float16).max:\n",
    "                    df[col] = df[col].astype(np.float16)\n",
    "                elif c_min > np.finfo(np.float32).min and c_max < np.finfo(np.float32).max:\n",
    "                    df[col] = df[col].astype(np.float32)\n",
    "                else:\n",
    "                    df[col] = df[col].astype(np.float64)\n",
    "\n",
    "    end_mem = df.memory_usage().sum() / 1024**2\n",
    "    print('Memory usage after optimization is: {:.2f} MB'.format(end_mem))\n",
    "    print('Decreased by {:.1f}%'.format(100 * (start_mem - end_mem) / start_mem))\n",
    "\n",
    "    return df"
   ]
  },
  {
   "cell_type": "markdown",
   "metadata": {},
   "source": [
    "## Preprocessing train-test"
   ]
  },
  {
   "cell_type": "code",
   "execution_count": 3,
   "metadata": {},
   "outputs": [
    {
     "name": "stdout",
     "output_type": "stream",
     "text": [
      "Memory usage after optimization is: 4.04 MB\n",
      "Decreased by 56.2%\n",
      "Memory usage after optimization is: 2.24 MB\n",
      "Decreased by 52.5%\n"
     ]
    }
   ],
   "source": [
    "# load csv\n",
    "train_df = reduce_mem_usage(pd.read_csv('train.csv', index_col=['card_id']))\n",
    "test_df = reduce_mem_usage(pd.read_csv('test.csv', index_col=['card_id']))\n",
    "\n",
    "# outlier\n",
    "train_df['outliers'] = 0\n",
    "train_df.loc[train_df['target'] < -30, 'outliers'] = 1\n",
    "\n",
    "# set target as nan\n",
    "test_df['target'] = np.nan\n",
    "\n",
    "# merge\n",
    "df = train_df.append(test_df)\n",
    "\n",
    "del train_df, test_df\n",
    "gc.collect()\n",
    "\n",
    "# to datetime\n",
    "df['first_active_month'] = pd.to_datetime(df['first_active_month'])\n",
    "\n",
    "# datetime features\n",
    "df['quarter'] = df['first_active_month'].dt.quarter\n",
    "df['elapsed_time'] = (datetime.datetime.today() - df['first_active_month']).dt.days\n",
    "\n",
    "df['days_feature1'] = df['elapsed_time'] * df['feature_1']\n",
    "df['days_feature2'] = df['elapsed_time'] * df['feature_2']\n",
    "df['days_feature3'] = df['elapsed_time'] * df['feature_3']\n",
    "\n",
    "df['days_feature1_ratio'] = df['feature_1'] / df['elapsed_time']\n",
    "df['days_feature2_ratio'] = df['feature_2'] / df['elapsed_time']\n",
    "df['days_feature3_ratio'] = df['feature_3'] / df['elapsed_time']\n",
    "\n",
    "# one hot encoding\n",
    "df, cols = one_hot_encoder(df, nan_as_category=False)\n",
    "\n",
    "for f in ['feature_1','feature_2','feature_3']:\n",
    "    order_label = df.groupby([f])['outliers'].mean()\n",
    "    df[f] = df[f].map(order_label)\n",
    "\n",
    "df['feature_sum'] = df['feature_1'] + df['feature_2'] + df['feature_3']\n",
    "df['feature_mean'] = df['feature_sum']/3\n",
    "df['feature_max'] = df[['feature_1', 'feature_2', 'feature_3']].max(axis=1)\n",
    "df['feature_min'] = df[['feature_1', 'feature_2', 'feature_3']].min(axis=1)\n",
    "df['feature_var'] = df[['feature_1', 'feature_2', 'feature_3']].std(axis=1)"
   ]
  },
  {
   "cell_type": "markdown",
   "metadata": {},
   "source": [
    "## Preprocess merchants"
   ]
  },
  {
   "cell_type": "code",
   "execution_count": 4,
   "metadata": {
    "collapsed": true
   },
   "outputs": [],
   "source": [
    "merchants_df = pd.read_csv('merchants.csv')\n",
    "\n",
    "# Fill NA\n",
    "merchants_df['category_2'].fillna(1.0, inplace = True)\n",
    "merchants_df['avg_sales_lag3'].replace(-1, np.nan, inplace = True)\n",
    "merchants_df['avg_sales_lag6'].replace(-1, np.nan, inplace = True)\n",
    "merchants_df['avg_sales_lag12'].replace(-1, np.nan, inplace = True)\n",
    "\n",
    "# Do some preprocessing\n",
    "merchants_df.drop(['city_id', 'state_id', 'subsector_id', 'category_1', 'category_2'], 1, inplace = True)\n",
    "merchants_df['category_4'] = merchants_df['category_4'].map({'Y': 1, 'N': 0})"
   ]
  },
  {
   "cell_type": "code",
   "execution_count": 5,
   "metadata": {
    "collapsed": true
   },
   "outputs": [],
   "source": [
    "# Merchant agg features\n",
    "#     aggs['numerical_1'] = ['mean','min','max', 'std']\n",
    "#     aggs['numerical_2'] = ['mean','min','max', 'std']\n",
    "#     aggs['most_recent_sales_range'] = ['mean','min','max', 'std']\n",
    "#     aggs['most_recent_purchases_range'] = ['mean','min','max', 'std']\n",
    "#     aggs['avg_sales_lag3'] = ['mean','min','max', 'std']\n",
    "#     aggs['avg_purchases_lag3'] = ['mean','min','max', 'std']\n",
    "#     aggs['active_months_lag3'] = ['mean','min','max', 'std']\n",
    "#     aggs['avg_sales_lag6'] = ['mean','min','max', 'std']\n",
    "#     aggs['avg_purchases_lag6'] = ['mean','min','max', 'std']\n",
    "#     aggs['active_months_lag6'] = ['mean','min','max', 'std']\n",
    "#     aggs['avg_sales_lag12'] = ['mean','min','max', 'std']\n",
    "#     aggs['avg_purchases_lag12'] = ['mean','min','max', 'std']\n",
    "#     aggs['active_months_lag12'] = ['mean','min','max', 'std']"
   ]
  },
  {
   "cell_type": "markdown",
   "metadata": {},
   "source": [
    "## Preprocessing historical and new transactions"
   ]
  },
  {
   "cell_type": "code",
   "execution_count": 6,
   "metadata": {
    "collapsed": true
   },
   "outputs": [],
   "source": [
    "historical_transactions = pd.read_csv('historical_transactions.csv')\n",
    "new_transactions = pd.read_csv('new_merchant_transactions.csv')"
   ]
  },
  {
   "cell_type": "code",
   "execution_count": 7,
   "metadata": {
    "collapsed": true
   },
   "outputs": [],
   "source": [
    "authorized_transactions = historical_transactions[historical_transactions['authorized_flag'] == 'Y']\n",
    "historical_transactions = historical_transactions[historical_transactions['authorized_flag'] == 'N']"
   ]
  },
  {
   "cell_type": "code",
   "execution_count": 8,
   "metadata": {
    "collapsed": true
   },
   "outputs": [],
   "source": [
    "def create_aggregates_1(df, df_name = 'hist'):\n",
    "    print(\"Create aggregates 1\")\n",
    "    \n",
    "    # fillna\n",
    "    df['category_2'].fillna(1.0,inplace = True)\n",
    "    df['category_3'].fillna('A',inplace = True)\n",
    "    df['merchant_id'].fillna('M_ID_00a6ca8a8a',inplace = True)\n",
    "    df['installments'].replace(-1, np.nan, inplace = True)\n",
    "    \n",
    "    # create dummies\n",
    "    df = pd.get_dummies(df, columns = ['category_2', 'category_3'])\n",
    "    \n",
    "    # trim\n",
    "    df['purchase_amount'] = df['purchase_amount'].apply(lambda x: min(x, 0.8))\n",
    "\n",
    "    # Y/N to 1/0\n",
    "    df['authorized_flag'] = df['authorized_flag'].map({'Y': 1, 'N': 0}).astype(int)\n",
    "    df['category_1'] = df['category_1'].map({'Y': 1, 'N': 0}).astype(int)\n",
    "#     df['category_3'] = df['category_3'].map({'A': 0, 'B': 1, 'C': 2})\n",
    "\n",
    "    # datetime features\n",
    "    df['purchase_date'] = pd.to_datetime(df['purchase_date'])\n",
    "    df['month'] = df['purchase_date'].dt.month\n",
    "    df['day'] = df['purchase_date'].dt.day\n",
    "    df['hour'] = df['purchase_date'].dt.hour\n",
    "    df['weekofyear'] = df['purchase_date'].dt.weekofyear\n",
    "    df['weekday'] = df['purchase_date'].dt.weekday\n",
    "    df['weekend'] = (df['purchase_date'].dt.weekday >=5).astype(int)\n",
    "\n",
    "    # additional features\n",
    "    df['price'] = df['purchase_amount'] / df['installments']\n",
    "\n",
    "    #Christmas : December 25 2017\n",
    "    df['Christmas_Day_2017']=(pd.to_datetime('2017-12-25')-df['purchase_date']).dt.days.apply(lambda x: x if x > 0 and x < 100 else 0)\n",
    "    #Mothers Day: May 14 2017\n",
    "    df['Mothers_Day_2017']=(pd.to_datetime('2017-06-04') - df['purchase_date']).dt.days.apply(lambda x: x if x > 0 and x < 100 else 0)\n",
    "    #fathers day: August 13 2017\n",
    "    df['fathers_day_2017']=(pd.to_datetime('2017-08-13')-df['purchase_date']).dt.days.apply(lambda x: x if x > 0 and x < 100 else 0)\n",
    "    #Childrens day: October 12 2017\n",
    "    df['Children_day_2017']=(pd.to_datetime('2017-10-12')-df['purchase_date']).dt.days.apply(lambda x: x if x > 0 and x < 100 else 0)\n",
    "    #Valentine's Day : 12th June, 2017\n",
    "    df['Valentine_Day_2017']=(pd.to_datetime('2017-06-12')-df['purchase_date']).dt.days.apply(lambda x: x if x > 0 and x < 100 else 0)\n",
    "    #Black Friday : 24th November 2017\n",
    "    df['Black_Friday_2017']=(pd.to_datetime('2017-11-24') - df['purchase_date']).dt.days.apply(lambda x: x if x > 0 and x < 100 else 0)\n",
    "\n",
    "    #2018\n",
    "    #Mothers Day: May 13 2018\n",
    "    df['Mothers_Day_2018'] = (pd.to_datetime('2018-05-13') - df['purchase_date']).dt.days.apply(lambda x: x if x > 0 and x < 100 else 0)\n",
    "\n",
    "    df['month_diff'] = ((datetime.datetime.today() - df['purchase_date']).dt.days)//30\n",
    "    df['month_diff'] += df['month_lag']\n",
    "\n",
    "    # additional features\n",
    "    df['duration'] = df['purchase_amount'] * df['month_diff']\n",
    "    df['amount_month_ratio'] = df['purchase_amount'] / df['month_diff']\n",
    "    \n",
    "    col_unique = ['subsector_id', 'merchant_id', 'merchant_category_id']\n",
    "    col_seas = ['month', 'hour', 'weekofyear', 'weekday', 'day']\n",
    "\n",
    "    aggs = {}\n",
    "    for col in col_unique:\n",
    "        aggs[col] = ['nunique']\n",
    "\n",
    "    for col in col_seas:\n",
    "        aggs[col] = ['nunique', 'mean', 'min', 'max']\n",
    "\n",
    "    aggs['purchase_amount'] = ['sum','max','min','mean','var','skew']\n",
    "    aggs['installments'] = ['sum','max','mean','var','skew']\n",
    "    aggs['purchase_date'] = ['max','min']\n",
    "    aggs['month_lag'] = ['max','min','mean','var','skew']\n",
    "    aggs['month_diff'] = ['max','min','mean','var','skew']\n",
    "    aggs['authorized_flag'] = ['mean']\n",
    "    aggs['weekend'] = ['mean']\n",
    "    aggs['weekday'] = ['mean']\n",
    "    aggs['day'] = ['nunique', 'mean', 'min']\n",
    "    aggs['category_1'] = ['sum','mean','max','min']\n",
    "    aggs['category_2_1.0']: ['sum','mean','max','min']\n",
    "    aggs['category_2_2.0']: ['sum','mean','max','min']\n",
    "    aggs['category_2_3.0']: ['sum','mean','max','min']\n",
    "    aggs['category_2_4.0']: ['sum','mean','max','min']\n",
    "    aggs['category_2_5.0']: ['sum','mean','max','min']\n",
    "    aggs['category_3_A']: ['sum','mean','max','min']\n",
    "    aggs['category_3_B']: ['sum','mean','max','min']\n",
    "    aggs['category_3_C']: ['sum','mean','max','min']\n",
    "    aggs['card_id'] = ['size','count']\n",
    "    aggs['price'] = ['sum','mean','max','min','var']\n",
    "    aggs['Christmas_Day_2017'] = ['mean']\n",
    "    aggs['Mothers_Day_2017'] = ['mean']\n",
    "    aggs['fathers_day_2017'] = ['mean']\n",
    "    aggs['Children_day_2017'] = ['mean']\n",
    "    aggs['Valentine_Day_2017'] = ['mean']\n",
    "    aggs['Black_Friday_2017'] = ['mean']\n",
    "    aggs['Mothers_Day_2018'] = ['mean']\n",
    "    aggs['duration']=['mean','min','max','var','skew']\n",
    "    aggs['amount_month_ratio'] = ['mean','min','max','var','skew']\n",
    "\n",
    "    for col in ['category_2_1.0', 'category_2_2.0', 'category_2_3.0', \n",
    "                'category_2_4.0', 'category_2_5.0', 'category_3_A', 'category_3_B', 'category_3_C']:\n",
    "        df[col + '_mean'] = df.groupby([col])['purchase_amount'].transform('mean')\n",
    "        df[col + '_min'] = df.groupby([col])['purchase_amount'].transform('min')\n",
    "        df[col + '_max'] = df.groupby([col])['purchase_amount'].transform('max')\n",
    "        df[col + '_sum'] = df.groupby([col])['purchase_amount'].transform('sum')\n",
    "        aggs[col + '_mean'] = ['mean']\n",
    "    \n",
    "    df = df.reset_index().groupby('card_id').agg(aggs)\n",
    "\n",
    "    # change column name\n",
    "    df.columns = pd.Index([e[0] + \"_\" + e[1] for e in df.columns.tolist()])\n",
    "    df.columns = [df_name + '_'+ c for c in df.columns]\n",
    "\n",
    "    df[df_name + '_purchase_date_diff'] = (df[df_name + '_purchase_date_max'] - df[df_name + '_purchase_date_min']).dt.days\n",
    "    df[df_name + '_purchase_date_average'] = df[df_name + '_purchase_date_diff']/df[df_name + '_card_id_size']\n",
    "    df[df_name + '_purchase_date_uptonow'] = (datetime.datetime.today() - df[df_name + '_purchase_date_max']).dt.days\n",
    "    df[df_name + '_purchase_date_uptomin'] = (datetime.datetime.today() - df[df_name + '_purchase_date_min']).dt.days\n",
    "    \n",
    "    return df"
   ]
  },
  {
   "cell_type": "code",
   "execution_count": 18,
   "metadata": {
    "collapsed": true
   },
   "outputs": [],
   "source": [
    "def create_aggregates_2(df, field1):\n",
    "    print(\"Create aggregates 2\")\n",
    "    \n",
    "    # Fill NA\n",
    "    df['category_2'].fillna(1.0,inplace = True)\n",
    "    df['category_3'].fillna('A',inplace = True)\n",
    "    df['installments'].replace(-1, np.nan, inplace = True)\n",
    "    \n",
    "    # create dummies\n",
    "    df = pd.get_dummies(df, columns = ['category_2', 'category_3'])\n",
    "    df['category_1'] = df['category_1'].map({'Y': 1, 'N': 0}).astype(int)\n",
    "    \n",
    "    aggs = {}\n",
    "    aggs['purchase_amount'] = ['count', 'sum', 'mean', 'min', 'max', 'std', 'skew']\n",
    "    aggs['installments'] = ['count', 'sum', 'mean', 'min', 'max', 'std', 'skew']\n",
    "    aggs['category_1'] = ['sum','mean','max','min']\n",
    "    aggs['category_2_1.0']: ['sum','mean','max','min']\n",
    "    aggs['category_2_2.0']: ['sum','mean','max','min']\n",
    "    aggs['category_2_3.0']: ['sum','mean','max','min']\n",
    "    aggs['category_2_4.0']: ['sum','mean','max','min']\n",
    "    aggs['category_2_5.0']: ['sum','mean','max','min']\n",
    "    aggs['category_3_A']: ['sum','mean','max','min']\n",
    "    aggs['category_3_B']: ['sum','mean','max','min']\n",
    "    aggs['category_3_C']: ['sum','mean','max','min']\n",
    "        \n",
    "    intermediate_group = df.groupby(['card_id', field1]).agg(aggs)\n",
    "    intermediate_group.columns = [field1 + '_' + '_'.join(col).strip() for col in intermediate_group.columns.values]\n",
    "    intermediate_group.reset_index(inplace = True)\n",
    "\n",
    "    final_group = intermediate_group.groupby('card_id').agg(['mean', 'std', 'min', 'max'])\n",
    "    final_group.columns = [field1 + '_' + '_'.join(col).strip() for col in final_group.columns.values]\n",
    "    final_group.reset_index(inplace = True)\n",
    "    \n",
    "    return final_group"
   ]
  },
  {
   "cell_type": "code",
   "execution_count": 10,
   "metadata": {
    "collapsed": true
   },
   "outputs": [],
   "source": [
    "def create_aggregates_3(df, field1, field2):\n",
    "    print(\"Create aggregates 3\")\n",
    "    \n",
    "    t = df.groupby(['card_id', field1])[field2].mean()\n",
    "    u = pd.DataFrame(t).reset_index().groupby('card_id')[field2].agg(['mean', 'min', 'max', 'std'])\n",
    "    u.columns = [field1 + '_' + field2 + '_' + col for col in u.columns.values]\n",
    "    u.reset_index(inplace = True)\n",
    "    return u"
   ]
  },
  {
   "cell_type": "markdown",
   "metadata": {},
   "source": [
    "## Create historical transactions aggregates"
   ]
  },
  {
   "cell_type": "code",
   "execution_count": 11,
   "metadata": {},
   "outputs": [
    {
     "name": "stdout",
     "output_type": "stream",
     "text": [
      "Create aggregates 1\n",
      "Memory usage after optimization is: 50.75 MB\n",
      "Decreased by 71.6%\n"
     ]
    }
   ],
   "source": [
    "hist_df_processed_1 = reduce_mem_usage(create_aggregates_1(historical_transactions))"
   ]
  },
  {
   "cell_type": "markdown",
   "metadata": {},
   "source": [
    "## Create new transactions aggregates"
   ]
  },
  {
   "cell_type": "code",
   "execution_count": 12,
   "metadata": {},
   "outputs": [
    {
     "name": "stdout",
     "output_type": "stream",
     "text": [
      "Create aggregates 1\n",
      "Memory usage after optimization is: 52.27 MB\n",
      "Decreased by 72.2%\n",
      "Create aggregates 3\n",
      "Memory usage after optimization is: 4.43 MB\n",
      "Decreased by 60.0%\n",
      "Create aggregates 3\n",
      "Memory usage after optimization is: 8.85 MB\n",
      "Decreased by 42.9%\n",
      "Create aggregates 3\n",
      "Memory usage after optimization is: 11.06 MB\n",
      "Decreased by 37.5%\n",
      "Create aggregates 3\n",
      "Memory usage after optimization is: 13.28 MB\n",
      "Decreased by 33.3%\n"
     ]
    }
   ],
   "source": [
    "new_df_processed_1 = reduce_mem_usage(create_aggregates_1(new_transactions, df_name = 'new'))\n",
    "new_df_processed_2 = reduce_mem_usage(create_aggregates_3(new_transactions, 'category_1', 'purchase_amount'))\n",
    "new_df_processed_2 = reduce_mem_usage(new_df_processed_2.merge(create_aggregates_3(new_transactions, 'installments', 'purchase_amount'),\n",
    "                                            on = 'card_id', how = 'left'))\n",
    "new_df_processed_2 = reduce_mem_usage(new_df_processed_2.merge(create_aggregates_3(new_transactions, 'city_id', 'purchase_amount'),\n",
    "                                            on = 'card_id', how ='left'))\n",
    "new_df_processed_2 = reduce_mem_usage(new_df_processed_2.merge(create_aggregates_3(new_transactions, 'category_1', 'installments'),\n",
    "                                            on = 'card_id', how ='left'))"
   ]
  },
  {
   "cell_type": "markdown",
   "metadata": {},
   "source": [
    "## Create authorized transactions aggregates"
   ]
  },
  {
   "cell_type": "code",
   "execution_count": 20,
   "metadata": {},
   "outputs": [
    {
     "name": "stdout",
     "output_type": "stream",
     "text": [
      "Create aggregates 2\n",
      "Memory usage after optimization is: 47.81 MB\n",
      "Decreased by 75.0%\n",
      "Create aggregates 2\n",
      "Memory usage after optimization is: 96.24 MB\n",
      "Decreased by 59.7%\n",
      "Create aggregates 2\n",
      "Memory usage after optimization is: 141.57 MB\n",
      "Decreased by 50.3%\n",
      "Create aggregates 2\n",
      "Memory usage after optimization is: 186.90 MB\n",
      "Decreased by 43.4%\n"
     ]
    }
   ],
   "source": [
    "# auth_df_processed_1 = reduce_mem_usage(create_aggregates_1(authorized_transactions, df_name = 'auth'))\n",
    "auth_df_processed_2 = reduce_mem_usage(create_aggregates_2(authorized_transactions, field1 = 'month_lag'))\n",
    "auth_df_processed_2 = reduce_mem_usage(auth_df_processed_2.merge(create_aggregates_2(authorized_transactions, 'city_id'),\n",
    "                                        on = 'card_id', how = 'left'))\n",
    "auth_df_processed_2 = reduce_mem_usage(auth_df_processed_2.merge(create_aggregates_2(authorized_transactions, 'state_id'),\n",
    "                                        on = 'card_id', how = 'left'))\n",
    "auth_df_processed_2 = reduce_mem_usage(auth_df_processed_2.merge(create_aggregates_2(authorized_transactions, 'subsector_id'),\n",
    "                                        on = 'card_id', how = 'left'))"
   ]
  },
  {
   "cell_type": "markdown",
   "metadata": {},
   "source": [
    "## Join the dataframes"
   ]
  },
  {
   "cell_type": "code",
   "execution_count": 22,
   "metadata": {},
   "outputs": [
    {
     "name": "stdout",
     "output_type": "stream",
     "text": [
      "Memory usage after optimization is: 395.52 MB\n",
      "Decreased by 25.1%\n"
     ]
    }
   ],
   "source": [
    "# Join with historical transactions\n",
    "df1 = pd.merge(df, hist_df_processed_1, on = 'card_id', how = 'left')\n",
    "\n",
    "# Join with new transactions\n",
    "df2 = pd.merge(df1, new_df_processed_1, on = 'card_id', how = 'left')\n",
    "df2 = pd.merge(df2, new_df_processed_2, on = 'card_id', how = 'left')\n",
    "\n",
    "# Join with authorized transactions\n",
    "df2 = pd.merge(df2, auth_df_processed_1, on = 'card_id', how = 'left')\n",
    "df2 = pd.merge(df2, auth_df_processed_2, on = 'card_id', how = 'left')\n",
    "\n",
    "df2 = reduce_mem_usage(df2)\n",
    "del df1"
   ]
  },
  {
   "cell_type": "markdown",
   "metadata": {},
   "source": [
    "## Creating additional features"
   ]
  },
  {
   "cell_type": "code",
   "execution_count": 23,
   "metadata": {
    "collapsed": true
   },
   "outputs": [],
   "source": [
    "# additional features\n",
    "def additional_features(df):\n",
    "    df['hist_first_buy'] = (df['hist_purchase_date_min'] - df['first_active_month']).dt.days\n",
    "    df['hist_last_buy'] = (df['hist_purchase_date_max'] - df['first_active_month']).dt.days\n",
    "    df['new_first_buy'] = (df['new_purchase_date_min'] - df['first_active_month']).dt.days\n",
    "    df['new_last_buy'] = (df['new_purchase_date_max'] - df['first_active_month']).dt.days\n",
    "    df['auth_first_buy'] = (df['auth_purchase_date_min'] - df['first_active_month']).dt.days\n",
    "    df['auth_last_buy'] = (df['auth_purchase_date_max'] - df['first_active_month']).dt.days\n",
    "\n",
    "    date_features = ['hist_purchase_date_max','hist_purchase_date_min',\n",
    "                   'new_purchase_date_max', 'new_purchase_date_min', \n",
    "                     'auth_purchase_date_max', 'auth_purchase_date_min']\n",
    "\n",
    "    for f in date_features:\n",
    "        df[f] = df[f].astype(np.int64) * 1e-9\n",
    "\n",
    "    df['card_id_total'] = df['new_card_id_size'] + df['hist_card_id_size'] + df['auth_card_id_size']\n",
    "    df['card_id_cnt_total'] = df['new_card_id_count'] + df['hist_card_id_count'] + df['auth_card_id_count']\n",
    "    df['card_id_cnt_ratio'] = df['new_card_id_count']/df['hist_card_id_count']\n",
    "    df['purchase_amount_total'] = df['new_purchase_amount_sum'] + df['hist_purchase_amount_sum'] + df['auth_purchase_amount_sum']\n",
    "    df['purchase_amount_mean'] = df['new_purchase_amount_mean'] + df['hist_purchase_amount_mean'] + df['auth_purchase_amount_mean']\n",
    "    df['purchase_amount_max'] = df['new_purchase_amount_max'] + df['hist_purchase_amount_max'] + df['auth_purchase_amount_max']\n",
    "    df['purchase_amount_min'] = df['new_purchase_amount_min'] + df['hist_purchase_amount_min'] + df['auth_purchase_amount_min']\n",
    "    df['purchase_amount_ratio'] = df['new_purchase_amount_sum']/df['hist_purchase_amount_sum']\n",
    "    df['month_diff_mean'] = df['new_month_diff_mean'] + df['hist_month_diff_mean'] + df['auth_month_diff_mean']\n",
    "    df['month_diff_ratio'] = df['new_month_diff_mean']/df['hist_month_diff_mean']\n",
    "    df['month_lag_mean'] = df['new_month_lag_mean'] + df['hist_month_lag_mean'] + df['auth_month_lag_mean']\n",
    "    df['month_lag_max'] = df['new_month_lag_max'] + df['hist_month_lag_max'] + df['auth_month_lag_max']\n",
    "    df['month_lag_min'] = df['new_month_lag_min'] + df['hist_month_lag_min'] + df['auth_month_lag_min']\n",
    "    df['category_1_mean'] = df['new_category_1_mean'] + df['hist_category_1_mean'] + df['auth_category_1_mean']\n",
    "    df['installments_total'] = df['new_installments_sum'] + df['hist_installments_sum'] + df['auth_installments_sum']\n",
    "    df['installments_mean'] = df['new_installments_mean'] + df['hist_installments_mean'] + df['auth_installments_mean']\n",
    "    df['installments_max'] = df['new_installments_max'] + df['hist_installments_max'] + df['auth_installments_max']\n",
    "    df['installments_ratio'] = df['new_installments_sum']/df['hist_installments_sum']\n",
    "    df['price_total'] = df['purchase_amount_total'] / df['installments_total']\n",
    "    df['price_mean'] = df['purchase_amount_mean'] / df['installments_mean']\n",
    "    df['price_max'] = df['purchase_amount_max'] / df['installments_max']\n",
    "    df['duration_mean'] = df['new_duration_mean'] + df['hist_duration_mean'] + df['auth_duration_mean']\n",
    "    df['duration_min'] = df['new_duration_min'] + df['hist_duration_min'] + df['auth_duration_min']\n",
    "    df['duration_max'] = df['new_duration_max'] + df['hist_duration_max'] + df['auth_duration_max']\n",
    "    df['amount_month_ratio_mean'] = df['new_amount_month_ratio_mean'] + df['hist_amount_month_ratio_mean'] + df['auth_amount_month_ratio_mean']\n",
    "    df['amount_month_ratio_min'] = df['new_amount_month_ratio_min'] + df['hist_amount_month_ratio_min'] + df['auth_amount_month_ratio_min']\n",
    "    df['amount_month_ratio_max'] = df['new_amount_month_ratio_max'] + df['hist_amount_month_ratio_max'] + df['auth_amount_month_ratio_max']\n",
    "    df['new_CLV'] = df['new_card_id_count'] * df['new_purchase_amount_sum'] / df['new_month_diff_mean']\n",
    "    df['hist_CLV'] = df['hist_card_id_count'] * df['hist_purchase_amount_sum'] / df['hist_month_diff_mean']\n",
    "    df['CLV_ratio'] = df['new_CLV'] / df['hist_CLV']\n",
    "\n",
    "    return df"
   ]
  },
  {
   "cell_type": "code",
   "execution_count": 24,
   "metadata": {
    "collapsed": true
   },
   "outputs": [],
   "source": [
    "df = additional_features(df2)"
   ]
  },
  {
   "cell_type": "code",
   "execution_count": 25,
   "metadata": {},
   "outputs": [
    {
     "name": "stdout",
     "output_type": "stream",
     "text": [
      "Memory usage after optimization is: 262.08 MB\n",
      "Decreased by 1.8%\n",
      "Memory usage after optimization is: 160.81 MB\n",
      "Decreased by 1.6%\n"
     ]
    },
    {
     "data": {
      "text/plain": [
       "0"
      ]
     },
     "execution_count": 25,
     "metadata": {},
     "output_type": "execute_result"
    }
   ],
   "source": [
    "train_df = reduce_mem_usage(df[df['target'].notnull()])\n",
    "test_df = reduce_mem_usage(df[df['target'].isnull()])\n",
    "del df\n",
    "gc.collect()"
   ]
  },
  {
   "cell_type": "code",
   "execution_count": 23,
   "metadata": {},
   "outputs": [
    {
     "ename": "OSError",
     "evalue": "[Errno 28] No space left on device",
     "output_type": "error",
     "traceback": [
      "\u001b[0;31m---------------------------------------------------------------------------\u001b[0m",
      "\u001b[0;31mOSError\u001b[0m                                   Traceback (most recent call last)",
      "\u001b[0;32m<ipython-input-23-d84cfe8583d0>\u001b[0m in \u001b[0;36m<module>\u001b[0;34m()\u001b[0m\n\u001b[1;32m      1\u001b[0m \u001b[0mtrain_df\u001b[0m\u001b[0;34m.\u001b[0m\u001b[0mto_csv\u001b[0m\u001b[0;34m(\u001b[0m\u001b[0;34m'train_final.csv'\u001b[0m\u001b[0;34m)\u001b[0m\u001b[0;34m\u001b[0m\u001b[0m\n\u001b[0;32m----> 2\u001b[0;31m \u001b[0mtest_df\u001b[0m\u001b[0;34m.\u001b[0m\u001b[0mto_csv\u001b[0m\u001b[0;34m(\u001b[0m\u001b[0;34m'test_final.csv'\u001b[0m\u001b[0;34m)\u001b[0m\u001b[0;34m\u001b[0m\u001b[0m\n\u001b[0m",
      "\u001b[0;32m~/anaconda3/lib/python3.6/site-packages/pandas/core/generic.py\u001b[0m in \u001b[0;36mto_csv\u001b[0;34m(self, path_or_buf, sep, na_rep, float_format, columns, header, index, index_label, mode, encoding, compression, quoting, quotechar, line_terminator, chunksize, tupleize_cols, date_format, doublequote, escapechar, decimal)\u001b[0m\n\u001b[1;32m   3008\u001b[0m                                  \u001b[0mdoublequote\u001b[0m\u001b[0;34m=\u001b[0m\u001b[0mdoublequote\u001b[0m\u001b[0;34m,\u001b[0m\u001b[0;34m\u001b[0m\u001b[0m\n\u001b[1;32m   3009\u001b[0m                                  escapechar=escapechar, decimal=decimal)\n\u001b[0;32m-> 3010\u001b[0;31m         \u001b[0mformatter\u001b[0m\u001b[0;34m.\u001b[0m\u001b[0msave\u001b[0m\u001b[0;34m(\u001b[0m\u001b[0;34m)\u001b[0m\u001b[0;34m\u001b[0m\u001b[0m\n\u001b[0m\u001b[1;32m   3011\u001b[0m \u001b[0;34m\u001b[0m\u001b[0m\n\u001b[1;32m   3012\u001b[0m         \u001b[0;32mif\u001b[0m \u001b[0mpath_or_buf\u001b[0m \u001b[0;32mis\u001b[0m \u001b[0;32mNone\u001b[0m\u001b[0;34m:\u001b[0m\u001b[0;34m\u001b[0m\u001b[0m\n",
      "\u001b[0;32m~/anaconda3/lib/python3.6/site-packages/pandas/io/formats/csvs.py\u001b[0m in \u001b[0;36msave\u001b[0;34m(self)\u001b[0m\n\u001b[1;32m    170\u001b[0m                 \u001b[0mself\u001b[0m\u001b[0;34m.\u001b[0m\u001b[0mwriter\u001b[0m \u001b[0;34m=\u001b[0m \u001b[0mUnicodeWriter\u001b[0m\u001b[0;34m(\u001b[0m\u001b[0mf\u001b[0m\u001b[0;34m,\u001b[0m \u001b[0;34m**\u001b[0m\u001b[0mwriter_kwargs\u001b[0m\u001b[0;34m)\u001b[0m\u001b[0;34m\u001b[0m\u001b[0m\n\u001b[1;32m    171\u001b[0m \u001b[0;34m\u001b[0m\u001b[0m\n\u001b[0;32m--> 172\u001b[0;31m             \u001b[0mself\u001b[0m\u001b[0;34m.\u001b[0m\u001b[0m_save\u001b[0m\u001b[0;34m(\u001b[0m\u001b[0;34m)\u001b[0m\u001b[0;34m\u001b[0m\u001b[0m\n\u001b[0m\u001b[1;32m    173\u001b[0m \u001b[0;34m\u001b[0m\u001b[0m\n\u001b[1;32m    174\u001b[0m         \u001b[0;32mfinally\u001b[0m\u001b[0;34m:\u001b[0m\u001b[0;34m\u001b[0m\u001b[0m\n",
      "\u001b[0;32m~/anaconda3/lib/python3.6/site-packages/pandas/io/formats/csvs.py\u001b[0m in \u001b[0;36m_save\u001b[0;34m(self)\u001b[0m\n\u001b[1;32m    286\u001b[0m                 \u001b[0;32mbreak\u001b[0m\u001b[0;34m\u001b[0m\u001b[0m\n\u001b[1;32m    287\u001b[0m \u001b[0;34m\u001b[0m\u001b[0m\n\u001b[0;32m--> 288\u001b[0;31m             \u001b[0mself\u001b[0m\u001b[0;34m.\u001b[0m\u001b[0m_save_chunk\u001b[0m\u001b[0;34m(\u001b[0m\u001b[0mstart_i\u001b[0m\u001b[0;34m,\u001b[0m \u001b[0mend_i\u001b[0m\u001b[0;34m)\u001b[0m\u001b[0;34m\u001b[0m\u001b[0m\n\u001b[0m\u001b[1;32m    289\u001b[0m \u001b[0;34m\u001b[0m\u001b[0m\n\u001b[1;32m    290\u001b[0m     \u001b[0;32mdef\u001b[0m \u001b[0m_save_chunk\u001b[0m\u001b[0;34m(\u001b[0m\u001b[0mself\u001b[0m\u001b[0;34m,\u001b[0m \u001b[0mstart_i\u001b[0m\u001b[0;34m,\u001b[0m \u001b[0mend_i\u001b[0m\u001b[0;34m)\u001b[0m\u001b[0;34m:\u001b[0m\u001b[0;34m\u001b[0m\u001b[0m\n",
      "\u001b[0;32m~/anaconda3/lib/python3.6/site-packages/pandas/io/formats/csvs.py\u001b[0m in \u001b[0;36m_save_chunk\u001b[0;34m(self, start_i, end_i)\u001b[0m\n\u001b[1;32m    313\u001b[0m \u001b[0;34m\u001b[0m\u001b[0m\n\u001b[1;32m    314\u001b[0m         libwriters.write_csv_rows(self.data, ix, self.nlevels,\n\u001b[0;32m--> 315\u001b[0;31m                                   self.cols, self.writer)\n\u001b[0m",
      "\u001b[0;32mpandas/_libs/writers.pyx\u001b[0m in \u001b[0;36mpandas._libs.writers.write_csv_rows\u001b[0;34m()\u001b[0m\n",
      "\u001b[0;31mOSError\u001b[0m: [Errno 28] No space left on device"
     ]
    }
   ],
   "source": [
    "train_df.to_csv('train_final.csv')\n",
    "test_df.to_csv('test_final.csv')"
   ]
  },
  {
   "cell_type": "markdown",
   "metadata": {},
   "source": [
    "## Parameter tuning using Optuna"
   ]
  },
  {
   "cell_type": "code",
   "execution_count": 3,
   "metadata": {
    "collapsed": true
   },
   "outputs": [],
   "source": [
    "train_df = pd.read_csv('train_final.csv', index_col = 0)\n",
    "test_df = pd.read_csv('test_final.csv', index_col = 0)"
   ]
  },
  {
   "cell_type": "code",
   "execution_count": 4,
   "metadata": {
    "collapsed": true
   },
   "outputs": [],
   "source": [
    "feats = [c for c in train_df.columns if c not in FEATS_EXCLUDED]"
   ]
  },
  {
   "cell_type": "code",
   "execution_count": 29,
   "metadata": {},
   "outputs": [
    {
     "name": "stdout",
     "output_type": "stream",
     "text": [
      "[100]\tcv_agg's rmse: 3.72582 + 0.00422925\n",
      "[200]\tcv_agg's rmse: 3.69962 + 0.0065143\n",
      "[300]\tcv_agg's rmse: 3.68175 + 0.00725018\n",
      "[400]\tcv_agg's rmse: 3.67242 + 0.00818744\n",
      "[500]\tcv_agg's rmse: 3.66661 + 0.00893988\n",
      "[600]\tcv_agg's rmse: 3.66269 + 0.00936276\n",
      "[700]\tcv_agg's rmse: 3.66007 + 0.00976854\n",
      "[800]\tcv_agg's rmse: 3.65817 + 0.0097436\n",
      "[900]\tcv_agg's rmse: 3.6568 + 0.0100087\n",
      "[1000]\tcv_agg's rmse: 3.65582 + 0.0102578\n",
      "[1100]\tcv_agg's rmse: 3.65496 + 0.0103288\n",
      "[1200]\tcv_agg's rmse: 3.65435 + 0.0104332\n",
      "[1300]\tcv_agg's rmse: 3.65393 + 0.0103457\n",
      "[1400]\tcv_agg's rmse: 3.65357 + 0.0105087\n",
      "[1500]\tcv_agg's rmse: 3.65348 + 0.0104898\n",
      "[1600]\tcv_agg's rmse: 3.65326 + 0.0104754\n",
      "[1700]\tcv_agg's rmse: 3.65311 + 0.0103121\n",
      "[1800]\tcv_agg's rmse: 3.65297 + 0.0104211\n",
      "[1900]\tcv_agg's rmse: 3.65287 + 0.0102684\n",
      "[2000]\tcv_agg's rmse: 3.6528 + 0.010304\n",
      "[2100]\tcv_agg's rmse: 3.65288 + 0.0103469\n"
     ]
    },
    {
     "name": "stderr",
     "output_type": "stream",
     "text": [
      "[I 2019-02-02 06:35:47,518] Finished a trial resulted in value: 3.65269021295721. Current best value is 3.65269021295721 with parameters: {'boosting': 'dart', 'num_leaves': 20, 'colsample_bytree': 0.3151591840582045, 'subsample': 0.11994314702366211, 'max_depth': 18, 'reg_alpha': 4.056366261034116, 'reg_lambda': 5.407611980440702, 'min_split_gain': 3.4283982516942313, 'min_child_weight': 24.40741359383279, 'min_data_in_leaf': 21, 'drop_rate': 1.350364025185153e-07, 'skip_drop': 6.005867376416405e-06}.\n"
     ]
    },
    {
     "name": "stdout",
     "output_type": "stream",
     "text": [
      "[100]\tcv_agg's rmse: 3.85824 + 0.00280295\n",
      "[200]\tcv_agg's rmse: 3.85921 + 0.00279997\n"
     ]
    },
    {
     "name": "stderr",
     "output_type": "stream",
     "text": [
      "[I 2019-02-02 06:39:15,377] Finished a trial resulted in value: 3.8469424941852863. Current best value is 3.65269021295721 with parameters: {'boosting': 'dart', 'num_leaves': 20, 'colsample_bytree': 0.3151591840582045, 'subsample': 0.11994314702366211, 'max_depth': 18, 'reg_alpha': 4.056366261034116, 'reg_lambda': 5.407611980440702, 'min_split_gain': 3.4283982516942313, 'min_child_weight': 24.40741359383279, 'min_data_in_leaf': 21, 'drop_rate': 1.350364025185153e-07, 'skip_drop': 6.005867376416405e-06}.\n"
     ]
    },
    {
     "name": "stdout",
     "output_type": "stream",
     "text": [
      "[100]\tcv_agg's rmse: 3.7187 + 0.00448484\n",
      "[200]\tcv_agg's rmse: 3.68516 + 0.00722349\n",
      "[300]\tcv_agg's rmse: 3.67237 + 0.00780651\n",
      "[400]\tcv_agg's rmse: 3.66484 + 0.00834688\n",
      "[500]\tcv_agg's rmse: 3.66055 + 0.00874634\n",
      "[600]\tcv_agg's rmse: 3.65777 + 0.00914409\n",
      "[700]\tcv_agg's rmse: 3.65586 + 0.00948844\n",
      "[800]\tcv_agg's rmse: 3.65492 + 0.00970714\n",
      "[900]\tcv_agg's rmse: 3.65438 + 0.00962104\n",
      "[1000]\tcv_agg's rmse: 3.65393 + 0.00958777\n",
      "[1100]\tcv_agg's rmse: 3.65353 + 0.00951627\n",
      "[1200]\tcv_agg's rmse: 3.65335 + 0.00940183\n",
      "[1300]\tcv_agg's rmse: 3.65337 + 0.00933289\n",
      "[1400]\tcv_agg's rmse: 3.65324 + 0.00910269\n",
      "[1500]\tcv_agg's rmse: 3.65323 + 0.00902168\n",
      "[1600]\tcv_agg's rmse: 3.65326 + 0.00888517\n"
     ]
    },
    {
     "name": "stderr",
     "output_type": "stream",
     "text": [
      "[I 2019-02-02 06:46:20,188] Finished a trial resulted in value: 3.6531640949428557. Current best value is 3.65269021295721 with parameters: {'boosting': 'dart', 'num_leaves': 20, 'colsample_bytree': 0.3151591840582045, 'subsample': 0.11994314702366211, 'max_depth': 18, 'reg_alpha': 4.056366261034116, 'reg_lambda': 5.407611980440702, 'min_split_gain': 3.4283982516942313, 'min_child_weight': 24.40741359383279, 'min_data_in_leaf': 21, 'drop_rate': 1.350364025185153e-07, 'skip_drop': 6.005867376416405e-06}.\n"
     ]
    },
    {
     "name": "stdout",
     "output_type": "stream",
     "text": [
      "[100]\tcv_agg's rmse: 3.71559 + 0.0040288\n",
      "[200]\tcv_agg's rmse: 3.6876 + 0.00662376\n",
      "[300]\tcv_agg's rmse: 3.67079 + 0.00729043\n",
      "[400]\tcv_agg's rmse: 3.66267 + 0.00810494\n",
      "[500]\tcv_agg's rmse: 3.65832 + 0.00876915\n",
      "[600]\tcv_agg's rmse: 3.65598 + 0.00912969\n",
      "[700]\tcv_agg's rmse: 3.65444 + 0.00946018\n",
      "[800]\tcv_agg's rmse: 3.65377 + 0.00935883\n",
      "[900]\tcv_agg's rmse: 3.65328 + 0.00953501\n",
      "[1000]\tcv_agg's rmse: 3.65267 + 0.00952688\n",
      "[1100]\tcv_agg's rmse: 3.65254 + 0.00938771\n",
      "[1200]\tcv_agg's rmse: 3.65261 + 0.00927499\n"
     ]
    },
    {
     "name": "stderr",
     "output_type": "stream",
     "text": [
      "[I 2019-02-02 06:54:41,644] Finished a trial resulted in value: 3.652496599333934. Current best value is 3.652496599333934 with parameters: {'boosting': 'dart', 'num_leaves': 52, 'colsample_bytree': 0.5191735238184926, 'subsample': 0.7065089570119609, 'max_depth': 14, 'reg_alpha': 6.711134410430674, 'reg_lambda': 8.326484163217561, 'min_split_gain': 4.8119251276547015, 'min_child_weight': 16.846870875179626, 'min_data_in_leaf': 42, 'drop_rate': 2.0738098279406995e-07, 'skip_drop': 4.2836934976139055e-06}.\n"
     ]
    },
    {
     "name": "stdout",
     "output_type": "stream",
     "text": [
      "[100]\tcv_agg's rmse: 3.72254 + 0.00489049\n",
      "[200]\tcv_agg's rmse: 3.69579 + 0.00740188\n",
      "[300]\tcv_agg's rmse: 3.67742 + 0.00802027\n",
      "[400]\tcv_agg's rmse: 3.6689 + 0.00874421\n",
      "[500]\tcv_agg's rmse: 3.66417 + 0.00905952\n",
      "[600]\tcv_agg's rmse: 3.66137 + 0.00932733\n",
      "[700]\tcv_agg's rmse: 3.65942 + 0.00958289\n",
      "[800]\tcv_agg's rmse: 3.6584 + 0.00960771\n",
      "[900]\tcv_agg's rmse: 3.65763 + 0.00969737\n",
      "[1000]\tcv_agg's rmse: 3.65706 + 0.00982768\n",
      "[1100]\tcv_agg's rmse: 3.65672 + 0.00972788\n",
      "[1200]\tcv_agg's rmse: 3.65645 + 0.00968632\n",
      "[1300]\tcv_agg's rmse: 3.65618 + 0.00974781\n",
      "[1400]\tcv_agg's rmse: 3.65627 + 0.00958751\n",
      "[1500]\tcv_agg's rmse: 3.65651 + 0.00959516\n"
     ]
    },
    {
     "name": "stderr",
     "output_type": "stream",
     "text": [
      "[I 2019-02-02 07:03:58,959] Finished a trial resulted in value: 3.656138636170425. Current best value is 3.652496599333934 with parameters: {'boosting': 'dart', 'num_leaves': 52, 'colsample_bytree': 0.5191735238184926, 'subsample': 0.7065089570119609, 'max_depth': 14, 'reg_alpha': 6.711134410430674, 'reg_lambda': 8.326484163217561, 'min_split_gain': 4.8119251276547015, 'min_child_weight': 16.846870875179626, 'min_data_in_leaf': 42, 'drop_rate': 2.0738098279406995e-07, 'skip_drop': 4.2836934976139055e-06}.\n"
     ]
    },
    {
     "name": "stdout",
     "output_type": "stream",
     "text": [
      "[100]\tcv_agg's rmse: 3.80957 + 0.00164891\n",
      "[200]\tcv_agg's rmse: 3.80749 + 0.00134435\n",
      "[300]\tcv_agg's rmse: 3.80145 + 0.00162197\n",
      "[400]\tcv_agg's rmse: 3.79949 + 0.00141784\n",
      "[500]\tcv_agg's rmse: 3.79123 + 0.00167074\n",
      "[600]\tcv_agg's rmse: 3.78777 + 0.00188967\n",
      "[700]\tcv_agg's rmse: 3.78772 + 0.00178302\n"
     ]
    },
    {
     "name": "stderr",
     "output_type": "stream",
     "text": [
      "[I 2019-02-02 07:17:28,674] Finished a trial resulted in value: 3.7848129927064655. Current best value is 3.652496599333934 with parameters: {'boosting': 'dart', 'num_leaves': 52, 'colsample_bytree': 0.5191735238184926, 'subsample': 0.7065089570119609, 'max_depth': 14, 'reg_alpha': 6.711134410430674, 'reg_lambda': 8.326484163217561, 'min_split_gain': 4.8119251276547015, 'min_child_weight': 16.846870875179626, 'min_data_in_leaf': 42, 'drop_rate': 2.0738098279406995e-07, 'skip_drop': 4.2836934976139055e-06}.\n"
     ]
    },
    {
     "name": "stdout",
     "output_type": "stream",
     "text": [
      "[100]\tcv_agg's rmse: 3.71389 + 0.00457095\n",
      "[200]\tcv_agg's rmse: 1.32313e+18 + 2.64606e+18\n",
      "[300]\tcv_agg's rmse: 7.03638e+23 + 1.40727e+24\n"
     ]
    },
    {
     "name": "stderr",
     "output_type": "stream",
     "text": [
      "[I 2019-02-02 07:20:05,203] Finished a trial resulted in value: 3.71388646914277. Current best value is 3.652496599333934 with parameters: {'boosting': 'dart', 'num_leaves': 52, 'colsample_bytree': 0.5191735238184926, 'subsample': 0.7065089570119609, 'max_depth': 14, 'reg_alpha': 6.711134410430674, 'reg_lambda': 8.326484163217561, 'min_split_gain': 4.8119251276547015, 'min_child_weight': 16.846870875179626, 'min_data_in_leaf': 42, 'drop_rate': 2.0738098279406995e-07, 'skip_drop': 4.2836934976139055e-06}.\n"
     ]
    },
    {
     "name": "stdout",
     "output_type": "stream",
     "text": [
      "[100]\tcv_agg's rmse: 3.71429 + 0.0051499\n",
      "[200]\tcv_agg's rmse: 3.68092 + 0.0078013\n",
      "[300]\tcv_agg's rmse: 3.66889 + 0.00820175\n",
      "[400]\tcv_agg's rmse: 3.66299 + 0.00858066\n",
      "[500]\tcv_agg's rmse: 3.65937 + 0.00897467\n",
      "[600]\tcv_agg's rmse: 3.65712 + 0.00937998\n",
      "[700]\tcv_agg's rmse: 3.65569 + 0.00962984\n",
      "[800]\tcv_agg's rmse: 3.6549 + 0.00970091\n",
      "[900]\tcv_agg's rmse: 3.65449 + 0.00977573\n",
      "[1000]\tcv_agg's rmse: 3.65427 + 0.00975635\n",
      "[1100]\tcv_agg's rmse: 3.6541 + 0.00983586\n",
      "[1200]\tcv_agg's rmse: 3.65385 + 0.00992902\n",
      "[1300]\tcv_agg's rmse: 3.65375 + 0.00985443\n",
      "[1400]\tcv_agg's rmse: 3.65372 + 0.00981129\n",
      "[1500]\tcv_agg's rmse: 3.65382 + 0.00979713\n"
     ]
    },
    {
     "name": "stderr",
     "output_type": "stream",
     "text": [
      "[I 2019-02-02 07:27:14,486] Finished a trial resulted in value: 3.6536333401306713. Current best value is 3.652496599333934 with parameters: {'boosting': 'dart', 'num_leaves': 52, 'colsample_bytree': 0.5191735238184926, 'subsample': 0.7065089570119609, 'max_depth': 14, 'reg_alpha': 6.711134410430674, 'reg_lambda': 8.326484163217561, 'min_split_gain': 4.8119251276547015, 'min_child_weight': 16.846870875179626, 'min_data_in_leaf': 42, 'drop_rate': 2.0738098279406995e-07, 'skip_drop': 4.2836934976139055e-06}.\n"
     ]
    },
    {
     "name": "stdout",
     "output_type": "stream",
     "text": [
      "[100]\tcv_agg's rmse: 3.73375 + 0.00334209\n",
      "[200]\tcv_agg's rmse: 3.69217 + 0.00581797\n",
      "[300]\tcv_agg's rmse: 3.67725 + 0.00747805\n",
      "[400]\tcv_agg's rmse: 3.66864 + 0.00848296\n",
      "[500]\tcv_agg's rmse: 3.6646 + 0.00905305\n",
      "[600]\tcv_agg's rmse: 4.19715 + 0.647021\n",
      "[700]\tcv_agg's rmse: 34.1921 + 28.2659\n"
     ]
    },
    {
     "name": "stderr",
     "output_type": "stream",
     "text": [
      "[I 2019-02-02 07:28:50,105] Finished a trial resulted in value: 3.663167775511243. Current best value is 3.652496599333934 with parameters: {'boosting': 'dart', 'num_leaves': 52, 'colsample_bytree': 0.5191735238184926, 'subsample': 0.7065089570119609, 'max_depth': 14, 'reg_alpha': 6.711134410430674, 'reg_lambda': 8.326484163217561, 'min_split_gain': 4.8119251276547015, 'min_child_weight': 16.846870875179626, 'min_data_in_leaf': 42, 'drop_rate': 2.0738098279406995e-07, 'skip_drop': 4.2836934976139055e-06}.\n"
     ]
    },
    {
     "name": "stdout",
     "output_type": "stream",
     "text": [
      "[100]\tcv_agg's rmse: 3.72392 + 0.00436468\n",
      "[200]\tcv_agg's rmse: 1.9785e+07 + 3.53004e+07\n",
      "[300]\tcv_agg's rmse: 8.03425e+06 + 1.43438e+07\n"
     ]
    },
    {
     "name": "stderr",
     "output_type": "stream",
     "text": [
      "[I 2019-02-02 07:30:28,802] Finished a trial resulted in value: 3.7239175154804336. Current best value is 3.652496599333934 with parameters: {'boosting': 'dart', 'num_leaves': 52, 'colsample_bytree': 0.5191735238184926, 'subsample': 0.7065089570119609, 'max_depth': 14, 'reg_alpha': 6.711134410430674, 'reg_lambda': 8.326484163217561, 'min_split_gain': 4.8119251276547015, 'min_child_weight': 16.846870875179626, 'min_data_in_leaf': 42, 'drop_rate': 2.0738098279406995e-07, 'skip_drop': 4.2836934976139055e-06}.\n"
     ]
    },
    {
     "name": "stdout",
     "output_type": "stream",
     "text": [
      "[100]\tcv_agg's rmse: 3.79146 + 0.00195143\n",
      "[200]\tcv_agg's rmse: 3.79357 + 0.00197451\n",
      "[300]\tcv_agg's rmse: 3.79704 + 0.00189713\n"
     ]
    },
    {
     "name": "stderr",
     "output_type": "stream",
     "text": [
      "[I 2019-02-02 07:33:05,656] Finished a trial resulted in value: 3.787810825874775. Current best value is 3.652496599333934 with parameters: {'boosting': 'dart', 'num_leaves': 52, 'colsample_bytree': 0.5191735238184926, 'subsample': 0.7065089570119609, 'max_depth': 14, 'reg_alpha': 6.711134410430674, 'reg_lambda': 8.326484163217561, 'min_split_gain': 4.8119251276547015, 'min_child_weight': 16.846870875179626, 'min_data_in_leaf': 42, 'drop_rate': 2.0738098279406995e-07, 'skip_drop': 4.2836934976139055e-06}.\n"
     ]
    },
    {
     "name": "stdout",
     "output_type": "stream",
     "text": [
      "[100]\tcv_agg's rmse: 3.72143 + 0.00367634\n",
      "[200]\tcv_agg's rmse: 3.69363 + 0.00609702\n",
      "[300]\tcv_agg's rmse: 3.67595 + 0.0074015\n",
      "[400]\tcv_agg's rmse: 3.6679 + 0.00819159\n",
      "[500]\tcv_agg's rmse: 3.66324 + 0.00870689\n",
      "[600]\tcv_agg's rmse: 3.65974 + 0.00912873\n",
      "[700]\tcv_agg's rmse: 3.65796 + 0.00949516\n",
      "[800]\tcv_agg's rmse: 3.6568 + 0.00995516\n",
      "[900]\tcv_agg's rmse: 3.65574 + 0.00971462\n",
      "[1000]\tcv_agg's rmse: 3.65521 + 0.00974435\n",
      "[1100]\tcv_agg's rmse: 3.65516 + 0.00990819\n",
      "[1200]\tcv_agg's rmse: 3.65493 + 0.00994458\n",
      "[1300]\tcv_agg's rmse: 3.65492 + 0.0100623\n",
      "[1400]\tcv_agg's rmse: 3.65482 + 0.0101948\n",
      "[1500]\tcv_agg's rmse: 3.65472 + 0.0102984\n",
      "[1600]\tcv_agg's rmse: 3.65463 + 0.0103036\n",
      "[1700]\tcv_agg's rmse: 3.65453 + 0.0103921\n",
      "[1800]\tcv_agg's rmse: 3.65447 + 0.0104878\n",
      "[1900]\tcv_agg's rmse: 3.65481 + 0.0105085\n"
     ]
    },
    {
     "name": "stderr",
     "output_type": "stream",
     "text": [
      "[I 2019-02-02 07:38:33,926] Finished a trial resulted in value: 3.6543925468438743. Current best value is 3.652496599333934 with parameters: {'boosting': 'dart', 'num_leaves': 52, 'colsample_bytree': 0.5191735238184926, 'subsample': 0.7065089570119609, 'max_depth': 14, 'reg_alpha': 6.711134410430674, 'reg_lambda': 8.326484163217561, 'min_split_gain': 4.8119251276547015, 'min_child_weight': 16.846870875179626, 'min_data_in_leaf': 42, 'drop_rate': 2.0738098279406995e-07, 'skip_drop': 4.2836934976139055e-06}.\n"
     ]
    },
    {
     "name": "stdout",
     "output_type": "stream",
     "text": [
      "[100]\tcv_agg's rmse: 3.71483 + 0.00446082\n",
      "[200]\tcv_agg's rmse: 3.68257 + 0.00677823\n",
      "[300]\tcv_agg's rmse: 3.67026 + 0.00790431\n",
      "[400]\tcv_agg's rmse: 3.66383 + 0.0093664\n",
      "[500]\tcv_agg's rmse: 3.66103 + 0.0100402\n",
      "[600]\tcv_agg's rmse: 3.65967 + 0.0105175\n",
      "[700]\tcv_agg's rmse: 3.65907 + 0.0105936\n",
      "[800]\tcv_agg's rmse: 3.65909 + 0.0104793\n",
      "[900]\tcv_agg's rmse: 3.65891 + 0.0103427\n",
      "[1000]\tcv_agg's rmse: 3.65896 + 0.0103342\n",
      "[1100]\tcv_agg's rmse: 3.6593 + 0.0103513\n"
     ]
    },
    {
     "name": "stderr",
     "output_type": "stream",
     "text": [
      "[I 2019-02-02 07:51:53,047] Finished a trial resulted in value: 3.6587784652418485. Current best value is 3.652496599333934 with parameters: {'boosting': 'dart', 'num_leaves': 52, 'colsample_bytree': 0.5191735238184926, 'subsample': 0.7065089570119609, 'max_depth': 14, 'reg_alpha': 6.711134410430674, 'reg_lambda': 8.326484163217561, 'min_split_gain': 4.8119251276547015, 'min_child_weight': 16.846870875179626, 'min_data_in_leaf': 42, 'drop_rate': 2.0738098279406995e-07, 'skip_drop': 4.2836934976139055e-06}.\n"
     ]
    },
    {
     "name": "stdout",
     "output_type": "stream",
     "text": [
      "[100]\tcv_agg's rmse: 3.71676 + 0.00432548\n",
      "[200]\tcv_agg's rmse: 3.69039 + 0.00700536\n",
      "[300]\tcv_agg's rmse: 3.67305 + 0.00799373\n",
      "[400]\tcv_agg's rmse: 3.66525 + 0.00824468\n",
      "[500]\tcv_agg's rmse: 3.66123 + 0.00897935\n",
      "[600]\tcv_agg's rmse: 3.65837 + 0.0092809\n",
      "[700]\tcv_agg's rmse: 3.6572 + 0.00951663\n",
      "[800]\tcv_agg's rmse: 3.65642 + 0.0094542\n",
      "[900]\tcv_agg's rmse: 3.65607 + 0.00936855\n",
      "[1000]\tcv_agg's rmse: 3.65574 + 0.00925886\n",
      "[1100]\tcv_agg's rmse: 3.65533 + 0.00918669\n",
      "[1200]\tcv_agg's rmse: 3.65535 + 0.00894841\n",
      "[1300]\tcv_agg's rmse: 3.65535 + 0.0090634\n"
     ]
    },
    {
     "name": "stderr",
     "output_type": "stream",
     "text": [
      "[I 2019-02-02 08:00:24,306] Finished a trial resulted in value: 3.655291147240997. Current best value is 3.652496599333934 with parameters: {'boosting': 'dart', 'num_leaves': 52, 'colsample_bytree': 0.5191735238184926, 'subsample': 0.7065089570119609, 'max_depth': 14, 'reg_alpha': 6.711134410430674, 'reg_lambda': 8.326484163217561, 'min_split_gain': 4.8119251276547015, 'min_child_weight': 16.846870875179626, 'min_data_in_leaf': 42, 'drop_rate': 2.0738098279406995e-07, 'skip_drop': 4.2836934976139055e-06}.\n"
     ]
    },
    {
     "name": "stdout",
     "output_type": "stream",
     "text": [
      "[100]\tcv_agg's rmse: 3.71637 + 0.00451386\n",
      "[200]\tcv_agg's rmse: 3.68284 + 0.00695768\n",
      "[300]\tcv_agg's rmse: 3.66973 + 0.00831752\n",
      "[400]\tcv_agg's rmse: 3.66233 + 0.00903518\n",
      "[500]\tcv_agg's rmse: 3.65828 + 0.00942896\n",
      "[600]\tcv_agg's rmse: 3.65564 + 0.0102964\n",
      "[700]\tcv_agg's rmse: 3.65404 + 0.010873\n",
      "[800]\tcv_agg's rmse: 3.65297 + 0.0109265\n",
      "[900]\tcv_agg's rmse: 3.65241 + 0.0107882\n",
      "[1000]\tcv_agg's rmse: 3.65215 + 0.0108255\n",
      "[1100]\tcv_agg's rmse: 3.65201 + 0.0107028\n",
      "[1200]\tcv_agg's rmse: 3.65203 + 0.0105838\n",
      "[1300]\tcv_agg's rmse: 3.65222 + 0.0106646\n"
     ]
    },
    {
     "name": "stderr",
     "output_type": "stream",
     "text": [
      "[I 2019-02-02 08:07:11,011] Finished a trial resulted in value: 3.6518890945794835. Current best value is 3.6518890945794835 with parameters: {'boosting': 'gbdt', 'num_leaves': 50, 'colsample_bytree': 0.39792452243095733, 'subsample': 0.29573158781683073, 'max_depth': 10, 'reg_alpha': 8.000722361758031, 'reg_lambda': 4.072165969773259, 'min_split_gain': 6.6078505178593785, 'min_child_weight': 19.51139397412711, 'min_data_in_leaf': 16}.\n"
     ]
    },
    {
     "name": "stdout",
     "output_type": "stream",
     "text": [
      "[100]\tcv_agg's rmse: 3.72103 + 0.00425835\n",
      "[200]\tcv_agg's rmse: 3.68879 + 0.00670955\n",
      "[300]\tcv_agg's rmse: 3.67558 + 0.00749373\n",
      "[400]\tcv_agg's rmse: 3.66746 + 0.00796555\n",
      "[500]\tcv_agg's rmse: 3.6626 + 0.0083886\n",
      "[600]\tcv_agg's rmse: 3.65908 + 0.008579\n",
      "[700]\tcv_agg's rmse: 3.65705 + 0.0091864\n",
      "[800]\tcv_agg's rmse: 3.65591 + 0.00965865\n",
      "[900]\tcv_agg's rmse: 3.65499 + 0.00996819\n",
      "[1000]\tcv_agg's rmse: 3.65443 + 0.0099638\n",
      "[1100]\tcv_agg's rmse: 3.65396 + 0.0099685\n",
      "[1200]\tcv_agg's rmse: 3.65368 + 0.0099773\n",
      "[1300]\tcv_agg's rmse: 3.65363 + 0.00998729\n",
      "[1400]\tcv_agg's rmse: 3.65357 + 0.0098766\n",
      "[1500]\tcv_agg's rmse: 3.65333 + 0.00955798\n",
      "[1600]\tcv_agg's rmse: 3.65337 + 0.00939801\n",
      "[1700]\tcv_agg's rmse: 3.65331 + 0.00938187\n",
      "[1800]\tcv_agg's rmse: 3.65333 + 0.00917102\n",
      "[1900]\tcv_agg's rmse: 3.65331 + 0.00928889\n",
      "[2000]\tcv_agg's rmse: 3.65326 + 0.00909973\n",
      "[2100]\tcv_agg's rmse: 3.65349 + 0.00898927\n"
     ]
    },
    {
     "name": "stderr",
     "output_type": "stream",
     "text": [
      "[I 2019-02-02 08:14:46,313] Finished a trial resulted in value: 3.653202340230635. Current best value is 3.6518890945794835 with parameters: {'boosting': 'gbdt', 'num_leaves': 50, 'colsample_bytree': 0.39792452243095733, 'subsample': 0.29573158781683073, 'max_depth': 10, 'reg_alpha': 8.000722361758031, 'reg_lambda': 4.072165969773259, 'min_split_gain': 6.6078505178593785, 'min_child_weight': 19.51139397412711, 'min_data_in_leaf': 16}.\n"
     ]
    },
    {
     "name": "stdout",
     "output_type": "stream",
     "text": [
      "[100]\tcv_agg's rmse: 3.76166 + 0.00327094\n",
      "[200]\tcv_agg's rmse: 3.72289 + 0.00443058\n",
      "[300]\tcv_agg's rmse: 3.70411 + 0.00551885\n",
      "[400]\tcv_agg's rmse: 3.69371 + 0.0060669\n",
      "[500]\tcv_agg's rmse: 3.68694 + 0.00670833\n",
      "[600]\tcv_agg's rmse: 3.68248 + 0.00750879\n",
      "[700]\tcv_agg's rmse: 3.6791 + 0.00809003\n",
      "[800]\tcv_agg's rmse: 3.67657 + 0.00825644\n",
      "[900]\tcv_agg's rmse: 3.67456 + 0.00843077\n",
      "[1000]\tcv_agg's rmse: 3.67276 + 0.00875495\n",
      "[1100]\tcv_agg's rmse: 3.67142 + 0.0088809\n",
      "[1200]\tcv_agg's rmse: 3.6703 + 0.00908118\n",
      "[1300]\tcv_agg's rmse: 3.66964 + 0.00919492\n",
      "[1400]\tcv_agg's rmse: 3.66907 + 0.00933137\n",
      "[1500]\tcv_agg's rmse: 3.66815 + 0.00930421\n",
      "[1600]\tcv_agg's rmse: 3.66736 + 0.00926053\n",
      "[1700]\tcv_agg's rmse: 3.66698 + 0.00928583\n",
      "[1800]\tcv_agg's rmse: 3.66658 + 0.00930923\n",
      "[1900]\tcv_agg's rmse: 3.66609 + 0.00929492\n",
      "[2000]\tcv_agg's rmse: 3.66582 + 0.00942457\n",
      "[2100]\tcv_agg's rmse: 3.66557 + 0.00949186\n",
      "[2200]\tcv_agg's rmse: 3.66544 + 0.00950447\n",
      "[2300]\tcv_agg's rmse: 3.66514 + 0.00957528\n",
      "[2400]\tcv_agg's rmse: 3.66482 + 0.00960103\n",
      "[2500]\tcv_agg's rmse: 3.66467 + 0.00950708\n",
      "[2600]\tcv_agg's rmse: 3.66459 + 0.009468\n",
      "[2700]\tcv_agg's rmse: 3.66451 + 0.00941421\n",
      "[2800]\tcv_agg's rmse: 3.66445 + 0.0094677\n",
      "[2900]\tcv_agg's rmse: 3.66449 + 0.00947559\n",
      "[3000]\tcv_agg's rmse: 3.6644 + 0.00941024\n",
      "[3100]\tcv_agg's rmse: 3.6645 + 0.00948369\n"
     ]
    },
    {
     "name": "stderr",
     "output_type": "stream",
     "text": [
      "[I 2019-02-02 08:17:47,690] Finished a trial resulted in value: 3.664332102334005. Current best value is 3.6518890945794835 with parameters: {'boosting': 'gbdt', 'num_leaves': 50, 'colsample_bytree': 0.39792452243095733, 'subsample': 0.29573158781683073, 'max_depth': 10, 'reg_alpha': 8.000722361758031, 'reg_lambda': 4.072165969773259, 'min_split_gain': 6.6078505178593785, 'min_child_weight': 19.51139397412711, 'min_data_in_leaf': 16}.\n"
     ]
    },
    {
     "name": "stdout",
     "output_type": "stream",
     "text": [
      "[100]\tcv_agg's rmse: 3.71531 + 0.00469353\n",
      "[200]\tcv_agg's rmse: 3.6818 + 0.00767052\n",
      "[300]\tcv_agg's rmse: 3.66968 + 0.00851424\n",
      "[400]\tcv_agg's rmse: 3.66263 + 0.00906529\n",
      "[500]\tcv_agg's rmse: 3.65848 + 0.00915819\n",
      "[600]\tcv_agg's rmse: 3.65589 + 0.00955791\n",
      "[700]\tcv_agg's rmse: 3.65459 + 0.00990903\n",
      "[800]\tcv_agg's rmse: 3.6539 + 0.00977335\n",
      "[900]\tcv_agg's rmse: 3.65364 + 0.00990961\n",
      "[1000]\tcv_agg's rmse: 3.6535 + 0.00997508\n",
      "[1100]\tcv_agg's rmse: 3.65343 + 0.0100675\n",
      "[1200]\tcv_agg's rmse: 3.65355 + 0.0100964\n"
     ]
    },
    {
     "name": "stderr",
     "output_type": "stream",
     "text": [
      "[I 2019-02-02 08:25:34,746] Finished a trial resulted in value: 3.6533988015757486. Current best value is 3.6518890945794835 with parameters: {'boosting': 'gbdt', 'num_leaves': 50, 'colsample_bytree': 0.39792452243095733, 'subsample': 0.29573158781683073, 'max_depth': 10, 'reg_alpha': 8.000722361758031, 'reg_lambda': 4.072165969773259, 'min_split_gain': 6.6078505178593785, 'min_child_weight': 19.51139397412711, 'min_data_in_leaf': 16}.\n"
     ]
    },
    {
     "name": "stdout",
     "output_type": "stream",
     "text": [
      "[100]\tcv_agg's rmse: 3.72442 + 0.00358684\n",
      "[200]\tcv_agg's rmse: 3.68987 + 0.00579891\n",
      "[300]\tcv_agg's rmse: 3.67559 + 0.00699937\n",
      "[400]\tcv_agg's rmse: 3.66813 + 0.0080475\n",
      "[500]\tcv_agg's rmse: 3.66336 + 0.00841729\n",
      "[600]\tcv_agg's rmse: 3.66033 + 0.00852948\n",
      "[700]\tcv_agg's rmse: 3.6583 + 0.00899604\n",
      "[800]\tcv_agg's rmse: 3.65682 + 0.00921005\n",
      "[900]\tcv_agg's rmse: 3.65589 + 0.00945587\n",
      "[1000]\tcv_agg's rmse: 3.65537 + 0.00952764\n",
      "[1100]\tcv_agg's rmse: 3.65484 + 0.00942723\n",
      "[1200]\tcv_agg's rmse: 3.65422 + 0.00942929\n",
      "[1300]\tcv_agg's rmse: 3.6542 + 0.0094528\n",
      "[1400]\tcv_agg's rmse: 3.65398 + 0.00953502\n",
      "[1500]\tcv_agg's rmse: 3.65387 + 0.00943774\n",
      "[1600]\tcv_agg's rmse: 3.65375 + 0.00943077\n",
      "[1700]\tcv_agg's rmse: 3.65379 + 0.00928672\n"
     ]
    },
    {
     "name": "stderr",
     "output_type": "stream",
     "text": [
      "[I 2019-02-02 08:29:35,941] Finished a trial resulted in value: 3.653729466416672. Current best value is 3.6518890945794835 with parameters: {'boosting': 'gbdt', 'num_leaves': 50, 'colsample_bytree': 0.39792452243095733, 'subsample': 0.29573158781683073, 'max_depth': 10, 'reg_alpha': 8.000722361758031, 'reg_lambda': 4.072165969773259, 'min_split_gain': 6.6078505178593785, 'min_child_weight': 19.51139397412711, 'min_data_in_leaf': 16}.\n"
     ]
    },
    {
     "name": "stdout",
     "output_type": "stream",
     "text": [
      "[100]\tcv_agg's rmse: 3.71541 + 0.00528113\n",
      "[200]\tcv_agg's rmse: 9.44562e+08 + 1.88508e+09\n",
      "[300]\tcv_agg's rmse: 3.52528e+08 + 7.03536e+08\n"
     ]
    },
    {
     "name": "stderr",
     "output_type": "stream",
     "text": [
      "[I 2019-02-02 08:31:54,409] Finished a trial resulted in value: 3.7154125308644965. Current best value is 3.6518890945794835 with parameters: {'boosting': 'gbdt', 'num_leaves': 50, 'colsample_bytree': 0.39792452243095733, 'subsample': 0.29573158781683073, 'max_depth': 10, 'reg_alpha': 8.000722361758031, 'reg_lambda': 4.072165969773259, 'min_split_gain': 6.6078505178593785, 'min_child_weight': 19.51139397412711, 'min_data_in_leaf': 16}.\n"
     ]
    },
    {
     "name": "stdout",
     "output_type": "stream",
     "text": [
      "[100]\tcv_agg's rmse: 3.71546 + 0.00427934\n",
      "[200]\tcv_agg's rmse: 3.6816 + 0.0068843\n",
      "[300]\tcv_agg's rmse: 3.66911 + 0.00809781\n",
      "[400]\tcv_agg's rmse: 3.66171 + 0.00897517\n",
      "[500]\tcv_agg's rmse: 3.65779 + 0.00928348\n",
      "[600]\tcv_agg's rmse: 3.65547 + 0.00965291\n",
      "[700]\tcv_agg's rmse: 3.65399 + 0.00998501\n",
      "[800]\tcv_agg's rmse: 3.65333 + 0.0099443\n",
      "[900]\tcv_agg's rmse: 3.65275 + 0.00997155\n",
      "[1000]\tcv_agg's rmse: 3.65251 + 0.010019\n",
      "[1100]\tcv_agg's rmse: 3.65242 + 0.00991273\n",
      "[1200]\tcv_agg's rmse: 3.65253 + 0.00968567\n"
     ]
    },
    {
     "name": "stderr",
     "output_type": "stream",
     "text": [
      "[I 2019-02-02 08:37:00,481] Finished a trial resulted in value: 3.6523597968230215. Current best value is 3.6518890945794835 with parameters: {'boosting': 'gbdt', 'num_leaves': 50, 'colsample_bytree': 0.39792452243095733, 'subsample': 0.29573158781683073, 'max_depth': 10, 'reg_alpha': 8.000722361758031, 'reg_lambda': 4.072165969773259, 'min_split_gain': 6.6078505178593785, 'min_child_weight': 19.51139397412711, 'min_data_in_leaf': 16}.\n"
     ]
    },
    {
     "name": "stdout",
     "output_type": "stream",
     "text": [
      "[100]\tcv_agg's rmse: 3.71616 + 0.0043251\n",
      "[200]\tcv_agg's rmse: 3.68114 + 0.00651241\n",
      "[300]\tcv_agg's rmse: 3.66806 + 0.00774649\n",
      "[400]\tcv_agg's rmse: 3.66095 + 0.00854057\n",
      "[500]\tcv_agg's rmse: 3.65705 + 0.00882876\n",
      "[600]\tcv_agg's rmse: 3.65439 + 0.00933053\n",
      "[700]\tcv_agg's rmse: 3.65271 + 0.00958\n",
      "[800]\tcv_agg's rmse: 3.65169 + 0.00978647\n",
      "[900]\tcv_agg's rmse: 3.65116 + 0.00985719\n",
      "[1000]\tcv_agg's rmse: 3.65072 + 0.00979647\n",
      "[1100]\tcv_agg's rmse: 3.65069 + 0.00974299\n",
      "[1200]\tcv_agg's rmse: 3.65067 + 0.00985807\n",
      "[1300]\tcv_agg's rmse: 3.65077 + 0.00975845\n"
     ]
    },
    {
     "name": "stderr",
     "output_type": "stream",
     "text": [
      "[I 2019-02-02 08:41:11,208] Finished a trial resulted in value: 3.650602232094287. Current best value is 3.650602232094287 with parameters: {'boosting': 'gbdt', 'num_leaves': 37, 'colsample_bytree': 0.26804471882757575, 'subsample': 0.3768217287703351, 'max_depth': 7, 'reg_alpha': 7.459874577878074, 'reg_lambda': 4.860324871556686, 'min_split_gain': 9.337530908262977, 'min_child_weight': 29.552825355131, 'min_data_in_leaf': 59}.\n"
     ]
    },
    {
     "name": "stdout",
     "output_type": "stream",
     "text": [
      "[100]\tcv_agg's rmse: 3.72222 + 0.004549\n",
      "[200]\tcv_agg's rmse: 3.68657 + 0.0068688\n",
      "[300]\tcv_agg's rmse: 3.6731 + 0.0077874\n",
      "[400]\tcv_agg's rmse: 3.66611 + 0.00833264\n",
      "[500]\tcv_agg's rmse: 3.66171 + 0.00887804\n",
      "[600]\tcv_agg's rmse: 3.65816 + 0.00946653\n",
      "[700]\tcv_agg's rmse: 3.65576 + 0.00979887\n",
      "[800]\tcv_agg's rmse: 3.65408 + 0.00995946\n",
      "[900]\tcv_agg's rmse: 3.65315 + 0.0100159\n",
      "[1000]\tcv_agg's rmse: 3.65249 + 0.00993737\n",
      "[1100]\tcv_agg's rmse: 3.65196 + 0.0100684\n",
      "[1200]\tcv_agg's rmse: 3.65147 + 0.0100935\n",
      "[1300]\tcv_agg's rmse: 3.65111 + 0.010138\n",
      "[1400]\tcv_agg's rmse: 3.65093 + 0.0100764\n",
      "[1500]\tcv_agg's rmse: 3.65088 + 0.0101965\n",
      "[1600]\tcv_agg's rmse: 3.65076 + 0.010095\n",
      "[1700]\tcv_agg's rmse: 3.65073 + 0.0100467\n",
      "[1800]\tcv_agg's rmse: 3.65063 + 0.00991205\n",
      "[1900]\tcv_agg's rmse: 3.65064 + 0.00982719\n",
      "[2000]\tcv_agg's rmse: 3.65062 + 0.00968917\n"
     ]
    },
    {
     "name": "stderr",
     "output_type": "stream",
     "text": [
      "[I 2019-02-02 08:45:02,006] Finished a trial resulted in value: 3.6505968609190043. Current best value is 3.6505968609190043 with parameters: {'boosting': 'gbdt', 'num_leaves': 34, 'colsample_bytree': 0.2006306504685208, 'subsample': 0.21478233470789235, 'max_depth': 5, 'reg_alpha': 7.850290046466958, 'reg_lambda': 4.975298639299814, 'min_split_gain': 9.936251092767844, 'min_child_weight': 35.39828393182278, 'min_data_in_leaf': 58}.\n"
     ]
    },
    {
     "name": "stdout",
     "output_type": "stream",
     "text": [
      "[100]\tcv_agg's rmse: 3.82224 + 0.00330569\n",
      "[200]\tcv_agg's rmse: 3.80362 + 0.00351244\n",
      "[300]\tcv_agg's rmse: 3.79007 + 0.00366654\n",
      "[400]\tcv_agg's rmse: 3.77845 + 0.0039653\n",
      "[500]\tcv_agg's rmse: 3.7688 + 0.00417507\n",
      "[600]\tcv_agg's rmse: 3.76152 + 0.0043635\n",
      "[700]\tcv_agg's rmse: 3.75521 + 0.00464567\n",
      "[800]\tcv_agg's rmse: 3.7487 + 0.00494938\n",
      "[900]\tcv_agg's rmse: 3.74393 + 0.00513038\n",
      "[1000]\tcv_agg's rmse: 3.73953 + 0.00529614\n",
      "[1100]\tcv_agg's rmse: 3.73604 + 0.00545862\n",
      "[1200]\tcv_agg's rmse: 3.7322 + 0.00565515\n",
      "[1300]\tcv_agg's rmse: 3.72985 + 0.00594796\n",
      "[1400]\tcv_agg's rmse: 3.72735 + 0.00612733\n",
      "[1500]\tcv_agg's rmse: 3.72509 + 0.00626827\n",
      "[1600]\tcv_agg's rmse: 3.7231 + 0.00637976\n",
      "[1700]\tcv_agg's rmse: 3.72132 + 0.00646212\n",
      "[1800]\tcv_agg's rmse: 3.71947 + 0.00664873\n",
      "[1900]\tcv_agg's rmse: 3.71806 + 0.00688792\n",
      "[2000]\tcv_agg's rmse: 3.71646 + 0.00701157\n",
      "[2100]\tcv_agg's rmse: 3.7152 + 0.00714917\n",
      "[2200]\tcv_agg's rmse: 3.71382 + 0.00723291\n",
      "[2300]\tcv_agg's rmse: 3.71258 + 0.00727897\n",
      "[2400]\tcv_agg's rmse: 3.71171 + 0.00734176\n",
      "[2500]\tcv_agg's rmse: 3.71076 + 0.00739535\n",
      "[2600]\tcv_agg's rmse: 3.70987 + 0.00746445\n",
      "[2700]\tcv_agg's rmse: 3.70908 + 0.00752441\n",
      "[2800]\tcv_agg's rmse: 3.70812 + 0.00755542\n",
      "[2900]\tcv_agg's rmse: 3.70709 + 0.00758247\n",
      "[3000]\tcv_agg's rmse: 3.70645 + 0.00766334\n",
      "[3100]\tcv_agg's rmse: 3.70564 + 0.00773042\n",
      "[3200]\tcv_agg's rmse: 3.70487 + 0.00773617\n",
      "[3300]\tcv_agg's rmse: 3.70401 + 0.00774144\n",
      "[3400]\tcv_agg's rmse: 3.70359 + 0.00776802\n",
      "[3500]\tcv_agg's rmse: 3.70258 + 0.00777234\n",
      "[3600]\tcv_agg's rmse: 3.7021 + 0.00772764\n",
      "[3700]\tcv_agg's rmse: 3.70144 + 0.00772475\n",
      "[3800]\tcv_agg's rmse: 3.70103 + 0.00771991\n",
      "[3900]\tcv_agg's rmse: 3.70074 + 0.0077394\n",
      "[4000]\tcv_agg's rmse: 3.69997 + 0.00783077\n",
      "[4100]\tcv_agg's rmse: 3.69949 + 0.00794901\n",
      "[4200]\tcv_agg's rmse: 3.69913 + 0.00800094\n",
      "[4300]\tcv_agg's rmse: 3.69868 + 0.00800454\n",
      "[4400]\tcv_agg's rmse: 3.69815 + 0.00808664\n",
      "[4500]\tcv_agg's rmse: 3.69775 + 0.00813239\n",
      "[4600]\tcv_agg's rmse: 3.69746 + 0.00817767\n",
      "[4700]\tcv_agg's rmse: 3.69714 + 0.00818332\n",
      "[4800]\tcv_agg's rmse: 3.69695 + 0.00817708\n",
      "[4900]\tcv_agg's rmse: 3.6967 + 0.00820259\n",
      "[5000]\tcv_agg's rmse: 3.69633 + 0.00826889\n",
      "[5100]\tcv_agg's rmse: 3.69606 + 0.00825793\n",
      "[5200]\tcv_agg's rmse: 3.69591 + 0.00828039\n",
      "[5300]\tcv_agg's rmse: 3.69556 + 0.00828664\n",
      "[5400]\tcv_agg's rmse: 3.69518 + 0.00834611\n",
      "[5500]\tcv_agg's rmse: 3.69484 + 0.00841342\n",
      "[5600]\tcv_agg's rmse: 3.69455 + 0.00843994\n",
      "[5700]\tcv_agg's rmse: 3.69442 + 0.00838402\n",
      "[5800]\tcv_agg's rmse: 3.69428 + 0.00842204\n",
      "[5900]\tcv_agg's rmse: 3.69408 + 0.0084815\n",
      "[6000]\tcv_agg's rmse: 3.69391 + 0.00846124\n",
      "[6100]\tcv_agg's rmse: 3.69368 + 0.00847333\n",
      "[6200]\tcv_agg's rmse: 3.69338 + 0.00851472\n",
      "[6300]\tcv_agg's rmse: 3.69316 + 0.00846463\n",
      "[6400]\tcv_agg's rmse: 3.69288 + 0.0085119\n",
      "[6500]\tcv_agg's rmse: 3.69265 + 0.00852518\n",
      "[6600]\tcv_agg's rmse: 3.6924 + 0.00853136\n",
      "[6700]\tcv_agg's rmse: 3.69223 + 0.00858743\n",
      "[6800]\tcv_agg's rmse: 3.69211 + 0.00857457\n",
      "[6900]\tcv_agg's rmse: 3.69208 + 0.00858717\n",
      "[7000]\tcv_agg's rmse: 3.69194 + 0.00862806\n",
      "[7100]\tcv_agg's rmse: 3.69173 + 0.00865561\n",
      "[7200]\tcv_agg's rmse: 3.69165 + 0.0086884\n",
      "[7300]\tcv_agg's rmse: 3.69155 + 0.00871879\n",
      "[7400]\tcv_agg's rmse: 3.6914 + 0.00875608\n",
      "[7500]\tcv_agg's rmse: 3.69121 + 0.00875522\n",
      "[7600]\tcv_agg's rmse: 3.69114 + 0.00871191\n",
      "[7700]\tcv_agg's rmse: 3.69093 + 0.00872691\n",
      "[7800]\tcv_agg's rmse: 3.69085 + 0.00869639\n",
      "[7900]\tcv_agg's rmse: 3.69079 + 0.00871812\n",
      "[8000]\tcv_agg's rmse: 3.69072 + 0.00871215\n",
      "[8100]\tcv_agg's rmse: 3.69057 + 0.00875821\n",
      "[8200]\tcv_agg's rmse: 3.69058 + 0.00874767\n",
      "[8300]\tcv_agg's rmse: 3.69045 + 0.00878517\n",
      "[8400]\tcv_agg's rmse: 3.69041 + 0.00880089\n",
      "[8500]\tcv_agg's rmse: 3.69032 + 0.00880721\n",
      "[8600]\tcv_agg's rmse: 3.69018 + 0.00880695\n",
      "[8700]\tcv_agg's rmse: 3.69014 + 0.00874145\n",
      "[8800]\tcv_agg's rmse: 3.69018 + 0.00873616\n"
     ]
    },
    {
     "name": "stderr",
     "output_type": "stream",
     "text": [
      "[I 2019-02-02 08:49:59,780] Finished a trial resulted in value: 3.6901356816236928. Current best value is 3.6505968609190043 with parameters: {'boosting': 'gbdt', 'num_leaves': 34, 'colsample_bytree': 0.2006306504685208, 'subsample': 0.21478233470789235, 'max_depth': 5, 'reg_alpha': 7.850290046466958, 'reg_lambda': 4.975298639299814, 'min_split_gain': 9.936251092767844, 'min_child_weight': 35.39828393182278, 'min_data_in_leaf': 58}.\n"
     ]
    },
    {
     "name": "stdout",
     "output_type": "stream",
     "text": [
      "[100]\tcv_agg's rmse: 3.72319 + 0.00462182\n",
      "[200]\tcv_agg's rmse: 3.68721 + 0.00712722\n",
      "[300]\tcv_agg's rmse: 3.67387 + 0.00792113\n",
      "[400]\tcv_agg's rmse: 3.66674 + 0.00841323\n",
      "[500]\tcv_agg's rmse: 3.6622 + 0.00902144\n",
      "[600]\tcv_agg's rmse: 3.65877 + 0.00942874\n",
      "[700]\tcv_agg's rmse: 3.65644 + 0.00958483\n",
      "[800]\tcv_agg's rmse: 3.65489 + 0.00991904\n",
      "[900]\tcv_agg's rmse: 3.65381 + 0.0100175\n",
      "[1000]\tcv_agg's rmse: 3.65312 + 0.00994897\n",
      "[1100]\tcv_agg's rmse: 3.65256 + 0.0100173\n",
      "[1200]\tcv_agg's rmse: 3.65208 + 0.0100997\n",
      "[1300]\tcv_agg's rmse: 3.65174 + 0.0101596\n",
      "[1400]\tcv_agg's rmse: 3.65156 + 0.0101733\n",
      "[1500]\tcv_agg's rmse: 3.65138 + 0.0102157\n",
      "[1600]\tcv_agg's rmse: 3.6513 + 0.0101814\n",
      "[1700]\tcv_agg's rmse: 3.65129 + 0.0100153\n",
      "[1800]\tcv_agg's rmse: 3.6512 + 0.00995853\n",
      "[1900]\tcv_agg's rmse: 3.65128 + 0.00990374\n"
     ]
    },
    {
     "name": "stderr",
     "output_type": "stream",
     "text": [
      "[I 2019-02-02 08:53:51,613] Finished a trial resulted in value: 3.6511575553612703. Current best value is 3.6505968609190043 with parameters: {'boosting': 'gbdt', 'num_leaves': 34, 'colsample_bytree': 0.2006306504685208, 'subsample': 0.21478233470789235, 'max_depth': 5, 'reg_alpha': 7.850290046466958, 'reg_lambda': 4.975298639299814, 'min_split_gain': 9.936251092767844, 'min_child_weight': 35.39828393182278, 'min_data_in_leaf': 58}.\n"
     ]
    },
    {
     "name": "stdout",
     "output_type": "stream",
     "text": [
      "[100]\tcv_agg's rmse: 3.72676 + 0.00404711\n",
      "[200]\tcv_agg's rmse: 3.69139 + 0.00575162\n",
      "[300]\tcv_agg's rmse: 3.67671 + 0.00694027\n",
      "[400]\tcv_agg's rmse: 3.66902 + 0.00724918\n",
      "[500]\tcv_agg's rmse: 3.66454 + 0.00730525\n",
      "[600]\tcv_agg's rmse: 3.66143 + 0.00777261\n",
      "[700]\tcv_agg's rmse: 3.65903 + 0.00792526\n",
      "[800]\tcv_agg's rmse: 3.6574 + 0.00808449\n",
      "[900]\tcv_agg's rmse: 3.65632 + 0.00817512\n",
      "[1000]\tcv_agg's rmse: 3.65542 + 0.00823344\n",
      "[1100]\tcv_agg's rmse: 3.65429 + 0.00850322\n",
      "[1200]\tcv_agg's rmse: 3.6538 + 0.00839925\n",
      "[1300]\tcv_agg's rmse: 3.65332 + 0.00828403\n",
      "[1400]\tcv_agg's rmse: 3.65266 + 0.0083142\n",
      "[1500]\tcv_agg's rmse: 3.65253 + 0.00828088\n",
      "[1600]\tcv_agg's rmse: 3.65234 + 0.00827541\n",
      "[1700]\tcv_agg's rmse: 3.65212 + 0.00826788\n",
      "[1800]\tcv_agg's rmse: 3.65191 + 0.00812968\n",
      "[1900]\tcv_agg's rmse: 3.65204 + 0.00812945\n"
     ]
    },
    {
     "name": "stderr",
     "output_type": "stream",
     "text": [
      "[I 2019-02-02 08:57:00,406] Finished a trial resulted in value: 3.6519092123593184. Current best value is 3.6505968609190043 with parameters: {'boosting': 'gbdt', 'num_leaves': 34, 'colsample_bytree': 0.2006306504685208, 'subsample': 0.21478233470789235, 'max_depth': 5, 'reg_alpha': 7.850290046466958, 'reg_lambda': 4.975298639299814, 'min_split_gain': 9.936251092767844, 'min_child_weight': 35.39828393182278, 'min_data_in_leaf': 58}.\n"
     ]
    },
    {
     "name": "stdout",
     "output_type": "stream",
     "text": [
      "[100]\tcv_agg's rmse: 3.71778 + 0.00478142\n",
      "[200]\tcv_agg's rmse: 3.68319 + 0.00730548\n",
      "[300]\tcv_agg's rmse: 3.67052 + 0.00824958\n",
      "[400]\tcv_agg's rmse: 3.66347 + 0.00855841\n",
      "[500]\tcv_agg's rmse: 3.65944 + 0.00915963\n",
      "[600]\tcv_agg's rmse: 3.65661 + 0.00947155\n",
      "[700]\tcv_agg's rmse: 3.65482 + 0.00980306\n",
      "[800]\tcv_agg's rmse: 3.6537 + 0.00997882\n",
      "[900]\tcv_agg's rmse: 3.65294 + 0.00999387\n",
      "[1000]\tcv_agg's rmse: 3.65259 + 0.00988052\n",
      "[1100]\tcv_agg's rmse: 3.6521 + 0.00989589\n",
      "[1200]\tcv_agg's rmse: 3.65189 + 0.00991813\n",
      "[1300]\tcv_agg's rmse: 3.65154 + 0.00985031\n",
      "[1400]\tcv_agg's rmse: 3.65143 + 0.0098218\n",
      "[1500]\tcv_agg's rmse: 3.65136 + 0.00979361\n",
      "[1600]\tcv_agg's rmse: 3.65122 + 0.00973183\n",
      "[1700]\tcv_agg's rmse: 3.65129 + 0.00973727\n",
      "[1800]\tcv_agg's rmse: 3.65129 + 0.00964776\n"
     ]
    },
    {
     "name": "stderr",
     "output_type": "stream",
     "text": [
      "[I 2019-02-02 09:02:03,234] Finished a trial resulted in value: 3.6511986438349466. Current best value is 3.6505968609190043 with parameters: {'boosting': 'gbdt', 'num_leaves': 34, 'colsample_bytree': 0.2006306504685208, 'subsample': 0.21478233470789235, 'max_depth': 5, 'reg_alpha': 7.850290046466958, 'reg_lambda': 4.975298639299814, 'min_split_gain': 9.936251092767844, 'min_child_weight': 35.39828393182278, 'min_data_in_leaf': 58}.\n"
     ]
    },
    {
     "name": "stdout",
     "output_type": "stream",
     "text": [
      "[100]\tcv_agg's rmse: 3.74719 + 0.00341028\n",
      "[200]\tcv_agg's rmse: 3.70768 + 0.00537514\n",
      "[300]\tcv_agg's rmse: 3.69018 + 0.00673414\n",
      "[400]\tcv_agg's rmse: 3.68149 + 0.00750634\n",
      "[500]\tcv_agg's rmse: 3.67583 + 0.00811916\n",
      "[600]\tcv_agg's rmse: 3.67154 + 0.0085126\n",
      "[700]\tcv_agg's rmse: 3.66854 + 0.00886271\n",
      "[800]\tcv_agg's rmse: 3.66608 + 0.0089452\n",
      "[900]\tcv_agg's rmse: 3.6641 + 0.00912909\n",
      "[1000]\tcv_agg's rmse: 3.66278 + 0.00911295\n",
      "[1100]\tcv_agg's rmse: 3.66177 + 0.0091604\n",
      "[1200]\tcv_agg's rmse: 3.66095 + 0.00914936\n",
      "[1300]\tcv_agg's rmse: 3.66005 + 0.00946055\n",
      "[1400]\tcv_agg's rmse: 3.65966 + 0.00950879\n",
      "[1500]\tcv_agg's rmse: 3.65915 + 0.00964763\n",
      "[1600]\tcv_agg's rmse: 3.65882 + 0.0096863\n",
      "[1700]\tcv_agg's rmse: 3.65851 + 0.00985466\n",
      "[1800]\tcv_agg's rmse: 3.6582 + 0.00993762\n",
      "[1900]\tcv_agg's rmse: 3.65797 + 0.00984769\n",
      "[2000]\tcv_agg's rmse: 3.65782 + 0.00987935\n",
      "[2100]\tcv_agg's rmse: 3.65782 + 0.00997123\n",
      "[2200]\tcv_agg's rmse: 3.65771 + 0.00989475\n",
      "[2300]\tcv_agg's rmse: 3.65761 + 0.00987905\n",
      "[2400]\tcv_agg's rmse: 3.65748 + 0.00982116\n",
      "[2500]\tcv_agg's rmse: 3.65741 + 0.00981233\n",
      "[2600]\tcv_agg's rmse: 3.65747 + 0.00975899\n"
     ]
    },
    {
     "name": "stderr",
     "output_type": "stream",
     "text": [
      "[I 2019-02-02 09:04:54,898] Finished a trial resulted in value: 3.657368036850748. Current best value is 3.6505968609190043 with parameters: {'boosting': 'gbdt', 'num_leaves': 34, 'colsample_bytree': 0.2006306504685208, 'subsample': 0.21478233470789235, 'max_depth': 5, 'reg_alpha': 7.850290046466958, 'reg_lambda': 4.975298639299814, 'min_split_gain': 9.936251092767844, 'min_child_weight': 35.39828393182278, 'min_data_in_leaf': 58}.\n"
     ]
    },
    {
     "name": "stdout",
     "output_type": "stream",
     "text": [
      "[100]\tcv_agg's rmse: 3.71825 + 0.00402405\n",
      "[200]\tcv_agg's rmse: 3.68289 + 0.00658105\n",
      "[300]\tcv_agg's rmse: 3.66966 + 0.00780473\n",
      "[400]\tcv_agg's rmse: 3.66272 + 0.0085934\n",
      "[500]\tcv_agg's rmse: 3.65857 + 0.00871818\n",
      "[600]\tcv_agg's rmse: 3.65566 + 0.00928849\n",
      "[700]\tcv_agg's rmse: 3.6539 + 0.00939869\n",
      "[800]\tcv_agg's rmse: 3.65268 + 0.00939133\n",
      "[900]\tcv_agg's rmse: 3.65165 + 0.00949728\n",
      "[1000]\tcv_agg's rmse: 3.65121 + 0.00943082\n",
      "[1100]\tcv_agg's rmse: 3.65098 + 0.0094221\n",
      "[1200]\tcv_agg's rmse: 3.65083 + 0.00933984\n",
      "[1300]\tcv_agg's rmse: 3.65089 + 0.00929391\n"
     ]
    },
    {
     "name": "stderr",
     "output_type": "stream",
     "text": [
      "[I 2019-02-02 09:08:24,288] Finished a trial resulted in value: 3.650806001731014. Current best value is 3.6505968609190043 with parameters: {'boosting': 'gbdt', 'num_leaves': 34, 'colsample_bytree': 0.2006306504685208, 'subsample': 0.21478233470789235, 'max_depth': 5, 'reg_alpha': 7.850290046466958, 'reg_lambda': 4.975298639299814, 'min_split_gain': 9.936251092767844, 'min_child_weight': 35.39828393182278, 'min_data_in_leaf': 58}.\n"
     ]
    },
    {
     "name": "stdout",
     "output_type": "stream",
     "text": [
      "[100]\tcv_agg's rmse: 3.71988 + 0.00432019\n",
      "[200]\tcv_agg's rmse: 2.59221e+20 + 5.18442e+20\n",
      "[300]\tcv_agg's rmse: 1.14295e+20 + 2.28589e+20\n"
     ]
    },
    {
     "name": "stderr",
     "output_type": "stream",
     "text": [
      "[I 2019-02-02 09:09:37,547] Finished a trial resulted in value: 3.7198778910790864. Current best value is 3.6505968609190043 with parameters: {'boosting': 'gbdt', 'num_leaves': 34, 'colsample_bytree': 0.2006306504685208, 'subsample': 0.21478233470789235, 'max_depth': 5, 'reg_alpha': 7.850290046466958, 'reg_lambda': 4.975298639299814, 'min_split_gain': 9.936251092767844, 'min_child_weight': 35.39828393182278, 'min_data_in_leaf': 58}.\n"
     ]
    },
    {
     "name": "stdout",
     "output_type": "stream",
     "text": [
      "[100]\tcv_agg's rmse: 3.71309 + 0.00404142\n",
      "[200]\tcv_agg's rmse: 3.67951 + 0.00683861\n",
      "[300]\tcv_agg's rmse: 3.66737 + 0.00760363\n",
      "[400]\tcv_agg's rmse: 3.66034 + 0.00828142\n",
      "[500]\tcv_agg's rmse: 3.6566 + 0.00871078\n",
      "[600]\tcv_agg's rmse: 3.65464 + 0.00941647\n",
      "[700]\tcv_agg's rmse: 3.65352 + 0.0098374\n",
      "[800]\tcv_agg's rmse: 3.65291 + 0.00990818\n",
      "[900]\tcv_agg's rmse: 3.6527 + 0.00980275\n",
      "[1000]\tcv_agg's rmse: 3.65257 + 0.00992098\n",
      "[1100]\tcv_agg's rmse: 3.65242 + 0.00994565\n",
      "[1200]\tcv_agg's rmse: 3.6525 + 0.00988766\n"
     ]
    },
    {
     "name": "stderr",
     "output_type": "stream",
     "text": [
      "[I 2019-02-02 09:16:18,240] Finished a trial resulted in value: 3.6523994742676513. Current best value is 3.6505968609190043 with parameters: {'boosting': 'gbdt', 'num_leaves': 34, 'colsample_bytree': 0.2006306504685208, 'subsample': 0.21478233470789235, 'max_depth': 5, 'reg_alpha': 7.850290046466958, 'reg_lambda': 4.975298639299814, 'min_split_gain': 9.936251092767844, 'min_child_weight': 35.39828393182278, 'min_data_in_leaf': 58}.\n"
     ]
    },
    {
     "name": "stdout",
     "output_type": "stream",
     "text": [
      "[100]\tcv_agg's rmse: 3.72033 + 0.00423835\n",
      "[200]\tcv_agg's rmse: 3.68593 + 0.00620809\n",
      "[300]\tcv_agg's rmse: 3.67258 + 0.00736775\n",
      "[400]\tcv_agg's rmse: 3.66504 + 0.00807323\n",
      "[500]\tcv_agg's rmse: 3.66025 + 0.00856931\n",
      "[600]\tcv_agg's rmse: 3.65705 + 0.00912497\n",
      "[700]\tcv_agg's rmse: 3.65476 + 0.00939523\n",
      "[800]\tcv_agg's rmse: 3.65364 + 0.00974885\n",
      "[900]\tcv_agg's rmse: 3.65305 + 0.0099141\n",
      "[1000]\tcv_agg's rmse: 3.65252 + 0.00990869\n",
      "[1100]\tcv_agg's rmse: 3.65221 + 0.0099148\n",
      "[1200]\tcv_agg's rmse: 3.65206 + 0.00993407\n",
      "[1300]\tcv_agg's rmse: 3.65203 + 0.0100915\n",
      "[1400]\tcv_agg's rmse: 3.65207 + 0.00989516\n",
      "[1500]\tcv_agg's rmse: 3.65199 + 0.00993308\n",
      "[1600]\tcv_agg's rmse: 3.65181 + 0.0100853\n",
      "[1700]\tcv_agg's rmse: 3.65174 + 0.00991873\n",
      "[1800]\tcv_agg's rmse: 3.65201 + 0.00991167\n",
      "[1900]\tcv_agg's rmse: 3.65218 + 0.00977253\n"
     ]
    },
    {
     "name": "stderr",
     "output_type": "stream",
     "text": [
      "[I 2019-02-02 09:21:35,782] Finished a trial resulted in value: 3.6517255835397306. Current best value is 3.6505968609190043 with parameters: {'boosting': 'gbdt', 'num_leaves': 34, 'colsample_bytree': 0.2006306504685208, 'subsample': 0.21478233470789235, 'max_depth': 5, 'reg_alpha': 7.850290046466958, 'reg_lambda': 4.975298639299814, 'min_split_gain': 9.936251092767844, 'min_child_weight': 35.39828393182278, 'min_data_in_leaf': 58}.\n"
     ]
    },
    {
     "name": "stdout",
     "output_type": "stream",
     "text": [
      "[100]\tcv_agg's rmse: 3.72594 + 0.00417292\n",
      "[200]\tcv_agg's rmse: 3.69005 + 0.00666465\n",
      "[300]\tcv_agg's rmse: 3.67612 + 0.00774378\n",
      "[400]\tcv_agg's rmse: 3.66862 + 0.0083529\n",
      "[500]\tcv_agg's rmse: 3.66381 + 0.00880302\n",
      "[600]\tcv_agg's rmse: 3.6601 + 0.00943703\n",
      "[700]\tcv_agg's rmse: 3.65752 + 0.00948434\n",
      "[800]\tcv_agg's rmse: 3.65564 + 0.00953037\n",
      "[900]\tcv_agg's rmse: 3.6545 + 0.00958506\n",
      "[1000]\tcv_agg's rmse: 3.6536 + 0.00970672\n",
      "[1100]\tcv_agg's rmse: 3.65289 + 0.00975729\n",
      "[1200]\tcv_agg's rmse: 3.65244 + 0.00976279\n",
      "[1300]\tcv_agg's rmse: 3.65203 + 0.00980996\n",
      "[1400]\tcv_agg's rmse: 3.65172 + 0.00976617\n",
      "[1500]\tcv_agg's rmse: 3.65158 + 0.00972158\n",
      "[1600]\tcv_agg's rmse: 3.6514 + 0.00984487\n",
      "[1700]\tcv_agg's rmse: 3.65131 + 0.00991774\n",
      "[1800]\tcv_agg's rmse: 3.65122 + 0.00987113\n",
      "[1900]\tcv_agg's rmse: 3.65127 + 0.00983627\n",
      "[2000]\tcv_agg's rmse: 3.65123 + 0.00994719\n"
     ]
    },
    {
     "name": "stderr",
     "output_type": "stream",
     "text": [
      "[I 2019-02-02 09:24:55,342] Finished a trial resulted in value: 3.6511992438086183. Current best value is 3.6505968609190043 with parameters: {'boosting': 'gbdt', 'num_leaves': 34, 'colsample_bytree': 0.2006306504685208, 'subsample': 0.21478233470789235, 'max_depth': 5, 'reg_alpha': 7.850290046466958, 'reg_lambda': 4.975298639299814, 'min_split_gain': 9.936251092767844, 'min_child_weight': 35.39828393182278, 'min_data_in_leaf': 58}.\n"
     ]
    },
    {
     "name": "stdout",
     "output_type": "stream",
     "text": [
      "[100]\tcv_agg's rmse: 3.72648 + 0.00393095\n",
      "[200]\tcv_agg's rmse: 3.69459 + 0.00616683\n",
      "[300]\tcv_agg's rmse: 3.68124 + 0.0074367\n",
      "[400]\tcv_agg's rmse: 3.67247 + 0.00808456\n",
      "[500]\tcv_agg's rmse: 3.66674 + 0.00864782\n",
      "[600]\tcv_agg's rmse: 3.6629 + 0.00901753\n",
      "[700]\tcv_agg's rmse: 3.66042 + 0.00925248\n",
      "[800]\tcv_agg's rmse: 3.6585 + 0.00955657\n",
      "[900]\tcv_agg's rmse: 3.65727 + 0.00983108\n",
      "[1000]\tcv_agg's rmse: 3.6563 + 0.00987005\n",
      "[1100]\tcv_agg's rmse: 3.6557 + 0.00981027\n",
      "[1200]\tcv_agg's rmse: 3.65511 + 0.0098178\n",
      "[1300]\tcv_agg's rmse: 3.65463 + 0.00979807\n",
      "[1400]\tcv_agg's rmse: 3.65423 + 0.00973101\n",
      "[1500]\tcv_agg's rmse: 3.65398 + 0.00975043\n",
      "[1600]\tcv_agg's rmse: 3.65373 + 0.00971343\n",
      "[1700]\tcv_agg's rmse: 3.65349 + 0.00964501\n",
      "[1800]\tcv_agg's rmse: 3.65333 + 0.00962089\n",
      "[1900]\tcv_agg's rmse: 3.6534 + 0.00963469\n",
      "[2000]\tcv_agg's rmse: 3.65336 + 0.00946432\n",
      "[2100]\tcv_agg's rmse: 3.65323 + 0.00943072\n",
      "[2200]\tcv_agg's rmse: 3.65312 + 0.00943191\n",
      "[2300]\tcv_agg's rmse: 3.65299 + 0.00931378\n",
      "[2400]\tcv_agg's rmse: 3.653 + 0.00942479\n"
     ]
    },
    {
     "name": "stderr",
     "output_type": "stream",
     "text": [
      "[I 2019-02-02 09:31:09,164] Finished a trial resulted in value: 3.652956619287271. Current best value is 3.6505968609190043 with parameters: {'boosting': 'gbdt', 'num_leaves': 34, 'colsample_bytree': 0.2006306504685208, 'subsample': 0.21478233470789235, 'max_depth': 5, 'reg_alpha': 7.850290046466958, 'reg_lambda': 4.975298639299814, 'min_split_gain': 9.936251092767844, 'min_child_weight': 35.39828393182278, 'min_data_in_leaf': 58}.\n"
     ]
    },
    {
     "name": "stdout",
     "output_type": "stream",
     "text": [
      "[100]\tcv_agg's rmse: 3.71944 + 0.00450866\n",
      "[200]\tcv_agg's rmse: 3.68307 + 0.00730735\n",
      "[300]\tcv_agg's rmse: 3.6694 + 0.0083853\n",
      "[400]\tcv_agg's rmse: 3.66199 + 0.00928312\n",
      "[500]\tcv_agg's rmse: 3.65836 + 0.00970033\n",
      "[600]\tcv_agg's rmse: 3.51353e+15 + 7.02706e+15\n",
      "[700]\tcv_agg's rmse: 1.34486e+15 + 2.68971e+15\n"
     ]
    },
    {
     "name": "stderr",
     "output_type": "stream",
     "text": [
      "[I 2019-02-02 09:34:43,993] Finished a trial resulted in value: 3.6567790696707134. Current best value is 3.6505968609190043 with parameters: {'boosting': 'gbdt', 'num_leaves': 34, 'colsample_bytree': 0.2006306504685208, 'subsample': 0.21478233470789235, 'max_depth': 5, 'reg_alpha': 7.850290046466958, 'reg_lambda': 4.975298639299814, 'min_split_gain': 9.936251092767844, 'min_child_weight': 35.39828393182278, 'min_data_in_leaf': 58}.\n"
     ]
    },
    {
     "name": "stdout",
     "output_type": "stream",
     "text": [
      "[100]\tcv_agg's rmse: 3.71703 + 0.00401124\n",
      "[200]\tcv_agg's rmse: 3.68262 + 0.00559052\n",
      "[300]\tcv_agg's rmse: 3.66983 + 0.00675688\n",
      "[400]\tcv_agg's rmse: 3.66267 + 0.00778178\n",
      "[500]\tcv_agg's rmse: 3.65857 + 0.00841139\n",
      "[600]\tcv_agg's rmse: 3.65576 + 0.00872502\n",
      "[700]\tcv_agg's rmse: 3.65401 + 0.0088131\n",
      "[800]\tcv_agg's rmse: 3.65324 + 0.008971\n",
      "[900]\tcv_agg's rmse: 3.65267 + 0.00898713\n",
      "[1000]\tcv_agg's rmse: 3.65238 + 0.00886755\n",
      "[1100]\tcv_agg's rmse: 3.65241 + 0.00889583\n",
      "[1200]\tcv_agg's rmse: 3.65226 + 0.00867471\n",
      "[1300]\tcv_agg's rmse: 3.6523 + 0.00853817\n",
      "[1400]\tcv_agg's rmse: 3.65244 + 0.00842939\n"
     ]
    },
    {
     "name": "stderr",
     "output_type": "stream",
     "text": [
      "[I 2019-02-02 09:39:19,591] Finished a trial resulted in value: 3.6521966022951835. Current best value is 3.6505968609190043 with parameters: {'boosting': 'gbdt', 'num_leaves': 34, 'colsample_bytree': 0.2006306504685208, 'subsample': 0.21478233470789235, 'max_depth': 5, 'reg_alpha': 7.850290046466958, 'reg_lambda': 4.975298639299814, 'min_split_gain': 9.936251092767844, 'min_child_weight': 35.39828393182278, 'min_data_in_leaf': 58}.\n"
     ]
    },
    {
     "name": "stdout",
     "output_type": "stream",
     "text": [
      "[100]\tcv_agg's rmse: 3.71868 + 0.00397664\n",
      "[200]\tcv_agg's rmse: 3.6857 + 0.00657676\n",
      "[300]\tcv_agg's rmse: 3.67279 + 0.00758525\n",
      "[400]\tcv_agg's rmse: 3.66504 + 0.00819847\n",
      "[500]\tcv_agg's rmse: 3.6607 + 0.00887821\n",
      "[600]\tcv_agg's rmse: 3.65747 + 0.00981935\n",
      "[700]\tcv_agg's rmse: 3.65562 + 0.0101928\n",
      "[800]\tcv_agg's rmse: 3.65441 + 0.010469\n",
      "[900]\tcv_agg's rmse: 3.65352 + 0.0106709\n",
      "[1000]\tcv_agg's rmse: 3.65309 + 0.0108582\n",
      "[1100]\tcv_agg's rmse: 3.6528 + 0.011036\n",
      "[1200]\tcv_agg's rmse: 3.65262 + 0.0110733\n",
      "[1300]\tcv_agg's rmse: 3.65247 + 0.011134\n",
      "[1400]\tcv_agg's rmse: 3.65228 + 0.0109298\n",
      "[1500]\tcv_agg's rmse: 3.6522 + 0.0108526\n",
      "[1600]\tcv_agg's rmse: 3.65221 + 0.0109072\n",
      "[1700]\tcv_agg's rmse: 3.65228 + 0.0107397\n"
     ]
    },
    {
     "name": "stderr",
     "output_type": "stream",
     "text": [
      "[I 2019-02-02 09:47:40,332] Finished a trial resulted in value: 3.6521244585041743. Current best value is 3.6505968609190043 with parameters: {'boosting': 'gbdt', 'num_leaves': 34, 'colsample_bytree': 0.2006306504685208, 'subsample': 0.21478233470789235, 'max_depth': 5, 'reg_alpha': 7.850290046466958, 'reg_lambda': 4.975298639299814, 'min_split_gain': 9.936251092767844, 'min_child_weight': 35.39828393182278, 'min_data_in_leaf': 58}.\n"
     ]
    },
    {
     "name": "stdout",
     "output_type": "stream",
     "text": [
      "[100]\tcv_agg's rmse: 3.74257 + 0.00301946\n",
      "[200]\tcv_agg's rmse: 3.7117 + 0.00498761\n",
      "[300]\tcv_agg's rmse: 3.69132 + 0.00569474\n",
      "[400]\tcv_agg's rmse: 3.68229 + 0.00647353\n",
      "[500]\tcv_agg's rmse: 3.67719 + 0.00706614\n",
      "[600]\tcv_agg's rmse: 3.67377 + 0.00723206\n",
      "[700]\tcv_agg's rmse: 3.67131 + 0.00710049\n",
      "[800]\tcv_agg's rmse: 3.66871 + 0.00728452\n",
      "[900]\tcv_agg's rmse: 3.66785 + 0.00729759\n",
      "[1000]\tcv_agg's rmse: 3.6664 + 0.00744987\n",
      "[1100]\tcv_agg's rmse: 3.66542 + 0.00778418\n",
      "[1200]\tcv_agg's rmse: 3.66477 + 0.00782924\n",
      "[1300]\tcv_agg's rmse: 3.66418 + 0.00794668\n",
      "[1400]\tcv_agg's rmse: 3.66367 + 0.00802145\n",
      "[1500]\tcv_agg's rmse: 3.6631 + 0.00807294\n",
      "[1600]\tcv_agg's rmse: 3.66251 + 0.00837461\n",
      "[1700]\tcv_agg's rmse: 3.66273 + 0.00825525\n",
      "[1800]\tcv_agg's rmse: 3.66233 + 0.008075\n",
      "[1900]\tcv_agg's rmse: 3.66228 + 0.00797115\n",
      "[2000]\tcv_agg's rmse: 3.66217 + 0.00774613\n",
      "[2100]\tcv_agg's rmse: 3.66188 + 0.00779753\n",
      "[2200]\tcv_agg's rmse: 3.66214 + 0.00784671\n",
      "[2300]\tcv_agg's rmse: 3.66244 + 0.00781843\n"
     ]
    },
    {
     "name": "stderr",
     "output_type": "stream",
     "text": [
      "[I 2019-02-02 09:51:26,738] Finished a trial resulted in value: 3.6617187778597353. Current best value is 3.6505968609190043 with parameters: {'boosting': 'gbdt', 'num_leaves': 34, 'colsample_bytree': 0.2006306504685208, 'subsample': 0.21478233470789235, 'max_depth': 5, 'reg_alpha': 7.850290046466958, 'reg_lambda': 4.975298639299814, 'min_split_gain': 9.936251092767844, 'min_child_weight': 35.39828393182278, 'min_data_in_leaf': 58}.\n"
     ]
    },
    {
     "name": "stdout",
     "output_type": "stream",
     "text": [
      "[100]\tcv_agg's rmse: 3.73017 + 0.00405421\n",
      "[200]\tcv_agg's rmse: 3.6946 + 0.00597844\n",
      "[300]\tcv_agg's rmse: 3.67984 + 0.00717065\n",
      "[400]\tcv_agg's rmse: 3.67186 + 0.0078238\n",
      "[500]\tcv_agg's rmse: 3.6665 + 0.00801456\n",
      "[600]\tcv_agg's rmse: 3.66692 + 0.0120215\n",
      "[700]\tcv_agg's rmse: 3.66159 + 0.0091818\n",
      "[800]\tcv_agg's rmse: 6.5233 + 5.72967\n",
      "[900]\tcv_agg's rmse: 5.79271 + 4.27111\n"
     ]
    },
    {
     "name": "stderr",
     "output_type": "stream",
     "text": [
      "[I 2019-02-02 09:53:07,070] Finished a trial resulted in value: 3.6615548951550005. Current best value is 3.6505968609190043 with parameters: {'boosting': 'gbdt', 'num_leaves': 34, 'colsample_bytree': 0.2006306504685208, 'subsample': 0.21478233470789235, 'max_depth': 5, 'reg_alpha': 7.850290046466958, 'reg_lambda': 4.975298639299814, 'min_split_gain': 9.936251092767844, 'min_child_weight': 35.39828393182278, 'min_data_in_leaf': 58}.\n"
     ]
    },
    {
     "name": "stdout",
     "output_type": "stream",
     "text": [
      "[100]\tcv_agg's rmse: 3.71722 + 0.00388612\n",
      "[200]\tcv_agg's rmse: 3.68431 + 0.00703733\n",
      "[300]\tcv_agg's rmse: 3.67191 + 0.00782916\n",
      "[400]\tcv_agg's rmse: 3.66448 + 0.00921723\n",
      "[500]\tcv_agg's rmse: 3.66023 + 0.0101805\n",
      "[600]\tcv_agg's rmse: 3.65792 + 0.0105405\n",
      "[700]\tcv_agg's rmse: 3.65669 + 0.0107877\n",
      "[800]\tcv_agg's rmse: 3.65582 + 0.0107255\n",
      "[900]\tcv_agg's rmse: 3.65514 + 0.0105316\n",
      "[1000]\tcv_agg's rmse: 3.65481 + 0.0105956\n",
      "[1100]\tcv_agg's rmse: 3.65458 + 0.0104985\n",
      "[1200]\tcv_agg's rmse: 3.6544 + 0.0103571\n",
      "[1300]\tcv_agg's rmse: 3.65448 + 0.0101894\n",
      "[1400]\tcv_agg's rmse: 3.6547 + 0.0101747\n"
     ]
    },
    {
     "name": "stderr",
     "output_type": "stream",
     "text": [
      "[I 2019-02-02 10:01:55,755] Finished a trial resulted in value: 3.6543604331998436. Current best value is 3.6505968609190043 with parameters: {'boosting': 'gbdt', 'num_leaves': 34, 'colsample_bytree': 0.2006306504685208, 'subsample': 0.21478233470789235, 'max_depth': 5, 'reg_alpha': 7.850290046466958, 'reg_lambda': 4.975298639299814, 'min_split_gain': 9.936251092767844, 'min_child_weight': 35.39828393182278, 'min_data_in_leaf': 58}.\n"
     ]
    },
    {
     "name": "stdout",
     "output_type": "stream",
     "text": [
      "[100]\tcv_agg's rmse: 3.71604 + 0.00468734\n",
      "[200]\tcv_agg's rmse: 3.68311 + 0.0072766\n",
      "[300]\tcv_agg's rmse: 3.6705 + 0.00804533\n",
      "[400]\tcv_agg's rmse: 3.66406 + 0.00914644\n",
      "[500]\tcv_agg's rmse: 3.66061 + 0.0097438\n",
      "[600]\tcv_agg's rmse: 3.65878 + 0.01008\n",
      "[700]\tcv_agg's rmse: 3.65771 + 0.0101116\n",
      "[800]\tcv_agg's rmse: 3.65701 + 0.0103101\n",
      "[900]\tcv_agg's rmse: 3.65691 + 0.010255\n",
      "[1000]\tcv_agg's rmse: 3.65686 + 0.0100984\n",
      "[1100]\tcv_agg's rmse: 3.65675 + 0.0100337\n",
      "[1200]\tcv_agg's rmse: 3.65675 + 0.0101081\n",
      "[1300]\tcv_agg's rmse: 3.65712 + 0.0101931\n"
     ]
    },
    {
     "name": "stderr",
     "output_type": "stream",
     "text": [
      "[I 2019-02-02 10:15:08,076] Finished a trial resulted in value: 3.6566667646282056. Current best value is 3.6505968609190043 with parameters: {'boosting': 'gbdt', 'num_leaves': 34, 'colsample_bytree': 0.2006306504685208, 'subsample': 0.21478233470789235, 'max_depth': 5, 'reg_alpha': 7.850290046466958, 'reg_lambda': 4.975298639299814, 'min_split_gain': 9.936251092767844, 'min_child_weight': 35.39828393182278, 'min_data_in_leaf': 58}.\n"
     ]
    },
    {
     "name": "stdout",
     "output_type": "stream",
     "text": [
      "[100]\tcv_agg's rmse: 3.72377 + 0.00387624\n",
      "[200]\tcv_agg's rmse: 3.69202 + 0.00623575\n",
      "[300]\tcv_agg's rmse: 3.67833 + 0.00748344\n",
      "[400]\tcv_agg's rmse: 3.66955 + 0.00804724\n",
      "[500]\tcv_agg's rmse: 3.66414 + 0.00849645\n",
      "[600]\tcv_agg's rmse: 3.66055 + 0.00877361\n",
      "[700]\tcv_agg's rmse: 3.6583 + 0.00912815\n",
      "[800]\tcv_agg's rmse: 3.65698 + 0.00942435\n",
      "[900]\tcv_agg's rmse: 3.65571 + 0.00975834\n",
      "[1000]\tcv_agg's rmse: 3.65491 + 0.00975665\n",
      "[1100]\tcv_agg's rmse: 3.65407 + 0.00979868\n",
      "[1200]\tcv_agg's rmse: 3.65355 + 0.00983897\n",
      "[1300]\tcv_agg's rmse: 3.65321 + 0.00972508\n",
      "[1400]\tcv_agg's rmse: 3.65288 + 0.00968825\n",
      "[1500]\tcv_agg's rmse: 3.65263 + 0.00967875\n",
      "[1600]\tcv_agg's rmse: 3.65249 + 0.00968821\n",
      "[1700]\tcv_agg's rmse: 3.65232 + 0.00973029\n",
      "[1800]\tcv_agg's rmse: 3.6522 + 0.0097154\n",
      "[1900]\tcv_agg's rmse: 3.6523 + 0.00969616\n",
      "[2000]\tcv_agg's rmse: 3.65222 + 0.00963054\n",
      "[2100]\tcv_agg's rmse: 3.65219 + 0.00954099\n",
      "[2200]\tcv_agg's rmse: 3.65208 + 0.00954337\n",
      "[2300]\tcv_agg's rmse: 3.65212 + 0.00944726\n"
     ]
    },
    {
     "name": "stderr",
     "output_type": "stream",
     "text": [
      "[I 2019-02-02 10:22:08,601] Finished a trial resulted in value: 3.6520283006562115. Current best value is 3.6505968609190043 with parameters: {'boosting': 'gbdt', 'num_leaves': 34, 'colsample_bytree': 0.2006306504685208, 'subsample': 0.21478233470789235, 'max_depth': 5, 'reg_alpha': 7.850290046466958, 'reg_lambda': 4.975298639299814, 'min_split_gain': 9.936251092767844, 'min_child_weight': 35.39828393182278, 'min_data_in_leaf': 58}.\n"
     ]
    },
    {
     "name": "stdout",
     "output_type": "stream",
     "text": [
      "[100]\tcv_agg's rmse: 3.71749 + 0.00396883\n",
      "[200]\tcv_agg's rmse: 3.67507 + 0.00677135\n",
      "[300]\tcv_agg's rmse: 3.66226 + 0.00844738\n",
      "[400]\tcv_agg's rmse: 3.65658 + 0.00895632\n",
      "[500]\tcv_agg's rmse: 3.65397 + 0.00944819\n",
      "[600]\tcv_agg's rmse: 6.0078 + 2.55005\n",
      "[700]\tcv_agg's rmse: 75.1356 + 99.7258\n"
     ]
    },
    {
     "name": "stderr",
     "output_type": "stream",
     "text": [
      "[I 2019-02-02 10:24:37,162] Finished a trial resulted in value: 3.6529022389229318. Current best value is 3.6505968609190043 with parameters: {'boosting': 'gbdt', 'num_leaves': 34, 'colsample_bytree': 0.2006306504685208, 'subsample': 0.21478233470789235, 'max_depth': 5, 'reg_alpha': 7.850290046466958, 'reg_lambda': 4.975298639299814, 'min_split_gain': 9.936251092767844, 'min_child_weight': 35.39828393182278, 'min_data_in_leaf': 58}.\n"
     ]
    },
    {
     "name": "stdout",
     "output_type": "stream",
     "text": [
      "[100]\tcv_agg's rmse: 3.71271 + 0.00508715\n",
      "[200]\tcv_agg's rmse: 3.67897 + 0.00783237\n",
      "[300]\tcv_agg's rmse: 3.66663 + 0.00813001\n",
      "[400]\tcv_agg's rmse: 3.66052 + 0.00852409\n",
      "[500]\tcv_agg's rmse: 3.6569 + 0.00903259\n",
      "[600]\tcv_agg's rmse: 3.65485 + 0.00950095\n",
      "[700]\tcv_agg's rmse: 3.65381 + 0.00986414\n",
      "[800]\tcv_agg's rmse: 3.65342 + 0.0100893\n",
      "[900]\tcv_agg's rmse: 3.65299 + 0.0100406\n",
      "[1000]\tcv_agg's rmse: 3.65279 + 0.0100195\n",
      "[1100]\tcv_agg's rmse: 3.65276 + 0.00992714\n",
      "[1200]\tcv_agg's rmse: 3.65285 + 0.0098099\n"
     ]
    },
    {
     "name": "stderr",
     "output_type": "stream",
     "text": [
      "[I 2019-02-02 10:32:08,659] Finished a trial resulted in value: 3.652718336035504. Current best value is 3.6505968609190043 with parameters: {'boosting': 'gbdt', 'num_leaves': 34, 'colsample_bytree': 0.2006306504685208, 'subsample': 0.21478233470789235, 'max_depth': 5, 'reg_alpha': 7.850290046466958, 'reg_lambda': 4.975298639299814, 'min_split_gain': 9.936251092767844, 'min_child_weight': 35.39828393182278, 'min_data_in_leaf': 58}.\n"
     ]
    },
    {
     "name": "stdout",
     "output_type": "stream",
     "text": [
      "[100]\tcv_agg's rmse: 3.72311 + 0.00445746\n",
      "[200]\tcv_agg's rmse: 3.68776 + 0.00665383\n",
      "[300]\tcv_agg's rmse: 3.6752 + 0.00735505\n",
      "[400]\tcv_agg's rmse: 3.66967 + 0.00803905\n",
      "[500]\tcv_agg's rmse: 3.66388 + 0.00835615\n",
      "[600]\tcv_agg's rmse: 3.66015 + 0.00873556\n",
      "[700]\tcv_agg's rmse: 3.65783 + 0.00886818\n",
      "[800]\tcv_agg's rmse: 3.65604 + 0.00885864\n",
      "[900]\tcv_agg's rmse: 3.65475 + 0.00901517\n",
      "[1000]\tcv_agg's rmse: 3.65392 + 0.00901931\n",
      "[1100]\tcv_agg's rmse: 3.65331 + 0.00909088\n",
      "[1200]\tcv_agg's rmse: 3.65274 + 0.00926105\n",
      "[1300]\tcv_agg's rmse: 3.65237 + 0.00913381\n",
      "[1400]\tcv_agg's rmse: 3.65192 + 0.00907357\n",
      "[1500]\tcv_agg's rmse: 3.6517 + 0.00917367\n",
      "[1600]\tcv_agg's rmse: 3.65139 + 0.00914246\n",
      "[1700]\tcv_agg's rmse: 3.65122 + 0.00903027\n",
      "[1800]\tcv_agg's rmse: 3.65085 + 0.0089263\n",
      "[1900]\tcv_agg's rmse: 3.65064 + 0.00904596\n",
      "[2000]\tcv_agg's rmse: 3.65049 + 0.00903452\n",
      "[2100]\tcv_agg's rmse: 3.6504 + 0.00902991\n",
      "[2200]\tcv_agg's rmse: 3.65043 + 0.00895196\n",
      "[2300]\tcv_agg's rmse: 3.65039 + 0.00896646\n",
      "[2400]\tcv_agg's rmse: 3.65048 + 0.00894749\n"
     ]
    },
    {
     "name": "stderr",
     "output_type": "stream",
     "text": [
      "[I 2019-02-02 10:37:15,646] Finished a trial resulted in value: 3.650343190417149. Current best value is 3.650343190417149 with parameters: {'boosting': 'dart', 'num_leaves': 27, 'colsample_bytree': 0.2068339177163882, 'subsample': 0.0056315499110544676, 'max_depth': 5, 'reg_alpha': 1.552663629755588, 'reg_lambda': 9.132305215875808, 'min_split_gain': 4.876538277957605, 'min_child_weight': 20.688747724636087, 'min_data_in_leaf': 32, 'drop_rate': 0.0019877229191468814, 'skip_drop': 0.8896503470922534}.\n"
     ]
    },
    {
     "name": "stdout",
     "output_type": "stream",
     "text": [
      "[100]\tcv_agg's rmse: 3.83188 + 0.00323474\n",
      "[200]\tcv_agg's rmse: 3.81639 + 0.00333174\n",
      "[300]\tcv_agg's rmse: 3.8048 + 0.00336786\n",
      "[400]\tcv_agg's rmse: 3.79706 + 0.00344961\n",
      "[500]\tcv_agg's rmse: 3.78854 + 0.00355975\n",
      "[600]\tcv_agg's rmse: 3.78181 + 0.00378232\n",
      "[700]\tcv_agg's rmse: 3.77614 + 0.00383482\n",
      "[800]\tcv_agg's rmse: 3.77127 + 0.00390265\n",
      "[900]\tcv_agg's rmse: 3.76674 + 0.00406856\n",
      "[1000]\tcv_agg's rmse: 3.76305 + 0.0041529\n",
      "[1100]\tcv_agg's rmse: 3.75902 + 0.00430443\n",
      "[1200]\tcv_agg's rmse: 3.75545 + 0.00439927\n",
      "[1300]\tcv_agg's rmse: 3.75236 + 0.00447253\n",
      "[1400]\tcv_agg's rmse: 3.74942 + 0.00464684\n",
      "[1500]\tcv_agg's rmse: 3.74718 + 0.00478683\n",
      "[1600]\tcv_agg's rmse: 3.7454 + 0.00493477\n",
      "[1700]\tcv_agg's rmse: 3.74265 + 0.00506906\n",
      "[1800]\tcv_agg's rmse: 3.74047 + 0.00511338\n",
      "[1900]\tcv_agg's rmse: 3.73904 + 0.00524429\n",
      "[2000]\tcv_agg's rmse: 3.73729 + 0.00530674\n",
      "[2100]\tcv_agg's rmse: 3.73591 + 0.00543399\n",
      "[2200]\tcv_agg's rmse: 3.73411 + 0.00565641\n",
      "[2300]\tcv_agg's rmse: 3.73287 + 0.00572709\n",
      "[2400]\tcv_agg's rmse: 3.73178 + 0.00585525\n",
      "[2500]\tcv_agg's rmse: 3.73048 + 0.00592007\n",
      "[2600]\tcv_agg's rmse: 3.72945 + 0.00599563\n",
      "[2700]\tcv_agg's rmse: 3.72826 + 0.00602319\n",
      "[2800]\tcv_agg's rmse: 3.72736 + 0.00614469\n",
      "[2900]\tcv_agg's rmse: 3.72651 + 0.0062019\n",
      "[3000]\tcv_agg's rmse: 3.7256 + 0.0062603\n",
      "[3100]\tcv_agg's rmse: 3.72471 + 0.00632177\n",
      "[3200]\tcv_agg's rmse: 3.72401 + 0.00634675\n",
      "[3300]\tcv_agg's rmse: 3.72307 + 0.00649964\n",
      "[3400]\tcv_agg's rmse: 3.72228 + 0.00658044\n",
      "[3500]\tcv_agg's rmse: 3.72174 + 0.00662596\n",
      "[3600]\tcv_agg's rmse: 3.72104 + 0.00660654\n",
      "[3700]\tcv_agg's rmse: 3.72044 + 0.00664155\n",
      "[3800]\tcv_agg's rmse: 3.71989 + 0.00674549\n",
      "[3900]\tcv_agg's rmse: 3.71939 + 0.00677478\n",
      "[4000]\tcv_agg's rmse: 3.71896 + 0.00677589\n",
      "[4100]\tcv_agg's rmse: 3.71851 + 0.00679601\n",
      "[4200]\tcv_agg's rmse: 3.71783 + 0.00686841\n",
      "[4300]\tcv_agg's rmse: 3.71718 + 0.00693327\n",
      "[4400]\tcv_agg's rmse: 3.71658 + 0.00702493\n",
      "[4500]\tcv_agg's rmse: 3.71614 + 0.00706278\n",
      "[4600]\tcv_agg's rmse: 3.71559 + 0.0070849\n",
      "[4700]\tcv_agg's rmse: 3.71504 + 0.00715323\n",
      "[4800]\tcv_agg's rmse: 3.71458 + 0.00715882\n",
      "[4900]\tcv_agg's rmse: 3.71408 + 0.00720429\n",
      "[5000]\tcv_agg's rmse: 3.71361 + 0.00718973\n",
      "[5100]\tcv_agg's rmse: 3.71328 + 0.00722335\n",
      "[5200]\tcv_agg's rmse: 3.71288 + 0.00726123\n",
      "[5300]\tcv_agg's rmse: 3.71245 + 0.00729403\n",
      "[5400]\tcv_agg's rmse: 3.71207 + 0.0073014\n",
      "[5500]\tcv_agg's rmse: 3.71178 + 0.00737669\n",
      "[5600]\tcv_agg's rmse: 3.71157 + 0.00746434\n",
      "[5700]\tcv_agg's rmse: 3.71126 + 0.00744948\n",
      "[5800]\tcv_agg's rmse: 3.71104 + 0.00744066\n",
      "[5900]\tcv_agg's rmse: 3.71077 + 0.00745565\n",
      "[6000]\tcv_agg's rmse: 3.71027 + 0.00749842\n",
      "[6100]\tcv_agg's rmse: 3.70996 + 0.00754947\n",
      "[6200]\tcv_agg's rmse: 3.70971 + 0.00762314\n",
      "[6300]\tcv_agg's rmse: 3.7094 + 0.00763523\n",
      "[6400]\tcv_agg's rmse: 3.70905 + 0.00770816\n",
      "[6500]\tcv_agg's rmse: 3.70884 + 0.00774867\n",
      "[6600]\tcv_agg's rmse: 3.70855 + 0.00780232\n",
      "[6700]\tcv_agg's rmse: 3.70826 + 0.0077934\n",
      "[6800]\tcv_agg's rmse: 3.70801 + 0.00784461\n",
      "[6900]\tcv_agg's rmse: 3.70776 + 0.00784029\n",
      "[7000]\tcv_agg's rmse: 3.70749 + 0.00786931\n",
      "[7100]\tcv_agg's rmse: 3.70738 + 0.00787043\n",
      "[7200]\tcv_agg's rmse: 3.70715 + 0.00789794\n",
      "[7300]\tcv_agg's rmse: 3.70678 + 0.00792857\n",
      "[7400]\tcv_agg's rmse: 3.70665 + 0.00796057\n",
      "[7500]\tcv_agg's rmse: 3.70631 + 0.00799498\n",
      "[7600]\tcv_agg's rmse: 3.7061 + 0.00798153\n",
      "[7700]\tcv_agg's rmse: 3.70597 + 0.00800591\n",
      "[7800]\tcv_agg's rmse: 3.70583 + 0.00799172\n",
      "[7900]\tcv_agg's rmse: 3.70557 + 0.0080081\n",
      "[8000]\tcv_agg's rmse: 3.70537 + 0.00802227\n",
      "[8100]\tcv_agg's rmse: 3.70517 + 0.00804787\n",
      "[8200]\tcv_agg's rmse: 3.70499 + 0.00809917\n",
      "[8300]\tcv_agg's rmse: 3.70478 + 0.00811832\n",
      "[8400]\tcv_agg's rmse: 3.70465 + 0.00815157\n",
      "[8500]\tcv_agg's rmse: 3.70448 + 0.0081598\n",
      "[8600]\tcv_agg's rmse: 3.7044 + 0.00816035\n",
      "[8700]\tcv_agg's rmse: 3.70428 + 0.00814672\n",
      "[8800]\tcv_agg's rmse: 3.70415 + 0.00814421\n",
      "[8900]\tcv_agg's rmse: 3.70396 + 0.00815181\n",
      "[9000]\tcv_agg's rmse: 3.70379 + 0.00817529\n",
      "[9100]\tcv_agg's rmse: 3.70373 + 0.00819995\n",
      "[9200]\tcv_agg's rmse: 3.70356 + 0.00818821\n",
      "[9300]\tcv_agg's rmse: 3.7034 + 0.00824417\n",
      "[9400]\tcv_agg's rmse: 3.70334 + 0.00827003\n",
      "[9500]\tcv_agg's rmse: 3.70312 + 0.00825125\n",
      "[9600]\tcv_agg's rmse: 3.703 + 0.00821554\n",
      "[9700]\tcv_agg's rmse: 3.70288 + 0.00820733\n",
      "[9800]\tcv_agg's rmse: 3.70273 + 0.00823237\n",
      "[9900]\tcv_agg's rmse: 3.70261 + 0.00826142\n",
      "[10000]\tcv_agg's rmse: 3.70259 + 0.00823361\n"
     ]
    },
    {
     "name": "stderr",
     "output_type": "stream",
     "text": [
      "[I 2019-02-02 10:41:54,687] Finished a trial resulted in value: 3.702578553898687. Current best value is 3.650343190417149 with parameters: {'boosting': 'dart', 'num_leaves': 27, 'colsample_bytree': 0.2068339177163882, 'subsample': 0.0056315499110544676, 'max_depth': 5, 'reg_alpha': 1.552663629755588, 'reg_lambda': 9.132305215875808, 'min_split_gain': 4.876538277957605, 'min_child_weight': 20.688747724636087, 'min_data_in_leaf': 32, 'drop_rate': 0.0019877229191468814, 'skip_drop': 0.8896503470922534}.\n"
     ]
    },
    {
     "name": "stdout",
     "output_type": "stream",
     "text": [
      "[100]\tcv_agg's rmse: 3.72108 + 0.00499559\n",
      "[200]\tcv_agg's rmse: 3.69031 + 0.00746533\n",
      "[300]\tcv_agg's rmse: 3.67716 + 0.00835054\n",
      "[400]\tcv_agg's rmse: 3.6689 + 0.00921114\n",
      "[500]\tcv_agg's rmse: 3.6641 + 0.00976088\n",
      "[600]\tcv_agg's rmse: 3.66129 + 0.0100952\n",
      "[700]\tcv_agg's rmse: 3.65939 + 0.0104315\n",
      "[800]\tcv_agg's rmse: 3.65807 + 0.0108083\n",
      "[900]\tcv_agg's rmse: 3.65725 + 0.0107092\n",
      "[1000]\tcv_agg's rmse: 3.65663 + 0.0108343\n",
      "[1100]\tcv_agg's rmse: 3.65623 + 0.0109193\n",
      "[1200]\tcv_agg's rmse: 3.65589 + 0.0109559\n",
      "[1300]\tcv_agg's rmse: 3.65563 + 0.0108642\n",
      "[1400]\tcv_agg's rmse: 3.65539 + 0.0108531\n",
      "[1500]\tcv_agg's rmse: 3.65549 + 0.0109367\n",
      "[1600]\tcv_agg's rmse: 3.65547 + 0.0109131\n"
     ]
    },
    {
     "name": "stderr",
     "output_type": "stream",
     "text": [
      "[I 2019-02-02 10:51:51,960] Finished a trial resulted in value: 3.6553872534548426. Current best value is 3.650343190417149 with parameters: {'boosting': 'dart', 'num_leaves': 27, 'colsample_bytree': 0.2068339177163882, 'subsample': 0.0056315499110544676, 'max_depth': 5, 'reg_alpha': 1.552663629755588, 'reg_lambda': 9.132305215875808, 'min_split_gain': 4.876538277957605, 'min_child_weight': 20.688747724636087, 'min_data_in_leaf': 32, 'drop_rate': 0.0019877229191468814, 'skip_drop': 0.8896503470922534}.\n"
     ]
    },
    {
     "name": "stdout",
     "output_type": "stream",
     "text": [
      "[100]\tcv_agg's rmse: 3.72722 + 0.00420335\n",
      "[200]\tcv_agg's rmse: 3.69985 + 0.00596385\n",
      "[300]\tcv_agg's rmse: 3.6822 + 0.0070771\n",
      "[400]\tcv_agg's rmse: 3.67355 + 0.00793202\n",
      "[500]\tcv_agg's rmse: 3.66801 + 0.00864\n",
      "[600]\tcv_agg's rmse: 3.66347 + 0.00902219\n",
      "[700]\tcv_agg's rmse: 3.66062 + 0.00945013\n",
      "[800]\tcv_agg's rmse: 3.65856 + 0.00977504\n",
      "[900]\tcv_agg's rmse: 3.657 + 0.0101387\n",
      "[1000]\tcv_agg's rmse: 3.65599 + 0.0103725\n",
      "[1100]\tcv_agg's rmse: 3.65512 + 0.0103595\n",
      "[1200]\tcv_agg's rmse: 3.65461 + 0.0104539\n",
      "[1300]\tcv_agg's rmse: 3.65413 + 0.0104463\n",
      "[1400]\tcv_agg's rmse: 3.65389 + 0.0104917\n",
      "[1500]\tcv_agg's rmse: 3.65355 + 0.0105157\n",
      "[1600]\tcv_agg's rmse: 3.65345 + 0.0104318\n",
      "[1700]\tcv_agg's rmse: 3.6532 + 0.0105914\n",
      "[1800]\tcv_agg's rmse: 3.65311 + 0.0107103\n",
      "[1900]\tcv_agg's rmse: 3.65306 + 0.010588\n",
      "[2000]\tcv_agg's rmse: 3.65299 + 0.01065\n",
      "[2100]\tcv_agg's rmse: 3.65298 + 0.0105247\n",
      "[2200]\tcv_agg's rmse: 3.65309 + 0.0104937\n",
      "[2300]\tcv_agg's rmse: 3.65314 + 0.0104159\n"
     ]
    },
    {
     "name": "stderr",
     "output_type": "stream",
     "text": [
      "[I 2019-02-02 10:56:41,878] Finished a trial resulted in value: 3.6529369761677954. Current best value is 3.650343190417149 with parameters: {'boosting': 'dart', 'num_leaves': 27, 'colsample_bytree': 0.2068339177163882, 'subsample': 0.0056315499110544676, 'max_depth': 5, 'reg_alpha': 1.552663629755588, 'reg_lambda': 9.132305215875808, 'min_split_gain': 4.876538277957605, 'min_child_weight': 20.688747724636087, 'min_data_in_leaf': 32, 'drop_rate': 0.0019877229191468814, 'skip_drop': 0.8896503470922534}.\n"
     ]
    },
    {
     "name": "stdout",
     "output_type": "stream",
     "text": [
      "[100]\tcv_agg's rmse: 3.72568 + 0.00392254\n",
      "[200]\tcv_agg's rmse: 3.69592 + 0.0062044\n",
      "[300]\tcv_agg's rmse: 3.68636 + 0.00646801\n",
      "[400]\tcv_agg's rmse: 3.68282 + 0.00658132\n",
      "[500]\tcv_agg's rmse: 3.68291 + 0.00693414\n",
      "[600]\tcv_agg's rmse: 3.68223 + 0.00697846\n",
      "[700]\tcv_agg's rmse: 3.67972 + 0.00658204\n",
      "[800]\tcv_agg's rmse: 3.6778 + 0.00694045\n",
      "[900]\tcv_agg's rmse: 3.67865 + 0.00705329\n",
      "[1000]\tcv_agg's rmse: 3.6769 + 0.00730957\n",
      "[1100]\tcv_agg's rmse: 3.67764 + 0.00732571\n"
     ]
    },
    {
     "name": "stderr",
     "output_type": "stream",
     "text": [
      "[I 2019-02-02 11:07:10,023] Finished a trial resulted in value: 3.676804499882705. Current best value is 3.650343190417149 with parameters: {'boosting': 'dart', 'num_leaves': 27, 'colsample_bytree': 0.2068339177163882, 'subsample': 0.0056315499110544676, 'max_depth': 5, 'reg_alpha': 1.552663629755588, 'reg_lambda': 9.132305215875808, 'min_split_gain': 4.876538277957605, 'min_child_weight': 20.688747724636087, 'min_data_in_leaf': 32, 'drop_rate': 0.0019877229191468814, 'skip_drop': 0.8896503470922534}.\n"
     ]
    },
    {
     "name": "stdout",
     "output_type": "stream",
     "text": [
      "[100]\tcv_agg's rmse: 3.86661 + 0.00298084\n",
      "[200]\tcv_agg's rmse: 3.86461 + 0.00292715\n"
     ]
    },
    {
     "name": "stderr",
     "output_type": "stream",
     "text": [
      "[I 2019-02-02 11:10:09,481] Finished a trial resulted in value: 3.848686900814234. Current best value is 3.650343190417149 with parameters: {'boosting': 'dart', 'num_leaves': 27, 'colsample_bytree': 0.2068339177163882, 'subsample': 0.0056315499110544676, 'max_depth': 5, 'reg_alpha': 1.552663629755588, 'reg_lambda': 9.132305215875808, 'min_split_gain': 4.876538277957605, 'min_child_weight': 20.688747724636087, 'min_data_in_leaf': 32, 'drop_rate': 0.0019877229191468814, 'skip_drop': 0.8896503470922534}.\n"
     ]
    },
    {
     "name": "stdout",
     "output_type": "stream",
     "text": [
      "[100]\tcv_agg's rmse: 3.72595 + 0.00461787\n",
      "[200]\tcv_agg's rmse: 3.6946 + 0.0074279\n",
      "[300]\tcv_agg's rmse: 3.68119 + 0.00815751\n",
      "[400]\tcv_agg's rmse: 3.67252 + 0.00878593\n",
      "[500]\tcv_agg's rmse: 3.66697 + 0.00924115\n",
      "[600]\tcv_agg's rmse: 3.66324 + 0.00977313\n",
      "[700]\tcv_agg's rmse: 3.66102 + 0.0100704\n",
      "[800]\tcv_agg's rmse: 3.6594 + 0.0102621\n",
      "[900]\tcv_agg's rmse: 3.6582 + 0.0103656\n",
      "[1000]\tcv_agg's rmse: 3.6572 + 0.0105515\n",
      "[1100]\tcv_agg's rmse: 3.65656 + 0.0107273\n",
      "[1200]\tcv_agg's rmse: 3.65597 + 0.0107075\n",
      "[1300]\tcv_agg's rmse: 3.65556 + 0.0106854\n",
      "[1400]\tcv_agg's rmse: 3.65522 + 0.010665\n",
      "[1500]\tcv_agg's rmse: 3.65489 + 0.0105436\n",
      "[1600]\tcv_agg's rmse: 3.65469 + 0.0106584\n",
      "[1700]\tcv_agg's rmse: 3.65461 + 0.0106965\n",
      "[1800]\tcv_agg's rmse: 3.65456 + 0.0106063\n",
      "[1900]\tcv_agg's rmse: 3.65436 + 0.0106369\n",
      "[2000]\tcv_agg's rmse: 3.65434 + 0.010546\n",
      "[2100]\tcv_agg's rmse: 3.65422 + 0.0104833\n",
      "[2200]\tcv_agg's rmse: 3.65414 + 0.0104494\n",
      "[2300]\tcv_agg's rmse: 3.65411 + 0.01028\n",
      "[2400]\tcv_agg's rmse: 3.65412 + 0.0101171\n",
      "[2500]\tcv_agg's rmse: 3.65391 + 0.00992432\n",
      "[2600]\tcv_agg's rmse: 3.654 + 0.00978298\n",
      "[2700]\tcv_agg's rmse: 3.65404 + 0.00970896\n"
     ]
    },
    {
     "name": "stderr",
     "output_type": "stream",
     "text": [
      "[I 2019-02-02 11:18:51,978] Finished a trial resulted in value: 3.6538567935084516. Current best value is 3.650343190417149 with parameters: {'boosting': 'dart', 'num_leaves': 27, 'colsample_bytree': 0.2068339177163882, 'subsample': 0.0056315499110544676, 'max_depth': 5, 'reg_alpha': 1.552663629755588, 'reg_lambda': 9.132305215875808, 'min_split_gain': 4.876538277957605, 'min_child_weight': 20.688747724636087, 'min_data_in_leaf': 32, 'drop_rate': 0.0019877229191468814, 'skip_drop': 0.8896503470922534}.\n"
     ]
    },
    {
     "name": "stdout",
     "output_type": "stream",
     "text": [
      "[100]\tcv_agg's rmse: 3.71833 + 0.00419693\n",
      "[200]\tcv_agg's rmse: 3.68625 + 0.00661767\n",
      "[300]\tcv_agg's rmse: 3.67388 + 0.00781395\n",
      "[400]\tcv_agg's rmse: 3.66617 + 0.00888509\n",
      "[500]\tcv_agg's rmse: 3.66143 + 0.00935177\n",
      "[600]\tcv_agg's rmse: 3.65842 + 0.00965251\n",
      "[700]\tcv_agg's rmse: 3.65661 + 0.00985046\n",
      "[800]\tcv_agg's rmse: 3.65535 + 0.0102102\n",
      "[900]\tcv_agg's rmse: 3.65462 + 0.0101346\n",
      "[1000]\tcv_agg's rmse: 3.65404 + 0.0100678\n",
      "[1100]\tcv_agg's rmse: 3.65369 + 0.0100998\n",
      "[1200]\tcv_agg's rmse: 3.65354 + 0.00993173\n",
      "[1300]\tcv_agg's rmse: 3.65354 + 0.0097584\n",
      "[1400]\tcv_agg's rmse: 3.65379 + 0.009591\n"
     ]
    },
    {
     "name": "stderr",
     "output_type": "stream",
     "text": [
      "[I 2019-02-02 11:27:36,213] Finished a trial resulted in value: 3.653487893204366. Current best value is 3.650343190417149 with parameters: {'boosting': 'dart', 'num_leaves': 27, 'colsample_bytree': 0.2068339177163882, 'subsample': 0.0056315499110544676, 'max_depth': 5, 'reg_alpha': 1.552663629755588, 'reg_lambda': 9.132305215875808, 'min_split_gain': 4.876538277957605, 'min_child_weight': 20.688747724636087, 'min_data_in_leaf': 32, 'drop_rate': 0.0019877229191468814, 'skip_drop': 0.8896503470922534}.\n"
     ]
    },
    {
     "name": "stdout",
     "output_type": "stream",
     "text": [
      "[100]\tcv_agg's rmse: 3.74474 + 0.00348892\n",
      "[200]\tcv_agg's rmse: 3.72053 + 0.00480913\n",
      "[300]\tcv_agg's rmse: 3.70966 + 0.00520111\n",
      "[400]\tcv_agg's rmse: 3.70583 + 0.00542222\n",
      "[500]\tcv_agg's rmse: 3.70567 + 0.00526674\n",
      "[600]\tcv_agg's rmse: 3.70246 + 0.00528949\n",
      "[700]\tcv_agg's rmse: 3.69969 + 0.00565165\n",
      "[800]\tcv_agg's rmse: 3.70097 + 0.00533037\n"
     ]
    },
    {
     "name": "stderr",
     "output_type": "stream",
     "text": [
      "[I 2019-02-02 11:30:00,351] Finished a trial resulted in value: 3.699421985055372. Current best value is 3.650343190417149 with parameters: {'boosting': 'dart', 'num_leaves': 27, 'colsample_bytree': 0.2068339177163882, 'subsample': 0.0056315499110544676, 'max_depth': 5, 'reg_alpha': 1.552663629755588, 'reg_lambda': 9.132305215875808, 'min_split_gain': 4.876538277957605, 'min_child_weight': 20.688747724636087, 'min_data_in_leaf': 32, 'drop_rate': 0.0019877229191468814, 'skip_drop': 0.8896503470922534}.\n"
     ]
    },
    {
     "name": "stdout",
     "output_type": "stream",
     "text": [
      "[100]\tcv_agg's rmse: 3.78412 + 0.0031777\n",
      "[200]\tcv_agg's rmse: 9.02014e+12 + 1.80403e+13\n",
      "[300]\tcv_agg's rmse: 2.29873e+18 + 4.59745e+18\n"
     ]
    },
    {
     "name": "stderr",
     "output_type": "stream",
     "text": [
      "[I 2019-02-02 11:30:33,273] Finished a trial resulted in value: 3.7841185454113124. Current best value is 3.650343190417149 with parameters: {'boosting': 'dart', 'num_leaves': 27, 'colsample_bytree': 0.2068339177163882, 'subsample': 0.0056315499110544676, 'max_depth': 5, 'reg_alpha': 1.552663629755588, 'reg_lambda': 9.132305215875808, 'min_split_gain': 4.876538277957605, 'min_child_weight': 20.688747724636087, 'min_data_in_leaf': 32, 'drop_rate': 0.0019877229191468814, 'skip_drop': 0.8896503470922534}.\n"
     ]
    },
    {
     "name": "stdout",
     "output_type": "stream",
     "text": [
      "[100]\tcv_agg's rmse: 3.71236 + 0.00501413\n",
      "[200]\tcv_agg's rmse: 3.68036 + 0.00703965\n",
      "[300]\tcv_agg's rmse: 3.66832 + 0.007183\n",
      "[400]\tcv_agg's rmse: 3.66219 + 0.00785338\n",
      "[500]\tcv_agg's rmse: 3.65937 + 0.00840572\n",
      "[600]\tcv_agg's rmse: 3.65833 + 0.00892057\n",
      "[700]\tcv_agg's rmse: 3.65799 + 0.00906254\n",
      "[800]\tcv_agg's rmse: 3.65785 + 0.00898338\n",
      "[900]\tcv_agg's rmse: 3.65794 + 0.00892535\n",
      "[1000]\tcv_agg's rmse: 3.65806 + 0.00883372\n"
     ]
    },
    {
     "name": "stderr",
     "output_type": "stream",
     "text": [
      "[I 2019-02-02 11:42:01,885] Finished a trial resulted in value: 3.6577817727922266. Current best value is 3.650343190417149 with parameters: {'boosting': 'dart', 'num_leaves': 27, 'colsample_bytree': 0.2068339177163882, 'subsample': 0.0056315499110544676, 'max_depth': 5, 'reg_alpha': 1.552663629755588, 'reg_lambda': 9.132305215875808, 'min_split_gain': 4.876538277957605, 'min_child_weight': 20.688747724636087, 'min_data_in_leaf': 32, 'drop_rate': 0.0019877229191468814, 'skip_drop': 0.8896503470922534}.\n"
     ]
    },
    {
     "name": "stdout",
     "output_type": "stream",
     "text": [
      "[100]\tcv_agg's rmse: 3.7581 + 0.00328647\n",
      "[200]\tcv_agg's rmse: 3.73198 + 0.00404247\n",
      "[300]\tcv_agg's rmse: 3.72606 + 0.00428453\n",
      "[400]\tcv_agg's rmse: 3.72442 + 0.0043031\n",
      "[500]\tcv_agg's rmse: 3.72476 + 0.00434733\n"
     ]
    },
    {
     "name": "stderr",
     "output_type": "stream",
     "text": [
      "[I 2019-02-02 11:44:21,881] Finished a trial resulted in value: 3.7238032616719168. Current best value is 3.650343190417149 with parameters: {'boosting': 'dart', 'num_leaves': 27, 'colsample_bytree': 0.2068339177163882, 'subsample': 0.0056315499110544676, 'max_depth': 5, 'reg_alpha': 1.552663629755588, 'reg_lambda': 9.132305215875808, 'min_split_gain': 4.876538277957605, 'min_child_weight': 20.688747724636087, 'min_data_in_leaf': 32, 'drop_rate': 0.0019877229191468814, 'skip_drop': 0.8896503470922534}.\n"
     ]
    },
    {
     "name": "stdout",
     "output_type": "stream",
     "text": [
      "[100]\tcv_agg's rmse: 3.71824 + 0.00363762\n",
      "[200]\tcv_agg's rmse: 3.68224 + 0.00667905\n",
      "[300]\tcv_agg's rmse: 3.66909 + 0.0075473\n",
      "[400]\tcv_agg's rmse: 3.66175 + 0.00830047\n",
      "[500]\tcv_agg's rmse: 3.65774 + 0.00868728\n",
      "[600]\tcv_agg's rmse: 4.03281 + 0.301562\n",
      "[700]\tcv_agg's rmse: 3.02168e+09 + 6.04336e+09\n"
     ]
    },
    {
     "name": "stderr",
     "output_type": "stream",
     "text": [
      "[I 2019-02-02 11:48:09,629] Finished a trial resulted in value: 3.656027759359602. Current best value is 3.650343190417149 with parameters: {'boosting': 'dart', 'num_leaves': 27, 'colsample_bytree': 0.2068339177163882, 'subsample': 0.0056315499110544676, 'max_depth': 5, 'reg_alpha': 1.552663629755588, 'reg_lambda': 9.132305215875808, 'min_split_gain': 4.876538277957605, 'min_child_weight': 20.688747724636087, 'min_data_in_leaf': 32, 'drop_rate': 0.0019877229191468814, 'skip_drop': 0.8896503470922534}.\n"
     ]
    },
    {
     "name": "stdout",
     "output_type": "stream",
     "text": [
      "[100]\tcv_agg's rmse: 3.71397 + 0.00368558\n",
      "[200]\tcv_agg's rmse: 3.68651 + 0.00683663\n",
      "[300]\tcv_agg's rmse: 3.6692 + 0.0081174\n",
      "[400]\tcv_agg's rmse: 3.66195 + 0.00889791\n",
      "[500]\tcv_agg's rmse: 3.6578 + 0.00980488\n",
      "[600]\tcv_agg's rmse: 3.65549 + 0.0102017\n",
      "[700]\tcv_agg's rmse: 3.65385 + 0.0105131\n",
      "[800]\tcv_agg's rmse: 3.65313 + 0.0108441\n",
      "[900]\tcv_agg's rmse: 3.65266 + 0.010812\n",
      "[1000]\tcv_agg's rmse: 3.65248 + 0.0105783\n",
      "[1100]\tcv_agg's rmse: 3.65253 + 0.0105622\n",
      "[1200]\tcv_agg's rmse: 3.65262 + 0.0106346\n",
      "[1300]\tcv_agg's rmse: 3.6525 + 0.0107037\n",
      "[1400]\tcv_agg's rmse: 3.65246 + 0.0105564\n",
      "[1500]\tcv_agg's rmse: 3.65264 + 0.0103577\n",
      "[1600]\tcv_agg's rmse: 3.65276 + 0.0104019\n"
     ]
    },
    {
     "name": "stderr",
     "output_type": "stream",
     "text": [
      "[I 2019-02-02 11:55:40,700] Finished a trial resulted in value: 3.652353191329497. Current best value is 3.650343190417149 with parameters: {'boosting': 'dart', 'num_leaves': 27, 'colsample_bytree': 0.2068339177163882, 'subsample': 0.0056315499110544676, 'max_depth': 5, 'reg_alpha': 1.552663629755588, 'reg_lambda': 9.132305215875808, 'min_split_gain': 4.876538277957605, 'min_child_weight': 20.688747724636087, 'min_data_in_leaf': 32, 'drop_rate': 0.0019877229191468814, 'skip_drop': 0.8896503470922534}.\n"
     ]
    },
    {
     "name": "stdout",
     "output_type": "stream",
     "text": [
      "[100]\tcv_agg's rmse: 3.71489 + 0.00414736\n",
      "[200]\tcv_agg's rmse: 3.68182 + 0.0065323\n",
      "[300]\tcv_agg's rmse: 3.66881 + 0.00747819\n",
      "[400]\tcv_agg's rmse: 3.66177 + 0.00853168\n",
      "[500]\tcv_agg's rmse: 3.65769 + 0.00879837\n",
      "[600]\tcv_agg's rmse: 3.65517 + 0.00928112\n",
      "[700]\tcv_agg's rmse: 3.65402 + 0.00960633\n",
      "[800]\tcv_agg's rmse: 3.65353 + 0.00996123\n",
      "[900]\tcv_agg's rmse: 3.65312 + 0.0100923\n",
      "[1000]\tcv_agg's rmse: 3.65279 + 0.0100567\n",
      "[1100]\tcv_agg's rmse: 3.65268 + 0.00983987\n",
      "[1200]\tcv_agg's rmse: 3.65267 + 0.00976744\n"
     ]
    },
    {
     "name": "stderr",
     "output_type": "stream",
     "text": [
      "[I 2019-02-02 12:02:55,755] Finished a trial resulted in value: 3.6525536793795497. Current best value is 3.650343190417149 with parameters: {'boosting': 'dart', 'num_leaves': 27, 'colsample_bytree': 0.2068339177163882, 'subsample': 0.0056315499110544676, 'max_depth': 5, 'reg_alpha': 1.552663629755588, 'reg_lambda': 9.132305215875808, 'min_split_gain': 4.876538277957605, 'min_child_weight': 20.688747724636087, 'min_data_in_leaf': 32, 'drop_rate': 0.0019877229191468814, 'skip_drop': 0.8896503470922534}.\n"
     ]
    },
    {
     "name": "stdout",
     "output_type": "stream",
     "text": [
      "[100]\tcv_agg's rmse: 3.72435 + 0.00374851\n",
      "[200]\tcv_agg's rmse: 3.69224 + 0.00661134\n",
      "[300]\tcv_agg's rmse: 3.67868 + 0.00759021\n",
      "[400]\tcv_agg's rmse: 3.67063 + 0.00849714\n",
      "[500]\tcv_agg's rmse: 3.66536 + 0.00878416\n",
      "[600]\tcv_agg's rmse: 3.66226 + 0.0093922\n",
      "[700]\tcv_agg's rmse: 3.66052 + 0.0096839\n",
      "[800]\tcv_agg's rmse: 3.65921 + 0.00997103\n",
      "[900]\tcv_agg's rmse: 3.65799 + 0.0102259\n",
      "[1000]\tcv_agg's rmse: 3.65705 + 0.0104642\n",
      "[1100]\tcv_agg's rmse: 3.65628 + 0.0103843\n",
      "[1200]\tcv_agg's rmse: 3.65566 + 0.0101754\n",
      "[1300]\tcv_agg's rmse: 3.65537 + 0.0101765\n",
      "[1400]\tcv_agg's rmse: 3.65515 + 0.0102105\n",
      "[1500]\tcv_agg's rmse: 3.65504 + 0.0102881\n",
      "[1600]\tcv_agg's rmse: 3.65495 + 0.0104347\n",
      "[1700]\tcv_agg's rmse: 3.65508 + 0.0103897\n"
     ]
    },
    {
     "name": "stderr",
     "output_type": "stream",
     "text": [
      "[I 2019-02-02 12:11:59,713] Finished a trial resulted in value: 3.654913379702851. Current best value is 3.650343190417149 with parameters: {'boosting': 'dart', 'num_leaves': 27, 'colsample_bytree': 0.2068339177163882, 'subsample': 0.0056315499110544676, 'max_depth': 5, 'reg_alpha': 1.552663629755588, 'reg_lambda': 9.132305215875808, 'min_split_gain': 4.876538277957605, 'min_child_weight': 20.688747724636087, 'min_data_in_leaf': 32, 'drop_rate': 0.0019877229191468814, 'skip_drop': 0.8896503470922534}.\n"
     ]
    },
    {
     "name": "stdout",
     "output_type": "stream",
     "text": [
      "[100]\tcv_agg's rmse: 3.72153 + 0.00429874\n",
      "[200]\tcv_agg's rmse: 3.68986 + 0.00682267\n",
      "[300]\tcv_agg's rmse: 3.67655 + 0.00798778\n",
      "[400]\tcv_agg's rmse: 3.66811 + 0.00858882\n",
      "[500]\tcv_agg's rmse: 3.66297 + 0.00916853\n",
      "[600]\tcv_agg's rmse: 3.65988 + 0.00949866\n",
      "[700]\tcv_agg's rmse: 3.65764 + 0.00976468\n",
      "[800]\tcv_agg's rmse: 3.65626 + 0.0098878\n",
      "[900]\tcv_agg's rmse: 3.6555 + 0.0102418\n",
      "[1000]\tcv_agg's rmse: 3.65492 + 0.0102492\n",
      "[1100]\tcv_agg's rmse: 3.65426 + 0.0102656\n",
      "[1200]\tcv_agg's rmse: 3.65407 + 0.0101809\n",
      "[1300]\tcv_agg's rmse: 3.65382 + 0.0101366\n",
      "[1400]\tcv_agg's rmse: 3.65367 + 0.0101818\n",
      "[1500]\tcv_agg's rmse: 3.65356 + 0.0101973\n",
      "[1600]\tcv_agg's rmse: 3.65343 + 0.0101401\n",
      "[1700]\tcv_agg's rmse: 3.65345 + 0.0100226\n",
      "[1800]\tcv_agg's rmse: 3.65347 + 0.0100827\n",
      "[1900]\tcv_agg's rmse: 3.65345 + 0.0100044\n",
      "[2000]\tcv_agg's rmse: 3.65352 + 0.010011\n"
     ]
    },
    {
     "name": "stderr",
     "output_type": "stream",
     "text": [
      "[I 2019-02-02 12:20:56,912] Finished a trial resulted in value: 3.6533424260988. Current best value is 3.650343190417149 with parameters: {'boosting': 'dart', 'num_leaves': 27, 'colsample_bytree': 0.2068339177163882, 'subsample': 0.0056315499110544676, 'max_depth': 5, 'reg_alpha': 1.552663629755588, 'reg_lambda': 9.132305215875808, 'min_split_gain': 4.876538277957605, 'min_child_weight': 20.688747724636087, 'min_data_in_leaf': 32, 'drop_rate': 0.0019877229191468814, 'skip_drop': 0.8896503470922534}.\n"
     ]
    },
    {
     "name": "stdout",
     "output_type": "stream",
     "text": [
      "[100]\tcv_agg's rmse: 3.7394 + 0.00409534\n",
      "[200]\tcv_agg's rmse: 3.70271 + 0.00583795\n",
      "[300]\tcv_agg's rmse: 3.68782 + 0.00722598\n",
      "[400]\tcv_agg's rmse: 3.67911 + 0.00802276\n",
      "[500]\tcv_agg's rmse: 3.67315 + 0.00859569\n",
      "[600]\tcv_agg's rmse: 3.66912 + 0.00871236\n",
      "[700]\tcv_agg's rmse: 3.666 + 0.00911849\n",
      "[800]\tcv_agg's rmse: 3.66397 + 0.00941287\n",
      "[900]\tcv_agg's rmse: 3.66211 + 0.00968199\n",
      "[1000]\tcv_agg's rmse: 3.66085 + 0.00991072\n",
      "[1100]\tcv_agg's rmse: 3.65992 + 0.00986934\n",
      "[1200]\tcv_agg's rmse: 3.65901 + 0.00990575\n",
      "[1300]\tcv_agg's rmse: 3.6585 + 0.0100534\n",
      "[1400]\tcv_agg's rmse: 3.65807 + 0.0100316\n",
      "[1500]\tcv_agg's rmse: 3.65756 + 0.00999939\n",
      "[1600]\tcv_agg's rmse: 3.65721 + 0.00988315\n",
      "[1700]\tcv_agg's rmse: 3.65685 + 0.00992871\n",
      "[1800]\tcv_agg's rmse: 3.65661 + 0.00996224\n",
      "[1900]\tcv_agg's rmse: 3.65661 + 0.00976777\n",
      "[2000]\tcv_agg's rmse: 3.65642 + 0.0097812\n",
      "[2100]\tcv_agg's rmse: 3.65614 + 0.0097483\n",
      "[2200]\tcv_agg's rmse: 3.65607 + 0.009708\n",
      "[2300]\tcv_agg's rmse: 3.65607 + 0.00967403\n",
      "[2400]\tcv_agg's rmse: 3.65602 + 0.00966749\n",
      "[2500]\tcv_agg's rmse: 3.65597 + 0.00972784\n",
      "[2600]\tcv_agg's rmse: 3.65613 + 0.00962995\n"
     ]
    },
    {
     "name": "stderr",
     "output_type": "stream",
     "text": [
      "[I 2019-02-02 12:24:14,433] Finished a trial resulted in value: 3.655908333948747. Current best value is 3.650343190417149 with parameters: {'boosting': 'dart', 'num_leaves': 27, 'colsample_bytree': 0.2068339177163882, 'subsample': 0.0056315499110544676, 'max_depth': 5, 'reg_alpha': 1.552663629755588, 'reg_lambda': 9.132305215875808, 'min_split_gain': 4.876538277957605, 'min_child_weight': 20.688747724636087, 'min_data_in_leaf': 32, 'drop_rate': 0.0019877229191468814, 'skip_drop': 0.8896503470922534}.\n"
     ]
    },
    {
     "name": "stdout",
     "output_type": "stream",
     "text": [
      "[100]\tcv_agg's rmse: 3.70692 + 0.00503478\n",
      "[200]\tcv_agg's rmse: 3.67386 + 0.00813273\n",
      "[300]\tcv_agg's rmse: 3.66212 + 0.00881542\n",
      "[400]\tcv_agg's rmse: 3.6566 + 0.00961461\n",
      "[500]\tcv_agg's rmse: 3.65417 + 0.0102103\n",
      "[600]\tcv_agg's rmse: 3.65308 + 0.0105003\n",
      "[700]\tcv_agg's rmse: 3.65254 + 0.010567\n",
      "[800]\tcv_agg's rmse: 3.65245 + 0.0105133\n",
      "[900]\tcv_agg's rmse: 3.65244 + 0.0103889\n",
      "[1000]\tcv_agg's rmse: 3.65253 + 0.0100644\n"
     ]
    },
    {
     "name": "stderr",
     "output_type": "stream",
     "text": [
      "[I 2019-02-02 12:33:27,675] Finished a trial resulted in value: 3.652334529779851. Current best value is 3.650343190417149 with parameters: {'boosting': 'dart', 'num_leaves': 27, 'colsample_bytree': 0.2068339177163882, 'subsample': 0.0056315499110544676, 'max_depth': 5, 'reg_alpha': 1.552663629755588, 'reg_lambda': 9.132305215875808, 'min_split_gain': 4.876538277957605, 'min_child_weight': 20.688747724636087, 'min_data_in_leaf': 32, 'drop_rate': 0.0019877229191468814, 'skip_drop': 0.8896503470922534}.\n"
     ]
    },
    {
     "name": "stdout",
     "output_type": "stream",
     "text": [
      "[100]\tcv_agg's rmse: 3.72225 + 0.00374771\n",
      "[200]\tcv_agg's rmse: 3.69019 + 0.00614632\n",
      "[300]\tcv_agg's rmse: 3.67678 + 0.00727423\n",
      "[400]\tcv_agg's rmse: 3.66848 + 0.00822757\n",
      "[500]\tcv_agg's rmse: 3.66345 + 0.00908055\n",
      "[600]\tcv_agg's rmse: 3.66023 + 0.00926403\n",
      "[700]\tcv_agg's rmse: 3.65831 + 0.00967666\n",
      "[800]\tcv_agg's rmse: 3.65705 + 0.00993429\n",
      "[900]\tcv_agg's rmse: 3.65607 + 0.0100706\n",
      "[1000]\tcv_agg's rmse: 3.6554 + 0.010462\n",
      "[1100]\tcv_agg's rmse: 3.6548 + 0.0104977\n",
      "[1200]\tcv_agg's rmse: 3.65459 + 0.0104089\n",
      "[1300]\tcv_agg's rmse: 3.65432 + 0.0103647\n",
      "[1400]\tcv_agg's rmse: 3.65403 + 0.0103068\n",
      "[1500]\tcv_agg's rmse: 3.65396 + 0.0102775\n",
      "[1600]\tcv_agg's rmse: 3.65386 + 0.0104545\n",
      "[1700]\tcv_agg's rmse: 3.65385 + 0.0105887\n",
      "[1800]\tcv_agg's rmse: 3.65378 + 0.01045\n",
      "[1900]\tcv_agg's rmse: 3.65378 + 0.0103169\n",
      "[2000]\tcv_agg's rmse: 3.65383 + 0.0103248\n"
     ]
    },
    {
     "name": "stderr",
     "output_type": "stream",
     "text": [
      "[I 2019-02-02 12:41:56,606] Finished a trial resulted in value: 3.6537355971969077. Current best value is 3.650343190417149 with parameters: {'boosting': 'dart', 'num_leaves': 27, 'colsample_bytree': 0.2068339177163882, 'subsample': 0.0056315499110544676, 'max_depth': 5, 'reg_alpha': 1.552663629755588, 'reg_lambda': 9.132305215875808, 'min_split_gain': 4.876538277957605, 'min_child_weight': 20.688747724636087, 'min_data_in_leaf': 32, 'drop_rate': 0.0019877229191468814, 'skip_drop': 0.8896503470922534}.\n"
     ]
    },
    {
     "name": "stdout",
     "output_type": "stream",
     "text": [
      "[100]\tcv_agg's rmse: 3.72066 + 0.00473894\n",
      "[200]\tcv_agg's rmse: 3.68513 + 0.00667835\n",
      "[300]\tcv_agg's rmse: 3.67201 + 0.00775972\n",
      "[400]\tcv_agg's rmse: 3.66508 + 0.00841781\n",
      "[500]\tcv_agg's rmse: 3.66071 + 0.0089174\n",
      "[600]\tcv_agg's rmse: 3.65734 + 0.00929707\n",
      "[700]\tcv_agg's rmse: 3.65506 + 0.00945556\n",
      "[800]\tcv_agg's rmse: 3.6537 + 0.00944702\n",
      "[900]\tcv_agg's rmse: 3.65263 + 0.00957837\n",
      "[1000]\tcv_agg's rmse: 3.65198 + 0.00965009\n",
      "[1100]\tcv_agg's rmse: 3.65172 + 0.00962348\n",
      "[1200]\tcv_agg's rmse: 3.65142 + 0.00965904\n",
      "[1300]\tcv_agg's rmse: 3.65129 + 0.00945742\n",
      "[1400]\tcv_agg's rmse: 3.65118 + 0.00932088\n",
      "[1500]\tcv_agg's rmse: 3.65114 + 0.00930079\n",
      "[1600]\tcv_agg's rmse: 3.65096 + 0.0091938\n",
      "[1700]\tcv_agg's rmse: 3.6511 + 0.00907822\n"
     ]
    },
    {
     "name": "stderr",
     "output_type": "stream",
     "text": [
      "[I 2019-02-02 12:46:02,584] Finished a trial resulted in value: 3.650949880886518. Current best value is 3.650343190417149 with parameters: {'boosting': 'dart', 'num_leaves': 27, 'colsample_bytree': 0.2068339177163882, 'subsample': 0.0056315499110544676, 'max_depth': 5, 'reg_alpha': 1.552663629755588, 'reg_lambda': 9.132305215875808, 'min_split_gain': 4.876538277957605, 'min_child_weight': 20.688747724636087, 'min_data_in_leaf': 32, 'drop_rate': 0.0019877229191468814, 'skip_drop': 0.8896503470922534}.\n"
     ]
    },
    {
     "name": "stdout",
     "output_type": "stream",
     "text": [
      "[100]\tcv_agg's rmse: 3.71479 + 0.00426408\n",
      "[200]\tcv_agg's rmse: 3.68066 + 0.00635609\n",
      "[300]\tcv_agg's rmse: 3.66785 + 0.00718145\n",
      "[400]\tcv_agg's rmse: 3.66059 + 0.00783223\n",
      "[500]\tcv_agg's rmse: 3.65672 + 0.00830876\n",
      "[600]\tcv_agg's rmse: 3.65435 + 0.00884305\n",
      "[700]\tcv_agg's rmse: 3.65262 + 0.0088744\n",
      "[800]\tcv_agg's rmse: 3.65191 + 0.00900548\n",
      "[900]\tcv_agg's rmse: 3.65132 + 0.00901942\n",
      "[1000]\tcv_agg's rmse: 3.65105 + 0.00900524\n",
      "[1100]\tcv_agg's rmse: 3.65082 + 0.00899272\n",
      "[1200]\tcv_agg's rmse: 3.65103 + 0.0091113\n"
     ]
    },
    {
     "name": "stderr",
     "output_type": "stream",
     "text": [
      "[I 2019-02-02 12:50:52,744] Finished a trial resulted in value: 3.650816063917987. Current best value is 3.650343190417149 with parameters: {'boosting': 'dart', 'num_leaves': 27, 'colsample_bytree': 0.2068339177163882, 'subsample': 0.0056315499110544676, 'max_depth': 5, 'reg_alpha': 1.552663629755588, 'reg_lambda': 9.132305215875808, 'min_split_gain': 4.876538277957605, 'min_child_weight': 20.688747724636087, 'min_data_in_leaf': 32, 'drop_rate': 0.0019877229191468814, 'skip_drop': 0.8896503470922534}.\n"
     ]
    },
    {
     "name": "stdout",
     "output_type": "stream",
     "text": [
      "[100]\tcv_agg's rmse: 3.72809 + 0.00376541\n",
      "[200]\tcv_agg's rmse: 3.69258 + 0.00592126\n",
      "[300]\tcv_agg's rmse: 3.67767 + 0.00684586\n",
      "[400]\tcv_agg's rmse: 3.67006 + 0.00746128\n",
      "[500]\tcv_agg's rmse: 3.66515 + 0.00778072\n",
      "[600]\tcv_agg's rmse: 3.66184 + 0.00827146\n",
      "[700]\tcv_agg's rmse: 3.65953 + 0.00856882\n",
      "[800]\tcv_agg's rmse: 3.65787 + 0.00899199\n",
      "[900]\tcv_agg's rmse: 3.65675 + 0.00903531\n",
      "[1000]\tcv_agg's rmse: 3.65556 + 0.00918661\n",
      "[1100]\tcv_agg's rmse: 3.65454 + 0.00935364\n",
      "[1200]\tcv_agg's rmse: 3.65389 + 0.00924308\n",
      "[1300]\tcv_agg's rmse: 3.65338 + 0.00923578\n",
      "[1400]\tcv_agg's rmse: 3.65271 + 0.00923248\n",
      "[1500]\tcv_agg's rmse: 3.65247 + 0.00935122\n",
      "[1600]\tcv_agg's rmse: 3.65241 + 0.00938901\n",
      "[1700]\tcv_agg's rmse: 3.65232 + 0.00929761\n",
      "[1800]\tcv_agg's rmse: 3.65221 + 0.00942768\n",
      "[1900]\tcv_agg's rmse: 3.6521 + 0.00946971\n",
      "[2000]\tcv_agg's rmse: 3.65209 + 0.00944372\n",
      "[2100]\tcv_agg's rmse: 3.65213 + 0.00944178\n",
      "[2200]\tcv_agg's rmse: 3.65223 + 0.00939367\n"
     ]
    },
    {
     "name": "stderr",
     "output_type": "stream",
     "text": [
      "[I 2019-02-02 12:54:15,302] Finished a trial resulted in value: 3.6520367717756854. Current best value is 3.650343190417149 with parameters: {'boosting': 'dart', 'num_leaves': 27, 'colsample_bytree': 0.2068339177163882, 'subsample': 0.0056315499110544676, 'max_depth': 5, 'reg_alpha': 1.552663629755588, 'reg_lambda': 9.132305215875808, 'min_split_gain': 4.876538277957605, 'min_child_weight': 20.688747724636087, 'min_data_in_leaf': 32, 'drop_rate': 0.0019877229191468814, 'skip_drop': 0.8896503470922534}.\n"
     ]
    },
    {
     "name": "stdout",
     "output_type": "stream",
     "text": [
      "[100]\tcv_agg's rmse: 3.72209 + 0.00463465\n",
      "[200]\tcv_agg's rmse: 3.6863 + 0.00703614\n",
      "[300]\tcv_agg's rmse: 3.67276 + 0.00796384\n",
      "[400]\tcv_agg's rmse: 3.66585 + 0.00843938\n",
      "[500]\tcv_agg's rmse: 3.66156 + 0.0089554\n",
      "[600]\tcv_agg's rmse: 3.65791 + 0.00952713\n",
      "[700]\tcv_agg's rmse: 3.65549 + 0.00980986\n",
      "[800]\tcv_agg's rmse: 3.65382 + 0.00998451\n",
      "[900]\tcv_agg's rmse: 3.65281 + 0.00992382\n",
      "[1000]\tcv_agg's rmse: 3.65205 + 0.00989625\n",
      "[1100]\tcv_agg's rmse: 3.65154 + 0.00998301\n",
      "[1200]\tcv_agg's rmse: 3.6512 + 0.00994255\n",
      "[1300]\tcv_agg's rmse: 3.65082 + 0.0098207\n",
      "[1400]\tcv_agg's rmse: 3.65055 + 0.00987977\n",
      "[1500]\tcv_agg's rmse: 3.65048 + 0.00981455\n",
      "[1600]\tcv_agg's rmse: 3.65042 + 0.00980649\n",
      "[1700]\tcv_agg's rmse: 3.65032 + 0.00981599\n",
      "[1800]\tcv_agg's rmse: 3.65039 + 0.00974143\n"
     ]
    },
    {
     "name": "stderr",
     "output_type": "stream",
     "text": [
      "[I 2019-02-02 12:57:59,337] Finished a trial resulted in value: 3.650264556240228. Current best value is 3.650264556240228 with parameters: {'boosting': 'gbdt', 'num_leaves': 41, 'colsample_bytree': 0.20313649894387328, 'subsample': 0.21440233114338172, 'max_depth': 5, 'reg_alpha': 7.861096156381722, 'reg_lambda': 5.114545160046203, 'min_split_gain': 6.602822904286349, 'min_child_weight': 28.60549189563434, 'min_data_in_leaf': 55}.\n"
     ]
    },
    {
     "name": "stdout",
     "output_type": "stream",
     "text": [
      "[100]\tcv_agg's rmse: 3.72613 + 0.00395627\n",
      "[200]\tcv_agg's rmse: 3.6908 + 0.00636031\n",
      "[300]\tcv_agg's rmse: 3.67711 + 0.00746528\n",
      "[400]\tcv_agg's rmse: 3.66909 + 0.00820658\n",
      "[500]\tcv_agg's rmse: 3.66394 + 0.00862866\n",
      "[600]\tcv_agg's rmse: 3.66013 + 0.00917012\n",
      "[700]\tcv_agg's rmse: 3.65744 + 0.00964135\n",
      "[800]\tcv_agg's rmse: 3.65585 + 0.00990919\n",
      "[900]\tcv_agg's rmse: 3.65446 + 0.0102006\n",
      "[1000]\tcv_agg's rmse: 3.6534 + 0.0104796\n",
      "[1100]\tcv_agg's rmse: 3.65283 + 0.0104305\n",
      "[1200]\tcv_agg's rmse: 3.6523 + 0.010444\n",
      "[1300]\tcv_agg's rmse: 3.65205 + 0.0104859\n",
      "[1400]\tcv_agg's rmse: 3.65173 + 0.0105952\n",
      "[1500]\tcv_agg's rmse: 3.65146 + 0.0105398\n",
      "[1600]\tcv_agg's rmse: 3.65116 + 0.0106116\n",
      "[1700]\tcv_agg's rmse: 3.65115 + 0.0106264\n",
      "[1800]\tcv_agg's rmse: 3.65111 + 0.0106368\n",
      "[1900]\tcv_agg's rmse: 3.65099 + 0.01073\n",
      "[2000]\tcv_agg's rmse: 3.65104 + 0.0108038\n",
      "[2100]\tcv_agg's rmse: 3.65108 + 0.0108381\n"
     ]
    },
    {
     "name": "stderr",
     "output_type": "stream",
     "text": [
      "[I 2019-02-02 13:02:00,401] Finished a trial resulted in value: 3.6509498059369867. Current best value is 3.650264556240228 with parameters: {'boosting': 'gbdt', 'num_leaves': 41, 'colsample_bytree': 0.20313649894387328, 'subsample': 0.21440233114338172, 'max_depth': 5, 'reg_alpha': 7.861096156381722, 'reg_lambda': 5.114545160046203, 'min_split_gain': 6.602822904286349, 'min_child_weight': 28.60549189563434, 'min_data_in_leaf': 55}.\n"
     ]
    },
    {
     "name": "stdout",
     "output_type": "stream",
     "text": [
      "[100]\tcv_agg's rmse: 3.7221 + 0.00460807\n",
      "[200]\tcv_agg's rmse: 3.68636 + 0.00682439\n",
      "[300]\tcv_agg's rmse: 3.67288 + 0.00748843\n",
      "[400]\tcv_agg's rmse: 3.6659 + 0.00804626\n",
      "[500]\tcv_agg's rmse: 3.66152 + 0.00854174\n",
      "[600]\tcv_agg's rmse: 3.65812 + 0.00891241\n",
      "[700]\tcv_agg's rmse: 3.65552 + 0.00915931\n",
      "[800]\tcv_agg's rmse: 3.65383 + 0.00920694\n",
      "[900]\tcv_agg's rmse: 3.6528 + 0.00919925\n",
      "[1000]\tcv_agg's rmse: 3.65202 + 0.00904522\n",
      "[1100]\tcv_agg's rmse: 3.65156 + 0.00906103\n",
      "[1200]\tcv_agg's rmse: 3.65116 + 0.00900691\n",
      "[1300]\tcv_agg's rmse: 3.6509 + 0.0090015\n",
      "[1400]\tcv_agg's rmse: 3.65063 + 0.008871\n",
      "[1500]\tcv_agg's rmse: 3.65048 + 0.00891573\n",
      "[1600]\tcv_agg's rmse: 3.65036 + 0.00877705\n",
      "[1700]\tcv_agg's rmse: 3.65041 + 0.00880238\n",
      "[1800]\tcv_agg's rmse: 3.6504 + 0.00880119\n"
     ]
    },
    {
     "name": "stderr",
     "output_type": "stream",
     "text": [
      "[I 2019-02-02 13:05:42,042] Finished a trial resulted in value: 3.6503215272887304. Current best value is 3.650264556240228 with parameters: {'boosting': 'gbdt', 'num_leaves': 41, 'colsample_bytree': 0.20313649894387328, 'subsample': 0.21440233114338172, 'max_depth': 5, 'reg_alpha': 7.861096156381722, 'reg_lambda': 5.114545160046203, 'min_split_gain': 6.602822904286349, 'min_child_weight': 28.60549189563434, 'min_data_in_leaf': 55}.\n"
     ]
    },
    {
     "name": "stdout",
     "output_type": "stream",
     "text": [
      "[100]\tcv_agg's rmse: 3.76347 + 0.00356269\n",
      "[200]\tcv_agg's rmse: 3.7245 + 0.00480061\n",
      "[300]\tcv_agg's rmse: 3.70353 + 0.00585372\n",
      "[400]\tcv_agg's rmse: 3.69274 + 0.00652725\n",
      "[500]\tcv_agg's rmse: 3.68556 + 0.00708954\n",
      "[600]\tcv_agg's rmse: 3.68064 + 0.00728945\n",
      "[700]\tcv_agg's rmse: 3.67715 + 0.00753911\n",
      "[800]\tcv_agg's rmse: 3.67424 + 0.00767395\n",
      "[900]\tcv_agg's rmse: 3.67184 + 0.00795499\n",
      "[1000]\tcv_agg's rmse: 3.66989 + 0.00811181\n",
      "[1100]\tcv_agg's rmse: 3.66822 + 0.00823027\n",
      "[1200]\tcv_agg's rmse: 3.66688 + 0.00827267\n",
      "[1300]\tcv_agg's rmse: 3.66581 + 0.00826993\n",
      "[1400]\tcv_agg's rmse: 3.66471 + 0.00837322\n",
      "[1500]\tcv_agg's rmse: 3.66382 + 0.00840484\n",
      "[1600]\tcv_agg's rmse: 3.66325 + 0.0085125\n",
      "[1700]\tcv_agg's rmse: 3.66286 + 0.00847171\n",
      "[1800]\tcv_agg's rmse: 3.66228 + 0.00863442\n",
      "[1900]\tcv_agg's rmse: 3.66182 + 0.00876647\n",
      "[2000]\tcv_agg's rmse: 3.66128 + 0.00875761\n",
      "[2100]\tcv_agg's rmse: 3.66101 + 0.00879195\n",
      "[2200]\tcv_agg's rmse: 3.66064 + 0.00876161\n",
      "[2300]\tcv_agg's rmse: 3.66034 + 0.00875128\n",
      "[2400]\tcv_agg's rmse: 3.65998 + 0.00868439\n",
      "[2500]\tcv_agg's rmse: 3.65981 + 0.00872486\n",
      "[2600]\tcv_agg's rmse: 3.65963 + 0.00867577\n",
      "[2700]\tcv_agg's rmse: 3.65943 + 0.00863136\n",
      "[2800]\tcv_agg's rmse: 3.65941 + 0.00859781\n",
      "[2900]\tcv_agg's rmse: 3.65928 + 0.00859359\n",
      "[3000]\tcv_agg's rmse: 3.65917 + 0.00864851\n",
      "[3100]\tcv_agg's rmse: 3.65902 + 0.0087062\n",
      "[3200]\tcv_agg's rmse: 3.65903 + 0.00871894\n",
      "[3300]\tcv_agg's rmse: 3.65896 + 0.00880816\n",
      "[3400]\tcv_agg's rmse: 3.65869 + 0.0087996\n",
      "[3500]\tcv_agg's rmse: 3.65848 + 0.00864784\n",
      "[3600]\tcv_agg's rmse: 3.6585 + 0.00865219\n",
      "[3700]\tcv_agg's rmse: 3.65844 + 0.0086588\n",
      "[3800]\tcv_agg's rmse: 3.65849 + 0.00863984\n"
     ]
    },
    {
     "name": "stderr",
     "output_type": "stream",
     "text": [
      "[I 2019-02-02 13:08:41,677] Finished a trial resulted in value: 3.6584015454265937. Current best value is 3.650264556240228 with parameters: {'boosting': 'gbdt', 'num_leaves': 41, 'colsample_bytree': 0.20313649894387328, 'subsample': 0.21440233114338172, 'max_depth': 5, 'reg_alpha': 7.861096156381722, 'reg_lambda': 5.114545160046203, 'min_split_gain': 6.602822904286349, 'min_child_weight': 28.60549189563434, 'min_data_in_leaf': 55}.\n"
     ]
    },
    {
     "name": "stdout",
     "output_type": "stream",
     "text": [
      "[100]\tcv_agg's rmse: 3.70921 + 0.00501168\n",
      "[200]\tcv_agg's rmse: 3.67521 + 0.0076758\n",
      "[300]\tcv_agg's rmse: 3.66344 + 0.00877432\n",
      "[400]\tcv_agg's rmse: 3.65739 + 0.00914845\n",
      "[500]\tcv_agg's rmse: 3.65409 + 0.00943949\n",
      "[600]\tcv_agg's rmse: 3.65205 + 0.00981093\n",
      "[700]\tcv_agg's rmse: 3.6511 + 0.00983819\n",
      "[800]\tcv_agg's rmse: 3.65056 + 0.0100027\n",
      "[900]\tcv_agg's rmse: 3.65005 + 0.0100917\n",
      "[1000]\tcv_agg's rmse: 3.64996 + 0.0102564\n",
      "[1100]\tcv_agg's rmse: 3.64977 + 0.0102939\n",
      "[1200]\tcv_agg's rmse: 3.6498 + 0.0102829\n"
     ]
    },
    {
     "name": "stderr",
     "output_type": "stream",
     "text": [
      "[I 2019-02-02 13:14:18,539] Finished a trial resulted in value: 3.6496772709261642. Current best value is 3.6496772709261642 with parameters: {'boosting': 'gbdt', 'num_leaves': 58, 'colsample_bytree': 0.3994029758870048, 'subsample': 0.18155636631384856, 'max_depth': 6, 'reg_alpha': 6.094523429256274, 'reg_lambda': 8.771684259378361, 'min_split_gain': 5.1705223389537185, 'min_child_weight': 17.317379568790095, 'min_data_in_leaf': 55}.\n"
     ]
    },
    {
     "name": "stdout",
     "output_type": "stream",
     "text": [
      "[100]\tcv_agg's rmse: 3.71087 + 0.00397639\n",
      "[200]\tcv_agg's rmse: 3.67621 + 0.00662781\n",
      "[300]\tcv_agg's rmse: 3.664 + 0.00735902\n",
      "[400]\tcv_agg's rmse: 3.65773 + 0.00772381\n",
      "[500]\tcv_agg's rmse: 3.65446 + 0.00812277\n",
      "[600]\tcv_agg's rmse: 3.65254 + 0.00864956\n",
      "[700]\tcv_agg's rmse: 3.65158 + 0.00872989\n",
      "[800]\tcv_agg's rmse: 3.65118 + 0.00856306\n",
      "[900]\tcv_agg's rmse: 3.65114 + 0.0086742\n",
      "[1000]\tcv_agg's rmse: 3.65114 + 0.00855799\n"
     ]
    },
    {
     "name": "stderr",
     "output_type": "stream",
     "text": [
      "[I 2019-02-02 13:21:08,754] Finished a trial resulted in value: 3.651039785808423. Current best value is 3.6496772709261642 with parameters: {'boosting': 'gbdt', 'num_leaves': 58, 'colsample_bytree': 0.3994029758870048, 'subsample': 0.18155636631384856, 'max_depth': 6, 'reg_alpha': 6.094523429256274, 'reg_lambda': 8.771684259378361, 'min_split_gain': 5.1705223389537185, 'min_child_weight': 17.317379568790095, 'min_data_in_leaf': 55}.\n"
     ]
    },
    {
     "name": "stdout",
     "output_type": "stream",
     "text": [
      "[100]\tcv_agg's rmse: 3.70777 + 0.0050612\n",
      "[200]\tcv_agg's rmse: 3.67483 + 0.00745099\n",
      "[300]\tcv_agg's rmse: 3.6634 + 0.00773773\n",
      "[400]\tcv_agg's rmse: 3.6579 + 0.00834522\n",
      "[500]\tcv_agg's rmse: 3.655 + 0.00864429\n",
      "[600]\tcv_agg's rmse: 3.65326 + 0.00919443\n",
      "[700]\tcv_agg's rmse: 3.65248 + 0.00938385\n",
      "[800]\tcv_agg's rmse: 3.65224 + 0.00955342\n",
      "[900]\tcv_agg's rmse: 3.65197 + 0.00959252\n",
      "[1000]\tcv_agg's rmse: 3.65179 + 0.00971583\n",
      "[1100]\tcv_agg's rmse: 3.65172 + 0.00960156\n",
      "[1200]\tcv_agg's rmse: 3.65179 + 0.00948534\n"
     ]
    },
    {
     "name": "stderr",
     "output_type": "stream",
     "text": [
      "[I 2019-02-02 13:29:00,351] Finished a trial resulted in value: 3.6516680677967974. Current best value is 3.6496772709261642 with parameters: {'boosting': 'gbdt', 'num_leaves': 58, 'colsample_bytree': 0.3994029758870048, 'subsample': 0.18155636631384856, 'max_depth': 6, 'reg_alpha': 6.094523429256274, 'reg_lambda': 8.771684259378361, 'min_split_gain': 5.1705223389537185, 'min_child_weight': 17.317379568790095, 'min_data_in_leaf': 55}.\n"
     ]
    },
    {
     "name": "stdout",
     "output_type": "stream",
     "text": [
      "[100]\tcv_agg's rmse: 3.7104 + 0.00404969\n",
      "[200]\tcv_agg's rmse: 3.67591 + 0.0065377\n",
      "[300]\tcv_agg's rmse: 3.66411 + 0.00776036\n",
      "[400]\tcv_agg's rmse: 3.65778 + 0.00782957\n",
      "[500]\tcv_agg's rmse: 3.65444 + 0.0084968\n",
      "[600]\tcv_agg's rmse: 3.65214 + 0.00901546\n",
      "[700]\tcv_agg's rmse: 3.65105 + 0.00917066\n",
      "[800]\tcv_agg's rmse: 3.65071 + 0.0092516\n",
      "[900]\tcv_agg's rmse: 3.65051 + 0.00933745\n",
      "[1000]\tcv_agg's rmse: 3.65046 + 0.00944393\n",
      "[1100]\tcv_agg's rmse: 3.65032 + 0.00925418\n",
      "[1200]\tcv_agg's rmse: 3.65039 + 0.0093547\n"
     ]
    },
    {
     "name": "stderr",
     "output_type": "stream",
     "text": [
      "[I 2019-02-02 13:34:51,337] Finished a trial resulted in value: 3.6502514945230145. Current best value is 3.6496772709261642 with parameters: {'boosting': 'gbdt', 'num_leaves': 58, 'colsample_bytree': 0.3994029758870048, 'subsample': 0.18155636631384856, 'max_depth': 6, 'reg_alpha': 6.094523429256274, 'reg_lambda': 8.771684259378361, 'min_split_gain': 5.1705223389537185, 'min_child_weight': 17.317379568790095, 'min_data_in_leaf': 55}.\n"
     ]
    },
    {
     "name": "stdout",
     "output_type": "stream",
     "text": [
      "[100]\tcv_agg's rmse: 3.71169 + 0.00359262\n",
      "[200]\tcv_agg's rmse: 3.67697 + 0.00599005\n",
      "[300]\tcv_agg's rmse: 3.66505 + 0.0069529\n",
      "[400]\tcv_agg's rmse: 3.65848 + 0.00721326\n",
      "[500]\tcv_agg's rmse: 3.65499 + 0.00765095\n",
      "[600]\tcv_agg's rmse: 3.65284 + 0.00808666\n",
      "[700]\tcv_agg's rmse: 3.65185 + 0.00826016\n",
      "[800]\tcv_agg's rmse: 3.65142 + 0.00830846\n",
      "[900]\tcv_agg's rmse: 3.65115 + 0.00820798\n",
      "[1000]\tcv_agg's rmse: 3.6511 + 0.00836679\n",
      "[1100]\tcv_agg's rmse: 3.65113 + 0.00854957\n",
      "[1200]\tcv_agg's rmse: 3.65117 + 0.00849046\n"
     ]
    },
    {
     "name": "stderr",
     "output_type": "stream",
     "text": [
      "[I 2019-02-02 13:41:22,640] Finished a trial resulted in value: 3.6510157081089396. Current best value is 3.6496772709261642 with parameters: {'boosting': 'gbdt', 'num_leaves': 58, 'colsample_bytree': 0.3994029758870048, 'subsample': 0.18155636631384856, 'max_depth': 6, 'reg_alpha': 6.094523429256274, 'reg_lambda': 8.771684259378361, 'min_split_gain': 5.1705223389537185, 'min_child_weight': 17.317379568790095, 'min_data_in_leaf': 55}.\n"
     ]
    },
    {
     "name": "stdout",
     "output_type": "stream",
     "text": [
      "[100]\tcv_agg's rmse: 3.70989 + 0.00428933\n",
      "[200]\tcv_agg's rmse: 3.67561 + 0.00665116\n",
      "[300]\tcv_agg's rmse: 3.66388 + 0.00774081\n",
      "[400]\tcv_agg's rmse: 3.65766 + 0.00803982\n",
      "[500]\tcv_agg's rmse: 3.65426 + 0.00862349\n",
      "[600]\tcv_agg's rmse: 3.65204 + 0.00898881\n",
      "[700]\tcv_agg's rmse: 3.65104 + 0.00887288\n",
      "[800]\tcv_agg's rmse: 3.65063 + 0.00889549\n",
      "[900]\tcv_agg's rmse: 3.65037 + 0.00877249\n",
      "[1000]\tcv_agg's rmse: 3.65049 + 0.00865121\n",
      "[1100]\tcv_agg's rmse: 3.65051 + 0.00869168\n"
     ]
    },
    {
     "name": "stderr",
     "output_type": "stream",
     "text": [
      "[I 2019-02-02 13:46:55,223] Finished a trial resulted in value: 3.6503465498878684. Current best value is 3.6496772709261642 with parameters: {'boosting': 'gbdt', 'num_leaves': 58, 'colsample_bytree': 0.3994029758870048, 'subsample': 0.18155636631384856, 'max_depth': 6, 'reg_alpha': 6.094523429256274, 'reg_lambda': 8.771684259378361, 'min_split_gain': 5.1705223389537185, 'min_child_weight': 17.317379568790095, 'min_data_in_leaf': 55}.\n"
     ]
    },
    {
     "name": "stdout",
     "output_type": "stream",
     "text": [
      "[100]\tcv_agg's rmse: 3.7092 + 0.00461918\n",
      "[200]\tcv_agg's rmse: 3.67612 + 0.00730214\n",
      "[300]\tcv_agg's rmse: 3.66396 + 0.00787738\n",
      "[400]\tcv_agg's rmse: 3.65841 + 0.00841129\n",
      "[500]\tcv_agg's rmse: 3.65543 + 0.00898761\n",
      "[600]\tcv_agg's rmse: 3.65376 + 0.00942208\n",
      "[700]\tcv_agg's rmse: 3.65272 + 0.00951006\n",
      "[800]\tcv_agg's rmse: 3.65224 + 0.00963476\n",
      "[900]\tcv_agg's rmse: 3.65206 + 0.00964497\n",
      "[1000]\tcv_agg's rmse: 3.65199 + 0.00983192\n",
      "[1100]\tcv_agg's rmse: 3.65181 + 0.00981455\n",
      "[1200]\tcv_agg's rmse: 3.65199 + 0.00971491\n"
     ]
    },
    {
     "name": "stderr",
     "output_type": "stream",
     "text": [
      "[I 2019-02-02 13:53:43,964] Finished a trial resulted in value: 3.651746986735867. Current best value is 3.6496772709261642 with parameters: {'boosting': 'gbdt', 'num_leaves': 58, 'colsample_bytree': 0.3994029758870048, 'subsample': 0.18155636631384856, 'max_depth': 6, 'reg_alpha': 6.094523429256274, 'reg_lambda': 8.771684259378361, 'min_split_gain': 5.1705223389537185, 'min_child_weight': 17.317379568790095, 'min_data_in_leaf': 55}.\n"
     ]
    },
    {
     "name": "stdout",
     "output_type": "stream",
     "text": [
      "[100]\tcv_agg's rmse: 3.71242 + 0.00370092\n",
      "[200]\tcv_agg's rmse: 3.6782 + 0.00590566\n",
      "[300]\tcv_agg's rmse: 3.66608 + 0.00732861\n",
      "[400]\tcv_agg's rmse: 3.65952 + 0.00800939\n",
      "[500]\tcv_agg's rmse: 3.65593 + 0.00859456\n",
      "[600]\tcv_agg's rmse: 3.65387 + 0.00882943\n",
      "[700]\tcv_agg's rmse: 3.65266 + 0.00879511\n",
      "[800]\tcv_agg's rmse: 3.65224 + 0.0087408\n",
      "[900]\tcv_agg's rmse: 3.65209 + 0.00887988\n",
      "[1000]\tcv_agg's rmse: 3.65182 + 0.00889986\n",
      "[1100]\tcv_agg's rmse: 3.65191 + 0.00913804\n"
     ]
    },
    {
     "name": "stderr",
     "output_type": "stream",
     "text": [
      "[I 2019-02-02 13:59:57,811] Finished a trial resulted in value: 3.651807187209036. Current best value is 3.6496772709261642 with parameters: {'boosting': 'gbdt', 'num_leaves': 58, 'colsample_bytree': 0.3994029758870048, 'subsample': 0.18155636631384856, 'max_depth': 6, 'reg_alpha': 6.094523429256274, 'reg_lambda': 8.771684259378361, 'min_split_gain': 5.1705223389537185, 'min_child_weight': 17.317379568790095, 'min_data_in_leaf': 55}.\n"
     ]
    },
    {
     "name": "stdout",
     "output_type": "stream",
     "text": [
      "[100]\tcv_agg's rmse: 3.7116 + 0.00391484\n",
      "[200]\tcv_agg's rmse: 3.67681 + 0.00621267\n",
      "[300]\tcv_agg's rmse: 3.66479 + 0.00693708\n",
      "[400]\tcv_agg's rmse: 3.65819 + 0.007199\n",
      "[500]\tcv_agg's rmse: 3.65447 + 0.0077563\n",
      "[600]\tcv_agg's rmse: 3.6528 + 0.00812654\n",
      "[700]\tcv_agg's rmse: 3.65192 + 0.00819561\n",
      "[800]\tcv_agg's rmse: 3.6514 + 0.00805985\n",
      "[900]\tcv_agg's rmse: 3.65103 + 0.00809335\n",
      "[1000]\tcv_agg's rmse: 3.65094 + 0.00807194\n",
      "[1100]\tcv_agg's rmse: 3.65095 + 0.00816602\n",
      "[1200]\tcv_agg's rmse: 3.65118 + 0.00803953\n"
     ]
    },
    {
     "name": "stderr",
     "output_type": "stream",
     "text": [
      "[I 2019-02-02 14:06:25,193] Finished a trial resulted in value: 3.650885947718345. Current best value is 3.6496772709261642 with parameters: {'boosting': 'gbdt', 'num_leaves': 58, 'colsample_bytree': 0.3994029758870048, 'subsample': 0.18155636631384856, 'max_depth': 6, 'reg_alpha': 6.094523429256274, 'reg_lambda': 8.771684259378361, 'min_split_gain': 5.1705223389537185, 'min_child_weight': 17.317379568790095, 'min_data_in_leaf': 55}.\n"
     ]
    },
    {
     "name": "stdout",
     "output_type": "stream",
     "text": [
      "[100]\tcv_agg's rmse: 3.71138 + 0.003751\n",
      "[200]\tcv_agg's rmse: 3.67683 + 0.00661863\n",
      "[300]\tcv_agg's rmse: 3.66427 + 0.00745188\n",
      "[400]\tcv_agg's rmse: 3.65787 + 0.00819581\n",
      "[500]\tcv_agg's rmse: 3.65445 + 0.0085255\n",
      "[600]\tcv_agg's rmse: 3.65276 + 0.0091542\n",
      "[700]\tcv_agg's rmse: 3.65213 + 0.00929177\n",
      "[800]\tcv_agg's rmse: 3.65162 + 0.00927356\n",
      "[900]\tcv_agg's rmse: 3.65138 + 0.00923264\n",
      "[1000]\tcv_agg's rmse: 3.65134 + 0.00928018\n",
      "[1100]\tcv_agg's rmse: 3.65143 + 0.00940402\n"
     ]
    },
    {
     "name": "stderr",
     "output_type": "stream",
     "text": [
      "[I 2019-02-02 14:14:22,767] Finished a trial resulted in value: 3.651252244024124. Current best value is 3.6496772709261642 with parameters: {'boosting': 'gbdt', 'num_leaves': 58, 'colsample_bytree': 0.3994029758870048, 'subsample': 0.18155636631384856, 'max_depth': 6, 'reg_alpha': 6.094523429256274, 'reg_lambda': 8.771684259378361, 'min_split_gain': 5.1705223389537185, 'min_child_weight': 17.317379568790095, 'min_data_in_leaf': 55}.\n"
     ]
    },
    {
     "name": "stdout",
     "output_type": "stream",
     "text": [
      "[100]\tcv_agg's rmse: 3.7125 + 0.00369703\n",
      "[200]\tcv_agg's rmse: 3.67746 + 0.00595472\n",
      "[300]\tcv_agg's rmse: 3.66517 + 0.0072338\n",
      "[400]\tcv_agg's rmse: 3.65888 + 0.00778676\n",
      "[500]\tcv_agg's rmse: 3.65534 + 0.00817488\n",
      "[600]\tcv_agg's rmse: 3.65287 + 0.00855952\n",
      "[700]\tcv_agg's rmse: 3.6513 + 0.00896463\n",
      "[800]\tcv_agg's rmse: 3.65053 + 0.00909406\n",
      "[900]\tcv_agg's rmse: 3.65003 + 0.00880931\n",
      "[1000]\tcv_agg's rmse: 3.64998 + 0.00868653\n",
      "[1100]\tcv_agg's rmse: 3.64999 + 0.00882004\n",
      "[1200]\tcv_agg's rmse: 3.65019 + 0.00864885\n"
     ]
    },
    {
     "name": "stderr",
     "output_type": "stream",
     "text": [
      "[I 2019-02-02 14:18:54,140] Finished a trial resulted in value: 3.649851821725177. Current best value is 3.6496772709261642 with parameters: {'boosting': 'gbdt', 'num_leaves': 58, 'colsample_bytree': 0.3994029758870048, 'subsample': 0.18155636631384856, 'max_depth': 6, 'reg_alpha': 6.094523429256274, 'reg_lambda': 8.771684259378361, 'min_split_gain': 5.1705223389537185, 'min_child_weight': 17.317379568790095, 'min_data_in_leaf': 55}.\n"
     ]
    },
    {
     "name": "stdout",
     "output_type": "stream",
     "text": [
      "[100]\tcv_agg's rmse: 3.71583 + 0.0039727\n",
      "[200]\tcv_agg's rmse: 3.68251 + 0.00646463\n",
      "[300]\tcv_agg's rmse: 3.67005 + 0.0073993\n",
      "[400]\tcv_agg's rmse: 3.66267 + 0.00822399\n",
      "[500]\tcv_agg's rmse: 3.65855 + 0.00851432\n",
      "[600]\tcv_agg's rmse: 3.65604 + 0.00912717\n",
      "[700]\tcv_agg's rmse: 3.6544 + 0.00941163\n",
      "[800]\tcv_agg's rmse: 3.65357 + 0.00951982\n",
      "[900]\tcv_agg's rmse: 3.65306 + 0.00954853\n",
      "[1000]\tcv_agg's rmse: 3.65294 + 0.00956604\n",
      "[1100]\tcv_agg's rmse: 3.65267 + 0.00951527\n",
      "[1200]\tcv_agg's rmse: 3.65262 + 0.00937274\n",
      "[1300]\tcv_agg's rmse: 3.65274 + 0.00956082\n",
      "[1400]\tcv_agg's rmse: 3.65308 + 0.00958478\n"
     ]
    },
    {
     "name": "stderr",
     "output_type": "stream",
     "text": [
      "[I 2019-02-02 14:24:54,605] Finished a trial resulted in value: 3.6525713449743726. Current best value is 3.6496772709261642 with parameters: {'boosting': 'gbdt', 'num_leaves': 58, 'colsample_bytree': 0.3994029758870048, 'subsample': 0.18155636631384856, 'max_depth': 6, 'reg_alpha': 6.094523429256274, 'reg_lambda': 8.771684259378361, 'min_split_gain': 5.1705223389537185, 'min_child_weight': 17.317379568790095, 'min_data_in_leaf': 55}.\n"
     ]
    },
    {
     "name": "stdout",
     "output_type": "stream",
     "text": [
      "[100]\tcv_agg's rmse: 3.71195 + 0.00374233\n",
      "[200]\tcv_agg's rmse: 3.677 + 0.00619706\n",
      "[300]\tcv_agg's rmse: 3.66469 + 0.00763104\n",
      "[400]\tcv_agg's rmse: 3.6587 + 0.00813234\n",
      "[500]\tcv_agg's rmse: 3.65535 + 0.00857681\n",
      "[600]\tcv_agg's rmse: 3.65312 + 0.008899\n",
      "[700]\tcv_agg's rmse: 3.65143 + 0.00908647\n",
      "[800]\tcv_agg's rmse: 3.65051 + 0.00900437\n",
      "[900]\tcv_agg's rmse: 3.65018 + 0.00889755\n",
      "[1000]\tcv_agg's rmse: 3.65005 + 0.0088167\n",
      "[1100]\tcv_agg's rmse: 3.64982 + 0.00874168\n",
      "[1200]\tcv_agg's rmse: 3.64985 + 0.00881089\n",
      "[1300]\tcv_agg's rmse: 3.64987 + 0.00883045\n"
     ]
    },
    {
     "name": "stderr",
     "output_type": "stream",
     "text": [
      "[I 2019-02-02 14:29:25,611] Finished a trial resulted in value: 3.64974650970532. Current best value is 3.6496772709261642 with parameters: {'boosting': 'gbdt', 'num_leaves': 58, 'colsample_bytree': 0.3994029758870048, 'subsample': 0.18155636631384856, 'max_depth': 6, 'reg_alpha': 6.094523429256274, 'reg_lambda': 8.771684259378361, 'min_split_gain': 5.1705223389537185, 'min_child_weight': 17.317379568790095, 'min_data_in_leaf': 55}.\n"
     ]
    },
    {
     "name": "stdout",
     "output_type": "stream",
     "text": [
      "[100]\tcv_agg's rmse: 3.71242 + 0.00475\n",
      "[200]\tcv_agg's rmse: 3.67718 + 0.0068242\n",
      "[300]\tcv_agg's rmse: 3.66517 + 0.0077826\n",
      "[400]\tcv_agg's rmse: 3.65917 + 0.00816692\n",
      "[500]\tcv_agg's rmse: 3.65566 + 0.00866215\n",
      "[600]\tcv_agg's rmse: 3.65291 + 0.00891229\n",
      "[700]\tcv_agg's rmse: 3.65137 + 0.00894296\n",
      "[800]\tcv_agg's rmse: 3.65046 + 0.00900462\n",
      "[900]\tcv_agg's rmse: 3.65005 + 0.00898673\n",
      "[1000]\tcv_agg's rmse: 3.64989 + 0.00908954\n",
      "[1100]\tcv_agg's rmse: 3.64985 + 0.00908729\n",
      "[1200]\tcv_agg's rmse: 3.64971 + 0.00915503\n",
      "[1300]\tcv_agg's rmse: 3.64973 + 0.00921769\n",
      "[1400]\tcv_agg's rmse: 3.64984 + 0.0091576\n"
     ]
    },
    {
     "name": "stderr",
     "output_type": "stream",
     "text": [
      "[I 2019-02-02 14:33:37,956] Finished a trial resulted in value: 3.6496669527976686. Current best value is 3.6496669527976686 with parameters: {'boosting': 'gbdt', 'num_leaves': 60, 'colsample_bytree': 0.24179756580718983, 'subsample': 0.8567867067395918, 'max_depth': 6, 'reg_alpha': 8.738366154766943, 'reg_lambda': 1.0223685093186163, 'min_split_gain': 9.592937554877185, 'min_child_weight': 43.61701338047581, 'min_data_in_leaf': 41}.\n"
     ]
    },
    {
     "name": "stdout",
     "output_type": "stream",
     "text": [
      "[100]\tcv_agg's rmse: 3.70837 + 0.00511399\n",
      "[200]\tcv_agg's rmse: 3.67544 + 0.00745417\n",
      "[300]\tcv_agg's rmse: 3.66333 + 0.00813014\n",
      "[400]\tcv_agg's rmse: 3.65749 + 0.00844156\n",
      "[500]\tcv_agg's rmse: 3.65461 + 0.00865884\n",
      "[600]\tcv_agg's rmse: 3.65317 + 0.00900725\n",
      "[700]\tcv_agg's rmse: 3.6522 + 0.00899952\n",
      "[800]\tcv_agg's rmse: 3.65171 + 0.00907105\n",
      "[900]\tcv_agg's rmse: 3.65143 + 0.0090383\n",
      "[1000]\tcv_agg's rmse: 3.65139 + 0.00902934\n",
      "[1100]\tcv_agg's rmse: 3.65141 + 0.00898199\n"
     ]
    },
    {
     "name": "stderr",
     "output_type": "stream",
     "text": [
      "[I 2019-02-02 14:39:09,886] Finished a trial resulted in value: 3.651282676766594. Current best value is 3.6496669527976686 with parameters: {'boosting': 'gbdt', 'num_leaves': 60, 'colsample_bytree': 0.24179756580718983, 'subsample': 0.8567867067395918, 'max_depth': 6, 'reg_alpha': 8.738366154766943, 'reg_lambda': 1.0223685093186163, 'min_split_gain': 9.592937554877185, 'min_child_weight': 43.61701338047581, 'min_data_in_leaf': 41}.\n"
     ]
    },
    {
     "name": "stdout",
     "output_type": "stream",
     "text": [
      "[100]\tcv_agg's rmse: 3.71545 + 0.00406805\n",
      "[200]\tcv_agg's rmse: 3.68101 + 0.00591293\n",
      "[300]\tcv_agg's rmse: 3.66824 + 0.00757703\n",
      "[400]\tcv_agg's rmse: 3.66162 + 0.00855266\n",
      "[500]\tcv_agg's rmse: 3.65771 + 0.00893609\n",
      "[600]\tcv_agg's rmse: 3.65507 + 0.00946397\n",
      "[700]\tcv_agg's rmse: 3.65367 + 0.0092655\n",
      "[800]\tcv_agg's rmse: 3.6531 + 0.00940003\n",
      "[900]\tcv_agg's rmse: 3.65288 + 0.00935515\n",
      "[1000]\tcv_agg's rmse: 3.65267 + 0.00945425\n",
      "[1100]\tcv_agg's rmse: 3.65263 + 0.00940041\n",
      "[1200]\tcv_agg's rmse: 3.6526 + 0.00923098\n",
      "[1300]\tcv_agg's rmse: 3.65286 + 0.00923778\n",
      "[1400]\tcv_agg's rmse: 3.6529 + 0.00916963\n"
     ]
    },
    {
     "name": "stderr",
     "output_type": "stream",
     "text": [
      "[I 2019-02-02 14:44:28,748] Finished a trial resulted in value: 3.652552332193113. Current best value is 3.6496669527976686 with parameters: {'boosting': 'gbdt', 'num_leaves': 60, 'colsample_bytree': 0.24179756580718983, 'subsample': 0.8567867067395918, 'max_depth': 6, 'reg_alpha': 8.738366154766943, 'reg_lambda': 1.0223685093186163, 'min_split_gain': 9.592937554877185, 'min_child_weight': 43.61701338047581, 'min_data_in_leaf': 41}.\n"
     ]
    },
    {
     "name": "stdout",
     "output_type": "stream",
     "text": [
      "[100]\tcv_agg's rmse: 3.71757 + 0.00391061\n",
      "[200]\tcv_agg's rmse: 3.67536 + 0.00689401\n",
      "[300]\tcv_agg's rmse: 3.66356 + 0.00775659\n",
      "[400]\tcv_agg's rmse: 3.65869 + 0.00839326\n",
      "[500]\tcv_agg's rmse: 3.65594 + 0.00874363\n",
      "[600]\tcv_agg's rmse: 3.65461 + 0.00902251\n",
      "[700]\tcv_agg's rmse: 3.65374 + 0.0093481\n",
      "[800]\tcv_agg's rmse: 3.6533 + 0.00939342\n",
      "[900]\tcv_agg's rmse: 3.65352 + 0.00978744\n",
      "[1000]\tcv_agg's rmse: 3.65366 + 0.00986359\n"
     ]
    },
    {
     "name": "stderr",
     "output_type": "stream",
     "text": [
      "[I 2019-02-02 14:47:12,251] Finished a trial resulted in value: 3.6532415160162004. Current best value is 3.6496669527976686 with parameters: {'boosting': 'gbdt', 'num_leaves': 60, 'colsample_bytree': 0.24179756580718983, 'subsample': 0.8567867067395918, 'max_depth': 6, 'reg_alpha': 8.738366154766943, 'reg_lambda': 1.0223685093186163, 'min_split_gain': 9.592937554877185, 'min_child_weight': 43.61701338047581, 'min_data_in_leaf': 41}.\n"
     ]
    },
    {
     "name": "stdout",
     "output_type": "stream",
     "text": [
      "[100]\tcv_agg's rmse: 3.72195 + 0.00343849\n",
      "[200]\tcv_agg's rmse: 3.6872 + 0.00535414\n",
      "[300]\tcv_agg's rmse: 3.67367 + 0.00649369\n",
      "[400]\tcv_agg's rmse: 3.66705 + 0.00681223\n",
      "[500]\tcv_agg's rmse: 3.66336 + 0.00721515\n",
      "[600]\tcv_agg's rmse: 3.66076 + 0.00761195\n",
      "[700]\tcv_agg's rmse: 3.659 + 0.0079398\n",
      "[800]\tcv_agg's rmse: 3.65808 + 0.00809704\n",
      "[900]\tcv_agg's rmse: 3.65731 + 0.00825051\n",
      "[1000]\tcv_agg's rmse: 3.65667 + 0.00837229\n",
      "[1100]\tcv_agg's rmse: 3.6564 + 0.00819363\n",
      "[1200]\tcv_agg's rmse: 3.65628 + 0.00837607\n",
      "[1300]\tcv_agg's rmse: 3.65612 + 0.00852497\n",
      "[1400]\tcv_agg's rmse: 3.65642 + 0.0084516\n"
     ]
    },
    {
     "name": "stderr",
     "output_type": "stream",
     "text": [
      "[I 2019-02-02 14:50:38,405] Finished a trial resulted in value: 3.6560093334392016. Current best value is 3.6496669527976686 with parameters: {'boosting': 'gbdt', 'num_leaves': 60, 'colsample_bytree': 0.24179756580718983, 'subsample': 0.8567867067395918, 'max_depth': 6, 'reg_alpha': 8.738366154766943, 'reg_lambda': 1.0223685093186163, 'min_split_gain': 9.592937554877185, 'min_child_weight': 43.61701338047581, 'min_data_in_leaf': 41}.\n"
     ]
    },
    {
     "name": "stdout",
     "output_type": "stream",
     "text": [
      "[100]\tcv_agg's rmse: 3.70728 + 0.00571345\n",
      "[200]\tcv_agg's rmse: 3.67498 + 0.00882781\n",
      "[300]\tcv_agg's rmse: 3.66359 + 0.0091826\n",
      "[400]\tcv_agg's rmse: 3.65863 + 0.0099361\n",
      "[500]\tcv_agg's rmse: 3.6561 + 0.0103337\n",
      "[600]\tcv_agg's rmse: 3.65487 + 0.0108131\n",
      "[700]\tcv_agg's rmse: 3.65428 + 0.0109384\n",
      "[800]\tcv_agg's rmse: 3.65401 + 0.0112067\n",
      "[900]\tcv_agg's rmse: 3.6538 + 0.0110364\n",
      "[1000]\tcv_agg's rmse: 3.65383 + 0.0110596\n",
      "[1100]\tcv_agg's rmse: 3.65394 + 0.0109915\n"
     ]
    },
    {
     "name": "stderr",
     "output_type": "stream",
     "text": [
      "[I 2019-02-02 14:59:54,164] Finished a trial resulted in value: 3.653730761933711. Current best value is 3.6496669527976686 with parameters: {'boosting': 'gbdt', 'num_leaves': 60, 'colsample_bytree': 0.24179756580718983, 'subsample': 0.8567867067395918, 'max_depth': 6, 'reg_alpha': 8.738366154766943, 'reg_lambda': 1.0223685093186163, 'min_split_gain': 9.592937554877185, 'min_child_weight': 43.61701338047581, 'min_data_in_leaf': 41}.\n"
     ]
    },
    {
     "name": "stdout",
     "output_type": "stream",
     "text": [
      "[100]\tcv_agg's rmse: 3.71682 + 0.00407158\n",
      "[200]\tcv_agg's rmse: 3.68356 + 0.00678551\n",
      "[300]\tcv_agg's rmse: 3.671 + 0.00821041\n",
      "[400]\tcv_agg's rmse: 3.66405 + 0.00885297\n",
      "[500]\tcv_agg's rmse: 3.6595 + 0.00946415\n",
      "[600]\tcv_agg's rmse: 3.65715 + 0.0100097\n",
      "[700]\tcv_agg's rmse: 3.65563 + 0.0102667\n",
      "[800]\tcv_agg's rmse: 3.65499 + 0.0103459\n",
      "[900]\tcv_agg's rmse: 3.65421 + 0.0104681\n",
      "[1000]\tcv_agg's rmse: 3.65423 + 0.0103773\n",
      "[1100]\tcv_agg's rmse: 3.65419 + 0.0104651\n",
      "[1200]\tcv_agg's rmse: 3.65431 + 0.0104515\n"
     ]
    },
    {
     "name": "stderr",
     "output_type": "stream",
     "text": [
      "[I 2019-02-02 15:04:49,566] Finished a trial resulted in value: 3.6540121227760154. Current best value is 3.6496669527976686 with parameters: {'boosting': 'gbdt', 'num_leaves': 60, 'colsample_bytree': 0.24179756580718983, 'subsample': 0.8567867067395918, 'max_depth': 6, 'reg_alpha': 8.738366154766943, 'reg_lambda': 1.0223685093186163, 'min_split_gain': 9.592937554877185, 'min_child_weight': 43.61701338047581, 'min_data_in_leaf': 41}.\n"
     ]
    },
    {
     "name": "stdout",
     "output_type": "stream",
     "text": [
      "[100]\tcv_agg's rmse: 3.70662 + 0.00474717\n",
      "[200]\tcv_agg's rmse: 3.67365 + 0.00737247\n",
      "[300]\tcv_agg's rmse: 3.66181 + 0.00814428\n",
      "[400]\tcv_agg's rmse: 3.65654 + 0.00884261\n",
      "[500]\tcv_agg's rmse: 3.65362 + 0.009261\n",
      "[600]\tcv_agg's rmse: 3.65228 + 0.00970927\n",
      "[700]\tcv_agg's rmse: 3.65174 + 0.0100253\n",
      "[800]\tcv_agg's rmse: 3.65136 + 0.0101576\n",
      "[900]\tcv_agg's rmse: 3.65144 + 0.00983325\n",
      "[1000]\tcv_agg's rmse: 3.65168 + 0.00993875\n"
     ]
    },
    {
     "name": "stderr",
     "output_type": "stream",
     "text": [
      "[I 2019-02-02 15:13:11,473] Finished a trial resulted in value: 3.651270593389912. Current best value is 3.6496669527976686 with parameters: {'boosting': 'gbdt', 'num_leaves': 60, 'colsample_bytree': 0.24179756580718983, 'subsample': 0.8567867067395918, 'max_depth': 6, 'reg_alpha': 8.738366154766943, 'reg_lambda': 1.0223685093186163, 'min_split_gain': 9.592937554877185, 'min_child_weight': 43.61701338047581, 'min_data_in_leaf': 41}.\n"
     ]
    },
    {
     "name": "stdout",
     "output_type": "stream",
     "text": [
      "[100]\tcv_agg's rmse: 3.71182 + 0.00409703\n",
      "[200]\tcv_agg's rmse: 3.67876 + 0.00726271\n",
      "[300]\tcv_agg's rmse: 3.6661 + 0.00830213\n",
      "[400]\tcv_agg's rmse: 3.65986 + 0.00879514\n",
      "[500]\tcv_agg's rmse: 3.65658 + 0.00942271\n",
      "[600]\tcv_agg's rmse: 3.65473 + 0.00970855\n",
      "[700]\tcv_agg's rmse: 3.65384 + 0.00996316\n",
      "[800]\tcv_agg's rmse: 3.65369 + 0.00999136\n",
      "[900]\tcv_agg's rmse: 3.65342 + 0.00981901\n",
      "[1000]\tcv_agg's rmse: 3.65367 + 0.00973476\n",
      "[1100]\tcv_agg's rmse: 3.65393 + 0.00954428\n"
     ]
    },
    {
     "name": "stderr",
     "output_type": "stream",
     "text": [
      "[I 2019-02-02 15:21:39,240] Finished a trial resulted in value: 3.6533732442527063. Current best value is 3.6496669527976686 with parameters: {'boosting': 'gbdt', 'num_leaves': 60, 'colsample_bytree': 0.24179756580718983, 'subsample': 0.8567867067395918, 'max_depth': 6, 'reg_alpha': 8.738366154766943, 'reg_lambda': 1.0223685093186163, 'min_split_gain': 9.592937554877185, 'min_child_weight': 43.61701338047581, 'min_data_in_leaf': 41}.\n"
     ]
    },
    {
     "name": "stdout",
     "output_type": "stream",
     "text": [
      "[100]\tcv_agg's rmse: 3.71888 + 0.00412309\n",
      "[200]\tcv_agg's rmse: 3.68494 + 0.00627157\n",
      "[300]\tcv_agg's rmse: 3.67199 + 0.00757666\n",
      "[400]\tcv_agg's rmse: 3.66487 + 0.00841347\n",
      "[500]\tcv_agg's rmse: 3.66045 + 0.00879855\n",
      "[600]\tcv_agg's rmse: 3.65733 + 0.00937623\n",
      "[700]\tcv_agg's rmse: 3.65582 + 0.00971736\n",
      "[800]\tcv_agg's rmse: 3.6548 + 0.00990966\n",
      "[900]\tcv_agg's rmse: 3.65415 + 0.00991741\n",
      "[1000]\tcv_agg's rmse: 3.65384 + 0.0100249\n",
      "[1100]\tcv_agg's rmse: 3.65362 + 0.00999317\n",
      "[1200]\tcv_agg's rmse: 3.65332 + 0.0101108\n",
      "[1300]\tcv_agg's rmse: 3.65335 + 0.00999891\n",
      "[1400]\tcv_agg's rmse: 3.6533 + 0.0100693\n"
     ]
    },
    {
     "name": "stderr",
     "output_type": "stream",
     "text": [
      "[I 2019-02-02 15:25:39,136] Finished a trial resulted in value: 3.653217239748386. Current best value is 3.6496669527976686 with parameters: {'boosting': 'gbdt', 'num_leaves': 60, 'colsample_bytree': 0.24179756580718983, 'subsample': 0.8567867067395918, 'max_depth': 6, 'reg_alpha': 8.738366154766943, 'reg_lambda': 1.0223685093186163, 'min_split_gain': 9.592937554877185, 'min_child_weight': 43.61701338047581, 'min_data_in_leaf': 41}.\n"
     ]
    },
    {
     "name": "stdout",
     "output_type": "stream",
     "text": [
      "[100]\tcv_agg's rmse: 3.72849 + 0.003779\n",
      "[200]\tcv_agg's rmse: 3.693 + 0.00533974\n",
      "[300]\tcv_agg's rmse: 3.67793 + 0.00674725\n",
      "[400]\tcv_agg's rmse: 3.67001 + 0.00761679\n",
      "[500]\tcv_agg's rmse: 3.66524 + 0.00770496\n",
      "[600]\tcv_agg's rmse: 3.66242 + 0.00818189\n",
      "[700]\tcv_agg's rmse: 3.66032 + 0.00840491\n",
      "[800]\tcv_agg's rmse: 3.65917 + 0.00849128\n",
      "[900]\tcv_agg's rmse: 3.65829 + 0.00863955\n",
      "[1000]\tcv_agg's rmse: 3.6579 + 0.0088925\n",
      "[1100]\tcv_agg's rmse: 3.65755 + 0.00916311\n",
      "[1200]\tcv_agg's rmse: 3.65691 + 0.00906334\n",
      "[1300]\tcv_agg's rmse: 3.65626 + 0.00915072\n",
      "[1400]\tcv_agg's rmse: 3.65614 + 0.00929301\n",
      "[1500]\tcv_agg's rmse: 3.65593 + 0.00917512\n",
      "[1600]\tcv_agg's rmse: 3.65582 + 0.00909314\n",
      "[1700]\tcv_agg's rmse: 3.65585 + 0.00905975\n",
      "[1800]\tcv_agg's rmse: 3.65607 + 0.00911496\n"
     ]
    },
    {
     "name": "stderr",
     "output_type": "stream",
     "text": [
      "[I 2019-02-02 15:29:06,456] Finished a trial resulted in value: 3.6557409291279894. Current best value is 3.6496669527976686 with parameters: {'boosting': 'gbdt', 'num_leaves': 60, 'colsample_bytree': 0.24179756580718983, 'subsample': 0.8567867067395918, 'max_depth': 6, 'reg_alpha': 8.738366154766943, 'reg_lambda': 1.0223685093186163, 'min_split_gain': 9.592937554877185, 'min_child_weight': 43.61701338047581, 'min_data_in_leaf': 41}.\n"
     ]
    },
    {
     "name": "stdout",
     "output_type": "stream",
     "text": [
      "[100]\tcv_agg's rmse: 3.70813 + 0.00479497\n",
      "[200]\tcv_agg's rmse: 3.67484 + 0.00760391\n",
      "[300]\tcv_agg's rmse: 3.6629 + 0.00848647\n",
      "[400]\tcv_agg's rmse: 3.65723 + 0.00887712\n",
      "[500]\tcv_agg's rmse: 3.65419 + 0.00938585\n",
      "[600]\tcv_agg's rmse: 3.65242 + 0.00963026\n",
      "[700]\tcv_agg's rmse: 3.65142 + 0.00969082\n",
      "[800]\tcv_agg's rmse: 3.65095 + 0.00960177\n",
      "[900]\tcv_agg's rmse: 3.65071 + 0.00962881\n",
      "[1000]\tcv_agg's rmse: 3.65051 + 0.00949303\n",
      "[1100]\tcv_agg's rmse: 3.65062 + 0.00941049\n",
      "[1200]\tcv_agg's rmse: 3.6508 + 0.0094951\n"
     ]
    },
    {
     "name": "stderr",
     "output_type": "stream",
     "text": [
      "[I 2019-02-02 15:34:58,028] Finished a trial resulted in value: 3.6504971127849415. Current best value is 3.6496669527976686 with parameters: {'boosting': 'gbdt', 'num_leaves': 60, 'colsample_bytree': 0.24179756580718983, 'subsample': 0.8567867067395918, 'max_depth': 6, 'reg_alpha': 8.738366154766943, 'reg_lambda': 1.0223685093186163, 'min_split_gain': 9.592937554877185, 'min_child_weight': 43.61701338047581, 'min_data_in_leaf': 41}.\n"
     ]
    },
    {
     "name": "stdout",
     "output_type": "stream",
     "text": [
      "[100]\tcv_agg's rmse: 3.7111 + 0.00401134\n",
      "[200]\tcv_agg's rmse: 3.67792 + 0.00677362\n",
      "[300]\tcv_agg's rmse: 3.66577 + 0.0074123\n",
      "[400]\tcv_agg's rmse: 3.65928 + 0.00784585\n",
      "[500]\tcv_agg's rmse: 3.65573 + 0.00852774\n",
      "[600]\tcv_agg's rmse: 3.65401 + 0.00889532\n",
      "[700]\tcv_agg's rmse: 3.65305 + 0.00904208\n",
      "[800]\tcv_agg's rmse: 3.65259 + 0.00922389\n",
      "[900]\tcv_agg's rmse: 3.6525 + 0.00886666\n",
      "[1000]\tcv_agg's rmse: 3.65258 + 0.00889403\n",
      "[1100]\tcv_agg's rmse: 3.65272 + 0.00880936\n"
     ]
    },
    {
     "name": "stderr",
     "output_type": "stream",
     "text": [
      "[I 2019-02-02 15:43:25,537] Finished a trial resulted in value: 3.6523856648010744. Current best value is 3.6496669527976686 with parameters: {'boosting': 'gbdt', 'num_leaves': 60, 'colsample_bytree': 0.24179756580718983, 'subsample': 0.8567867067395918, 'max_depth': 6, 'reg_alpha': 8.738366154766943, 'reg_lambda': 1.0223685093186163, 'min_split_gain': 9.592937554877185, 'min_child_weight': 43.61701338047581, 'min_data_in_leaf': 41}.\n"
     ]
    },
    {
     "name": "stdout",
     "output_type": "stream",
     "text": [
      "[100]\tcv_agg's rmse: 3.70961 + 0.00575225\n",
      "[200]\tcv_agg's rmse: 3.67844 + 0.00878761\n",
      "[300]\tcv_agg's rmse: 3.66699 + 0.0100983\n",
      "[400]\tcv_agg's rmse: 3.66184 + 0.0111216\n",
      "[500]\tcv_agg's rmse: 3.65973 + 0.011437\n",
      "[600]\tcv_agg's rmse: 3.65914 + 0.0117162\n",
      "[700]\tcv_agg's rmse: 3.65916 + 0.0120676\n",
      "[800]\tcv_agg's rmse: 3.65888 + 0.0120341\n",
      "[900]\tcv_agg's rmse: 3.65889 + 0.012048\n",
      "[1000]\tcv_agg's rmse: 3.65953 + 0.0119089\n"
     ]
    },
    {
     "name": "stderr",
     "output_type": "stream",
     "text": [
      "[I 2019-02-02 15:57:51,581] Finished a trial resulted in value: 3.658671438163016. Current best value is 3.6496669527976686 with parameters: {'boosting': 'gbdt', 'num_leaves': 60, 'colsample_bytree': 0.24179756580718983, 'subsample': 0.8567867067395918, 'max_depth': 6, 'reg_alpha': 8.738366154766943, 'reg_lambda': 1.0223685093186163, 'min_split_gain': 9.592937554877185, 'min_child_weight': 43.61701338047581, 'min_data_in_leaf': 41}.\n"
     ]
    },
    {
     "name": "stdout",
     "output_type": "stream",
     "text": [
      "[100]\tcv_agg's rmse: 3.71423 + 0.00516271\n",
      "[200]\tcv_agg's rmse: 3.68102 + 0.00782738\n",
      "[300]\tcv_agg's rmse: 3.66849 + 0.00826714\n",
      "[400]\tcv_agg's rmse: 3.66251 + 0.00887427\n",
      "[500]\tcv_agg's rmse: 3.65914 + 0.00929428\n",
      "[600]\tcv_agg's rmse: 3.65675 + 0.00977231\n",
      "[700]\tcv_agg's rmse: 3.65535 + 0.0102977\n",
      "[800]\tcv_agg's rmse: 3.65457 + 0.010343\n",
      "[900]\tcv_agg's rmse: 3.65406 + 0.0103054\n",
      "[1000]\tcv_agg's rmse: 3.6537 + 0.010269\n",
      "[1100]\tcv_agg's rmse: 3.65357 + 0.0103678\n",
      "[1200]\tcv_agg's rmse: 3.65333 + 0.0102358\n",
      "[1300]\tcv_agg's rmse: 3.65327 + 0.0101313\n",
      "[1400]\tcv_agg's rmse: 3.65323 + 0.00993704\n",
      "[1500]\tcv_agg's rmse: 3.65335 + 0.00971583\n"
     ]
    },
    {
     "name": "stderr",
     "output_type": "stream",
     "text": [
      "[I 2019-02-02 16:05:32,774] Finished a trial resulted in value: 3.653158620458928. Current best value is 3.6496669527976686 with parameters: {'boosting': 'gbdt', 'num_leaves': 60, 'colsample_bytree': 0.24179756580718983, 'subsample': 0.8567867067395918, 'max_depth': 6, 'reg_alpha': 8.738366154766943, 'reg_lambda': 1.0223685093186163, 'min_split_gain': 9.592937554877185, 'min_child_weight': 43.61701338047581, 'min_data_in_leaf': 41}.\n"
     ]
    },
    {
     "name": "stdout",
     "output_type": "stream",
     "text": [
      "[100]\tcv_agg's rmse: 3.71022 + 0.00373091\n",
      "[200]\tcv_agg's rmse: 3.67671 + 0.00710699\n",
      "[300]\tcv_agg's rmse: 3.66495 + 0.00762744\n",
      "[400]\tcv_agg's rmse: 3.65902 + 0.00806973\n",
      "[500]\tcv_agg's rmse: 3.65592 + 0.00852272\n",
      "[600]\tcv_agg's rmse: 3.65462 + 0.00897874\n",
      "[700]\tcv_agg's rmse: 3.65359 + 0.00897282\n",
      "[800]\tcv_agg's rmse: 3.65323 + 0.00890183\n",
      "[900]\tcv_agg's rmse: 3.65317 + 0.00882384\n",
      "[1000]\tcv_agg's rmse: 3.65313 + 0.00863144\n"
     ]
    },
    {
     "name": "stderr",
     "output_type": "stream",
     "text": [
      "[I 2019-02-02 16:13:03,011] Finished a trial resulted in value: 3.6530207588885615. Current best value is 3.6496669527976686 with parameters: {'boosting': 'gbdt', 'num_leaves': 60, 'colsample_bytree': 0.24179756580718983, 'subsample': 0.8567867067395918, 'max_depth': 6, 'reg_alpha': 8.738366154766943, 'reg_lambda': 1.0223685093186163, 'min_split_gain': 9.592937554877185, 'min_child_weight': 43.61701338047581, 'min_data_in_leaf': 41}.\n"
     ]
    },
    {
     "name": "stdout",
     "output_type": "stream",
     "text": [
      "Number of finished trials: 100\n",
      "Best trial:\n",
      "  Value: 3.6496669527976686\n",
      "  Params: \n",
      "    boosting: gbdt\n",
      "    num_leaves: 60\n",
      "    colsample_bytree: 0.24179756580718983\n",
      "    subsample: 0.8567867067395918\n",
      "    max_depth: 6\n",
      "    reg_alpha: 8.738366154766943\n",
      "    reg_lambda: 1.0223685093186163\n",
      "    min_split_gain: 9.592937554877185\n",
      "    min_child_weight: 43.61701338047581\n",
      "    min_data_in_leaf: 41\n",
      "optuna LightGBM finished.\n"
     ]
    }
   ],
   "source": [
    "def objective(trial):\n",
    "    lgbm_train = lightgbm.Dataset(train_df[feats],\n",
    "                                  train_df['target'],\n",
    "                                  free_raw_data = False)\n",
    "\n",
    "    params = {'objective': 'regression',\n",
    "              'metric': 'rmse',\n",
    "              'verbosity': -1,\n",
    "              \"learning_rate\": 0.01,\n",
    "              'device': 'cpu',\n",
    "              'seed': 326,\n",
    "              'boosting_type': trial.suggest_categorical('boosting', ['gbdt', 'dart', 'goss']),\n",
    "              'num_leaves': trial.suggest_int('num_leaves', 16, 64),\n",
    "              'colsample_bytree': trial.suggest_uniform('colsample_bytree', 0.001, 1),\n",
    "              'subsample': trial.suggest_uniform('subsample', 0.001, 1),\n",
    "              'max_depth': trial.suggest_int('max_depth', 5, 20),\n",
    "              'reg_alpha': trial.suggest_uniform('reg_alpha', 0, 10),\n",
    "              'reg_lambda': trial.suggest_uniform('reg_lambda', 0, 10),\n",
    "              'min_split_gain': trial.suggest_uniform('min_split_gain', 0, 10),\n",
    "              'min_child_weight': trial.suggest_uniform('min_child_weight', 0, 45),\n",
    "              'min_data_in_leaf': trial.suggest_int('min_data_in_leaf', 16, 64)\n",
    "              }\n",
    "\n",
    "    if params['boosting_type'] == 'dart':\n",
    "        params['drop_rate'] = trial.suggest_loguniform('drop_rate', 1e-8, 1.0)\n",
    "        params['skip_drop'] = trial.suggest_loguniform('skip_drop', 1e-8, 1.0)\n",
    "    if params['boosting_type'] == 'goss':\n",
    "        params['top_rate'] = trial.suggest_uniform('top_rate', 0.0, 1.0)\n",
    "        params['other_rate'] = trial.suggest_uniform('other_rate', 0.0, 1.0 - params['top_rate'])\n",
    "\n",
    "    folds = StratifiedKFold(n_splits = 5, shuffle = True, random_state = 47)\n",
    "\n",
    "    clf = lightgbm.cv(params = params,\n",
    "                      train_set = lgbm_train,\n",
    "                      metrics = ['rmse'],\n",
    "                      nfold = 5,\n",
    "                      folds = folds.split(train_df, train_df['outliers'].values),\n",
    "                      num_boost_round = 10000,\n",
    "                      early_stopping_rounds = 200,\n",
    "                      verbose_eval = 100,\n",
    "                      seed = 47,\n",
    "                     )\n",
    "    gc.collect()\n",
    "    return clf['rmse-mean'][-1]\n",
    "\n",
    "study = optuna.create_study()\n",
    "study.optimize(objective, n_trials = 100)\n",
    "\n",
    "print('Number of finished trials: {}'.format(len(study.trials)))\n",
    "\n",
    "print('Best trial:')\n",
    "trial = study.best_trial\n",
    "\n",
    "print('  Value: {}'.format(trial.value))\n",
    "\n",
    "print('  Params: ')\n",
    "for key, value in trial.params.items():\n",
    "    print('    {}: {}'.format(key, value))\n",
    "\n",
    "# save result\n",
    "results_df = study.trials_dataframe()\n",
    "results_df.to_csv(\"optuna_result_lgbm.csv\")\n",
    "\n",
    "print('optuna LightGBM finished.')"
   ]
  },
  {
   "cell_type": "markdown",
   "metadata": {},
   "source": [
    "## Recursive feature selection"
   ]
  },
  {
   "cell_type": "code",
   "execution_count": 3,
   "metadata": {},
   "outputs": [
    {
     "ename": "LightGBMError",
     "evalue": "Scikit-learn is required for this module",
     "output_type": "error",
     "traceback": [
      "\u001b[1;31m---------------------------------------------------------------------------\u001b[0m",
      "\u001b[1;31mLightGBMError\u001b[0m                             Traceback (most recent call last)",
      "\u001b[1;32m<ipython-input-3-dc25c5eee0d4>\u001b[0m in \u001b[0;36m<module>\u001b[1;34m()\u001b[0m\n\u001b[0;32m     23\u001b[0m     \u001b[1;32mreturn\u001b[0m \u001b[0mnp\u001b[0m\u001b[1;33m.\u001b[0m\u001b[0msqrt\u001b[0m\u001b[1;33m(\u001b[0m\u001b[0mmean_squared_error\u001b[0m\u001b[1;33m(\u001b[0m\u001b[0my_true\u001b[0m\u001b[1;33m,\u001b[0m \u001b[0my_pred\u001b[0m\u001b[1;33m)\u001b[0m\u001b[1;33m)\u001b[0m\u001b[1;33m\u001b[0m\u001b[0m\n\u001b[0;32m     24\u001b[0m \u001b[1;33m\u001b[0m\u001b[0m\n\u001b[1;32m---> 25\u001b[1;33m \u001b[0mlgb_model\u001b[0m \u001b[1;33m=\u001b[0m \u001b[0mlgb\u001b[0m\u001b[1;33m.\u001b[0m\u001b[0mLGBMRegressor\u001b[0m\u001b[1;33m(\u001b[0m\u001b[1;33m**\u001b[0m\u001b[0mparams\u001b[0m\u001b[1;33m)\u001b[0m\u001b[1;33m\u001b[0m\u001b[0m\n\u001b[0m\u001b[0;32m     26\u001b[0m rfecv = RFECV(estimator = lgb_model,\n\u001b[0;32m     27\u001b[0m               \u001b[0mstep\u001b[0m \u001b[1;33m=\u001b[0m \u001b[1;36m5\u001b[0m\u001b[1;33m,\u001b[0m\u001b[1;33m\u001b[0m\u001b[0m\n",
      "\u001b[1;32m/home/av634/anaconda3/envs/kaggle/lib/python3.5/site-packages/lightgbm/sklearn.py\u001b[0m in \u001b[0;36m__init__\u001b[1;34m(self, boosting_type, num_leaves, max_depth, learning_rate, n_estimators, subsample_for_bin, objective, class_weight, min_split_gain, min_child_weight, min_child_samples, subsample, subsample_freq, colsample_bytree, reg_alpha, reg_lambda, random_state, n_jobs, silent, **kwargs)\u001b[0m\n\u001b[0;32m    245\u001b[0m         \"\"\"\n\u001b[0;32m    246\u001b[0m         \u001b[1;32mif\u001b[0m \u001b[1;32mnot\u001b[0m \u001b[0mSKLEARN_INSTALLED\u001b[0m\u001b[1;33m:\u001b[0m\u001b[1;33m\u001b[0m\u001b[0m\n\u001b[1;32m--> 247\u001b[1;33m             \u001b[1;32mraise\u001b[0m \u001b[0mLightGBMError\u001b[0m\u001b[1;33m(\u001b[0m\u001b[1;34m'Scikit-learn is required for this module'\u001b[0m\u001b[1;33m)\u001b[0m\u001b[1;33m\u001b[0m\u001b[0m\n\u001b[0m\u001b[0;32m    248\u001b[0m \u001b[1;33m\u001b[0m\u001b[0m\n\u001b[0;32m    249\u001b[0m         \u001b[0mself\u001b[0m\u001b[1;33m.\u001b[0m\u001b[0mboosting_type\u001b[0m \u001b[1;33m=\u001b[0m \u001b[0mboosting_type\u001b[0m\u001b[1;33m\u001b[0m\u001b[0m\n",
      "\u001b[1;31mLightGBMError\u001b[0m: Scikit-learn is required for this module"
     ]
    }
   ],
   "source": [
    "params = {'boosting': 'goss',\n",
    "        'objective': 'regression',\n",
    "        'metric': 'rmse',\n",
    "        'learning_rate': 0.01,\n",
    "        'subsample': 0.9855232997390695,\n",
    "        'max_depth': 7,\n",
    "        'top_rate': 0.9064148448434349,\n",
    "        'num_leaves': 63,\n",
    "        'min_child_weight': 41.9612869171337,\n",
    "        'other_rate': 0.0721768246018207,\n",
    "        'reg_alpha': 9.677537745007898,\n",
    "        'colsample_bytree': 0.5665320670155495,\n",
    "        'min_split_gain': 9.820197773625843,\n",
    "        'reg_lambda': 8.2532317400459,\n",
    "        'min_data_in_leaf': 21,\n",
    "        'verbose': -1,\n",
    "        'seed': int(2**11),\n",
    "        'bagging_seed': int(2**11),\n",
    "        'drop_seed': int(2**11)\n",
    "}\n",
    "\n",
    "def RMSE(y_true, y_pred):\n",
    "    return np.sqrt(mean_squared_error(y_true, y_pred))\n",
    "\n",
    "lgb_model = lgb.LGBMRegressor(**params)\n",
    "rfecv = RFECV(estimator = lgb_model,\n",
    "              step = 5,\n",
    "              cv = StratifiedKFold(n_splits = 5,\n",
    "                                   shuffle = False,\n",
    "                                   random_state = 42).split(train_df, train_df['outliers'].values),\n",
    "              verbose = 2)"
   ]
  },
  {
   "cell_type": "code",
   "execution_count": null,
   "metadata": {
    "collapsed": true
   },
   "outputs": [],
   "source": [
    "X, y = train_df[feats], train_df['target']\n",
    "X = X.replace([np.inf, -np.inf], np.nan)\n",
    "X = X.fillna(X.median())\n",
    "\n",
    "rfecv.fit(X, y)"
   ]
  },
  {
   "cell_type": "code",
   "execution_count": null,
   "metadata": {
    "collapsed": true
   },
   "outputs": [],
   "source": [
    "print(' Optimal number of features: %d' % rfecv.n_features_)\n",
    "selected_features = [f for f, s in zip(feats, rfecv.support_) if s]\n",
    "print(' The selected features are {}'.format(selected_features))"
   ]
  },
  {
   "cell_type": "markdown",
   "metadata": {},
   "source": [
    "## Boruta feature selection"
   ]
  },
  {
   "cell_type": "code",
   "execution_count": 39,
   "metadata": {
    "collapsed": true
   },
   "outputs": [],
   "source": [
    "n_fold = 5\n",
    "params = {'boosting': 'rf',\n",
    "          'max_depth': 6,\n",
    "          'njobs': 7,\n",
    "          'n_estimators': 500,\n",
    "          'colsample_bytree': 0.5926855122509564,\n",
    "          'random_state': 420,\n",
    "          'subsample_freq': 1,\n",
    "          'subsample': 0.632}\n",
    "\n",
    "lgb_rf = lgb.LGBMRegressor(**params)\n",
    "boruta_selector = BorutaPy(lgb_rf, n_estimators = 'auto', verbose = 2)"
   ]
  },
  {
   "cell_type": "code",
   "execution_count": 41,
   "metadata": {
    "scrolled": true
   },
   "outputs": [
    {
     "name": "stdout",
     "output_type": "stream",
     "text": [
      "Iteration: \t1 / 100\n",
      "Confirmed: \t0\n",
      "Tentative: \t346\n",
      "Rejected: \t0\n",
      "Iteration: \t2 / 100\n",
      "Confirmed: \t0\n",
      "Tentative: \t346\n",
      "Rejected: \t0\n",
      "Iteration: \t3 / 100\n",
      "Confirmed: \t0\n",
      "Tentative: \t346\n",
      "Rejected: \t0\n",
      "Iteration: \t4 / 100\n",
      "Confirmed: \t0\n",
      "Tentative: \t346\n",
      "Rejected: \t0\n",
      "Iteration: \t5 / 100\n",
      "Confirmed: \t0\n",
      "Tentative: \t346\n",
      "Rejected: \t0\n",
      "Iteration: \t6 / 100\n",
      "Confirmed: \t0\n",
      "Tentative: \t346\n",
      "Rejected: \t0\n",
      "Iteration: \t7 / 100\n",
      "Confirmed: \t0\n",
      "Tentative: \t346\n",
      "Rejected: \t0\n",
      "Iteration: \t8 / 100\n",
      "Confirmed: \t58\n",
      "Tentative: \t40\n",
      "Rejected: \t248\n",
      "Iteration: \t9 / 100\n",
      "Confirmed: \t58\n",
      "Tentative: \t40\n",
      "Rejected: \t248\n",
      "Iteration: \t10 / 100\n",
      "Confirmed: \t58\n",
      "Tentative: \t40\n",
      "Rejected: \t248\n",
      "Iteration: \t11 / 100\n",
      "Confirmed: \t58\n",
      "Tentative: \t40\n",
      "Rejected: \t248\n",
      "Iteration: \t12 / 100\n",
      "Confirmed: \t62\n",
      "Tentative: \t36\n",
      "Rejected: \t248\n",
      "Iteration: \t13 / 100\n",
      "Confirmed: \t62\n",
      "Tentative: \t36\n",
      "Rejected: \t248\n",
      "Iteration: \t14 / 100\n",
      "Confirmed: \t62\n",
      "Tentative: \t36\n",
      "Rejected: \t248\n",
      "Iteration: \t15 / 100\n",
      "Confirmed: \t62\n",
      "Tentative: \t35\n",
      "Rejected: \t249\n",
      "Iteration: \t16 / 100\n",
      "Confirmed: \t63\n",
      "Tentative: \t34\n",
      "Rejected: \t249\n",
      "Iteration: \t17 / 100\n",
      "Confirmed: \t63\n",
      "Tentative: \t34\n",
      "Rejected: \t249\n",
      "Iteration: \t18 / 100\n",
      "Confirmed: \t63\n",
      "Tentative: \t34\n",
      "Rejected: \t249\n",
      "Iteration: \t19 / 100\n",
      "Confirmed: \t64\n",
      "Tentative: \t32\n",
      "Rejected: \t250\n",
      "Iteration: \t20 / 100\n",
      "Confirmed: \t64\n",
      "Tentative: \t32\n",
      "Rejected: \t250\n",
      "Iteration: \t21 / 100\n",
      "Confirmed: \t64\n",
      "Tentative: \t32\n",
      "Rejected: \t250\n",
      "Iteration: \t22 / 100\n",
      "Confirmed: \t67\n",
      "Tentative: \t29\n",
      "Rejected: \t250\n",
      "Iteration: \t23 / 100\n",
      "Confirmed: \t67\n",
      "Tentative: \t29\n",
      "Rejected: \t250\n",
      "Iteration: \t24 / 100\n",
      "Confirmed: \t67\n",
      "Tentative: \t29\n",
      "Rejected: \t250\n",
      "Iteration: \t25 / 100\n",
      "Confirmed: \t67\n",
      "Tentative: \t29\n",
      "Rejected: \t250\n",
      "Iteration: \t26 / 100\n",
      "Confirmed: \t67\n",
      "Tentative: \t29\n",
      "Rejected: \t250\n",
      "Iteration: \t27 / 100\n",
      "Confirmed: \t67\n",
      "Tentative: \t29\n",
      "Rejected: \t250\n",
      "Iteration: \t28 / 100\n",
      "Confirmed: \t67\n",
      "Tentative: \t29\n",
      "Rejected: \t250\n",
      "Iteration: \t29 / 100\n",
      "Confirmed: \t68\n",
      "Tentative: \t28\n",
      "Rejected: \t250\n",
      "Iteration: \t30 / 100\n",
      "Confirmed: \t68\n",
      "Tentative: \t28\n",
      "Rejected: \t250\n",
      "Iteration: \t31 / 100\n",
      "Confirmed: \t68\n",
      "Tentative: \t27\n",
      "Rejected: \t251\n",
      "Iteration: \t32 / 100\n",
      "Confirmed: \t69\n",
      "Tentative: \t26\n",
      "Rejected: \t251\n",
      "Iteration: \t33 / 100\n",
      "Confirmed: \t69\n",
      "Tentative: \t26\n",
      "Rejected: \t251\n",
      "Iteration: \t34 / 100\n",
      "Confirmed: \t69\n",
      "Tentative: \t25\n",
      "Rejected: \t252\n",
      "Iteration: \t35 / 100\n",
      "Confirmed: \t69\n",
      "Tentative: \t25\n",
      "Rejected: \t252\n",
      "Iteration: \t36 / 100\n",
      "Confirmed: \t69\n",
      "Tentative: \t24\n",
      "Rejected: \t253\n",
      "Iteration: \t37 / 100\n",
      "Confirmed: \t70\n",
      "Tentative: \t23\n",
      "Rejected: \t253\n",
      "Iteration: \t38 / 100\n",
      "Confirmed: \t70\n",
      "Tentative: \t23\n",
      "Rejected: \t253\n",
      "Iteration: \t39 / 100\n",
      "Confirmed: \t70\n",
      "Tentative: \t23\n",
      "Rejected: \t253\n",
      "Iteration: \t40 / 100\n",
      "Confirmed: \t70\n",
      "Tentative: \t23\n",
      "Rejected: \t253\n",
      "Iteration: \t41 / 100\n",
      "Confirmed: \t70\n",
      "Tentative: \t23\n",
      "Rejected: \t253\n",
      "Iteration: \t42 / 100\n",
      "Confirmed: \t70\n",
      "Tentative: \t23\n",
      "Rejected: \t253\n",
      "Iteration: \t43 / 100\n",
      "Confirmed: \t70\n",
      "Tentative: \t23\n",
      "Rejected: \t253\n",
      "Iteration: \t44 / 100\n",
      "Confirmed: \t70\n",
      "Tentative: \t23\n",
      "Rejected: \t253\n",
      "Iteration: \t45 / 100\n",
      "Confirmed: \t70\n",
      "Tentative: \t23\n",
      "Rejected: \t253\n",
      "Iteration: \t46 / 100\n",
      "Confirmed: \t70\n",
      "Tentative: \t23\n",
      "Rejected: \t253\n",
      "Iteration: \t47 / 100\n",
      "Confirmed: \t70\n",
      "Tentative: \t23\n",
      "Rejected: \t253\n",
      "Iteration: \t48 / 100\n",
      "Confirmed: \t70\n",
      "Tentative: \t23\n",
      "Rejected: \t253\n",
      "Iteration: \t49 / 100\n",
      "Confirmed: \t70\n",
      "Tentative: \t23\n",
      "Rejected: \t253\n",
      "Iteration: \t50 / 100\n",
      "Confirmed: \t70\n",
      "Tentative: \t23\n",
      "Rejected: \t253\n",
      "Iteration: \t51 / 100\n",
      "Confirmed: \t71\n",
      "Tentative: \t22\n",
      "Rejected: \t253\n",
      "Iteration: \t52 / 100\n",
      "Confirmed: \t71\n",
      "Tentative: \t22\n",
      "Rejected: \t253\n",
      "Iteration: \t53 / 100\n",
      "Confirmed: \t71\n",
      "Tentative: \t22\n",
      "Rejected: \t253\n",
      "Iteration: \t54 / 100\n",
      "Confirmed: \t71\n",
      "Tentative: \t22\n",
      "Rejected: \t253\n",
      "Iteration: \t55 / 100\n",
      "Confirmed: \t71\n",
      "Tentative: \t21\n",
      "Rejected: \t254\n",
      "Iteration: \t56 / 100\n",
      "Confirmed: \t71\n",
      "Tentative: \t21\n",
      "Rejected: \t254\n",
      "Iteration: \t57 / 100\n",
      "Confirmed: \t71\n",
      "Tentative: \t21\n",
      "Rejected: \t254\n",
      "Iteration: \t58 / 100\n",
      "Confirmed: \t71\n",
      "Tentative: \t21\n",
      "Rejected: \t254\n",
      "Iteration: \t59 / 100\n",
      "Confirmed: \t71\n",
      "Tentative: \t21\n",
      "Rejected: \t254\n",
      "Iteration: \t60 / 100\n",
      "Confirmed: \t71\n",
      "Tentative: \t21\n",
      "Rejected: \t254\n",
      "Iteration: \t61 / 100\n",
      "Confirmed: \t71\n",
      "Tentative: \t21\n",
      "Rejected: \t254\n",
      "Iteration: \t62 / 100\n",
      "Confirmed: \t71\n",
      "Tentative: \t21\n",
      "Rejected: \t254\n",
      "Iteration: \t63 / 100\n",
      "Confirmed: \t71\n",
      "Tentative: \t21\n",
      "Rejected: \t254\n",
      "Iteration: \t64 / 100\n",
      "Confirmed: \t71\n",
      "Tentative: \t21\n",
      "Rejected: \t254\n",
      "Iteration: \t65 / 100\n",
      "Confirmed: \t71\n",
      "Tentative: \t21\n",
      "Rejected: \t254\n",
      "Iteration: \t66 / 100\n",
      "Confirmed: \t71\n",
      "Tentative: \t21\n",
      "Rejected: \t254\n",
      "Iteration: \t67 / 100\n",
      "Confirmed: \t72\n",
      "Tentative: \t19\n",
      "Rejected: \t255\n",
      "Iteration: \t68 / 100\n",
      "Confirmed: \t72\n",
      "Tentative: \t19\n",
      "Rejected: \t255\n",
      "Iteration: \t69 / 100\n",
      "Confirmed: \t72\n",
      "Tentative: \t19\n",
      "Rejected: \t255\n",
      "Iteration: \t70 / 100\n",
      "Confirmed: \t72\n",
      "Tentative: \t17\n",
      "Rejected: \t257\n",
      "Iteration: \t71 / 100\n",
      "Confirmed: \t72\n",
      "Tentative: \t17\n",
      "Rejected: \t257\n",
      "Iteration: \t72 / 100\n",
      "Confirmed: \t72\n",
      "Tentative: \t17\n",
      "Rejected: \t257\n",
      "Iteration: \t73 / 100\n",
      "Confirmed: \t72\n",
      "Tentative: \t17\n",
      "Rejected: \t257\n",
      "Iteration: \t74 / 100\n",
      "Confirmed: \t72\n",
      "Tentative: \t17\n",
      "Rejected: \t257\n",
      "Iteration: \t75 / 100\n",
      "Confirmed: \t72\n",
      "Tentative: \t17\n",
      "Rejected: \t257\n",
      "Iteration: \t76 / 100\n",
      "Confirmed: \t72\n",
      "Tentative: \t17\n",
      "Rejected: \t257\n",
      "Iteration: \t77 / 100\n",
      "Confirmed: \t72\n",
      "Tentative: \t17\n",
      "Rejected: \t257\n",
      "Iteration: \t78 / 100\n",
      "Confirmed: \t72\n",
      "Tentative: \t17\n",
      "Rejected: \t257\n",
      "Iteration: \t79 / 100\n",
      "Confirmed: \t72\n",
      "Tentative: \t17\n",
      "Rejected: \t257\n",
      "Iteration: \t80 / 100\n",
      "Confirmed: \t72\n",
      "Tentative: \t17\n",
      "Rejected: \t257\n",
      "Iteration: \t81 / 100\n",
      "Confirmed: \t72\n",
      "Tentative: \t17\n",
      "Rejected: \t257\n",
      "Iteration: \t82 / 100\n",
      "Confirmed: \t72\n",
      "Tentative: \t17\n",
      "Rejected: \t257\n",
      "Iteration: \t83 / 100\n",
      "Confirmed: \t72\n",
      "Tentative: \t17\n",
      "Rejected: \t257\n",
      "Iteration: \t84 / 100\n",
      "Confirmed: \t72\n",
      "Tentative: \t17\n",
      "Rejected: \t257\n",
      "Iteration: \t85 / 100\n",
      "Confirmed: \t72\n",
      "Tentative: \t17\n",
      "Rejected: \t257\n",
      "Iteration: \t86 / 100\n",
      "Confirmed: \t72\n",
      "Tentative: \t17\n",
      "Rejected: \t257\n",
      "Iteration: \t87 / 100\n",
      "Confirmed: \t72\n",
      "Tentative: \t17\n",
      "Rejected: \t257\n",
      "Iteration: \t88 / 100\n",
      "Confirmed: \t72\n",
      "Tentative: \t17\n",
      "Rejected: \t257\n",
      "Iteration: \t89 / 100\n",
      "Confirmed: \t72\n",
      "Tentative: \t17\n",
      "Rejected: \t257\n",
      "Iteration: \t90 / 100\n",
      "Confirmed: \t72\n",
      "Tentative: \t17\n",
      "Rejected: \t257\n",
      "Iteration: \t91 / 100\n",
      "Confirmed: \t72\n",
      "Tentative: \t17\n",
      "Rejected: \t257\n",
      "Iteration: \t92 / 100\n",
      "Confirmed: \t72\n",
      "Tentative: \t17\n",
      "Rejected: \t257\n",
      "Iteration: \t93 / 100\n",
      "Confirmed: \t72\n",
      "Tentative: \t17\n",
      "Rejected: \t257\n",
      "Iteration: \t94 / 100\n",
      "Confirmed: \t72\n",
      "Tentative: \t17\n",
      "Rejected: \t257\n",
      "Iteration: \t95 / 100\n",
      "Confirmed: \t72\n",
      "Tentative: \t17\n",
      "Rejected: \t257\n",
      "Iteration: \t96 / 100\n",
      "Confirmed: \t72\n",
      "Tentative: \t17\n",
      "Rejected: \t257\n",
      "Iteration: \t97 / 100\n",
      "Confirmed: \t72\n",
      "Tentative: \t17\n",
      "Rejected: \t257\n",
      "Iteration: \t98 / 100\n",
      "Confirmed: \t72\n",
      "Tentative: \t17\n",
      "Rejected: \t257\n",
      "Iteration: \t99 / 100\n",
      "Confirmed: \t72\n",
      "Tentative: \t17\n",
      "Rejected: \t257\n",
      "\n",
      "\n",
      "BorutaPy finished running.\n",
      "\n",
      "Iteration: \t100 / 100\n",
      "Confirmed: \t72\n",
      "Tentative: \t15\n",
      "Rejected: \t257\n"
     ]
    },
    {
     "data": {
      "text/plain": [
       "BorutaPy(alpha=0.05,\n",
       "     estimator=LGBMRegressor(boosting='rf', boosting_type='gbdt', class_weight=None,\n",
       "       colsample_bytree=0.5926855122509564, importance_type='split',\n",
       "       learning_rate=0.1, max_depth=6, min_child_samples=20,\n",
       "       min_child_weight=0.001, min_split_gain=0.0, n_estimators=222,\n",
       "       n_jobs=-1, njobs=7, num_leaves=31, objective=None, random_state=535,\n",
       "       reg_alpha=0.0, reg_lambda=0.0, silent=True, subsample=0.632,\n",
       "       subsample_for_bin=200000, subsample_freq=1),\n",
       "     max_iter=100, n_estimators='auto', perc=100,\n",
       "     random_state=<mtrand.RandomState object at 0x7f06cc05be58>,\n",
       "     two_step=True, verbose=2)"
      ]
     },
     "execution_count": 41,
     "metadata": {},
     "output_type": "execute_result"
    }
   ],
   "source": [
    "X, y = train_df[feats], train_df['target']\n",
    "X = X.replace([np.inf, -np.inf], np.nan)\n",
    "X = X.fillna(-999)\n",
    "boruta_selector.fit(X.values, y.values)"
   ]
  },
  {
   "cell_type": "code",
   "execution_count": 42,
   "metadata": {
    "collapsed": true
   },
   "outputs": [],
   "source": [
    "rankings = dict(zip(train_df.columns, boruta_selector.ranking_))\n",
    "indices = boruta_selector.support_\n",
    "selected_features = list(compress(list(train_df.columns), indices))"
   ]
  },
  {
   "cell_type": "code",
   "execution_count": 43,
   "metadata": {
    "scrolled": true
   },
   "outputs": [
    {
     "data": {
      "text/plain": [
       "['feature_min',\n",
       " 'feature_var',\n",
       " 'hist_month_nunique',\n",
       " 'hist_hour_nunique',\n",
       " 'hist_weekofyear_mean',\n",
       " 'hist_weekday_mean',\n",
       " 'hist_purchase_amount_max',\n",
       " 'hist_purchase_amount_min',\n",
       " 'hist_purchase_date_min',\n",
       " 'hist_month_lag_min',\n",
       " 'hist_month_diff_min',\n",
       " 'hist_authorized_flag_mean',\n",
       " 'hist_category_1_min',\n",
       " 'hist_duration_max',\n",
       " 'hist_category_2_2.0_mean_mean',\n",
       " 'hist_category_3_C_mean_mean',\n",
       " 'hist_purchase_date_average',\n",
       " 'new_month_min',\n",
       " 'new_hour_nunique',\n",
       " 'new_hour_max',\n",
       " 'new_weekofyear_min',\n",
       " 'new_day_nunique',\n",
       " 'new_day_mean',\n",
       " 'new_purchase_amount_var',\n",
       " 'new_installments_sum',\n",
       " 'new_month_lag_var',\n",
       " 'new_month_lag_skew',\n",
       " 'new_price_min',\n",
       " 'new_price_var',\n",
       " 'new_Christmas_Day_2017_mean',\n",
       " 'new_Mothers_Day_2017_mean',\n",
       " 'new_fathers_day_2017_mean',\n",
       " 'new_Valentine_Day_2017_mean',\n",
       " 'new_Black_Friday_2017_mean',\n",
       " 'new_amount_month_ratio_var',\n",
       " 'new_amount_month_ratio_skew',\n",
       " 'new_category_2_1.0_mean_mean',\n",
       " 'new_category_2_2.0_mean_mean',\n",
       " 'new_category_2_3.0_mean_mean',\n",
       " 'new_category_3_A_mean_mean',\n",
       " 'new_purchase_date_uptonow',\n",
       " 'category_1_purchase_amount_mean',\n",
       " 'city_id_purchase_amount_min',\n",
       " 'auth_merchant_id_nunique',\n",
       " 'auth_hour_min',\n",
       " 'auth_weekday_mean',\n",
       " 'auth_purchase_amount_var',\n",
       " 'auth_installments_sum',\n",
       " 'auth_installments_max',\n",
       " 'auth_installments_mean',\n",
       " 'auth_month_lag_max',\n",
       " 'auth_month_lag_min',\n",
       " 'auth_month_diff_max',\n",
       " 'auth_month_diff_min',\n",
       " 'auth_month_diff_mean',\n",
       " 'auth_card_id_count',\n",
       " 'auth_price_sum',\n",
       " 'auth_amount_month_ratio_mean',\n",
       " 'auth_amount_month_ratio_max',\n",
       " 'auth_category_2_1.0_mean_mean',\n",
       " 'auth_category_2_4.0_mean_mean',\n",
       " 'auth_purchase_date_average',\n",
       " 'installments_count_std',\n",
       " 'installments_sum_mean',\n",
       " 'installments_sum_std',\n",
       " 'installments_mean_mean',\n",
       " 'installments_mean_std',\n",
       " 'installments_min_std',\n",
       " 'installments_std_mean',\n",
       " 'installments_skew_mean',\n",
       " 'new_last_buy',\n",
       " 'installments_mean']"
      ]
     },
     "execution_count": 43,
     "metadata": {},
     "output_type": "execute_result"
    }
   ],
   "source": [
    "selected_features"
   ]
  },
  {
   "cell_type": "code",
   "execution_count": 44,
   "metadata": {
    "collapsed": true
   },
   "outputs": [],
   "source": [
    "X = boruta_selector.transform(X.values)"
   ]
  },
  {
   "cell_type": "markdown",
   "metadata": {},
   "source": [
    "## Permutation target feature selection"
   ]
  },
  {
   "cell_type": "code",
   "execution_count": null,
   "metadata": {
    "collapsed": true
   },
   "outputs": [],
   "source": []
  },
  {
   "cell_type": "markdown",
   "metadata": {},
   "source": [
    "## Validation, modelling and prediction"
   ]
  },
  {
   "cell_type": "code",
   "execution_count": null,
   "metadata": {
    "scrolled": true
   },
   "outputs": [
    {
     "name": "stdout",
     "output_type": "stream",
     "text": [
      "Starting LightGBM. Train shape: (201917, 628), test shape: (123623, 629)\n",
      "Training until validation scores don't improve for 200 rounds.\n",
      "[100]\ttrain's rmse: 3.67125\ttest's rmse: 3.71497\n",
      "[200]\ttrain's rmse: 3.59778\ttest's rmse: 3.67968\n",
      "[300]\ttrain's rmse: 3.55643\ttest's rmse: 3.66894\n",
      "[400]\ttrain's rmse: 3.52738\ttest's rmse: 3.66367\n",
      "[500]\ttrain's rmse: 3.50331\ttest's rmse: 3.66018\n",
      "[600]\ttrain's rmse: 3.48223\ttest's rmse: 3.65793\n",
      "[700]\ttrain's rmse: 3.4623\ttest's rmse: 3.65698\n",
      "[800]\ttrain's rmse: 3.44502\ttest's rmse: 3.65668\n",
      "[900]\ttrain's rmse: 3.42836\ttest's rmse: 3.65677\n",
      "[1000]\ttrain's rmse: 3.41297\ttest's rmse: 3.65692\n",
      "[1100]\ttrain's rmse: 3.39748\ttest's rmse: 3.65689\n",
      "Early stopping, best iteration is:\n",
      "[922]\ttrain's rmse: 3.42452\ttest's rmse: 3.65656\n",
      "Fold  1 RMSE : 3.656560\n",
      "Training until validation scores don't improve for 200 rounds.\n",
      "[100]\ttrain's rmse: 3.66831\ttest's rmse: 3.71948\n",
      "[200]\ttrain's rmse: 3.59457\ttest's rmse: 3.68531\n",
      "[300]\ttrain's rmse: 3.55286\ttest's rmse: 3.6738\n",
      "[400]\ttrain's rmse: 3.52012\ttest's rmse: 3.66908\n",
      "[500]\ttrain's rmse: 3.49389\ttest's rmse: 3.66562\n",
      "[600]\ttrain's rmse: 3.47194\ttest's rmse: 3.66357\n",
      "[700]\ttrain's rmse: 3.45197\ttest's rmse: 3.66222\n",
      "[800]\ttrain's rmse: 3.43442\ttest's rmse: 3.66168\n",
      "[900]\ttrain's rmse: 3.41793\ttest's rmse: 3.66137\n",
      "[1000]\ttrain's rmse: 3.4015\ttest's rmse: 3.66158\n",
      "Early stopping, best iteration is:\n",
      "[875]\ttrain's rmse: 3.42207\ttest's rmse: 3.66129\n",
      "Fold  2 RMSE : 3.661293\n",
      "Training until validation scores don't improve for 200 rounds.\n",
      "[100]\ttrain's rmse: 3.67437\ttest's rmse: 3.70547\n",
      "[200]\ttrain's rmse: 3.60343\ttest's rmse: 3.66793\n",
      "[300]\ttrain's rmse: 3.56331\ttest's rmse: 3.65391\n",
      "[400]\ttrain's rmse: 3.53215\ttest's rmse: 3.6465\n",
      "[500]\ttrain's rmse: 3.50633\ttest's rmse: 3.64191\n",
      "[600]\ttrain's rmse: 3.48473\ttest's rmse: 3.6385\n",
      "[700]\ttrain's rmse: 3.46533\ttest's rmse: 3.63678\n",
      "[800]\ttrain's rmse: 3.4485\ttest's rmse: 3.63532\n",
      "[900]\ttrain's rmse: 3.43077\ttest's rmse: 3.63393\n",
      "[1000]\ttrain's rmse: 3.41481\ttest's rmse: 3.63298\n",
      "[1100]\ttrain's rmse: 3.39959\ttest's rmse: 3.63234\n",
      "[1200]\ttrain's rmse: 3.3847\ttest's rmse: 3.63169\n",
      "[1300]\ttrain's rmse: 3.36995\ttest's rmse: 3.63146\n",
      "[1400]\ttrain's rmse: 3.355\ttest's rmse: 3.63154\n",
      "[1500]\ttrain's rmse: 3.34033\ttest's rmse: 3.6318\n",
      "Early stopping, best iteration is:\n",
      "[1344]\ttrain's rmse: 3.36302\ttest's rmse: 3.63135\n",
      "Fold  3 RMSE : 3.631348\n",
      "Training until validation scores don't improve for 200 rounds.\n",
      "[100]\ttrain's rmse: 3.66581\ttest's rmse: 3.71993\n",
      "[200]\ttrain's rmse: 3.5922\ttest's rmse: 3.692\n",
      "[300]\ttrain's rmse: 3.55012\ttest's rmse: 3.68308\n",
      "[400]\ttrain's rmse: 3.51794\ttest's rmse: 3.6779\n",
      "[500]\ttrain's rmse: 3.49197\ttest's rmse: 3.67523\n",
      "[600]\ttrain's rmse: 3.4697\ttest's rmse: 3.67333\n",
      "[700]\ttrain's rmse: 3.44853\ttest's rmse: 3.67265\n",
      "[800]\ttrain's rmse: 3.43195\ttest's rmse: 3.67216\n",
      "[900]\ttrain's rmse: 3.41644\ttest's rmse: 3.67169\n",
      "[1000]\ttrain's rmse: 3.40099\ttest's rmse: 3.67134\n",
      "[1100]\ttrain's rmse: 3.38507\ttest's rmse: 3.67177\n",
      "[1200]\ttrain's rmse: 3.36969\ttest's rmse: 3.67236\n",
      "Early stopping, best iteration is:\n",
      "[1000]\ttrain's rmse: 3.40099\ttest's rmse: 3.67134\n",
      "Fold  4 RMSE : 3.671336\n",
      "Training until validation scores don't improve for 200 rounds.\n",
      "[100]\ttrain's rmse: 3.6767\ttest's rmse: 3.70692\n",
      "[200]\ttrain's rmse: 3.60576\ttest's rmse: 3.66668\n",
      "[300]\ttrain's rmse: 3.56463\ttest's rmse: 3.65232\n",
      "[400]\ttrain's rmse: 3.53467\ttest's rmse: 3.64467\n",
      "[500]\ttrain's rmse: 3.50944\ttest's rmse: 3.63943\n",
      "[600]\ttrain's rmse: 3.48735\ttest's rmse: 3.63545\n",
      "[700]\ttrain's rmse: 3.46989\ttest's rmse: 3.63336\n",
      "[800]\ttrain's rmse: 3.45399\ttest's rmse: 3.63175\n",
      "[900]\ttrain's rmse: 3.439\ttest's rmse: 3.63156\n",
      "[1000]\ttrain's rmse: 3.4241\ttest's rmse: 3.63089\n",
      "[1100]\ttrain's rmse: 3.40928\ttest's rmse: 3.63038\n"
     ]
    }
   ],
   "source": [
    "num_folds = 5\n",
    "stratified = True\n",
    "print(\"Starting LightGBM. Train shape: {}, test shape: {}\".format(train_df.shape, test_df.shape))\n",
    "\n",
    "# Cross validation model\n",
    "if stratified:\n",
    "    folds = StratifiedKFold(n_splits = num_folds, shuffle = False, random_state = 326)\n",
    "else:\n",
    "    folds = KFold(n_splits = num_folds, shuffle = True, random_state = 326)\n",
    "#     folds = GroupKFold(n_splits = num_folds)\n",
    "\n",
    "# Create arrays and dataframes to store results\n",
    "oof_preds = np.zeros(train_df.shape[0])\n",
    "sub_preds = np.zeros(test_df.shape[0])\n",
    "feature_importance_df = pd.DataFrame()\n",
    "feats = [f for f in train_df.columns if f not in FEATS_EXCLUDED]\n",
    "\n",
    "# k-fold\n",
    "rmse_list = []\n",
    "for n_fold, (train_idx, valid_idx) in enumerate(folds.split(train_df[feats], train_df['outliers'])):\n",
    "    train_x, train_y = train_df[feats].iloc[train_idx], train_df['target'].iloc[train_idx]\n",
    "    valid_x, valid_y = train_df[feats].iloc[valid_idx], train_df['target'].iloc[valid_idx]\n",
    "\n",
    "#     train_x, train_y = X[train_idx], y[train_idx]\n",
    "#     valid_x, valid_y = X[valid_idx], y[valid_idx]\n",
    "\n",
    "    # set data structure\n",
    "    lgb_train = lgb.Dataset(train_x,\n",
    "                            label = train_y,\n",
    "                            free_raw_data = False)\n",
    "    lgb_test = lgb.Dataset(valid_x,\n",
    "                           label = valid_y,\n",
    "                           free_raw_data = False)\n",
    "\n",
    "    # params optimized by optuna\n",
    "    params = {\n",
    "                'task': 'train',\n",
    "                'boosting': 'gbdt',\n",
    "                'objective': 'regression',\n",
    "                'metric': 'rmse',\n",
    "                'learning_rate': 0.01,\n",
    "                'subsample': 0.8567867067395918,\n",
    "                'max_depth': 6,\n",
    "                'num_leaves': 60,\n",
    "                'min_child_weight': 43.61701338047581,\n",
    "                'other_rate': 0.0721768246018207,\n",
    "                'reg_alpha': 8.738366154766943,\n",
    "                'colsample_bytree': 0.24179756580718983,\n",
    "                'min_split_gain': 9.592937554877185,\n",
    "                'reg_lambda': 1.0223685093186163,\n",
    "                'min_data_in_leaf': 41,\n",
    "                'verbose': -1,\n",
    "                'seed':420,\n",
    "                'bagging_seed': 420,\n",
    "                'drop_seed': 420,\n",
    "            }\n",
    "\n",
    "    reg = lgb.train(\n",
    "                    params,\n",
    "                    lgb_train,\n",
    "                    valid_sets = [lgb_train, lgb_test],\n",
    "                    valid_names = ['train', 'test'],\n",
    "                    num_boost_round = 10000,\n",
    "                    early_stopping_rounds = 200,\n",
    "                    verbose_eval = 100\n",
    "                    )\n",
    "\n",
    "    oof_preds[valid_idx] = reg.predict(valid_x, num_iteration = reg.best_iteration)\n",
    "    sub_preds += reg.predict(test_df[feats], num_iteration = reg.best_iteration) / folds.n_splits\n",
    "\n",
    "    print('Fold %2d RMSE : %.6f' % (n_fold + 1, rmse(valid_y, oof_preds[valid_idx])))\n",
    "    rmse_list.append(rmse(valid_y, oof_preds[valid_idx]))\n",
    "    del reg, train_x, train_y, valid_x, valid_y\n",
    "    gc.collect()\n",
    "print(\"Mean CV Score - \" + str(np.mean(rmse_list)))"
   ]
  },
  {
   "cell_type": "code",
   "execution_count": 28,
   "metadata": {},
   "outputs": [],
   "source": [
    "# save submission file\n",
    "test_df.loc[:, 'target'] = sub_preds\n",
    "test_df = test_df.reset_index()\n",
    "test_df[['card_id', 'target']].to_csv('lgb_650_feats_5_fold_2.csv', index=False)"
   ]
  },
  {
   "cell_type": "markdown",
   "metadata": {
    "collapsed": true
   },
   "source": [
    "## Stacking"
   ]
  },
  {
   "cell_type": "code",
   "execution_count": null,
   "metadata": {
    "collapsed": true
   },
   "outputs": [],
   "source": []
  }
 ],
 "metadata": {
  "kernelspec": {
   "display_name": "Python 3",
   "language": "python",
   "name": "python3"
  },
  "language_info": {
   "codemirror_mode": {
    "name": "ipython",
    "version": 3
   },
   "file_extension": ".py",
   "mimetype": "text/x-python",
   "name": "python",
   "nbconvert_exporter": "python",
   "pygments_lexer": "ipython3",
   "version": "3.6.3"
  }
 },
 "nbformat": 4,
 "nbformat_minor": 1
}
