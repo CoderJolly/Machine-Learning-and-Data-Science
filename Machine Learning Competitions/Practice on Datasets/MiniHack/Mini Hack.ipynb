{
 "cells": [
  {
   "cell_type": "code",
   "execution_count": 2,
   "metadata": {
    "collapsed": true
   },
   "outputs": [],
   "source": [
    "%matplotlib inline\n",
    "import seaborn as sns\n",
    "import numpy as np\n",
    "import matplotlib.pyplot as plt\n",
    "import pandas as pd\n",
    "from scipy.stats import mode,skew,skewtest\n",
    "\n",
    "from sklearn.preprocessing import StandardScaler,LabelEncoder\n",
    "from sklearn.ensemble import RandomForestClassifier,RandomForestRegressor\n",
    "from sklearn.cross_validation import StratifiedKFold,train_test_split\n",
    "from sklearn import linear_model\n",
    "import xgboost as xgb"
   ]
  },
  {
   "cell_type": "code",
   "execution_count": 3,
   "metadata": {
    "collapsed": true
   },
   "outputs": [],
   "source": [
    "import warnings\n",
    "warnings.filterwarnings('ignore')"
   ]
  },
  {
   "cell_type": "code",
   "execution_count": 4,
   "metadata": {
    "collapsed": true
   },
   "outputs": [],
   "source": [
    "train=pd.read_csv('/Users/adityavyas/Desktop/Machine Learning and Data Science/Datasets/MiniHack/train.csv')\n",
    "test=pd.read_csv('/Users/adityavyas/Desktop/Machine Learning and Data Science/Datasets/MiniHack/test.csv')"
   ]
  },
  {
   "cell_type": "code",
   "execution_count": 5,
   "metadata": {
    "collapsed": false
   },
   "outputs": [
    {
     "data": {
      "text/html": [
       "<div>\n",
       "<table border=\"1\" class=\"dataframe\">\n",
       "  <thead>\n",
       "    <tr style=\"text-align: right;\">\n",
       "      <th></th>\n",
       "      <th>Trip_ID</th>\n",
       "      <th>Trip_Distance</th>\n",
       "      <th>Type_of_Cab</th>\n",
       "      <th>Customer_Since_Months</th>\n",
       "      <th>Life_Style_Index</th>\n",
       "      <th>Confidence_Life_Style_Index</th>\n",
       "      <th>Destination_Type</th>\n",
       "      <th>Customer_Rating</th>\n",
       "      <th>Cancellation_Last_1Month</th>\n",
       "      <th>Var1</th>\n",
       "      <th>Var2</th>\n",
       "      <th>Var3</th>\n",
       "      <th>Gender</th>\n",
       "      <th>Surge_Pricing_Type</th>\n",
       "    </tr>\n",
       "  </thead>\n",
       "  <tbody>\n",
       "    <tr>\n",
       "      <th>0</th>\n",
       "      <td>T0005689460</td>\n",
       "      <td>6.77</td>\n",
       "      <td>B</td>\n",
       "      <td>1.0</td>\n",
       "      <td>2.42769</td>\n",
       "      <td>A</td>\n",
       "      <td>A</td>\n",
       "      <td>3.90500</td>\n",
       "      <td>0</td>\n",
       "      <td>40.0</td>\n",
       "      <td>46</td>\n",
       "      <td>60</td>\n",
       "      <td>Female</td>\n",
       "      <td>2</td>\n",
       "    </tr>\n",
       "    <tr>\n",
       "      <th>1</th>\n",
       "      <td>T0005689461</td>\n",
       "      <td>29.47</td>\n",
       "      <td>B</td>\n",
       "      <td>10.0</td>\n",
       "      <td>2.78245</td>\n",
       "      <td>B</td>\n",
       "      <td>A</td>\n",
       "      <td>3.45000</td>\n",
       "      <td>0</td>\n",
       "      <td>38.0</td>\n",
       "      <td>56</td>\n",
       "      <td>78</td>\n",
       "      <td>Male</td>\n",
       "      <td>2</td>\n",
       "    </tr>\n",
       "    <tr>\n",
       "      <th>2</th>\n",
       "      <td>T0005689464</td>\n",
       "      <td>41.58</td>\n",
       "      <td>NaN</td>\n",
       "      <td>10.0</td>\n",
       "      <td>NaN</td>\n",
       "      <td>NaN</td>\n",
       "      <td>E</td>\n",
       "      <td>3.50125</td>\n",
       "      <td>2</td>\n",
       "      <td>NaN</td>\n",
       "      <td>56</td>\n",
       "      <td>77</td>\n",
       "      <td>Male</td>\n",
       "      <td>2</td>\n",
       "    </tr>\n",
       "    <tr>\n",
       "      <th>3</th>\n",
       "      <td>T0005689465</td>\n",
       "      <td>61.56</td>\n",
       "      <td>C</td>\n",
       "      <td>10.0</td>\n",
       "      <td>NaN</td>\n",
       "      <td>NaN</td>\n",
       "      <td>A</td>\n",
       "      <td>3.45375</td>\n",
       "      <td>0</td>\n",
       "      <td>NaN</td>\n",
       "      <td>52</td>\n",
       "      <td>74</td>\n",
       "      <td>Male</td>\n",
       "      <td>3</td>\n",
       "    </tr>\n",
       "    <tr>\n",
       "      <th>4</th>\n",
       "      <td>T0005689467</td>\n",
       "      <td>54.95</td>\n",
       "      <td>C</td>\n",
       "      <td>10.0</td>\n",
       "      <td>3.03453</td>\n",
       "      <td>B</td>\n",
       "      <td>A</td>\n",
       "      <td>3.40250</td>\n",
       "      <td>4</td>\n",
       "      <td>51.0</td>\n",
       "      <td>49</td>\n",
       "      <td>102</td>\n",
       "      <td>Male</td>\n",
       "      <td>2</td>\n",
       "    </tr>\n",
       "  </tbody>\n",
       "</table>\n",
       "</div>"
      ],
      "text/plain": [
       "       Trip_ID  Trip_Distance Type_of_Cab  Customer_Since_Months  \\\n",
       "0  T0005689460           6.77           B                    1.0   \n",
       "1  T0005689461          29.47           B                   10.0   \n",
       "2  T0005689464          41.58         NaN                   10.0   \n",
       "3  T0005689465          61.56           C                   10.0   \n",
       "4  T0005689467          54.95           C                   10.0   \n",
       "\n",
       "   Life_Style_Index Confidence_Life_Style_Index Destination_Type  \\\n",
       "0           2.42769                           A                A   \n",
       "1           2.78245                           B                A   \n",
       "2               NaN                         NaN                E   \n",
       "3               NaN                         NaN                A   \n",
       "4           3.03453                           B                A   \n",
       "\n",
       "   Customer_Rating  Cancellation_Last_1Month  Var1  Var2  Var3  Gender  \\\n",
       "0          3.90500                         0  40.0    46    60  Female   \n",
       "1          3.45000                         0  38.0    56    78    Male   \n",
       "2          3.50125                         2   NaN    56    77    Male   \n",
       "3          3.45375                         0   NaN    52    74    Male   \n",
       "4          3.40250                         4  51.0    49   102    Male   \n",
       "\n",
       "   Surge_Pricing_Type  \n",
       "0                   2  \n",
       "1                   2  \n",
       "2                   2  \n",
       "3                   3  \n",
       "4                   2  "
      ]
     },
     "execution_count": 5,
     "metadata": {},
     "output_type": "execute_result"
    }
   ],
   "source": [
    "train.head(5)"
   ]
  },
  {
   "cell_type": "code",
   "execution_count": 6,
   "metadata": {
    "collapsed": false
   },
   "outputs": [
    {
     "data": {
      "text/plain": [
       "Trip_ID                         object\n",
       "Trip_Distance                  float64\n",
       "Type_of_Cab                     object\n",
       "Customer_Since_Months          float64\n",
       "Life_Style_Index               float64\n",
       "Confidence_Life_Style_Index     object\n",
       "Destination_Type                object\n",
       "Customer_Rating                float64\n",
       "Cancellation_Last_1Month         int64\n",
       "Var1                           float64\n",
       "Var2                             int64\n",
       "Var3                             int64\n",
       "Gender                          object\n",
       "Surge_Pricing_Type               int64\n",
       "dtype: object"
      ]
     },
     "execution_count": 6,
     "metadata": {},
     "output_type": "execute_result"
    }
   ],
   "source": [
    "train.dtypes"
   ]
  },
  {
   "cell_type": "code",
   "execution_count": 7,
   "metadata": {
    "collapsed": false
   },
   "outputs": [
    {
     "data": {
      "text/plain": [
       "Trip_ID                            0\n",
       "Trip_Distance                      0\n",
       "Type_of_Cab                    20210\n",
       "Customer_Since_Months           5920\n",
       "Life_Style_Index               20193\n",
       "Confidence_Life_Style_Index    20193\n",
       "Destination_Type                   0\n",
       "Customer_Rating                    0\n",
       "Cancellation_Last_1Month           0\n",
       "Var1                           71030\n",
       "Var2                               0\n",
       "Var3                               0\n",
       "Gender                             0\n",
       "Surge_Pricing_Type                 0\n",
       "dtype: int64"
      ]
     },
     "execution_count": 7,
     "metadata": {},
     "output_type": "execute_result"
    }
   ],
   "source": [
    "train.isnull().sum()"
   ]
  },
  {
   "cell_type": "code",
   "execution_count": 8,
   "metadata": {
    "collapsed": false
   },
   "outputs": [
    {
     "data": {
      "text/plain": [
       "Trip_ID                            0\n",
       "Trip_Distance                      0\n",
       "Type_of_Cab                    13158\n",
       "Customer_Since_Months           3966\n",
       "Life_Style_Index               13327\n",
       "Confidence_Life_Style_Index    13327\n",
       "Destination_Type                   0\n",
       "Customer_Rating                    0\n",
       "Cancellation_Last_1Month           0\n",
       "Var1                           46789\n",
       "Var2                               0\n",
       "Var3                               0\n",
       "Gender                             0\n",
       "dtype: int64"
      ]
     },
     "execution_count": 8,
     "metadata": {},
     "output_type": "execute_result"
    }
   ],
   "source": [
    "test.isnull().sum()"
   ]
  },
  {
   "cell_type": "code",
   "execution_count": 9,
   "metadata": {
    "collapsed": false
   },
   "outputs": [
    {
     "data": {
      "text/plain": [
       "2    56728\n",
       "3    47720\n",
       "1    27214\n",
       "Name: Surge_Pricing_Type, dtype: int64"
      ]
     },
     "execution_count": 9,
     "metadata": {},
     "output_type": "execute_result"
    }
   ],
   "source": [
    "train['Surge_Pricing_Type'].value_counts()"
   ]
  },
  {
   "cell_type": "code",
   "execution_count": 10,
   "metadata": {
    "collapsed": true
   },
   "outputs": [],
   "source": [
    "train.drop('Trip_ID',1,inplace=True)\n",
    "\n",
    "trip_ids=test['Trip_ID']\n",
    "test.drop('Trip_ID',1,inplace=True)"
   ]
  },
  {
   "cell_type": "code",
   "execution_count": 11,
   "metadata": {
    "collapsed": false
   },
   "outputs": [
    {
     "data": {
      "text/html": [
       "<div>\n",
       "<table border=\"1\" class=\"dataframe\">\n",
       "  <thead>\n",
       "    <tr style=\"text-align: right;\">\n",
       "      <th></th>\n",
       "      <th>Trip_Distance</th>\n",
       "      <th>Customer_Since_Months</th>\n",
       "      <th>Life_Style_Index</th>\n",
       "      <th>Customer_Rating</th>\n",
       "      <th>Cancellation_Last_1Month</th>\n",
       "      <th>Var1</th>\n",
       "      <th>Var2</th>\n",
       "      <th>Var3</th>\n",
       "      <th>Surge_Pricing_Type</th>\n",
       "    </tr>\n",
       "  </thead>\n",
       "  <tbody>\n",
       "    <tr>\n",
       "      <th>count</th>\n",
       "      <td>131662.000000</td>\n",
       "      <td>125742.000000</td>\n",
       "      <td>111469.000000</td>\n",
       "      <td>131662.000000</td>\n",
       "      <td>131662.000000</td>\n",
       "      <td>60632.000000</td>\n",
       "      <td>131662.000000</td>\n",
       "      <td>131662.000000</td>\n",
       "      <td>131662.000000</td>\n",
       "    </tr>\n",
       "    <tr>\n",
       "      <th>mean</th>\n",
       "      <td>44.200909</td>\n",
       "      <td>6.016661</td>\n",
       "      <td>2.802064</td>\n",
       "      <td>2.849458</td>\n",
       "      <td>0.782838</td>\n",
       "      <td>64.202698</td>\n",
       "      <td>51.202800</td>\n",
       "      <td>75.099019</td>\n",
       "      <td>2.155747</td>\n",
       "    </tr>\n",
       "    <tr>\n",
       "      <th>std</th>\n",
       "      <td>25.522882</td>\n",
       "      <td>3.626887</td>\n",
       "      <td>0.225796</td>\n",
       "      <td>0.980675</td>\n",
       "      <td>1.037559</td>\n",
       "      <td>21.820447</td>\n",
       "      <td>4.986142</td>\n",
       "      <td>11.578278</td>\n",
       "      <td>0.738164</td>\n",
       "    </tr>\n",
       "    <tr>\n",
       "      <th>min</th>\n",
       "      <td>0.310000</td>\n",
       "      <td>0.000000</td>\n",
       "      <td>1.596380</td>\n",
       "      <td>0.001250</td>\n",
       "      <td>0.000000</td>\n",
       "      <td>30.000000</td>\n",
       "      <td>40.000000</td>\n",
       "      <td>52.000000</td>\n",
       "      <td>1.000000</td>\n",
       "    </tr>\n",
       "    <tr>\n",
       "      <th>25%</th>\n",
       "      <td>24.580000</td>\n",
       "      <td>NaN</td>\n",
       "      <td>NaN</td>\n",
       "      <td>2.152500</td>\n",
       "      <td>0.000000</td>\n",
       "      <td>NaN</td>\n",
       "      <td>48.000000</td>\n",
       "      <td>67.000000</td>\n",
       "      <td>2.000000</td>\n",
       "    </tr>\n",
       "    <tr>\n",
       "      <th>50%</th>\n",
       "      <td>38.200000</td>\n",
       "      <td>NaN</td>\n",
       "      <td>NaN</td>\n",
       "      <td>2.895000</td>\n",
       "      <td>0.000000</td>\n",
       "      <td>NaN</td>\n",
       "      <td>50.000000</td>\n",
       "      <td>74.000000</td>\n",
       "      <td>2.000000</td>\n",
       "    </tr>\n",
       "    <tr>\n",
       "      <th>75%</th>\n",
       "      <td>60.730000</td>\n",
       "      <td>NaN</td>\n",
       "      <td>NaN</td>\n",
       "      <td>3.582500</td>\n",
       "      <td>1.000000</td>\n",
       "      <td>NaN</td>\n",
       "      <td>54.000000</td>\n",
       "      <td>82.000000</td>\n",
       "      <td>3.000000</td>\n",
       "    </tr>\n",
       "    <tr>\n",
       "      <th>max</th>\n",
       "      <td>109.230000</td>\n",
       "      <td>10.000000</td>\n",
       "      <td>4.875110</td>\n",
       "      <td>5.000000</td>\n",
       "      <td>8.000000</td>\n",
       "      <td>210.000000</td>\n",
       "      <td>124.000000</td>\n",
       "      <td>206.000000</td>\n",
       "      <td>3.000000</td>\n",
       "    </tr>\n",
       "  </tbody>\n",
       "</table>\n",
       "</div>"
      ],
      "text/plain": [
       "       Trip_Distance  Customer_Since_Months  Life_Style_Index  \\\n",
       "count  131662.000000          125742.000000     111469.000000   \n",
       "mean       44.200909               6.016661          2.802064   \n",
       "std        25.522882               3.626887          0.225796   \n",
       "min         0.310000               0.000000          1.596380   \n",
       "25%        24.580000                    NaN               NaN   \n",
       "50%        38.200000                    NaN               NaN   \n",
       "75%        60.730000                    NaN               NaN   \n",
       "max       109.230000              10.000000          4.875110   \n",
       "\n",
       "       Customer_Rating  Cancellation_Last_1Month          Var1           Var2  \\\n",
       "count    131662.000000             131662.000000  60632.000000  131662.000000   \n",
       "mean          2.849458                  0.782838     64.202698      51.202800   \n",
       "std           0.980675                  1.037559     21.820447       4.986142   \n",
       "min           0.001250                  0.000000     30.000000      40.000000   \n",
       "25%           2.152500                  0.000000           NaN      48.000000   \n",
       "50%           2.895000                  0.000000           NaN      50.000000   \n",
       "75%           3.582500                  1.000000           NaN      54.000000   \n",
       "max           5.000000                  8.000000    210.000000     124.000000   \n",
       "\n",
       "                Var3  Surge_Pricing_Type  \n",
       "count  131662.000000       131662.000000  \n",
       "mean       75.099019            2.155747  \n",
       "std        11.578278            0.738164  \n",
       "min        52.000000            1.000000  \n",
       "25%        67.000000            2.000000  \n",
       "50%        74.000000            2.000000  \n",
       "75%        82.000000            3.000000  \n",
       "max       206.000000            3.000000  "
      ]
     },
     "execution_count": 11,
     "metadata": {},
     "output_type": "execute_result"
    }
   ],
   "source": [
    "train.describe()"
   ]
  },
  {
   "cell_type": "code",
   "execution_count": 12,
   "metadata": {
    "collapsed": false
   },
   "outputs": [
    {
     "data": {
      "text/plain": [
       "<matplotlib.axes._subplots.AxesSubplot at 0x1156ad7d0>"
      ]
     },
     "execution_count": 12,
     "metadata": {},
     "output_type": "execute_result"
    },
    {
     "data": {
      "image/png": "[encoded data removed]",
      "text/plain": [
       "<matplotlib.figure.Figure at 0x1156ade10>"
      ]
     },
     "metadata": {},
     "output_type": "display_data"
    }
   ],
   "source": [
    "sns.distplot(train['Trip_Distance'])"
   ]
  },
  {
   "cell_type": "code",
   "execution_count": 13,
   "metadata": {
    "collapsed": false
   },
   "outputs": [],
   "source": [
    "train=train.fillna(value={'Type_of_Cab':train['Type_of_Cab'].mode()[0],\n",
    "                          'Confidence_Life_Style_Index':train['Confidence_Life_Style_Index'].mode()[0]})\n",
    "test=test.fillna(value={'Type_of_Cab':test['Type_of_Cab'].mode()[0],\n",
    "                          'Confidence_Life_Style_Index':test['Confidence_Life_Style_Index'].mode()[0]})"
   ]
  },
  {
   "cell_type": "code",
   "execution_count": 14,
   "metadata": {
    "collapsed": false
   },
   "outputs": [
    {
     "data": {
      "text/plain": [
       "Trip_Distance                      0\n",
       "Type_of_Cab                        0\n",
       "Customer_Since_Months           5920\n",
       "Life_Style_Index               20193\n",
       "Confidence_Life_Style_Index        0\n",
       "Destination_Type                   0\n",
       "Customer_Rating                    0\n",
       "Cancellation_Last_1Month           0\n",
       "Var1                           71030\n",
       "Var2                               0\n",
       "Var3                               0\n",
       "Gender                             0\n",
       "Surge_Pricing_Type                 0\n",
       "dtype: int64"
      ]
     },
     "execution_count": 14,
     "metadata": {},
     "output_type": "execute_result"
    }
   ],
   "source": [
    "train.isnull().sum()"
   ]
  },
  {
   "cell_type": "code",
   "execution_count": 15,
   "metadata": {
    "collapsed": false
   },
   "outputs": [
    {
     "data": {
      "text/plain": [
       "10.0    42680\n",
       "2.0     11621\n",
       "3.0     10351\n",
       "0.0     10169\n",
       "5.0      8641\n",
       "1.0      8297\n",
       "4.0      7726\n",
       "7.0      7407\n",
       "6.0      7375\n",
       "8.0      6328\n",
       "9.0      5147\n",
       "Name: Customer_Since_Months, dtype: int64"
      ]
     },
     "execution_count": 15,
     "metadata": {},
     "output_type": "execute_result"
    }
   ],
   "source": [
    "train['Customer_Since_Months'].value_counts()"
   ]
  },
  {
   "cell_type": "code",
   "execution_count": 16,
   "metadata": {
    "collapsed": false
   },
   "outputs": [
    {
     "data": {
      "text/plain": [
       "61.0"
      ]
     },
     "execution_count": 16,
     "metadata": {},
     "output_type": "execute_result"
    }
   ],
   "source": [
    "train['Var1'].median()"
   ]
  },
  {
   "cell_type": "code",
   "execution_count": 17,
   "metadata": {
    "collapsed": true
   },
   "outputs": [],
   "source": [
    "train=train.fillna(value={'Customer_Since_Months':train['Customer_Since_Months'].mode()[0],\n",
    "                          'Life_Style_Index':train['Life_Style_Index'].mean(),'Var1':train['Var1'].median()})\n",
    "test=test.fillna(value={'Customer_Since_Months':test['Customer_Since_Months'].mode()[0],\n",
    "                          'Life_Style_Index':test['Life_Style_Index'].mean(),'Var1':test['Var1'].median()})"
   ]
  },
  {
   "cell_type": "code",
   "execution_count": 18,
   "metadata": {
    "collapsed": false
   },
   "outputs": [
    {
     "data": {
      "text/plain": [
       "Trip_Distance                  0\n",
       "Type_of_Cab                    0\n",
       "Customer_Since_Months          0\n",
       "Life_Style_Index               0\n",
       "Confidence_Life_Style_Index    0\n",
       "Destination_Type               0\n",
       "Customer_Rating                0\n",
       "Cancellation_Last_1Month       0\n",
       "Var1                           0\n",
       "Var2                           0\n",
       "Var3                           0\n",
       "Gender                         0\n",
       "Surge_Pricing_Type             0\n",
       "dtype: int64"
      ]
     },
     "execution_count": 18,
     "metadata": {},
     "output_type": "execute_result"
    }
   ],
   "source": [
    "train.isnull().sum()"
   ]
  },
  {
   "cell_type": "code",
   "execution_count": 19,
   "metadata": {
    "collapsed": false
   },
   "outputs": [
    {
     "data": {
      "text/plain": [
       "Trip_Distance                  0\n",
       "Type_of_Cab                    0\n",
       "Customer_Since_Months          0\n",
       "Life_Style_Index               0\n",
       "Confidence_Life_Style_Index    0\n",
       "Destination_Type               0\n",
       "Customer_Rating                0\n",
       "Cancellation_Last_1Month       0\n",
       "Var1                           0\n",
       "Var2                           0\n",
       "Var3                           0\n",
       "Gender                         0\n",
       "dtype: int64"
      ]
     },
     "execution_count": 19,
     "metadata": {},
     "output_type": "execute_result"
    }
   ],
   "source": [
    "test.isnull().sum()"
   ]
  },
  {
   "cell_type": "code",
   "execution_count": 20,
   "metadata": {
    "collapsed": false
   },
   "outputs": [
    {
     "data": {
      "text/plain": [
       "<matplotlib.axes._subplots.AxesSubplot at 0x115eae4d0>"
      ]
     },
     "execution_count": 20,
     "metadata": {},
     "output_type": "execute_result"
    },
    {
     "data": {
      "image/png": "[encoded data removed]",
      "text/plain": [
       "<matplotlib.figure.Figure at 0x1158c6390>"
      ]
     },
     "metadata": {},
     "output_type": "display_data"
    }
   ],
   "source": [
    "sns.countplot(train['Type_of_Cab'])"
   ]
  },
  {
   "cell_type": "code",
   "execution_count": 21,
   "metadata": {
    "collapsed": false
   },
   "outputs": [
    {
     "data": {
      "text/plain": [
       "<matplotlib.axes._subplots.AxesSubplot at 0x115f69a90>"
      ]
     },
     "execution_count": 21,
     "metadata": {},
     "output_type": "execute_result"
    },
    {
     "data": {
      "image/png": "[encoded data removed]",
      "text/plain": [
       "<matplotlib.figure.Figure at 0x115ba5e90>"
      ]
     },
     "metadata": {},
     "output_type": "display_data"
    }
   ],
   "source": [
    "sns.countplot(train['Customer_Since_Months'])"
   ]
  },
  {
   "cell_type": "code",
   "execution_count": 22,
   "metadata": {
    "collapsed": false
   },
   "outputs": [
    {
     "data": {
      "text/plain": [
       "<matplotlib.axes._subplots.AxesSubplot at 0x116362c50>"
      ]
     },
     "execution_count": 22,
     "metadata": {},
     "output_type": "execute_result"
    },
    {
     "data": {
      "image/png": "[encoded data removed]",
      "text/plain": [
       "<matplotlib.figure.Figure at 0x115e93f50>"
      ]
     },
     "metadata": {},
     "output_type": "display_data"
    }
   ],
   "source": [
    "sns.countplot(train['Customer_Since_Months'],hue=train['Type_of_Cab'])"
   ]
  },
  {
   "cell_type": "code",
   "execution_count": 23,
   "metadata": {
    "collapsed": false,
    "scrolled": false
   },
   "outputs": [
    {
     "data": {
      "text/plain": [
       "<matplotlib.axes._subplots.AxesSubplot at 0x1184e2ed0>"
      ]
     },
     "execution_count": 23,
     "metadata": {},
     "output_type": "execute_result"
    },
    {
     "data": {
      "image/png": "[encoded data removed]",
      "text/plain": [
       "<matplotlib.figure.Figure at 0x1184f9890>"
      ]
     },
     "metadata": {},
     "output_type": "display_data"
    }
   ],
   "source": [
    "sns.distplot((train['Life_Style_Index']))"
   ]
  },
  {
   "cell_type": "code",
   "execution_count": 24,
   "metadata": {
    "collapsed": false
   },
   "outputs": [
    {
     "data": {
      "text/plain": [
       "<matplotlib.axes._subplots.AxesSubplot at 0x118667ad0>"
      ]
     },
     "execution_count": 24,
     "metadata": {},
     "output_type": "execute_result"
    },
    {
     "data": {
      "image/png": "[encoded data removed]",
      "text/plain": [
       "<matplotlib.figure.Figure at 0x116351310>"
      ]
     },
     "metadata": {},
     "output_type": "display_data"
    }
   ],
   "source": [
    "sns.boxplot(train['Life_Style_Index'])"
   ]
  },
  {
   "cell_type": "code",
   "execution_count": 25,
   "metadata": {
    "collapsed": true
   },
   "outputs": [],
   "source": [
    "train['Life_Style_Index'][train['Life_Style_Index']>4.5]=train['Life_Style_Index'].mean()"
   ]
  },
  {
   "cell_type": "code",
   "execution_count": 26,
   "metadata": {
    "collapsed": false
   },
   "outputs": [
    {
     "data": {
      "text/plain": [
       "<matplotlib.axes._subplots.AxesSubplot at 0x11d8ff050>"
      ]
     },
     "execution_count": 26,
     "metadata": {},
     "output_type": "execute_result"
    },
    {
     "data": {
      "image/png": "[encoded data removed]",
      "text/plain": [
       "<matplotlib.figure.Figure at 0x11d8f6210>"
      ]
     },
     "metadata": {},
     "output_type": "display_data"
    }
   ],
   "source": [
    "sns.boxplot(train['Life_Style_Index'])"
   ]
  },
  {
   "cell_type": "code",
   "execution_count": 27,
   "metadata": {
    "collapsed": false
   },
   "outputs": [
    {
     "data": {
      "text/plain": [
       "<matplotlib.axes._subplots.AxesSubplot at 0x11865bd90>"
      ]
     },
     "execution_count": 27,
     "metadata": {},
     "output_type": "execute_result"
    },
    {
     "data": {
      "image/png": "[encoded data removed]",
      "text/plain": [
       "<matplotlib.figure.Figure at 0x1162a4210>"
      ]
     },
     "metadata": {},
     "output_type": "display_data"
    }
   ],
   "source": [
    "sns.distplot((train['Life_Style_Index']))"
   ]
  },
  {
   "cell_type": "code",
   "execution_count": 28,
   "metadata": {
    "collapsed": false
   },
   "outputs": [
    {
     "data": {
      "text/plain": [
       "B    60548\n",
       "C    35967\n",
       "A    35147\n",
       "Name: Confidence_Life_Style_Index, dtype: int64"
      ]
     },
     "execution_count": 28,
     "metadata": {},
     "output_type": "execute_result"
    }
   ],
   "source": [
    "train['Confidence_Life_Style_Index'].value_counts()"
   ]
  },
  {
   "cell_type": "code",
   "execution_count": 29,
   "metadata": {
    "collapsed": false
   },
   "outputs": [
    {
     "data": {
      "text/plain": [
       "<matplotlib.axes._subplots.AxesSubplot at 0x1168dc190>"
      ]
     },
     "execution_count": 29,
     "metadata": {},
     "output_type": "execute_result"
    },
    {
     "data": {
      "image/png": "[encoded data removed]",
      "text/plain": [
       "<matplotlib.figure.Figure at 0x11a647710>"
      ]
     },
     "metadata": {},
     "output_type": "display_data"
    }
   ],
   "source": [
    "sns.countplot(train['Confidence_Life_Style_Index'])"
   ]
  },
  {
   "cell_type": "code",
   "execution_count": 30,
   "metadata": {
    "collapsed": false
   },
   "outputs": [
    {
     "data": {
      "text/plain": [
       "RandomForestClassifier(bootstrap=True, class_weight=None, criterion='gini',\n",
       "            max_depth=None, max_features='auto', max_leaf_nodes=None,\n",
       "            min_samples_leaf=1, min_samples_split=2,\n",
       "            min_weight_fraction_leaf=0.0, n_estimators=100, n_jobs=-1,\n",
       "            oob_score=False, random_state=None, verbose=0,\n",
       "            warm_start=False)"
      ]
     },
     "execution_count": 30,
     "metadata": {},
     "output_type": "execute_result"
    }
   ],
   "source": [
    "forest=RandomForestClassifier(n_estimators=100,n_jobs=-1)\n",
    "forest.fit(train.drop('Surge_Pricing_Type',1).select_dtypes(include = ['float64', 'int64']),train['Surge_Pricing_Type'])"
   ]
  },
  {
   "cell_type": "code",
   "execution_count": 33,
   "metadata": {
    "collapsed": false
   },
   "outputs": [
    {
     "data": {
      "text/plain": [
       "<matplotlib.text.Text at 0x11874d990>"
      ]
     },
     "execution_count": 33,
     "metadata": {},
     "output_type": "execute_result"
    },
    {
     "data": {
      "image/png": "[encoded data removed]",
      "text/plain": [
       "<matplotlib.figure.Figure at 0x118761250>"
      ]
     },
     "metadata": {},
     "output_type": "display_data"
    }
   ],
   "source": [
    "importances=forest.feature_importances_\n",
    "indices=np.argsort(importances)[::-1]\n",
    "features=train.drop('Surge_Pricing_Type',1).select_dtypes(include = ['float64', 'int64']).columns\n",
    "plt.figure(figsize = (12,7))\n",
    "ax=sns.barplot(x=importances[indices],y=range(len(indices)))\n",
    "ax = plt.xticks(range(len(indices)),features[indices],rotation=90)\n",
    "plt.ylabel('Feature Importances')"
   ]
  },
  {
   "cell_type": "code",
   "execution_count": 698,
   "metadata": {
    "collapsed": false
   },
   "outputs": [
    {
     "data": {
      "text/plain": [
       "A    77597\n",
       "B    29555\n",
       "C     7484\n",
       "D     6588\n",
       "E     2717\n",
       "F     1950\n",
       "G     1489\n",
       "H     1260\n",
       "I      813\n",
       "J      695\n",
       "K      680\n",
       "L      643\n",
       "N       98\n",
       "M       93\n",
       "Name: Destination_Type, dtype: int64"
      ]
     },
     "execution_count": 698,
     "metadata": {},
     "output_type": "execute_result"
    }
   ],
   "source": [
    "train['Destination_Type'].value_counts()"
   ]
  },
  {
   "cell_type": "code",
   "execution_count": 699,
   "metadata": {
    "collapsed": false
   },
   "outputs": [
    {
     "data": {
      "text/plain": [
       "<matplotlib.axes._subplots.AxesSubplot at 0x1fda5d210>"
      ]
     },
     "execution_count": 699,
     "metadata": {},
     "output_type": "execute_result"
    },
    {
     "data": {
      "image/png": "[encoded data removed]",
      "text/plain": [
       "<matplotlib.figure.Figure at 0x1fa4bde10>"
      ]
     },
     "metadata": {},
     "output_type": "display_data"
    }
   ],
   "source": [
    "sns.countplot(train['Destination_Type'])"
   ]
  },
  {
   "cell_type": "code",
   "execution_count": 700,
   "metadata": {
    "collapsed": false
   },
   "outputs": [],
   "source": [
    "dict_=dict(train['Destination_Type'].value_counts())\n",
    "total_dest=train['Destination_Type'].value_counts().sum()\n",
    "\n",
    "for dest in dict_:\n",
    "    if float(dict_[dest])/float(total_dest)<0.05:\n",
    "        train['Destination_Type'][train['Destination_Type']==dest]='Other'"
   ]
  },
  {
   "cell_type": "code",
   "execution_count": 701,
   "metadata": {
    "collapsed": true
   },
   "outputs": [],
   "source": [
    "dict_=dict(test['Destination_Type'].value_counts())\n",
    "total_dest=test['Destination_Type'].value_counts().sum()\n",
    "\n",
    "for dest in dict_:\n",
    "    if float(dict_[dest])/float(total_dest)<0.05:\n",
    "        test['Destination_Type'][test['Destination_Type']==dest]='Other'"
   ]
  },
  {
   "cell_type": "code",
   "execution_count": 702,
   "metadata": {
    "collapsed": false
   },
   "outputs": [
    {
     "data": {
      "text/plain": [
       "<matplotlib.axes._subplots.AxesSubplot at 0x1fdb3e6d0>"
      ]
     },
     "execution_count": 702,
     "metadata": {},
     "output_type": "execute_result"
    },
    {
     "data": {
      "image/png": "[encoded data removed]",
      "text/plain": [
       "<matplotlib.figure.Figure at 0x1fdb70bd0>"
      ]
     },
     "metadata": {},
     "output_type": "display_data"
    }
   ],
   "source": [
    "sns.countplot(train['Destination_Type'])"
   ]
  },
  {
   "cell_type": "code",
   "execution_count": 703,
   "metadata": {
    "collapsed": false
   },
   "outputs": [
    {
     "data": {
      "text/plain": [
       "2.75000    122\n",
       "3.50000    120\n",
       "3.35000    116\n",
       "2.60000    112\n",
       "3.20000    109\n",
       "3.05000    102\n",
       "2.30000     99\n",
       "2.67500     97\n",
       "3.65000     96\n",
       "2.45000     96\n",
       "2.97500     90\n",
       "2.90000     90\n",
       "2.00000     89\n",
       "5.00000     87\n",
       "3.11000     87\n",
       "3.56000     87\n",
       "2.96000     86\n",
       "3.44000     86\n",
       "2.70500     85\n",
       "2.90375     85\n",
       "3.28625     85\n",
       "2.15000     84\n",
       "3.16500     83\n",
       "3.02000     83\n",
       "2.93375     83\n",
       "2.65000     81\n",
       "2.54000     80\n",
       "2.80500     80\n",
       "3.04625     80\n",
       "2.75500     80\n",
       "          ... \n",
       "0.45500      1\n",
       "0.45000      1\n",
       "0.11375      1\n",
       "0.44750      1\n",
       "0.00625      1\n",
       "0.39500      1\n",
       "0.44250      1\n",
       "4.99500      1\n",
       "0.60500      1\n",
       "0.18000      1\n",
       "0.16625      1\n",
       "0.05125      1\n",
       "0.31750      1\n",
       "0.35000      1\n",
       "0.30250      1\n",
       "0.52625      1\n",
       "0.14500      1\n",
       "0.22625      1\n",
       "0.18125      1\n",
       "0.13875      1\n",
       "0.01875      1\n",
       "0.60875      1\n",
       "0.59500      1\n",
       "0.51375      1\n",
       "4.94875      1\n",
       "0.07125      1\n",
       "0.31250      1\n",
       "0.00875      1\n",
       "4.94125      1\n",
       "0.27500      1\n",
       "Name: Customer_Rating, dtype: int64"
      ]
     },
     "execution_count": 703,
     "metadata": {},
     "output_type": "execute_result"
    }
   ],
   "source": [
    "train['Customer_Rating'].value_counts()"
   ]
  },
  {
   "cell_type": "code",
   "execution_count": 704,
   "metadata": {
    "collapsed": false
   },
   "outputs": [
    {
     "data": {
      "text/plain": [
       "<matplotlib.axes._subplots.AxesSubplot at 0x1fdbb8210>"
      ]
     },
     "execution_count": 704,
     "metadata": {},
     "output_type": "execute_result"
    },
    {
     "data": {
      "image/png": "[encoded data removed]",
      "text/plain": [
       "<matplotlib.figure.Figure at 0x1fdc01a10>"
      ]
     },
     "metadata": {},
     "output_type": "display_data"
    }
   ],
   "source": [
    "sns.distplot((train['Customer_Rating']))"
   ]
  },
  {
   "cell_type": "code",
   "execution_count": 705,
   "metadata": {
    "collapsed": false
   },
   "outputs": [
    {
     "data": {
      "text/plain": [
       "0    68687\n",
       "1    36834\n",
       "2    16223\n",
       "3     7142\n",
       "4     1823\n",
       "5      668\n",
       "6      266\n",
       "7       16\n",
       "8        3\n",
       "Name: Cancellation_Last_1Month, dtype: int64"
      ]
     },
     "execution_count": 705,
     "metadata": {},
     "output_type": "execute_result"
    }
   ],
   "source": [
    "train['Cancellation_Last_1Month'].value_counts()"
   ]
  },
  {
   "cell_type": "code",
   "execution_count": 706,
   "metadata": {
    "collapsed": false,
    "scrolled": true
   },
   "outputs": [
    {
     "data": {
      "text/plain": [
       "<matplotlib.axes._subplots.AxesSubplot at 0x1fdc01290>"
      ]
     },
     "execution_count": 706,
     "metadata": {},
     "output_type": "execute_result"
    },
    {
     "data": {
      "image/png": "[encoded data removed]",
      "text/plain": [
       "<matplotlib.figure.Figure at 0x227e1d0d0>"
      ]
     },
     "metadata": {},
     "output_type": "display_data"
    }
   ],
   "source": [
    "sns.countplot(train['Cancellation_Last_1Month'])"
   ]
  },
  {
   "cell_type": "code",
   "execution_count": 707,
   "metadata": {
    "collapsed": false
   },
   "outputs": [
    {
     "data": {
      "text/plain": [
       "<matplotlib.axes._subplots.AxesSubplot at 0x2cc8587d0>"
      ]
     },
     "execution_count": 707,
     "metadata": {},
     "output_type": "execute_result"
    },
    {
     "data": {
      "image/png": "[encoded data removed]",
      "text/plain": [
       "<matplotlib.figure.Figure at 0x2cd1c18d0>"
      ]
     },
     "metadata": {},
     "output_type": "display_data"
    }
   ],
   "source": [
    "sns.distplot(train['Var1'])"
   ]
  },
  {
   "cell_type": "code",
   "execution_count": 708,
   "metadata": {
    "collapsed": false
   },
   "outputs": [
    {
     "data": {
      "text/plain": [
       "<matplotlib.axes._subplots.AxesSubplot at 0x2d743fdd0>"
      ]
     },
     "execution_count": 708,
     "metadata": {},
     "output_type": "execute_result"
    },
    {
     "data": {
      "image/png": "[encoded data removed]",
      "text/plain": [
       "<matplotlib.figure.Figure at 0x2d56c6150>"
      ]
     },
     "metadata": {},
     "output_type": "display_data"
    }
   ],
   "source": [
    "sns.distplot(train['Var2'])"
   ]
  },
  {
   "cell_type": "code",
   "execution_count": 709,
   "metadata": {
    "collapsed": false
   },
   "outputs": [
    {
     "data": {
      "text/plain": [
       "<matplotlib.axes._subplots.AxesSubplot at 0x2da1f6650>"
      ]
     },
     "execution_count": 709,
     "metadata": {},
     "output_type": "execute_result"
    },
    {
     "data": {
      "image/png": "[encoded data removed]",
      "text/plain": [
       "<matplotlib.figure.Figure at 0x2da206a90>"
      ]
     },
     "metadata": {},
     "output_type": "display_data"
    }
   ],
   "source": [
    "sns.distplot((train['Var3']))"
   ]
  },
  {
   "cell_type": "code",
   "execution_count": 710,
   "metadata": {
    "collapsed": false
   },
   "outputs": [
    {
     "data": {
      "text/plain": [
       "61.0     71908\n",
       "39.0      1259\n",
       "42.0      1221\n",
       "38.0      1208\n",
       "43.0      1190\n",
       "37.0      1180\n",
       "40.0      1163\n",
       "48.0      1123\n",
       "36.0      1123\n",
       "45.0      1107\n",
       "44.0      1087\n",
       "50.0      1084\n",
       "46.0      1073\n",
       "49.0      1064\n",
       "41.0      1063\n",
       "47.0      1016\n",
       "52.0       985\n",
       "51.0       981\n",
       "57.0       967\n",
       "54.0       963\n",
       "59.0       957\n",
       "58.0       956\n",
       "56.0       944\n",
       "55.0       936\n",
       "63.0       936\n",
       "53.0       935\n",
       "60.0       891\n",
       "66.0       878\n",
       "35.0       874\n",
       "72.0       865\n",
       "         ...  \n",
       "129.0        2\n",
       "165.0        2\n",
       "117.0        2\n",
       "159.0        1\n",
       "160.0        1\n",
       "161.0        1\n",
       "154.0        1\n",
       "156.0        1\n",
       "200.0        1\n",
       "163.0        1\n",
       "169.0        1\n",
       "148.0        1\n",
       "171.0        1\n",
       "173.0        1\n",
       "179.0        1\n",
       "149.0        1\n",
       "135.0        1\n",
       "146.0        1\n",
       "144.0        1\n",
       "141.0        1\n",
       "139.0        1\n",
       "136.0        1\n",
       "133.0        1\n",
       "132.0        1\n",
       "131.0        1\n",
       "128.0        1\n",
       "122.0        1\n",
       "120.0        1\n",
       "119.0        1\n",
       "210.0        1\n",
       "Name: Var1, dtype: int64"
      ]
     },
     "execution_count": 710,
     "metadata": {},
     "output_type": "execute_result"
    }
   ],
   "source": [
    "train['Var1'].value_counts()"
   ]
  },
  {
   "cell_type": "code",
   "execution_count": 711,
   "metadata": {
    "collapsed": false
   },
   "outputs": [
    {
     "data": {
      "text/plain": [
       "<matplotlib.axes._subplots.AxesSubplot at 0x2e0394050>"
      ]
     },
     "execution_count": 711,
     "metadata": {},
     "output_type": "execute_result"
    },
    {
     "data": {
      "image/png": "[encoded data removed]",
      "text/plain": [
       "<matplotlib.figure.Figure at 0x2dcf40550>"
      ]
     },
     "metadata": {},
     "output_type": "display_data"
    },
    {
     "data": {
      "image/png": "[encoded data removed]",
      "text/plain": [
       "<matplotlib.figure.Figure at 0x2dba43ed0>"
      ]
     },
     "metadata": {},
     "output_type": "display_data"
    },
    {
     "data": {
      "image/png": "[encoded data removed]",
      "text/plain": [
       "<matplotlib.figure.Figure at 0x2eb4ff710>"
      ]
     },
     "metadata": {},
     "output_type": "display_data"
    }
   ],
   "source": [
    "plt.figure(1)\n",
    "sns.boxplot(train['Var1'])\n",
    "\n",
    "plt.figure(2)\n",
    "sns.boxplot(train['Var2'])\n",
    "\n",
    "plt.figure(3)\n",
    "sns.boxplot(train['Var3'])\n",
    "\n"
   ]
  },
  {
   "cell_type": "code",
   "execution_count": 712,
   "metadata": {
    "collapsed": true
   },
   "outputs": [],
   "source": [
    "train['Var1'][train['Var1']>=200]=train['Var1'].median()\n",
    "train['Var2'][train['Var2']>=100]=train['Var2'].median()\n",
    "train['Var3'][train['Var3']>=160]=train['Var3'].median()"
   ]
  },
  {
   "cell_type": "code",
   "execution_count": 713,
   "metadata": {
    "collapsed": true
   },
   "outputs": [],
   "source": [
    "train['Var1*Var2']=train['Var1']*train['Var2']\n",
    "train['Var2*Var3']=train['Var2']*train['Var3']\n",
    "train['Var3*Var1']=train['Var3']*train['Var1']\n",
    "\n",
    "train['Var1**2']=train['Var1']**2\n",
    "train['Var2**2']=train['Var2']**2\n",
    "train['Var3**2']=train['Var3']**2\n"
   ]
  },
  {
   "cell_type": "code",
   "execution_count": 714,
   "metadata": {
    "collapsed": true
   },
   "outputs": [],
   "source": [
    "test['Var1*Var2']=test['Var1']*test['Var2']\n",
    "test['Var2*Var3']=test['Var2']*test['Var3']\n",
    "test['Var3*Var1']=test['Var3']*test['Var1']\n",
    "\n",
    "test['Var1**2']=test['Var1']**2\n",
    "test['Var2**2']=test['Var2']**2\n",
    "test['Var3**2']=test['Var3']**2"
   ]
  },
  {
   "cell_type": "code",
   "execution_count": 715,
   "metadata": {
    "collapsed": false,
    "scrolled": false
   },
   "outputs": [
    {
     "data": {
      "text/plain": [
       "<matplotlib.axes._subplots.AxesSubplot at 0x2eb5071d0>"
      ]
     },
     "execution_count": 715,
     "metadata": {},
     "output_type": "execute_result"
    },
    {
     "data": {
      "image/png": "[encoded data removed]",
      "text/plain": [
       "<matplotlib.figure.Figure at 0x2dcf54ad0>"
      ]
     },
     "metadata": {},
     "output_type": "display_data"
    },
    {
     "data": {
      "image/png": "[encoded data removed]",
      "text/plain": [
       "<matplotlib.figure.Figure at 0x227005f90>"
      ]
     },
     "metadata": {},
     "output_type": "display_data"
    },
    {
     "data": {
      "image/png": "[encoded data removed]",
      "text/plain": [
       "<matplotlib.figure.Figure at 0x2176ed610>"
      ]
     },
     "metadata": {},
     "output_type": "display_data"
    }
   ],
   "source": [
    "plt.figure(1)\n",
    "sns.boxplot(train['Var1'])\n",
    "\n",
    "plt.figure(2)\n",
    "sns.boxplot(train['Var2'])\n",
    "\n",
    "plt.figure(3)\n",
    "sns.boxplot(train['Var3'])"
   ]
  },
  {
   "cell_type": "code",
   "execution_count": 716,
   "metadata": {
    "collapsed": true
   },
   "outputs": [],
   "source": [
    "#train['Var1/Var2']=np.log(train['Var1']/train['Var2'])\n",
    "#train['Var2/Var3']=train['Var2']/train['Var3']\n",
    "#train['Var1/Var3']=train['Var1']/train['Var3']"
   ]
  },
  {
   "cell_type": "code",
   "execution_count": 717,
   "metadata": {
    "collapsed": true
   },
   "outputs": [],
   "source": [
    "#test['Var1/Var2']=np.log(test['Var1']/train['Var2'])\n",
    "#test['Var2/Var3']=test['Var2']/train['Var3']\n",
    "#test['Var1/Var3']=test['Var1']/train['Var3']"
   ]
  },
  {
   "cell_type": "code",
   "execution_count": 718,
   "metadata": {
    "collapsed": false
   },
   "outputs": [],
   "source": [
    "#sns.distplot(np.log(train['Var1/Var3']))"
   ]
  },
  {
   "cell_type": "code",
   "execution_count": 719,
   "metadata": {
    "collapsed": false
   },
   "outputs": [],
   "source": [
    "#sns.countplot(train['Gender'],hue=train['Surge_Pricing_Type'])"
   ]
  },
  {
   "cell_type": "code",
   "execution_count": 720,
   "metadata": {
    "collapsed": false
   },
   "outputs": [],
   "source": [
    "lb=LabelEncoder()\n",
    "for obj in train.drop('Surge_Pricing_Type',1).select_dtypes(['object']).columns:\n",
    "    x=lb.fit_transform(train[obj])\n",
    "    train.drop(obj,1,inplace=True)\n",
    "    train[obj]=x"
   ]
  },
  {
   "cell_type": "code",
   "execution_count": 721,
   "metadata": {
    "collapsed": true
   },
   "outputs": [],
   "source": [
    "lb=LabelEncoder()\n",
    "for obj in test.select_dtypes(['object']).columns:\n",
    "    x=lb.fit_transform(test[obj])\n",
    "    test.drop(obj,1,inplace=True)\n",
    "    test[obj]=x"
   ]
  },
  {
   "cell_type": "code",
   "execution_count": 722,
   "metadata": {
    "collapsed": false
   },
   "outputs": [
    {
     "data": {
      "text/html": [
       "<div>\n",
       "<table border=\"1\" class=\"dataframe\">\n",
       "  <thead>\n",
       "    <tr style=\"text-align: right;\">\n",
       "      <th></th>\n",
       "      <th>Trip_Distance</th>\n",
       "      <th>Customer_Since_Months</th>\n",
       "      <th>Life_Style_Index</th>\n",
       "      <th>Customer_Rating</th>\n",
       "      <th>Cancellation_Last_1Month</th>\n",
       "      <th>Var1</th>\n",
       "      <th>Var2</th>\n",
       "      <th>Var3</th>\n",
       "      <th>Surge_Pricing_Type</th>\n",
       "      <th>Var1*Var2</th>\n",
       "      <th>Var2*Var3</th>\n",
       "      <th>Var3*Var1</th>\n",
       "      <th>Var1**2</th>\n",
       "      <th>Var2**2</th>\n",
       "      <th>Var3**2</th>\n",
       "      <th>Type_of_Cab</th>\n",
       "      <th>Confidence_Life_Style_Index</th>\n",
       "      <th>Destination_Type</th>\n",
       "      <th>Gender</th>\n",
       "    </tr>\n",
       "  </thead>\n",
       "  <tbody>\n",
       "    <tr>\n",
       "      <th>0</th>\n",
       "      <td>6.77</td>\n",
       "      <td>1.0</td>\n",
       "      <td>2.427690</td>\n",
       "      <td>3.90500</td>\n",
       "      <td>0</td>\n",
       "      <td>40.0</td>\n",
       "      <td>46</td>\n",
       "      <td>60</td>\n",
       "      <td>2</td>\n",
       "      <td>1840.0</td>\n",
       "      <td>2760</td>\n",
       "      <td>2400.0</td>\n",
       "      <td>1600.0</td>\n",
       "      <td>2116</td>\n",
       "      <td>3600</td>\n",
       "      <td>1</td>\n",
       "      <td>0</td>\n",
       "      <td>0</td>\n",
       "      <td>0</td>\n",
       "    </tr>\n",
       "    <tr>\n",
       "      <th>1</th>\n",
       "      <td>29.47</td>\n",
       "      <td>10.0</td>\n",
       "      <td>2.782450</td>\n",
       "      <td>3.45000</td>\n",
       "      <td>0</td>\n",
       "      <td>38.0</td>\n",
       "      <td>56</td>\n",
       "      <td>78</td>\n",
       "      <td>2</td>\n",
       "      <td>2128.0</td>\n",
       "      <td>4368</td>\n",
       "      <td>2964.0</td>\n",
       "      <td>1444.0</td>\n",
       "      <td>3136</td>\n",
       "      <td>6084</td>\n",
       "      <td>1</td>\n",
       "      <td>1</td>\n",
       "      <td>0</td>\n",
       "      <td>1</td>\n",
       "    </tr>\n",
       "    <tr>\n",
       "      <th>2</th>\n",
       "      <td>41.58</td>\n",
       "      <td>10.0</td>\n",
       "      <td>2.802064</td>\n",
       "      <td>3.50125</td>\n",
       "      <td>2</td>\n",
       "      <td>61.0</td>\n",
       "      <td>56</td>\n",
       "      <td>77</td>\n",
       "      <td>2</td>\n",
       "      <td>3416.0</td>\n",
       "      <td>4312</td>\n",
       "      <td>4697.0</td>\n",
       "      <td>3721.0</td>\n",
       "      <td>3136</td>\n",
       "      <td>5929</td>\n",
       "      <td>1</td>\n",
       "      <td>1</td>\n",
       "      <td>4</td>\n",
       "      <td>1</td>\n",
       "    </tr>\n",
       "    <tr>\n",
       "      <th>3</th>\n",
       "      <td>61.56</td>\n",
       "      <td>10.0</td>\n",
       "      <td>2.802064</td>\n",
       "      <td>3.45375</td>\n",
       "      <td>0</td>\n",
       "      <td>61.0</td>\n",
       "      <td>52</td>\n",
       "      <td>74</td>\n",
       "      <td>3</td>\n",
       "      <td>3172.0</td>\n",
       "      <td>3848</td>\n",
       "      <td>4514.0</td>\n",
       "      <td>3721.0</td>\n",
       "      <td>2704</td>\n",
       "      <td>5476</td>\n",
       "      <td>2</td>\n",
       "      <td>1</td>\n",
       "      <td>0</td>\n",
       "      <td>1</td>\n",
       "    </tr>\n",
       "    <tr>\n",
       "      <th>4</th>\n",
       "      <td>54.95</td>\n",
       "      <td>10.0</td>\n",
       "      <td>3.034530</td>\n",
       "      <td>3.40250</td>\n",
       "      <td>4</td>\n",
       "      <td>51.0</td>\n",
       "      <td>49</td>\n",
       "      <td>102</td>\n",
       "      <td>2</td>\n",
       "      <td>2499.0</td>\n",
       "      <td>4998</td>\n",
       "      <td>5202.0</td>\n",
       "      <td>2601.0</td>\n",
       "      <td>2401</td>\n",
       "      <td>10404</td>\n",
       "      <td>2</td>\n",
       "      <td>1</td>\n",
       "      <td>0</td>\n",
       "      <td>1</td>\n",
       "    </tr>\n",
       "  </tbody>\n",
       "</table>\n",
       "</div>"
      ],
      "text/plain": [
       "   Trip_Distance  Customer_Since_Months  Life_Style_Index  Customer_Rating  \\\n",
       "0           6.77                    1.0          2.427690          3.90500   \n",
       "1          29.47                   10.0          2.782450          3.45000   \n",
       "2          41.58                   10.0          2.802064          3.50125   \n",
       "3          61.56                   10.0          2.802064          3.45375   \n",
       "4          54.95                   10.0          3.034530          3.40250   \n",
       "\n",
       "   Cancellation_Last_1Month  Var1  Var2  Var3  Surge_Pricing_Type  Var1*Var2  \\\n",
       "0                         0  40.0    46    60                   2     1840.0   \n",
       "1                         0  38.0    56    78                   2     2128.0   \n",
       "2                         2  61.0    56    77                   2     3416.0   \n",
       "3                         0  61.0    52    74                   3     3172.0   \n",
       "4                         4  51.0    49   102                   2     2499.0   \n",
       "\n",
       "   Var2*Var3  Var3*Var1  Var1**2  Var2**2  Var3**2  Type_of_Cab  \\\n",
       "0       2760     2400.0   1600.0     2116     3600            1   \n",
       "1       4368     2964.0   1444.0     3136     6084            1   \n",
       "2       4312     4697.0   3721.0     3136     5929            1   \n",
       "3       3848     4514.0   3721.0     2704     5476            2   \n",
       "4       4998     5202.0   2601.0     2401    10404            2   \n",
       "\n",
       "   Confidence_Life_Style_Index  Destination_Type  Gender  \n",
       "0                            0                 0       0  \n",
       "1                            1                 0       1  \n",
       "2                            1                 4       1  \n",
       "3                            1                 0       1  \n",
       "4                            1                 0       1  "
      ]
     },
     "execution_count": 722,
     "metadata": {},
     "output_type": "execute_result"
    }
   ],
   "source": [
    "train.head(5)"
   ]
  },
  {
   "cell_type": "code",
   "execution_count": 723,
   "metadata": {
    "collapsed": false
   },
   "outputs": [
    {
     "data": {
      "text/html": [
       "<div>\n",
       "<table border=\"1\" class=\"dataframe\">\n",
       "  <thead>\n",
       "    <tr style=\"text-align: right;\">\n",
       "      <th></th>\n",
       "      <th>Trip_Distance</th>\n",
       "      <th>Customer_Since_Months</th>\n",
       "      <th>Life_Style_Index</th>\n",
       "      <th>Customer_Rating</th>\n",
       "      <th>Cancellation_Last_1Month</th>\n",
       "      <th>Var1</th>\n",
       "      <th>Var2</th>\n",
       "      <th>Var3</th>\n",
       "      <th>Surge_Pricing_Type</th>\n",
       "      <th>Var1*Var2</th>\n",
       "      <th>Var2*Var3</th>\n",
       "      <th>Var3*Var1</th>\n",
       "      <th>Var1**2</th>\n",
       "      <th>Var2**2</th>\n",
       "      <th>Var3**2</th>\n",
       "      <th>Type_of_Cab</th>\n",
       "      <th>Confidence_Life_Style_Index</th>\n",
       "      <th>Destination_Type</th>\n",
       "      <th>Gender</th>\n",
       "    </tr>\n",
       "  </thead>\n",
       "  <tbody>\n",
       "    <tr>\n",
       "      <th>count</th>\n",
       "      <td>131662.000000</td>\n",
       "      <td>131662.000000</td>\n",
       "      <td>131662.000000</td>\n",
       "      <td>131662.000000</td>\n",
       "      <td>131662.000000</td>\n",
       "      <td>131662.000000</td>\n",
       "      <td>131662.000000</td>\n",
       "      <td>131662.000000</td>\n",
       "      <td>131662.000000</td>\n",
       "      <td>131662.000000</td>\n",
       "      <td>131662.000000</td>\n",
       "      <td>131662.000000</td>\n",
       "      <td>131662.000000</td>\n",
       "      <td>131662.000000</td>\n",
       "      <td>131662.000000</td>\n",
       "      <td>131662.000000</td>\n",
       "      <td>131662.000000</td>\n",
       "      <td>131662.000000</td>\n",
       "      <td>131662.000000</td>\n",
       "    </tr>\n",
       "    <tr>\n",
       "      <th>mean</th>\n",
       "      <td>44.200909</td>\n",
       "      <td>6.195766</td>\n",
       "      <td>2.801991</td>\n",
       "      <td>2.849458</td>\n",
       "      <td>0.782838</td>\n",
       "      <td>62.472695</td>\n",
       "      <td>51.201850</td>\n",
       "      <td>75.096558</td>\n",
       "      <td>2.155747</td>\n",
       "      <td>3196.856732</td>\n",
       "      <td>3884.433284</td>\n",
       "      <td>4687.806960</td>\n",
       "      <td>4124.338139</td>\n",
       "      <td>2646.431818</td>\n",
       "      <td>5773.281334</td>\n",
       "      <td>1.603340</td>\n",
       "      <td>1.006228</td>\n",
       "      <td>0.805388</td>\n",
       "      <td>0.713190</td>\n",
       "    </tr>\n",
       "    <tr>\n",
       "      <th>std</th>\n",
       "      <td>25.522882</td>\n",
       "      <td>3.639259</td>\n",
       "      <td>0.207418</td>\n",
       "      <td>0.980675</td>\n",
       "      <td>1.037559</td>\n",
       "      <td>14.882949</td>\n",
       "      <td>4.980215</td>\n",
       "      <td>11.566735</td>\n",
       "      <td>0.738164</td>\n",
       "      <td>823.128763</td>\n",
       "      <td>930.584050</td>\n",
       "      <td>1349.998398</td>\n",
       "      <td>2119.157584</td>\n",
       "      <td>540.591421</td>\n",
       "      <td>1856.586093</td>\n",
       "      <td>1.177128</td>\n",
       "      <td>0.734909</td>\n",
       "      <td>1.233695</td>\n",
       "      <td>0.452274</td>\n",
       "    </tr>\n",
       "    <tr>\n",
       "      <th>min</th>\n",
       "      <td>0.310000</td>\n",
       "      <td>0.000000</td>\n",
       "      <td>1.596380</td>\n",
       "      <td>0.001250</td>\n",
       "      <td>0.000000</td>\n",
       "      <td>30.000000</td>\n",
       "      <td>40.000000</td>\n",
       "      <td>52.000000</td>\n",
       "      <td>1.000000</td>\n",
       "      <td>1260.000000</td>\n",
       "      <td>2120.000000</td>\n",
       "      <td>1560.000000</td>\n",
       "      <td>900.000000</td>\n",
       "      <td>1600.000000</td>\n",
       "      <td>2704.000000</td>\n",
       "      <td>0.000000</td>\n",
       "      <td>0.000000</td>\n",
       "      <td>0.000000</td>\n",
       "      <td>0.000000</td>\n",
       "    </tr>\n",
       "    <tr>\n",
       "      <th>25%</th>\n",
       "      <td>24.580000</td>\n",
       "      <td>3.000000</td>\n",
       "      <td>2.687952</td>\n",
       "      <td>2.152500</td>\n",
       "      <td>0.000000</td>\n",
       "      <td>61.000000</td>\n",
       "      <td>48.000000</td>\n",
       "      <td>67.000000</td>\n",
       "      <td>2.000000</td>\n",
       "      <td>2806.000000</td>\n",
       "      <td>3220.000000</td>\n",
       "      <td>3843.000000</td>\n",
       "      <td>3721.000000</td>\n",
       "      <td>2304.000000</td>\n",
       "      <td>4489.000000</td>\n",
       "      <td>1.000000</td>\n",
       "      <td>0.000000</td>\n",
       "      <td>0.000000</td>\n",
       "      <td>0.000000</td>\n",
       "    </tr>\n",
       "    <tr>\n",
       "      <th>50%</th>\n",
       "      <td>38.200000</td>\n",
       "      <td>7.000000</td>\n",
       "      <td>2.802064</td>\n",
       "      <td>2.895000</td>\n",
       "      <td>0.000000</td>\n",
       "      <td>61.000000</td>\n",
       "      <td>50.000000</td>\n",
       "      <td>74.000000</td>\n",
       "      <td>2.000000</td>\n",
       "      <td>3050.000000</td>\n",
       "      <td>3723.000000</td>\n",
       "      <td>4410.000000</td>\n",
       "      <td>3721.000000</td>\n",
       "      <td>2500.000000</td>\n",
       "      <td>5476.000000</td>\n",
       "      <td>1.000000</td>\n",
       "      <td>1.000000</td>\n",
       "      <td>0.000000</td>\n",
       "      <td>1.000000</td>\n",
       "    </tr>\n",
       "    <tr>\n",
       "      <th>75%</th>\n",
       "      <td>60.730000</td>\n",
       "      <td>10.000000</td>\n",
       "      <td>2.912750</td>\n",
       "      <td>3.582500</td>\n",
       "      <td>1.000000</td>\n",
       "      <td>61.000000</td>\n",
       "      <td>54.000000</td>\n",
       "      <td>82.000000</td>\n",
       "      <td>3.000000</td>\n",
       "      <td>3477.000000</td>\n",
       "      <td>4350.000000</td>\n",
       "      <td>5246.000000</td>\n",
       "      <td>3721.000000</td>\n",
       "      <td>2916.000000</td>\n",
       "      <td>6724.000000</td>\n",
       "      <td>2.000000</td>\n",
       "      <td>2.000000</td>\n",
       "      <td>1.000000</td>\n",
       "      <td>1.000000</td>\n",
       "    </tr>\n",
       "    <tr>\n",
       "      <th>max</th>\n",
       "      <td>109.230000</td>\n",
       "      <td>10.000000</td>\n",
       "      <td>4.300830</td>\n",
       "      <td>5.000000</td>\n",
       "      <td>8.000000</td>\n",
       "      <td>179.000000</td>\n",
       "      <td>98.000000</td>\n",
       "      <td>155.000000</td>\n",
       "      <td>3.000000</td>\n",
       "      <td>10065.000000</td>\n",
       "      <td>13328.000000</td>\n",
       "      <td>15810.000000</td>\n",
       "      <td>32041.000000</td>\n",
       "      <td>9604.000000</td>\n",
       "      <td>24025.000000</td>\n",
       "      <td>4.000000</td>\n",
       "      <td>2.000000</td>\n",
       "      <td>4.000000</td>\n",
       "      <td>1.000000</td>\n",
       "    </tr>\n",
       "  </tbody>\n",
       "</table>\n",
       "</div>"
      ],
      "text/plain": [
       "       Trip_Distance  Customer_Since_Months  Life_Style_Index  \\\n",
       "count  131662.000000          131662.000000     131662.000000   \n",
       "mean       44.200909               6.195766          2.801991   \n",
       "std        25.522882               3.639259          0.207418   \n",
       "min         0.310000               0.000000          1.596380   \n",
       "25%        24.580000               3.000000          2.687952   \n",
       "50%        38.200000               7.000000          2.802064   \n",
       "75%        60.730000              10.000000          2.912750   \n",
       "max       109.230000              10.000000          4.300830   \n",
       "\n",
       "       Customer_Rating  Cancellation_Last_1Month           Var1  \\\n",
       "count    131662.000000             131662.000000  131662.000000   \n",
       "mean          2.849458                  0.782838      62.472695   \n",
       "std           0.980675                  1.037559      14.882949   \n",
       "min           0.001250                  0.000000      30.000000   \n",
       "25%           2.152500                  0.000000      61.000000   \n",
       "50%           2.895000                  0.000000      61.000000   \n",
       "75%           3.582500                  1.000000      61.000000   \n",
       "max           5.000000                  8.000000     179.000000   \n",
       "\n",
       "                Var2           Var3  Surge_Pricing_Type      Var1*Var2  \\\n",
       "count  131662.000000  131662.000000       131662.000000  131662.000000   \n",
       "mean       51.201850      75.096558            2.155747    3196.856732   \n",
       "std         4.980215      11.566735            0.738164     823.128763   \n",
       "min        40.000000      52.000000            1.000000    1260.000000   \n",
       "25%        48.000000      67.000000            2.000000    2806.000000   \n",
       "50%        50.000000      74.000000            2.000000    3050.000000   \n",
       "75%        54.000000      82.000000            3.000000    3477.000000   \n",
       "max        98.000000     155.000000            3.000000   10065.000000   \n",
       "\n",
       "           Var2*Var3      Var3*Var1        Var1**2        Var2**2  \\\n",
       "count  131662.000000  131662.000000  131662.000000  131662.000000   \n",
       "mean     3884.433284    4687.806960    4124.338139    2646.431818   \n",
       "std       930.584050    1349.998398    2119.157584     540.591421   \n",
       "min      2120.000000    1560.000000     900.000000    1600.000000   \n",
       "25%      3220.000000    3843.000000    3721.000000    2304.000000   \n",
       "50%      3723.000000    4410.000000    3721.000000    2500.000000   \n",
       "75%      4350.000000    5246.000000    3721.000000    2916.000000   \n",
       "max     13328.000000   15810.000000   32041.000000    9604.000000   \n",
       "\n",
       "             Var3**2    Type_of_Cab  Confidence_Life_Style_Index  \\\n",
       "count  131662.000000  131662.000000                131662.000000   \n",
       "mean     5773.281334       1.603340                     1.006228   \n",
       "std      1856.586093       1.177128                     0.734909   \n",
       "min      2704.000000       0.000000                     0.000000   \n",
       "25%      4489.000000       1.000000                     0.000000   \n",
       "50%      5476.000000       1.000000                     1.000000   \n",
       "75%      6724.000000       2.000000                     2.000000   \n",
       "max     24025.000000       4.000000                     2.000000   \n",
       "\n",
       "       Destination_Type         Gender  \n",
       "count     131662.000000  131662.000000  \n",
       "mean           0.805388       0.713190  \n",
       "std            1.233695       0.452274  \n",
       "min            0.000000       0.000000  \n",
       "25%            0.000000       0.000000  \n",
       "50%            0.000000       1.000000  \n",
       "75%            1.000000       1.000000  \n",
       "max            4.000000       1.000000  "
      ]
     },
     "execution_count": 723,
     "metadata": {},
     "output_type": "execute_result"
    }
   ],
   "source": [
    "train.describe()"
   ]
  },
  {
   "cell_type": "code",
   "execution_count": 724,
   "metadata": {
    "collapsed": false
   },
   "outputs": [],
   "source": [
    "scaler=StandardScaler(with_mean=True,with_std=True)\n",
    "labels=train['Surge_Pricing_Type']\n",
    "train.drop('Surge_Pricing_Type',1,inplace=True)\n",
    "scaled_features=scaler.fit_transform(train)\n",
    "scaled_data=pd.DataFrame(scaled_features,index=train.index,columns=train.columns)"
   ]
  },
  {
   "cell_type": "code",
   "execution_count": 725,
   "metadata": {
    "collapsed": true
   },
   "outputs": [],
   "source": [
    "scaled_train=scaled_data\n",
    "scaled_train['Surge_Pricing_Type']=labels"
   ]
  },
  {
   "cell_type": "code",
   "execution_count": 726,
   "metadata": {
    "collapsed": true
   },
   "outputs": [],
   "source": [
    "scaled_features2=scaler.fit_transform(test)\n",
    "scaled_test=pd.DataFrame(scaled_features2,index=test.index,columns=test.columns)"
   ]
  },
  {
   "cell_type": "code",
   "execution_count": 727,
   "metadata": {
    "collapsed": false,
    "scrolled": false
   },
   "outputs": [
    {
     "data": {
      "text/html": [
       "<div>\n",
       "<table border=\"1\" class=\"dataframe\">\n",
       "  <thead>\n",
       "    <tr style=\"text-align: right;\">\n",
       "      <th></th>\n",
       "      <th>Trip_Distance</th>\n",
       "      <th>Customer_Since_Months</th>\n",
       "      <th>Life_Style_Index</th>\n",
       "      <th>Customer_Rating</th>\n",
       "      <th>Cancellation_Last_1Month</th>\n",
       "      <th>Var1</th>\n",
       "      <th>Var2</th>\n",
       "      <th>Var3</th>\n",
       "      <th>Var1*Var2</th>\n",
       "      <th>Var2*Var3</th>\n",
       "      <th>Var3*Var1</th>\n",
       "      <th>Var1**2</th>\n",
       "      <th>Var2**2</th>\n",
       "      <th>Var3**2</th>\n",
       "      <th>Type_of_Cab</th>\n",
       "      <th>Confidence_Life_Style_Index</th>\n",
       "      <th>Destination_Type</th>\n",
       "      <th>Gender</th>\n",
       "      <th>Surge_Pricing_Type</th>\n",
       "    </tr>\n",
       "  </thead>\n",
       "  <tbody>\n",
       "    <tr>\n",
       "      <th>count</th>\n",
       "      <td>1.316620e+05</td>\n",
       "      <td>1.316620e+05</td>\n",
       "      <td>1.316620e+05</td>\n",
       "      <td>1.316620e+05</td>\n",
       "      <td>1.316620e+05</td>\n",
       "      <td>1.316620e+05</td>\n",
       "      <td>1.316620e+05</td>\n",
       "      <td>1.316620e+05</td>\n",
       "      <td>1.316620e+05</td>\n",
       "      <td>1.316620e+05</td>\n",
       "      <td>1.316620e+05</td>\n",
       "      <td>1.316620e+05</td>\n",
       "      <td>1.316620e+05</td>\n",
       "      <td>1.316620e+05</td>\n",
       "      <td>1.316620e+05</td>\n",
       "      <td>1.316620e+05</td>\n",
       "      <td>1.316620e+05</td>\n",
       "      <td>1.316620e+05</td>\n",
       "      <td>131662.000000</td>\n",
       "    </tr>\n",
       "    <tr>\n",
       "      <th>mean</th>\n",
       "      <td>1.046546e-16</td>\n",
       "      <td>-1.666800e-16</td>\n",
       "      <td>1.478687e-15</td>\n",
       "      <td>9.504991e-17</td>\n",
       "      <td>-1.691707e-16</td>\n",
       "      <td>1.275211e-15</td>\n",
       "      <td>2.427950e-16</td>\n",
       "      <td>-3.319555e-16</td>\n",
       "      <td>7.541239e-17</td>\n",
       "      <td>-1.608610e-16</td>\n",
       "      <td>1.185760e-16</td>\n",
       "      <td>-8.318873e-16</td>\n",
       "      <td>1.059143e-15</td>\n",
       "      <td>-2.047734e-16</td>\n",
       "      <td>-3.389557e-15</td>\n",
       "      <td>-1.026506e-15</td>\n",
       "      <td>4.235952e-16</td>\n",
       "      <td>2.368974e-16</td>\n",
       "      <td>2.155747</td>\n",
       "    </tr>\n",
       "    <tr>\n",
       "      <th>std</th>\n",
       "      <td>1.000004e+00</td>\n",
       "      <td>1.000004e+00</td>\n",
       "      <td>1.000004e+00</td>\n",
       "      <td>1.000004e+00</td>\n",
       "      <td>1.000004e+00</td>\n",
       "      <td>1.000004e+00</td>\n",
       "      <td>1.000004e+00</td>\n",
       "      <td>1.000004e+00</td>\n",
       "      <td>1.000004e+00</td>\n",
       "      <td>1.000004e+00</td>\n",
       "      <td>1.000004e+00</td>\n",
       "      <td>1.000004e+00</td>\n",
       "      <td>1.000004e+00</td>\n",
       "      <td>1.000004e+00</td>\n",
       "      <td>1.000004e+00</td>\n",
       "      <td>1.000004e+00</td>\n",
       "      <td>1.000004e+00</td>\n",
       "      <td>1.000004e+00</td>\n",
       "      <td>0.738164</td>\n",
       "    </tr>\n",
       "    <tr>\n",
       "      <th>min</th>\n",
       "      <td>-1.719676e+00</td>\n",
       "      <td>-1.702487e+00</td>\n",
       "      <td>-5.812499e+00</td>\n",
       "      <td>-2.904344e+00</td>\n",
       "      <td>-7.545023e-01</td>\n",
       "      <td>-2.181881e+00</td>\n",
       "      <td>-2.249279e+00</td>\n",
       "      <td>-1.996816e+00</td>\n",
       "      <td>-2.353051e+00</td>\n",
       "      <td>-1.896057e+00</td>\n",
       "      <td>-2.316906e+00</td>\n",
       "      <td>-1.521525e+00</td>\n",
       "      <td>-1.935724e+00</td>\n",
       "      <td>-1.653192e+00</td>\n",
       "      <td>-1.362083e+00</td>\n",
       "      <td>-1.369193e+00</td>\n",
       "      <td>-6.528284e-01</td>\n",
       "      <td>-1.576904e+00</td>\n",
       "      <td>1.000000</td>\n",
       "    </tr>\n",
       "    <tr>\n",
       "      <th>25%</th>\n",
       "      <td>-7.687605e-01</td>\n",
       "      <td>-8.781400e-01</td>\n",
       "      <td>-5.498015e-01</td>\n",
       "      <td>-7.106946e-01</td>\n",
       "      <td>-7.545023e-01</td>\n",
       "      <td>-9.895222e-02</td>\n",
       "      <td>-6.429165e-01</td>\n",
       "      <td>-6.999891e-01</td>\n",
       "      <td>-4.748446e-01</td>\n",
       "      <td>-7.139987e-01</td>\n",
       "      <td>-6.257861e-01</td>\n",
       "      <td>-1.903302e-01</td>\n",
       "      <td>-6.334416e-01</td>\n",
       "      <td>-6.917461e-01</td>\n",
       "      <td>-5.125549e-01</td>\n",
       "      <td>-1.369193e+00</td>\n",
       "      <td>-6.528284e-01</td>\n",
       "      <td>-1.576904e+00</td>\n",
       "      <td>2.000000</td>\n",
       "    </tr>\n",
       "    <tr>\n",
       "      <th>50%</th>\n",
       "      <td>-2.351197e-01</td>\n",
       "      <td>2.209891e-01</td>\n",
       "      <td>3.536895e-04</td>\n",
       "      <td>4.643965e-02</td>\n",
       "      <td>-7.545023e-01</td>\n",
       "      <td>-9.895222e-02</td>\n",
       "      <td>-2.413259e-01</td>\n",
       "      <td>-9.480308e-02</td>\n",
       "      <td>-1.784135e-01</td>\n",
       "      <td>-1.734759e-01</td>\n",
       "      <td>-2.057840e-01</td>\n",
       "      <td>-1.903302e-01</td>\n",
       "      <td>-2.708744e-01</td>\n",
       "      <td>-1.601232e-01</td>\n",
       "      <td>-5.125549e-01</td>\n",
       "      <td>-8.474648e-03</td>\n",
       "      <td>-6.528284e-01</td>\n",
       "      <td>6.341539e-01</td>\n",
       "      <td>2.000000</td>\n",
       "    </tr>\n",
       "    <tr>\n",
       "      <th>75%</th>\n",
       "      <td>6.476210e-01</td>\n",
       "      <td>1.045336e+00</td>\n",
       "      <td>5.339939e-01</td>\n",
       "      <td>7.474898e-01</td>\n",
       "      <td>2.093017e-01</td>\n",
       "      <td>-9.895222e-02</td>\n",
       "      <td>5.618553e-01</td>\n",
       "      <td>5.968381e-01</td>\n",
       "      <td>3.403408e-01</td>\n",
       "      <td>5.002971e-01</td>\n",
       "      <td>4.134784e-01</td>\n",
       "      <td>-1.903302e-01</td>\n",
       "      <td>4.986561e-01</td>\n",
       "      <td>5.120809e-01</td>\n",
       "      <td>3.369737e-01</td>\n",
       "      <td>1.352244e+00</td>\n",
       "      <td>1.577478e-01</td>\n",
       "      <td>6.341539e-01</td>\n",
       "      <td>3.000000</td>\n",
       "    </tr>\n",
       "    <tr>\n",
       "      <th>max</th>\n",
       "      <td>2.547884e+00</td>\n",
       "      <td>1.045336e+00</td>\n",
       "      <td>7.226216e+00</td>\n",
       "      <td>2.192928e+00</td>\n",
       "      <td>6.955930e+00</td>\n",
       "      <td>7.829614e+00</td>\n",
       "      <td>9.396849e+00</td>\n",
       "      <td>6.908064e+00</td>\n",
       "      <td>8.343979e+00</td>\n",
       "      <td>1.014804e+01</td>\n",
       "      <td>8.238703e+00</td>\n",
       "      <td>1.317352e+01</td>\n",
       "      <td>1.287034e+01</td>\n",
       "      <td>9.830833e+00</td>\n",
       "      <td>2.036031e+00</td>\n",
       "      <td>1.352244e+00</td>\n",
       "      <td>2.589477e+00</td>\n",
       "      <td>6.341539e-01</td>\n",
       "      <td>3.000000</td>\n",
       "    </tr>\n",
       "  </tbody>\n",
       "</table>\n",
       "</div>"
      ],
      "text/plain": [
       "       Trip_Distance  Customer_Since_Months  Life_Style_Index  \\\n",
       "count   1.316620e+05           1.316620e+05      1.316620e+05   \n",
       "mean    1.046546e-16          -1.666800e-16      1.478687e-15   \n",
       "std     1.000004e+00           1.000004e+00      1.000004e+00   \n",
       "min    -1.719676e+00          -1.702487e+00     -5.812499e+00   \n",
       "25%    -7.687605e-01          -8.781400e-01     -5.498015e-01   \n",
       "50%    -2.351197e-01           2.209891e-01      3.536895e-04   \n",
       "75%     6.476210e-01           1.045336e+00      5.339939e-01   \n",
       "max     2.547884e+00           1.045336e+00      7.226216e+00   \n",
       "\n",
       "       Customer_Rating  Cancellation_Last_1Month          Var1          Var2  \\\n",
       "count     1.316620e+05              1.316620e+05  1.316620e+05  1.316620e+05   \n",
       "mean      9.504991e-17             -1.691707e-16  1.275211e-15  2.427950e-16   \n",
       "std       1.000004e+00              1.000004e+00  1.000004e+00  1.000004e+00   \n",
       "min      -2.904344e+00             -7.545023e-01 -2.181881e+00 -2.249279e+00   \n",
       "25%      -7.106946e-01             -7.545023e-01 -9.895222e-02 -6.429165e-01   \n",
       "50%       4.643965e-02             -7.545023e-01 -9.895222e-02 -2.413259e-01   \n",
       "75%       7.474898e-01              2.093017e-01 -9.895222e-02  5.618553e-01   \n",
       "max       2.192928e+00              6.955930e+00  7.829614e+00  9.396849e+00   \n",
       "\n",
       "               Var3     Var1*Var2     Var2*Var3     Var3*Var1       Var1**2  \\\n",
       "count  1.316620e+05  1.316620e+05  1.316620e+05  1.316620e+05  1.316620e+05   \n",
       "mean  -3.319555e-16  7.541239e-17 -1.608610e-16  1.185760e-16 -8.318873e-16   \n",
       "std    1.000004e+00  1.000004e+00  1.000004e+00  1.000004e+00  1.000004e+00   \n",
       "min   -1.996816e+00 -2.353051e+00 -1.896057e+00 -2.316906e+00 -1.521525e+00   \n",
       "25%   -6.999891e-01 -4.748446e-01 -7.139987e-01 -6.257861e-01 -1.903302e-01   \n",
       "50%   -9.480308e-02 -1.784135e-01 -1.734759e-01 -2.057840e-01 -1.903302e-01   \n",
       "75%    5.968381e-01  3.403408e-01  5.002971e-01  4.134784e-01 -1.903302e-01   \n",
       "max    6.908064e+00  8.343979e+00  1.014804e+01  8.238703e+00  1.317352e+01   \n",
       "\n",
       "            Var2**2       Var3**2   Type_of_Cab  Confidence_Life_Style_Index  \\\n",
       "count  1.316620e+05  1.316620e+05  1.316620e+05                 1.316620e+05   \n",
       "mean   1.059143e-15 -2.047734e-16 -3.389557e-15                -1.026506e-15   \n",
       "std    1.000004e+00  1.000004e+00  1.000004e+00                 1.000004e+00   \n",
       "min   -1.935724e+00 -1.653192e+00 -1.362083e+00                -1.369193e+00   \n",
       "25%   -6.334416e-01 -6.917461e-01 -5.125549e-01                -1.369193e+00   \n",
       "50%   -2.708744e-01 -1.601232e-01 -5.125549e-01                -8.474648e-03   \n",
       "75%    4.986561e-01  5.120809e-01  3.369737e-01                 1.352244e+00   \n",
       "max    1.287034e+01  9.830833e+00  2.036031e+00                 1.352244e+00   \n",
       "\n",
       "       Destination_Type        Gender  Surge_Pricing_Type  \n",
       "count      1.316620e+05  1.316620e+05       131662.000000  \n",
       "mean       4.235952e-16  2.368974e-16            2.155747  \n",
       "std        1.000004e+00  1.000004e+00            0.738164  \n",
       "min       -6.528284e-01 -1.576904e+00            1.000000  \n",
       "25%       -6.528284e-01 -1.576904e+00            2.000000  \n",
       "50%       -6.528284e-01  6.341539e-01            2.000000  \n",
       "75%        1.577478e-01  6.341539e-01            3.000000  \n",
       "max        2.589477e+00  6.341539e-01            3.000000  "
      ]
     },
     "execution_count": 727,
     "metadata": {},
     "output_type": "execute_result"
    }
   ],
   "source": [
    "scaled_train.describe()"
   ]
  },
  {
   "cell_type": "code",
   "execution_count": 739,
   "metadata": {
    "collapsed": false
   },
   "outputs": [],
   "source": [
    "#TRAIN,VAL=train_test_split(scaled_train,train_size=0.9)\n",
    "TRAIN=scaled_train\n",
    "TEST=scaled_test\n",
    "X_TRAIN,Y_TRAIN=TRAIN.drop('Surge_Pricing_Type',1),TRAIN['Surge_Pricing_Type']\n",
    "X_TEST=TEST\n",
    "#X_VAL,Y_VAL=VAL.drop('Surge_Pricing_Type',1),VAL['Surge_Pricing_Type']"
   ]
  },
  {
   "cell_type": "code",
   "execution_count": 730,
   "metadata": {
    "collapsed": false
   },
   "outputs": [
    {
     "data": {
      "text/plain": [
       "'Score= 0.626172483196'"
      ]
     },
     "execution_count": 730,
     "metadata": {},
     "output_type": "execute_result"
    }
   ],
   "source": [
    "from sklearn.metrics import accuracy_score\n",
    "logreg=linear_model.LogisticRegression(fit_intercept=True)\n",
    "logreg.fit(X_TRAIN,Y_TRAIN)\n",
    "\n",
    "#'Score= '+str(logreg.score(X_VAL,Y_VAL))"
   ]
  },
  {
   "cell_type": "code",
   "execution_count": 661,
   "metadata": {
    "collapsed": false
   },
   "outputs": [],
   "source": [
    "y_test_logreg=logreg.predict(X_TEST)"
   ]
  },
  {
   "cell_type": "code",
   "execution_count": 662,
   "metadata": {
    "collapsed": false
   },
   "outputs": [
    {
     "data": {
      "text/plain": [
       "'Score= 0.682337751111'"
      ]
     },
     "execution_count": 662,
     "metadata": {},
     "output_type": "execute_result"
    }
   ],
   "source": [
    "model=RandomForestClassifier(n_estimators=400)\n",
    "model.fit(X_TRAIN,Y_TRAIN)\n",
    "\n",
    "#'Score= '+str(model.score(X_VAL,Y_VAL))"
   ]
  },
  {
   "cell_type": "code",
   "execution_count": 663,
   "metadata": {
    "collapsed": false
   },
   "outputs": [],
   "source": [
    "y_test_forest=model.predict(X_TEST)"
   ]
  },
  {
   "cell_type": "code",
   "execution_count": 743,
   "metadata": {
    "collapsed": false
   },
   "outputs": [
    {
     "data": {
      "text/plain": [
       "XGBClassifier(base_score=0.5, colsample_bylevel=1, colsample_bytree=1,\n",
       "       gamma=0, learning_rate=0.2, max_delta_step=0, max_depth=3,\n",
       "       min_child_weight=1, missing=None, n_estimators=400, nthread=-1,\n",
       "       objective='multi:softprob', reg_alpha=0, reg_lambda=1,\n",
       "       scale_pos_weight=1, seed=0, silent=True, subsample=1)"
      ]
     },
     "execution_count": 743,
     "metadata": {},
     "output_type": "execute_result"
    }
   ],
   "source": [
    "xg=xgb.XGBClassifier(n_estimators=400,learning_rate=0.2)\n",
    "xg.fit(X_TRAIN,Y_TRAIN)\n",
    "#y_val_pred2=xg.predict(X_VAL)\n",
    "\n",
    "#accu=accuracy_score(y_val_pred2,Y_VAL)\n",
    "#accu"
   ]
  },
  {
   "cell_type": "code",
   "execution_count": 744,
   "metadata": {
    "collapsed": false
   },
   "outputs": [],
   "source": [
    "y_test_xgb=xg.predict(X_TEST)"
   ]
  },
  {
   "cell_type": "code",
   "execution_count": 745,
   "metadata": {
    "collapsed": true
   },
   "outputs": [],
   "source": [
    "final1=pd.DataFrame(data={'Trip_ID':trip_ids,'Surge_Pricing_Type':y_test_logreg})\n",
    "final1.to_csv('/Users/adityavyas/Desktop/mini_logreg.csv')\n",
    "\n",
    "final2=pd.DataFrame(data={'Trip_ID':trip_ids,'Surge_Pricing_Type':y_test_forest})\n",
    "final2.to_csv('/Users/adityavyas/Desktop/mini_forest.csv')\n",
    "\n",
    "final3=pd.DataFrame(data={'Trip_ID':trip_ids,'Surge_Pricing_Type':y_test_xgb})\n",
    "final3.to_csv('/Users/adityavyas/Desktop/mini_xgb.csv')"
   ]
  },
  {
   "cell_type": "code",
   "execution_count": null,
   "metadata": {
    "collapsed": false
   },
   "outputs": [],
   "source": [
    "train.columns"
   ]
  },
  {
   "cell_type": "code",
   "execution_count": null,
   "metadata": {
    "collapsed": true
   },
   "outputs": [],
   "source": []
  }
 ],
 "metadata": {
  "anaconda-cloud": {},
  "kernelspec": {
   "display_name": "Python [conda root]",
   "language": "python",
   "name": "conda-root-py"
  },
  "language_info": {
   "codemirror_mode": {
    "name": "ipython",
    "version": 2
   },
   "file_extension": ".py",
   "mimetype": "text/x-python",
   "name": "python",
   "nbconvert_exporter": "python",
   "pygments_lexer": "ipython2",
   "version": "2.7.13"
  }
 },
 "nbformat": 4,
 "nbformat_minor": 1
}
