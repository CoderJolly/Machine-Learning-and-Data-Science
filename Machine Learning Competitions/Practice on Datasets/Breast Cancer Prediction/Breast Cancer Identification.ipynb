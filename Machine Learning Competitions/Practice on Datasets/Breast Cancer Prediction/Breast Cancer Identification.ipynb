{
 "cells": [
  {
   "cell_type": "code",
   "execution_count": 126,
   "metadata": {
    "collapsed": false
   },
   "outputs": [],
   "source": [
    "%matplotlib inline\n",
    "import seaborn as sns\n",
    "import numpy as np\n",
    "import matplotlib.pyplot as plt\n",
    "import pandas as pd\n",
    "from scipy.stats import mode,skew,skewtest\n",
    "\n",
    "from sklearn.cross_validation import train_test_split\n",
    "from sklearn import ensemble\n",
    "from sklearn.preprocessing import StandardScaler\n",
    "from sklearn.decomposition import PCA\n",
    "from sklearn.metrics import accuracy_score"
   ]
  },
  {
   "cell_type": "code",
   "execution_count": 99,
   "metadata": {
    "collapsed": true
   },
   "outputs": [],
   "source": [
    "data=pd.read_csv('/Users/adityavyas/Desktop/Machine Learning and Big Data/Datasets/Breast Cancer/data.csv')"
   ]
  },
  {
   "cell_type": "code",
   "execution_count": 100,
   "metadata": {
    "collapsed": false
   },
   "outputs": [],
   "source": [
    "data.drop('Unnamed: 32',1,inplace=True)"
   ]
  },
  {
   "cell_type": "code",
   "execution_count": 101,
   "metadata": {
    "collapsed": false
   },
   "outputs": [
    {
     "data": {
      "text/html": [
       "<div>\n",
       "<table border=\"1\" class=\"dataframe\">\n",
       "  <thead>\n",
       "    <tr style=\"text-align: right;\">\n",
       "      <th></th>\n",
       "      <th>id</th>\n",
       "      <th>diagnosis</th>\n",
       "      <th>radius_mean</th>\n",
       "      <th>texture_mean</th>\n",
       "      <th>perimeter_mean</th>\n",
       "      <th>area_mean</th>\n",
       "      <th>smoothness_mean</th>\n",
       "      <th>compactness_mean</th>\n",
       "      <th>concavity_mean</th>\n",
       "      <th>concave points_mean</th>\n",
       "      <th>...</th>\n",
       "      <th>radius_worst</th>\n",
       "      <th>texture_worst</th>\n",
       "      <th>perimeter_worst</th>\n",
       "      <th>area_worst</th>\n",
       "      <th>smoothness_worst</th>\n",
       "      <th>compactness_worst</th>\n",
       "      <th>concavity_worst</th>\n",
       "      <th>concave points_worst</th>\n",
       "      <th>symmetry_worst</th>\n",
       "      <th>fractal_dimension_worst</th>\n",
       "    </tr>\n",
       "  </thead>\n",
       "  <tbody>\n",
       "    <tr>\n",
       "      <th>0</th>\n",
       "      <td>842302</td>\n",
       "      <td>M</td>\n",
       "      <td>17.99</td>\n",
       "      <td>10.38</td>\n",
       "      <td>122.80</td>\n",
       "      <td>1001.0</td>\n",
       "      <td>0.11840</td>\n",
       "      <td>0.27760</td>\n",
       "      <td>0.3001</td>\n",
       "      <td>0.14710</td>\n",
       "      <td>...</td>\n",
       "      <td>25.38</td>\n",
       "      <td>17.33</td>\n",
       "      <td>184.60</td>\n",
       "      <td>2019.0</td>\n",
       "      <td>0.1622</td>\n",
       "      <td>0.6656</td>\n",
       "      <td>0.7119</td>\n",
       "      <td>0.2654</td>\n",
       "      <td>0.4601</td>\n",
       "      <td>0.11890</td>\n",
       "    </tr>\n",
       "    <tr>\n",
       "      <th>1</th>\n",
       "      <td>842517</td>\n",
       "      <td>M</td>\n",
       "      <td>20.57</td>\n",
       "      <td>17.77</td>\n",
       "      <td>132.90</td>\n",
       "      <td>1326.0</td>\n",
       "      <td>0.08474</td>\n",
       "      <td>0.07864</td>\n",
       "      <td>0.0869</td>\n",
       "      <td>0.07017</td>\n",
       "      <td>...</td>\n",
       "      <td>24.99</td>\n",
       "      <td>23.41</td>\n",
       "      <td>158.80</td>\n",
       "      <td>1956.0</td>\n",
       "      <td>0.1238</td>\n",
       "      <td>0.1866</td>\n",
       "      <td>0.2416</td>\n",
       "      <td>0.1860</td>\n",
       "      <td>0.2750</td>\n",
       "      <td>0.08902</td>\n",
       "    </tr>\n",
       "    <tr>\n",
       "      <th>2</th>\n",
       "      <td>84300903</td>\n",
       "      <td>M</td>\n",
       "      <td>19.69</td>\n",
       "      <td>21.25</td>\n",
       "      <td>130.00</td>\n",
       "      <td>1203.0</td>\n",
       "      <td>0.10960</td>\n",
       "      <td>0.15990</td>\n",
       "      <td>0.1974</td>\n",
       "      <td>0.12790</td>\n",
       "      <td>...</td>\n",
       "      <td>23.57</td>\n",
       "      <td>25.53</td>\n",
       "      <td>152.50</td>\n",
       "      <td>1709.0</td>\n",
       "      <td>0.1444</td>\n",
       "      <td>0.4245</td>\n",
       "      <td>0.4504</td>\n",
       "      <td>0.2430</td>\n",
       "      <td>0.3613</td>\n",
       "      <td>0.08758</td>\n",
       "    </tr>\n",
       "    <tr>\n",
       "      <th>3</th>\n",
       "      <td>84348301</td>\n",
       "      <td>M</td>\n",
       "      <td>11.42</td>\n",
       "      <td>20.38</td>\n",
       "      <td>77.58</td>\n",
       "      <td>386.1</td>\n",
       "      <td>0.14250</td>\n",
       "      <td>0.28390</td>\n",
       "      <td>0.2414</td>\n",
       "      <td>0.10520</td>\n",
       "      <td>...</td>\n",
       "      <td>14.91</td>\n",
       "      <td>26.50</td>\n",
       "      <td>98.87</td>\n",
       "      <td>567.7</td>\n",
       "      <td>0.2098</td>\n",
       "      <td>0.8663</td>\n",
       "      <td>0.6869</td>\n",
       "      <td>0.2575</td>\n",
       "      <td>0.6638</td>\n",
       "      <td>0.17300</td>\n",
       "    </tr>\n",
       "  </tbody>\n",
       "</table>\n",
       "<p>4 rows × 32 columns</p>\n",
       "</div>"
      ],
      "text/plain": [
       "         id diagnosis  radius_mean  texture_mean  perimeter_mean  area_mean  \\\n",
       "0    842302         M        17.99         10.38          122.80     1001.0   \n",
       "1    842517         M        20.57         17.77          132.90     1326.0   \n",
       "2  84300903         M        19.69         21.25          130.00     1203.0   \n",
       "3  84348301         M        11.42         20.38           77.58      386.1   \n",
       "\n",
       "   smoothness_mean  compactness_mean  concavity_mean  concave points_mean  \\\n",
       "0          0.11840           0.27760          0.3001              0.14710   \n",
       "1          0.08474           0.07864          0.0869              0.07017   \n",
       "2          0.10960           0.15990          0.1974              0.12790   \n",
       "3          0.14250           0.28390          0.2414              0.10520   \n",
       "\n",
       "            ...             radius_worst  texture_worst  perimeter_worst  \\\n",
       "0           ...                    25.38          17.33           184.60   \n",
       "1           ...                    24.99          23.41           158.80   \n",
       "2           ...                    23.57          25.53           152.50   \n",
       "3           ...                    14.91          26.50            98.87   \n",
       "\n",
       "   area_worst  smoothness_worst  compactness_worst  concavity_worst  \\\n",
       "0      2019.0            0.1622             0.6656           0.7119   \n",
       "1      1956.0            0.1238             0.1866           0.2416   \n",
       "2      1709.0            0.1444             0.4245           0.4504   \n",
       "3       567.7            0.2098             0.8663           0.6869   \n",
       "\n",
       "   concave points_worst  symmetry_worst  fractal_dimension_worst  \n",
       "0                0.2654          0.4601                  0.11890  \n",
       "1                0.1860          0.2750                  0.08902  \n",
       "2                0.2430          0.3613                  0.08758  \n",
       "3                0.2575          0.6638                  0.17300  \n",
       "\n",
       "[4 rows x 32 columns]"
      ]
     },
     "execution_count": 101,
     "metadata": {},
     "output_type": "execute_result"
    }
   ],
   "source": [
    "data.head(4)"
   ]
  },
  {
   "cell_type": "code",
   "execution_count": 102,
   "metadata": {
    "collapsed": false
   },
   "outputs": [
    {
     "data": {
      "text/plain": [
       "Index([u'id', u'diagnosis', u'radius_mean', u'texture_mean', u'perimeter_mean',\n",
       "       u'area_mean', u'smoothness_mean', u'compactness_mean',\n",
       "       u'concavity_mean', u'concave points_mean', u'symmetry_mean',\n",
       "       u'fractal_dimension_mean', u'radius_se', u'texture_se', u'perimeter_se',\n",
       "       u'area_se', u'smoothness_se', u'compactness_se', u'concavity_se',\n",
       "       u'concave points_se', u'symmetry_se', u'fractal_dimension_se',\n",
       "       u'radius_worst', u'texture_worst', u'perimeter_worst', u'area_worst',\n",
       "       u'smoothness_worst', u'compactness_worst', u'concavity_worst',\n",
       "       u'concave points_worst', u'symmetry_worst', u'fractal_dimension_worst'],\n",
       "      dtype='object')"
      ]
     },
     "execution_count": 102,
     "metadata": {},
     "output_type": "execute_result"
    }
   ],
   "source": [
    "data.columns"
   ]
  },
  {
   "cell_type": "code",
   "execution_count": 103,
   "metadata": {
    "collapsed": false
   },
   "outputs": [
    {
     "data": {
      "text/plain": [
       "id                           int64\n",
       "diagnosis                   object\n",
       "radius_mean                float64\n",
       "texture_mean               float64\n",
       "perimeter_mean             float64\n",
       "area_mean                  float64\n",
       "smoothness_mean            float64\n",
       "compactness_mean           float64\n",
       "concavity_mean             float64\n",
       "concave points_mean        float64\n",
       "symmetry_mean              float64\n",
       "fractal_dimension_mean     float64\n",
       "radius_se                  float64\n",
       "texture_se                 float64\n",
       "perimeter_se               float64\n",
       "area_se                    float64\n",
       "smoothness_se              float64\n",
       "compactness_se             float64\n",
       "concavity_se               float64\n",
       "concave points_se          float64\n",
       "symmetry_se                float64\n",
       "fractal_dimension_se       float64\n",
       "radius_worst               float64\n",
       "texture_worst              float64\n",
       "perimeter_worst            float64\n",
       "area_worst                 float64\n",
       "smoothness_worst           float64\n",
       "compactness_worst          float64\n",
       "concavity_worst            float64\n",
       "concave points_worst       float64\n",
       "symmetry_worst             float64\n",
       "fractal_dimension_worst    float64\n",
       "dtype: object"
      ]
     },
     "execution_count": 103,
     "metadata": {},
     "output_type": "execute_result"
    }
   ],
   "source": [
    "data.dtypes"
   ]
  },
  {
   "cell_type": "code",
   "execution_count": 104,
   "metadata": {
    "collapsed": false
   },
   "outputs": [
    {
     "data": {
      "text/plain": [
       "id                         0\n",
       "diagnosis                  0\n",
       "radius_mean                0\n",
       "texture_mean               0\n",
       "perimeter_mean             0\n",
       "area_mean                  0\n",
       "smoothness_mean            0\n",
       "compactness_mean           0\n",
       "concavity_mean             0\n",
       "concave points_mean        0\n",
       "symmetry_mean              0\n",
       "fractal_dimension_mean     0\n",
       "radius_se                  0\n",
       "texture_se                 0\n",
       "perimeter_se               0\n",
       "area_se                    0\n",
       "smoothness_se              0\n",
       "compactness_se             0\n",
       "concavity_se               0\n",
       "concave points_se          0\n",
       "symmetry_se                0\n",
       "fractal_dimension_se       0\n",
       "radius_worst               0\n",
       "texture_worst              0\n",
       "perimeter_worst            0\n",
       "area_worst                 0\n",
       "smoothness_worst           0\n",
       "compactness_worst          0\n",
       "concavity_worst            0\n",
       "concave points_worst       0\n",
       "symmetry_worst             0\n",
       "fractal_dimension_worst    0\n",
       "dtype: int64"
      ]
     },
     "execution_count": 104,
     "metadata": {},
     "output_type": "execute_result"
    }
   ],
   "source": [
    "data.isnull().sum()"
   ]
  },
  {
   "cell_type": "code",
   "execution_count": 105,
   "metadata": {
    "collapsed": false
   },
   "outputs": [
    {
     "data": {
      "text/plain": [
       "(17280, 928)"
      ]
     },
     "execution_count": 105,
     "metadata": {},
     "output_type": "execute_result"
    }
   ],
   "source": [
    "#Lets break the data into training and test sets\n",
    "\n",
    "train,test=train_test_split(data,train_size=0.95,test_size=0.05)\n",
    "train.size,test.size"
   ]
  },
  {
   "cell_type": "code",
   "execution_count": 106,
   "metadata": {
    "collapsed": false
   },
   "outputs": [
    {
     "data": {
      "text/plain": [
       "<matplotlib.axes._subplots.AxesSubplot at 0x11ecdf2d0>"
      ]
     },
     "execution_count": 106,
     "metadata": {},
     "output_type": "execute_result"
    },
    {
     "data": {
      "image/png": "[encoded data removed]",
      "text/plain": [
       "<matplotlib.figure.Figure at 0x11d9cca50>"
      ]
     },
     "metadata": {},
     "output_type": "display_data"
    }
   ],
   "source": [
    "sns.heatmap(train.corr(),xticklabels=False,yticklabels=False)"
   ]
  },
  {
   "cell_type": "code",
   "execution_count": 107,
   "metadata": {
    "collapsed": false
   },
   "outputs": [
    {
     "data": {
      "text/html": [
       "<div>\n",
       "<table border=\"1\" class=\"dataframe\">\n",
       "  <thead>\n",
       "    <tr style=\"text-align: right;\">\n",
       "      <th></th>\n",
       "      <th>id</th>\n",
       "      <th>diagnosis</th>\n",
       "      <th>radius_mean</th>\n",
       "      <th>texture_mean</th>\n",
       "      <th>perimeter_mean</th>\n",
       "      <th>area_mean</th>\n",
       "      <th>smoothness_mean</th>\n",
       "      <th>compactness_mean</th>\n",
       "      <th>concavity_mean</th>\n",
       "      <th>concave points_mean</th>\n",
       "      <th>...</th>\n",
       "      <th>radius_worst</th>\n",
       "      <th>texture_worst</th>\n",
       "      <th>perimeter_worst</th>\n",
       "      <th>area_worst</th>\n",
       "      <th>smoothness_worst</th>\n",
       "      <th>compactness_worst</th>\n",
       "      <th>concavity_worst</th>\n",
       "      <th>concave points_worst</th>\n",
       "      <th>symmetry_worst</th>\n",
       "      <th>fractal_dimension_worst</th>\n",
       "    </tr>\n",
       "  </thead>\n",
       "  <tbody>\n",
       "    <tr>\n",
       "      <th>310</th>\n",
       "      <td>893783</td>\n",
       "      <td>B</td>\n",
       "      <td>11.7</td>\n",
       "      <td>19.11</td>\n",
       "      <td>74.33</td>\n",
       "      <td>418.7</td>\n",
       "      <td>0.08814</td>\n",
       "      <td>0.05253</td>\n",
       "      <td>0.01583</td>\n",
       "      <td>0.01148</td>\n",
       "      <td>...</td>\n",
       "      <td>12.61</td>\n",
       "      <td>26.55</td>\n",
       "      <td>80.92</td>\n",
       "      <td>483.1</td>\n",
       "      <td>0.1223</td>\n",
       "      <td>0.1087</td>\n",
       "      <td>0.07915</td>\n",
       "      <td>0.05741</td>\n",
       "      <td>0.3487</td>\n",
       "      <td>0.06958</td>\n",
       "    </tr>\n",
       "  </tbody>\n",
       "</table>\n",
       "<p>1 rows × 32 columns</p>\n",
       "</div>"
      ],
      "text/plain": [
       "         id diagnosis  radius_mean  texture_mean  perimeter_mean  area_mean  \\\n",
       "310  893783         B         11.7         19.11           74.33      418.7   \n",
       "\n",
       "     smoothness_mean  compactness_mean  concavity_mean  concave points_mean  \\\n",
       "310          0.08814           0.05253         0.01583              0.01148   \n",
       "\n",
       "              ...             radius_worst  texture_worst  perimeter_worst  \\\n",
       "310           ...                    12.61          26.55            80.92   \n",
       "\n",
       "     area_worst  smoothness_worst  compactness_worst  concavity_worst  \\\n",
       "310       483.1            0.1223             0.1087          0.07915   \n",
       "\n",
       "     concave points_worst  symmetry_worst  fractal_dimension_worst  \n",
       "310               0.05741          0.3487                  0.06958  \n",
       "\n",
       "[1 rows x 32 columns]"
      ]
     },
     "execution_count": 107,
     "metadata": {},
     "output_type": "execute_result"
    }
   ],
   "source": [
    "# We observe that a lot of features are related to each other. \n",
    "\n",
    "train.head(1)"
   ]
  },
  {
   "cell_type": "code",
   "execution_count": 108,
   "metadata": {
    "collapsed": false,
    "scrolled": true
   },
   "outputs": [
    {
     "name": "stderr",
     "output_type": "stream",
     "text": [
      "/Users/adityavyas/anaconda/lib/python2.7/site-packages/ipykernel/__main__.py:6: SettingWithCopyWarning: \n",
      "A value is trying to be set on a copy of a slice from a DataFrame\n",
      "\n",
      "See the caveats in the documentation: http://pandas.pydata.org/pandas-docs/stable/indexing.html#indexing-view-versus-copy\n",
      "/Users/adityavyas/anaconda/lib/python2.7/site-packages/ipykernel/__main__.py:7: SettingWithCopyWarning: \n",
      "A value is trying to be set on a copy of a slice from a DataFrame\n",
      "\n",
      "See the caveats in the documentation: http://pandas.pydata.org/pandas-docs/stable/indexing.html#indexing-view-versus-copy\n"
     ]
    }
   ],
   "source": [
    "train_labels=train['diagnosis']\n",
    "test_labels=test['diagnosis']\n",
    "\n",
    "#We drop the id and diagnosis columns in train and test\n",
    "\n",
    "train.drop(['id','diagnosis'],1,inplace=True)\n",
    "test.drop(['id','diagnosis'],1,inplace=True)"
   ]
  },
  {
   "cell_type": "code",
   "execution_count": 109,
   "metadata": {
    "collapsed": false
   },
   "outputs": [
    {
     "data": {
      "image/png": "[encoded data removed]",
      "text/plain": [
       "<matplotlib.figure.Figure at 0x11e987d10>"
      ]
     },
     "metadata": {},
     "output_type": "display_data"
    }
   ],
   "source": [
    "#We run a basic random forest on the data to know the feature importances.\n",
    "\n",
    "forest=ensemble.RandomForestClassifier(n_estimators=100,n_jobs=-1)\n",
    "forest.fit(train,train_labels)\n",
    "\n",
    "importances=forest.feature_importances_\n",
    "indices=np.argsort(importances)[::-1]\n",
    "feature=train.columns\n",
    "plt.yticks(range(len(indices)),feature[indices],fontsize=10)\n",
    "plt.barh(range(len(indices)),importances[indices])\n",
    "plt.tight_layout()"
   ]
  },
  {
   "cell_type": "markdown",
   "metadata": {},
   "source": [
    "Ok so we see that the concave_points_worst has the highest importance. Infact area,radius worst also have high importances. Similarly features pertaining to smoothness,symmetry and fractal dimensions are not so important."
   ]
  },
  {
   "cell_type": "code",
   "execution_count": 110,
   "metadata": {
    "collapsed": false
   },
   "outputs": [],
   "source": [
    "# We will rearrange the columns based on the feature importances\n",
    "\n",
    "train2=train.ix[:,feature[indices]]\n",
    "test2=test.ix[:,feature[indices]]"
   ]
  },
  {
   "cell_type": "code",
   "execution_count": 111,
   "metadata": {
    "collapsed": false
   },
   "outputs": [
    {
     "data": {
      "text/html": [
       "<div>\n",
       "<table border=\"1\" class=\"dataframe\">\n",
       "  <thead>\n",
       "    <tr style=\"text-align: right;\">\n",
       "      <th></th>\n",
       "      <th>area_worst</th>\n",
       "      <th>perimeter_worst</th>\n",
       "      <th>concave points_worst</th>\n",
       "      <th>concave points_mean</th>\n",
       "      <th>radius_worst</th>\n",
       "      <th>concavity_mean</th>\n",
       "      <th>area_mean</th>\n",
       "      <th>perimeter_mean</th>\n",
       "      <th>concavity_worst</th>\n",
       "      <th>area_se</th>\n",
       "      <th>...</th>\n",
       "      <th>concave points_se</th>\n",
       "      <th>smoothness_mean</th>\n",
       "      <th>concavity_se</th>\n",
       "      <th>compactness_se</th>\n",
       "      <th>fractal_dimension_se</th>\n",
       "      <th>smoothness_se</th>\n",
       "      <th>texture_se</th>\n",
       "      <th>fractal_dimension_mean</th>\n",
       "      <th>symmetry_se</th>\n",
       "      <th>symmetry_mean</th>\n",
       "    </tr>\n",
       "  </thead>\n",
       "  <tbody>\n",
       "    <tr>\n",
       "      <th>310</th>\n",
       "      <td>483.1</td>\n",
       "      <td>80.92</td>\n",
       "      <td>0.05741</td>\n",
       "      <td>0.01148</td>\n",
       "      <td>12.61</td>\n",
       "      <td>0.01583</td>\n",
       "      <td>418.7</td>\n",
       "      <td>74.33</td>\n",
       "      <td>0.07915</td>\n",
       "      <td>11.28</td>\n",
       "      <td>...</td>\n",
       "      <td>0.007638</td>\n",
       "      <td>0.08814</td>\n",
       "      <td>0.01042</td>\n",
       "      <td>0.00911</td>\n",
       "      <td>0.001661</td>\n",
       "      <td>0.006064</td>\n",
       "      <td>1.430</td>\n",
       "      <td>0.06128</td>\n",
       "      <td>0.02349</td>\n",
       "      <td>0.1936</td>\n",
       "    </tr>\n",
       "    <tr>\n",
       "      <th>80</th>\n",
       "      <td>525.1</td>\n",
       "      <td>84.53</td>\n",
       "      <td>0.06127</td>\n",
       "      <td>0.02233</td>\n",
       "      <td>13.11</td>\n",
       "      <td>0.04591</td>\n",
       "      <td>401.5</td>\n",
       "      <td>73.81</td>\n",
       "      <td>0.17550</td>\n",
       "      <td>24.62</td>\n",
       "      <td>...</td>\n",
       "      <td>0.007506</td>\n",
       "      <td>0.11020</td>\n",
       "      <td>0.02586</td>\n",
       "      <td>0.01706</td>\n",
       "      <td>0.003976</td>\n",
       "      <td>0.010370</td>\n",
       "      <td>2.174</td>\n",
       "      <td>0.07005</td>\n",
       "      <td>0.01816</td>\n",
       "      <td>0.1842</td>\n",
       "    </tr>\n",
       "  </tbody>\n",
       "</table>\n",
       "<p>2 rows × 30 columns</p>\n",
       "</div>"
      ],
      "text/plain": [
       "     area_worst  perimeter_worst  concave points_worst  concave points_mean  \\\n",
       "310       483.1            80.92               0.05741              0.01148   \n",
       "80        525.1            84.53               0.06127              0.02233   \n",
       "\n",
       "     radius_worst  concavity_mean  area_mean  perimeter_mean  concavity_worst  \\\n",
       "310         12.61         0.01583      418.7           74.33          0.07915   \n",
       "80          13.11         0.04591      401.5           73.81          0.17550   \n",
       "\n",
       "     area_se      ...        concave points_se  smoothness_mean  concavity_se  \\\n",
       "310    11.28      ...                 0.007638          0.08814       0.01042   \n",
       "80     24.62      ...                 0.007506          0.11020       0.02586   \n",
       "\n",
       "     compactness_se  fractal_dimension_se  smoothness_se  texture_se  \\\n",
       "310         0.00911              0.001661       0.006064       1.430   \n",
       "80          0.01706              0.003976       0.010370       2.174   \n",
       "\n",
       "     fractal_dimension_mean  symmetry_se  symmetry_mean  \n",
       "310                 0.06128      0.02349         0.1936  \n",
       "80                  0.07005      0.01816         0.1842  \n",
       "\n",
       "[2 rows x 30 columns]"
      ]
     },
     "execution_count": 111,
     "metadata": {},
     "output_type": "execute_result"
    }
   ],
   "source": [
    "train2.head(2)"
   ]
  },
  {
   "cell_type": "code",
   "execution_count": 112,
   "metadata": {
    "collapsed": false
   },
   "outputs": [
    {
     "data": {
      "text/html": [
       "<div>\n",
       "<table border=\"1\" class=\"dataframe\">\n",
       "  <thead>\n",
       "    <tr style=\"text-align: right;\">\n",
       "      <th></th>\n",
       "      <th>area_worst</th>\n",
       "      <th>perimeter_worst</th>\n",
       "      <th>concave points_worst</th>\n",
       "      <th>concave points_mean</th>\n",
       "      <th>radius_worst</th>\n",
       "      <th>concavity_mean</th>\n",
       "      <th>area_mean</th>\n",
       "      <th>perimeter_mean</th>\n",
       "      <th>concavity_worst</th>\n",
       "      <th>area_se</th>\n",
       "      <th>...</th>\n",
       "      <th>concave points_se</th>\n",
       "      <th>smoothness_mean</th>\n",
       "      <th>concavity_se</th>\n",
       "      <th>compactness_se</th>\n",
       "      <th>fractal_dimension_se</th>\n",
       "      <th>smoothness_se</th>\n",
       "      <th>texture_se</th>\n",
       "      <th>fractal_dimension_mean</th>\n",
       "      <th>symmetry_se</th>\n",
       "      <th>symmetry_mean</th>\n",
       "    </tr>\n",
       "  </thead>\n",
       "  <tbody>\n",
       "    <tr>\n",
       "      <th>count</th>\n",
       "      <td>540.000000</td>\n",
       "      <td>540.000000</td>\n",
       "      <td>540.000000</td>\n",
       "      <td>540.000000</td>\n",
       "      <td>540.000000</td>\n",
       "      <td>540.000000</td>\n",
       "      <td>540.000000</td>\n",
       "      <td>540.000000</td>\n",
       "      <td>540.000000</td>\n",
       "      <td>540.000000</td>\n",
       "      <td>...</td>\n",
       "      <td>540.000000</td>\n",
       "      <td>540.000000</td>\n",
       "      <td>540.000000</td>\n",
       "      <td>540.000000</td>\n",
       "      <td>540.000000</td>\n",
       "      <td>540.000000</td>\n",
       "      <td>540.000000</td>\n",
       "      <td>540.000000</td>\n",
       "      <td>540.000000</td>\n",
       "      <td>540.000000</td>\n",
       "    </tr>\n",
       "    <tr>\n",
       "      <th>mean</th>\n",
       "      <td>884.619444</td>\n",
       "      <td>107.542333</td>\n",
       "      <td>0.115447</td>\n",
       "      <td>0.049257</td>\n",
       "      <td>16.303391</td>\n",
       "      <td>0.089372</td>\n",
       "      <td>655.317963</td>\n",
       "      <td>92.061889</td>\n",
       "      <td>0.274839</td>\n",
       "      <td>40.068620</td>\n",
       "      <td>...</td>\n",
       "      <td>0.011877</td>\n",
       "      <td>0.096498</td>\n",
       "      <td>0.032141</td>\n",
       "      <td>0.025653</td>\n",
       "      <td>0.003811</td>\n",
       "      <td>0.007044</td>\n",
       "      <td>1.215185</td>\n",
       "      <td>0.062838</td>\n",
       "      <td>0.020509</td>\n",
       "      <td>0.181176</td>\n",
       "    </tr>\n",
       "    <tr>\n",
       "      <th>std</th>\n",
       "      <td>573.551548</td>\n",
       "      <td>33.818455</td>\n",
       "      <td>0.065839</td>\n",
       "      <td>0.038821</td>\n",
       "      <td>4.861236</td>\n",
       "      <td>0.079666</td>\n",
       "      <td>347.368297</td>\n",
       "      <td>24.165909</td>\n",
       "      <td>0.209638</td>\n",
       "      <td>41.523116</td>\n",
       "      <td>...</td>\n",
       "      <td>0.006197</td>\n",
       "      <td>0.013894</td>\n",
       "      <td>0.030540</td>\n",
       "      <td>0.018010</td>\n",
       "      <td>0.002675</td>\n",
       "      <td>0.003000</td>\n",
       "      <td>0.546429</td>\n",
       "      <td>0.007010</td>\n",
       "      <td>0.008193</td>\n",
       "      <td>0.027132</td>\n",
       "    </tr>\n",
       "    <tr>\n",
       "      <th>min</th>\n",
       "      <td>240.100000</td>\n",
       "      <td>56.650000</td>\n",
       "      <td>0.000000</td>\n",
       "      <td>0.000000</td>\n",
       "      <td>8.952000</td>\n",
       "      <td>0.000000</td>\n",
       "      <td>178.800000</td>\n",
       "      <td>47.920000</td>\n",
       "      <td>0.000000</td>\n",
       "      <td>6.802000</td>\n",
       "      <td>...</td>\n",
       "      <td>0.000000</td>\n",
       "      <td>0.052630</td>\n",
       "      <td>0.000000</td>\n",
       "      <td>0.003012</td>\n",
       "      <td>0.000895</td>\n",
       "      <td>0.001713</td>\n",
       "      <td>0.360200</td>\n",
       "      <td>0.049960</td>\n",
       "      <td>0.007882</td>\n",
       "      <td>0.116700</td>\n",
       "    </tr>\n",
       "    <tr>\n",
       "      <th>25%</th>\n",
       "      <td>513.975000</td>\n",
       "      <td>84.057500</td>\n",
       "      <td>0.065125</td>\n",
       "      <td>0.020368</td>\n",
       "      <td>13.002500</td>\n",
       "      <td>0.029575</td>\n",
       "      <td>418.325000</td>\n",
       "      <td>74.967500</td>\n",
       "      <td>0.115925</td>\n",
       "      <td>17.840000</td>\n",
       "      <td>...</td>\n",
       "      <td>0.007701</td>\n",
       "      <td>0.086688</td>\n",
       "      <td>0.015140</td>\n",
       "      <td>0.013437</td>\n",
       "      <td>0.002254</td>\n",
       "      <td>0.005214</td>\n",
       "      <td>0.829700</td>\n",
       "      <td>0.057923</td>\n",
       "      <td>0.015195</td>\n",
       "      <td>0.162000</td>\n",
       "    </tr>\n",
       "    <tr>\n",
       "      <th>50%</th>\n",
       "      <td>684.550000</td>\n",
       "      <td>97.620000</td>\n",
       "      <td>0.100550</td>\n",
       "      <td>0.033455</td>\n",
       "      <td>14.910000</td>\n",
       "      <td>0.061880</td>\n",
       "      <td>546.200000</td>\n",
       "      <td>86.260000</td>\n",
       "      <td>0.229850</td>\n",
       "      <td>24.565000</td>\n",
       "      <td>...</td>\n",
       "      <td>0.011000</td>\n",
       "      <td>0.096035</td>\n",
       "      <td>0.026065</td>\n",
       "      <td>0.020475</td>\n",
       "      <td>0.003195</td>\n",
       "      <td>0.006391</td>\n",
       "      <td>1.108000</td>\n",
       "      <td>0.061670</td>\n",
       "      <td>0.018765</td>\n",
       "      <td>0.179250</td>\n",
       "    </tr>\n",
       "    <tr>\n",
       "      <th>75%</th>\n",
       "      <td>1106.750000</td>\n",
       "      <td>126.950000</td>\n",
       "      <td>0.162500</td>\n",
       "      <td>0.074928</td>\n",
       "      <td>19.097500</td>\n",
       "      <td>0.132150</td>\n",
       "      <td>794.600000</td>\n",
       "      <td>105.725000</td>\n",
       "      <td>0.386200</td>\n",
       "      <td>45.440000</td>\n",
       "      <td>...</td>\n",
       "      <td>0.014793</td>\n",
       "      <td>0.105300</td>\n",
       "      <td>0.041587</td>\n",
       "      <td>0.032217</td>\n",
       "      <td>0.004559</td>\n",
       "      <td>0.008129</td>\n",
       "      <td>1.474250</td>\n",
       "      <td>0.066120</td>\n",
       "      <td>0.023482</td>\n",
       "      <td>0.195400</td>\n",
       "    </tr>\n",
       "    <tr>\n",
       "      <th>max</th>\n",
       "      <td>4254.000000</td>\n",
       "      <td>251.200000</td>\n",
       "      <td>0.291000</td>\n",
       "      <td>0.201200</td>\n",
       "      <td>36.040000</td>\n",
       "      <td>0.426800</td>\n",
       "      <td>2501.000000</td>\n",
       "      <td>186.900000</td>\n",
       "      <td>1.252000</td>\n",
       "      <td>542.200000</td>\n",
       "      <td>...</td>\n",
       "      <td>0.052790</td>\n",
       "      <td>0.163400</td>\n",
       "      <td>0.396000</td>\n",
       "      <td>0.135400</td>\n",
       "      <td>0.029840</td>\n",
       "      <td>0.031130</td>\n",
       "      <td>4.885000</td>\n",
       "      <td>0.097440</td>\n",
       "      <td>0.078950</td>\n",
       "      <td>0.304000</td>\n",
       "    </tr>\n",
       "  </tbody>\n",
       "</table>\n",
       "<p>8 rows × 30 columns</p>\n",
       "</div>"
      ],
      "text/plain": [
       "        area_worst  perimeter_worst  concave points_worst  \\\n",
       "count   540.000000       540.000000            540.000000   \n",
       "mean    884.619444       107.542333              0.115447   \n",
       "std     573.551548        33.818455              0.065839   \n",
       "min     240.100000        56.650000              0.000000   \n",
       "25%     513.975000        84.057500              0.065125   \n",
       "50%     684.550000        97.620000              0.100550   \n",
       "75%    1106.750000       126.950000              0.162500   \n",
       "max    4254.000000       251.200000              0.291000   \n",
       "\n",
       "       concave points_mean  radius_worst  concavity_mean    area_mean  \\\n",
       "count           540.000000    540.000000      540.000000   540.000000   \n",
       "mean              0.049257     16.303391        0.089372   655.317963   \n",
       "std               0.038821      4.861236        0.079666   347.368297   \n",
       "min               0.000000      8.952000        0.000000   178.800000   \n",
       "25%               0.020368     13.002500        0.029575   418.325000   \n",
       "50%               0.033455     14.910000        0.061880   546.200000   \n",
       "75%               0.074928     19.097500        0.132150   794.600000   \n",
       "max               0.201200     36.040000        0.426800  2501.000000   \n",
       "\n",
       "       perimeter_mean  concavity_worst     area_se      ...        \\\n",
       "count      540.000000       540.000000  540.000000      ...         \n",
       "mean        92.061889         0.274839   40.068620      ...         \n",
       "std         24.165909         0.209638   41.523116      ...         \n",
       "min         47.920000         0.000000    6.802000      ...         \n",
       "25%         74.967500         0.115925   17.840000      ...         \n",
       "50%         86.260000         0.229850   24.565000      ...         \n",
       "75%        105.725000         0.386200   45.440000      ...         \n",
       "max        186.900000         1.252000  542.200000      ...         \n",
       "\n",
       "       concave points_se  smoothness_mean  concavity_se  compactness_se  \\\n",
       "count         540.000000       540.000000    540.000000      540.000000   \n",
       "mean            0.011877         0.096498      0.032141        0.025653   \n",
       "std             0.006197         0.013894      0.030540        0.018010   \n",
       "min             0.000000         0.052630      0.000000        0.003012   \n",
       "25%             0.007701         0.086688      0.015140        0.013437   \n",
       "50%             0.011000         0.096035      0.026065        0.020475   \n",
       "75%             0.014793         0.105300      0.041587        0.032217   \n",
       "max             0.052790         0.163400      0.396000        0.135400   \n",
       "\n",
       "       fractal_dimension_se  smoothness_se  texture_se  \\\n",
       "count            540.000000     540.000000  540.000000   \n",
       "mean               0.003811       0.007044    1.215185   \n",
       "std                0.002675       0.003000    0.546429   \n",
       "min                0.000895       0.001713    0.360200   \n",
       "25%                0.002254       0.005214    0.829700   \n",
       "50%                0.003195       0.006391    1.108000   \n",
       "75%                0.004559       0.008129    1.474250   \n",
       "max                0.029840       0.031130    4.885000   \n",
       "\n",
       "       fractal_dimension_mean  symmetry_se  symmetry_mean  \n",
       "count              540.000000   540.000000     540.000000  \n",
       "mean                 0.062838     0.020509       0.181176  \n",
       "std                  0.007010     0.008193       0.027132  \n",
       "min                  0.049960     0.007882       0.116700  \n",
       "25%                  0.057923     0.015195       0.162000  \n",
       "50%                  0.061670     0.018765       0.179250  \n",
       "75%                  0.066120     0.023482       0.195400  \n",
       "max                  0.097440     0.078950       0.304000  \n",
       "\n",
       "[8 rows x 30 columns]"
      ]
     },
     "execution_count": 112,
     "metadata": {},
     "output_type": "execute_result"
    }
   ],
   "source": [
    "#Lets look at the overall distribution among features\n",
    "\n",
    "train2.describe()"
   ]
  },
  {
   "cell_type": "code",
   "execution_count": 114,
   "metadata": {
    "collapsed": false
   },
   "outputs": [],
   "source": [
    "#We will need to normalize values because there is huge variation among the values. The area_mean has value 661 while\n",
    "#the fractional_dimension_worst has mean value 0.083\n",
    "\n",
    "scaler=StandardScaler(with_mean=True,with_std=True)\n",
    "scaled_features=scaler.fit_transform(train2)\n",
    "scaled_train_df=pd.DataFrame(scaled_features,index=train2.index,columns=train2.columns)\n",
    "\n",
    "scaled_features2=scaler.fit_transform(test2)\n",
    "scaled_test_df=pd.DataFrame(scaled_features2,index=test2.index,columns=test2.columns)"
   ]
  },
  {
   "cell_type": "code",
   "execution_count": 121,
   "metadata": {
    "collapsed": false
   },
   "outputs": [],
   "source": [
    "#We will join the labels\n",
    "\n",
    "train3=scaled_train_df.join(train_labels)\n",
    "test3=scaled_test_df.join(test_labels)"
   ]
  },
  {
   "cell_type": "code",
   "execution_count": 130,
   "metadata": {
    "collapsed": true
   },
   "outputs": [],
   "source": [
    "# We create training,validation and testing datasets\n",
    "\n",
    "TRAIN,VAL=train_test_split(train3,train_size=0.8)\n",
    "TEST=test3\n",
    "x_TRAIN,y_TRAIN=TRAIN.drop('diagnosis',1),TRAIN['diagnosis']\n",
    "x_VAL,y_VAL=VAL.drop('diagnosis',1),VAL['diagnosis']\n",
    "x_TEST,y_TEST=TEST.drop('diagnosis',1),TEST['diagnosis']"
   ]
  },
  {
   "cell_type": "code",
   "execution_count": 133,
   "metadata": {
    "collapsed": false
   },
   "outputs": [
    {
     "data": {
      "text/plain": [
       "1.0"
      ]
     },
     "execution_count": 133,
     "metadata": {},
     "output_type": "execute_result"
    }
   ],
   "source": [
    "#Logistic Regression\n",
    "\n",
    "from sklearn.linear_model import LogisticRegression\n",
    "\n",
    "\n",
    "logreg=LogisticRegression()\n",
    "logreg.fit(x_TRAIN,y_TRAIN)\n",
    "y_pred_logreg=logreg.predict(x_VAL)\n",
    "val_accuracy_logreg=accuracy_score(y_pred_logreg,y_VAL)\n",
    "val_accuracy_logreg\n",
    "\n",
    "y_pred_logreg_=logreg.predict(x_TEST)\n",
    "test_accuracy_logreg=accuracy_score(y_pred_logreg_,y_TEST)\n",
    "test_accuracy_logreg"
   ]
  },
  {
   "cell_type": "code",
   "execution_count": 134,
   "metadata": {
    "collapsed": false
   },
   "outputs": [
    {
     "data": {
      "text/plain": [
       "'validation accuracy= 0.953703703704   final accuracy= 0.931034482759'"
      ]
     },
     "execution_count": 134,
     "metadata": {},
     "output_type": "execute_result"
    }
   ],
   "source": [
    "#Random Forest Classification\n",
    "\n",
    "from sklearn.ensemble import RandomForestClassifier\n",
    "\n",
    "forest=RandomForestClassifier(n_estimators=100)\n",
    "forest.fit(x_TRAIN,y_TRAIN)\n",
    "y_pred_forest=forest.predict(x_VAL)\n",
    "val_accuracy_forest=accuracy_score(y_pred_forest,y_VAL)\n",
    "\n",
    "y_pred_forest_=forest.predict(x_TEST)\n",
    "test_accuracy_forest=accuracy_score(y_pred_forest_,y_TEST)\n",
    "'validation accuracy= '+str(val_accuracy_forest)+'   '+'final accuracy= '+str(test_accuracy_forest)"
   ]
  },
  {
   "cell_type": "code",
   "execution_count": null,
   "metadata": {
    "collapsed": true
   },
   "outputs": [],
   "source": []
  }
 ],
 "metadata": {
  "kernelspec": {
   "display_name": "Python [default]",
   "language": "python",
   "name": "python2"
  },
  "language_info": {
   "codemirror_mode": {
    "name": "ipython",
    "version": 2
   },
   "file_extension": ".py",
   "mimetype": "text/x-python",
   "name": "python",
   "nbconvert_exporter": "python",
   "pygments_lexer": "ipython2",
   "version": "2.7.13"
  }
 },
 "nbformat": 4,
 "nbformat_minor": 1
}
