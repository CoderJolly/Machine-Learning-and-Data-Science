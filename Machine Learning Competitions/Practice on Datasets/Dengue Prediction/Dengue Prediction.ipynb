{
 "cells": [
  {
   "cell_type": "code",
   "execution_count": 1,
   "metadata": {
    "collapsed": false
   },
   "outputs": [
    {
     "name": "stderr",
     "output_type": "stream",
     "text": [
      "/Users/adityavyas/anaconda/lib/python2.7/site-packages/rpy2/rinterface/__init__.py:186: RRuntimeWarning: During startup - \n",
      "  warnings.warn(x, RRuntimeWarning)\n",
      "/Users/adityavyas/anaconda/lib/python2.7/site-packages/rpy2/rinterface/__init__.py:186: RRuntimeWarning: Warning messages:\n",
      "\n",
      "  warnings.warn(x, RRuntimeWarning)\n",
      "/Users/adityavyas/anaconda/lib/python2.7/site-packages/rpy2/rinterface/__init__.py:186: RRuntimeWarning: 1: Setting LC_COLLATE failed, using \"C\" \n",
      "\n",
      "  warnings.warn(x, RRuntimeWarning)\n",
      "/Users/adityavyas/anaconda/lib/python2.7/site-packages/rpy2/rinterface/__init__.py:186: RRuntimeWarning: 2: Setting LC_TIME failed, using \"C\" \n",
      "\n",
      "  warnings.warn(x, RRuntimeWarning)\n",
      "/Users/adityavyas/anaconda/lib/python2.7/site-packages/rpy2/rinterface/__init__.py:186: RRuntimeWarning: 3: Setting LC_MESSAGES failed, using \"C\" \n",
      "\n",
      "  warnings.warn(x, RRuntimeWarning)\n",
      "/Users/adityavyas/anaconda/lib/python2.7/site-packages/rpy2/rinterface/__init__.py:186: RRuntimeWarning: 4: Setting LC_MONETARY failed, using \"C\" \n",
      "\n",
      "  warnings.warn(x, RRuntimeWarning)\n",
      "/Users/adityavyas/anaconda/lib/python2.7/site-packages/sklearn/cross_validation.py:44: DeprecationWarning: This module was deprecated in version 0.18 in favor of the model_selection module into which all the refactored classes and functions are moved. Also note that the interface of the new CV iterators are different from that of this module. This module will be removed in 0.20.\n",
      "  \"This module will be removed in 0.20.\", DeprecationWarning)\n"
     ]
    }
   ],
   "source": [
    "%load_ext rpy2.ipython\n",
    "%matplotlib inline\n",
    "import seaborn as sns\n",
    "import numpy as np\n",
    "import matplotlib.pyplot as plt\n",
    "import pandas as pd\n",
    "import math\n",
    "from scipy.stats import mode,skew,skewtest\n",
    "\n",
    "from sklearn.preprocessing import StandardScaler\n",
    "from sklearn.ensemble import RandomForestClassifier,RandomForestRegressor\n",
    "from sklearn.cross_validation import KFold\n",
    "from sklearn.linear_model import LinearRegression,LogisticRegression\n",
    "import xgboost as xgb"
   ]
  },
  {
   "cell_type": "code",
   "execution_count": 2,
   "metadata": {
    "collapsed": false
   },
   "outputs": [],
   "source": [
    "train=pd.read_csv('/Users/adityavyas/Desktop/Machine Learning and Data Science/Datasets/Dengue Prediction/dengue_features_train.csv')\n",
    "train_labels=pd.read_csv('/Users/adityavyas/Desktop/Machine Learning and Data Science/Datasets/Dengue Prediction/dengue_labels_train.csv')\n",
    "test=pd.read_csv('/Users/adityavyas/Desktop/Machine Learning and Data Science/Datasets/Dengue Prediction/dengue_features_test.csv')"
   ]
  },
  {
   "cell_type": "code",
   "execution_count": 3,
   "metadata": {
    "collapsed": true
   },
   "outputs": [],
   "source": [
    "data=pd.concat([train,test])"
   ]
  },
  {
   "cell_type": "code",
   "execution_count": 4,
   "metadata": {
    "collapsed": false
   },
   "outputs": [
    {
     "data": {
      "text/html": [
       "<div>\n",
       "<table border=\"1\" class=\"dataframe\">\n",
       "  <thead>\n",
       "    <tr style=\"text-align: right;\">\n",
       "      <th></th>\n",
       "      <th>city</th>\n",
       "      <th>year</th>\n",
       "      <th>weekofyear</th>\n",
       "      <th>week_start_date</th>\n",
       "      <th>ndvi_ne</th>\n",
       "      <th>ndvi_nw</th>\n",
       "      <th>ndvi_se</th>\n",
       "      <th>ndvi_sw</th>\n",
       "      <th>precipitation_amt_mm</th>\n",
       "      <th>reanalysis_air_temp_k</th>\n",
       "      <th>...</th>\n",
       "      <th>reanalysis_precip_amt_kg_per_m2</th>\n",
       "      <th>reanalysis_relative_humidity_percent</th>\n",
       "      <th>reanalysis_sat_precip_amt_mm</th>\n",
       "      <th>reanalysis_specific_humidity_g_per_kg</th>\n",
       "      <th>reanalysis_tdtr_k</th>\n",
       "      <th>station_avg_temp_c</th>\n",
       "      <th>station_diur_temp_rng_c</th>\n",
       "      <th>station_max_temp_c</th>\n",
       "      <th>station_min_temp_c</th>\n",
       "      <th>station_precip_mm</th>\n",
       "    </tr>\n",
       "  </thead>\n",
       "  <tbody>\n",
       "    <tr>\n",
       "      <th>0</th>\n",
       "      <td>sj</td>\n",
       "      <td>1990</td>\n",
       "      <td>18</td>\n",
       "      <td>1990-04-30</td>\n",
       "      <td>0.122600</td>\n",
       "      <td>0.103725</td>\n",
       "      <td>0.198483</td>\n",
       "      <td>0.177617</td>\n",
       "      <td>12.42</td>\n",
       "      <td>297.572857</td>\n",
       "      <td>...</td>\n",
       "      <td>32.00</td>\n",
       "      <td>73.365714</td>\n",
       "      <td>12.42</td>\n",
       "      <td>14.012857</td>\n",
       "      <td>2.628571</td>\n",
       "      <td>25.442857</td>\n",
       "      <td>6.900000</td>\n",
       "      <td>29.4</td>\n",
       "      <td>20.0</td>\n",
       "      <td>16.0</td>\n",
       "    </tr>\n",
       "    <tr>\n",
       "      <th>1</th>\n",
       "      <td>sj</td>\n",
       "      <td>1990</td>\n",
       "      <td>19</td>\n",
       "      <td>1990-05-07</td>\n",
       "      <td>0.169900</td>\n",
       "      <td>0.142175</td>\n",
       "      <td>0.162357</td>\n",
       "      <td>0.155486</td>\n",
       "      <td>22.82</td>\n",
       "      <td>298.211429</td>\n",
       "      <td>...</td>\n",
       "      <td>17.94</td>\n",
       "      <td>77.368571</td>\n",
       "      <td>22.82</td>\n",
       "      <td>15.372857</td>\n",
       "      <td>2.371429</td>\n",
       "      <td>26.714286</td>\n",
       "      <td>6.371429</td>\n",
       "      <td>31.7</td>\n",
       "      <td>22.2</td>\n",
       "      <td>8.6</td>\n",
       "    </tr>\n",
       "    <tr>\n",
       "      <th>2</th>\n",
       "      <td>sj</td>\n",
       "      <td>1990</td>\n",
       "      <td>20</td>\n",
       "      <td>1990-05-14</td>\n",
       "      <td>0.032250</td>\n",
       "      <td>0.172967</td>\n",
       "      <td>0.157200</td>\n",
       "      <td>0.170843</td>\n",
       "      <td>34.54</td>\n",
       "      <td>298.781429</td>\n",
       "      <td>...</td>\n",
       "      <td>26.10</td>\n",
       "      <td>82.052857</td>\n",
       "      <td>34.54</td>\n",
       "      <td>16.848571</td>\n",
       "      <td>2.300000</td>\n",
       "      <td>26.714286</td>\n",
       "      <td>6.485714</td>\n",
       "      <td>32.2</td>\n",
       "      <td>22.8</td>\n",
       "      <td>41.4</td>\n",
       "    </tr>\n",
       "    <tr>\n",
       "      <th>3</th>\n",
       "      <td>sj</td>\n",
       "      <td>1990</td>\n",
       "      <td>21</td>\n",
       "      <td>1990-05-21</td>\n",
       "      <td>0.128633</td>\n",
       "      <td>0.245067</td>\n",
       "      <td>0.227557</td>\n",
       "      <td>0.235886</td>\n",
       "      <td>15.36</td>\n",
       "      <td>298.987143</td>\n",
       "      <td>...</td>\n",
       "      <td>13.90</td>\n",
       "      <td>80.337143</td>\n",
       "      <td>15.36</td>\n",
       "      <td>16.672857</td>\n",
       "      <td>2.428571</td>\n",
       "      <td>27.471429</td>\n",
       "      <td>6.771429</td>\n",
       "      <td>33.3</td>\n",
       "      <td>23.3</td>\n",
       "      <td>4.0</td>\n",
       "    </tr>\n",
       "    <tr>\n",
       "      <th>4</th>\n",
       "      <td>sj</td>\n",
       "      <td>1990</td>\n",
       "      <td>22</td>\n",
       "      <td>1990-05-28</td>\n",
       "      <td>0.196200</td>\n",
       "      <td>0.262200</td>\n",
       "      <td>0.251200</td>\n",
       "      <td>0.247340</td>\n",
       "      <td>7.52</td>\n",
       "      <td>299.518571</td>\n",
       "      <td>...</td>\n",
       "      <td>12.20</td>\n",
       "      <td>80.460000</td>\n",
       "      <td>7.52</td>\n",
       "      <td>17.210000</td>\n",
       "      <td>3.014286</td>\n",
       "      <td>28.942857</td>\n",
       "      <td>9.371429</td>\n",
       "      <td>35.0</td>\n",
       "      <td>23.9</td>\n",
       "      <td>5.8</td>\n",
       "    </tr>\n",
       "  </tbody>\n",
       "</table>\n",
       "<p>5 rows × 24 columns</p>\n",
       "</div>"
      ],
      "text/plain": [
       "  city  year  weekofyear week_start_date   ndvi_ne   ndvi_nw   ndvi_se  \\\n",
       "0   sj  1990          18      1990-04-30  0.122600  0.103725  0.198483   \n",
       "1   sj  1990          19      1990-05-07  0.169900  0.142175  0.162357   \n",
       "2   sj  1990          20      1990-05-14  0.032250  0.172967  0.157200   \n",
       "3   sj  1990          21      1990-05-21  0.128633  0.245067  0.227557   \n",
       "4   sj  1990          22      1990-05-28  0.196200  0.262200  0.251200   \n",
       "\n",
       "    ndvi_sw  precipitation_amt_mm  reanalysis_air_temp_k        ...          \\\n",
       "0  0.177617                 12.42             297.572857        ...           \n",
       "1  0.155486                 22.82             298.211429        ...           \n",
       "2  0.170843                 34.54             298.781429        ...           \n",
       "3  0.235886                 15.36             298.987143        ...           \n",
       "4  0.247340                  7.52             299.518571        ...           \n",
       "\n",
       "   reanalysis_precip_amt_kg_per_m2  reanalysis_relative_humidity_percent  \\\n",
       "0                            32.00                             73.365714   \n",
       "1                            17.94                             77.368571   \n",
       "2                            26.10                             82.052857   \n",
       "3                            13.90                             80.337143   \n",
       "4                            12.20                             80.460000   \n",
       "\n",
       "   reanalysis_sat_precip_amt_mm  reanalysis_specific_humidity_g_per_kg  \\\n",
       "0                         12.42                              14.012857   \n",
       "1                         22.82                              15.372857   \n",
       "2                         34.54                              16.848571   \n",
       "3                         15.36                              16.672857   \n",
       "4                          7.52                              17.210000   \n",
       "\n",
       "   reanalysis_tdtr_k  station_avg_temp_c  station_diur_temp_rng_c  \\\n",
       "0           2.628571           25.442857                 6.900000   \n",
       "1           2.371429           26.714286                 6.371429   \n",
       "2           2.300000           26.714286                 6.485714   \n",
       "3           2.428571           27.471429                 6.771429   \n",
       "4           3.014286           28.942857                 9.371429   \n",
       "\n",
       "   station_max_temp_c  station_min_temp_c  station_precip_mm  \n",
       "0                29.4                20.0               16.0  \n",
       "1                31.7                22.2                8.6  \n",
       "2                32.2                22.8               41.4  \n",
       "3                33.3                23.3                4.0  \n",
       "4                35.0                23.9                5.8  \n",
       "\n",
       "[5 rows x 24 columns]"
      ]
     },
     "execution_count": 4,
     "metadata": {},
     "output_type": "execute_result"
    }
   ],
   "source": [
    "data.head()"
   ]
  },
  {
   "cell_type": "code",
   "execution_count": 5,
   "metadata": {
    "collapsed": false
   },
   "outputs": [
    {
     "data": {
      "text/plain": [
       "Index([u'city', u'year', u'weekofyear', u'week_start_date', u'ndvi_ne',\n",
       "       u'ndvi_nw', u'ndvi_se', u'ndvi_sw', u'precipitation_amt_mm',\n",
       "       u'reanalysis_air_temp_k', u'reanalysis_avg_temp_k',\n",
       "       u'reanalysis_dew_point_temp_k', u'reanalysis_max_air_temp_k',\n",
       "       u'reanalysis_min_air_temp_k', u'reanalysis_precip_amt_kg_per_m2',\n",
       "       u'reanalysis_relative_humidity_percent',\n",
       "       u'reanalysis_sat_precip_amt_mm',\n",
       "       u'reanalysis_specific_humidity_g_per_kg', u'reanalysis_tdtr_k',\n",
       "       u'station_avg_temp_c', u'station_diur_temp_rng_c',\n",
       "       u'station_max_temp_c', u'station_min_temp_c', u'station_precip_mm'],\n",
       "      dtype='object')"
      ]
     },
     "execution_count": 5,
     "metadata": {},
     "output_type": "execute_result"
    }
   ],
   "source": [
    "data.columns"
   ]
  },
  {
   "cell_type": "code",
   "execution_count": 6,
   "metadata": {
    "collapsed": false
   },
   "outputs": [
    {
     "data": {
      "text/plain": [
       "city                                      object\n",
       "year                                       int64\n",
       "weekofyear                                 int64\n",
       "week_start_date                           object\n",
       "ndvi_ne                                  float64\n",
       "ndvi_nw                                  float64\n",
       "ndvi_se                                  float64\n",
       "ndvi_sw                                  float64\n",
       "precipitation_amt_mm                     float64\n",
       "reanalysis_air_temp_k                    float64\n",
       "reanalysis_avg_temp_k                    float64\n",
       "reanalysis_dew_point_temp_k              float64\n",
       "reanalysis_max_air_temp_k                float64\n",
       "reanalysis_min_air_temp_k                float64\n",
       "reanalysis_precip_amt_kg_per_m2          float64\n",
       "reanalysis_relative_humidity_percent     float64\n",
       "reanalysis_sat_precip_amt_mm             float64\n",
       "reanalysis_specific_humidity_g_per_kg    float64\n",
       "reanalysis_tdtr_k                        float64\n",
       "station_avg_temp_c                       float64\n",
       "station_diur_temp_rng_c                  float64\n",
       "station_max_temp_c                       float64\n",
       "station_min_temp_c                       float64\n",
       "station_precip_mm                        float64\n",
       "dtype: object"
      ]
     },
     "execution_count": 6,
     "metadata": {},
     "output_type": "execute_result"
    }
   ],
   "source": [
    "data.dtypes"
   ]
  },
  {
   "cell_type": "code",
   "execution_count": 7,
   "metadata": {
    "collapsed": false
   },
   "outputs": [
    {
     "data": {
      "text/plain": [
       "city                                       0\n",
       "year                                       0\n",
       "weekofyear                                 0\n",
       "week_start_date                            0\n",
       "ndvi_ne                                  237\n",
       "ndvi_nw                                   63\n",
       "ndvi_se                                   23\n",
       "ndvi_sw                                   23\n",
       "precipitation_amt_mm                      15\n",
       "reanalysis_air_temp_k                     12\n",
       "reanalysis_avg_temp_k                     12\n",
       "reanalysis_dew_point_temp_k               12\n",
       "reanalysis_max_air_temp_k                 12\n",
       "reanalysis_min_air_temp_k                 12\n",
       "reanalysis_precip_amt_kg_per_m2           12\n",
       "reanalysis_relative_humidity_percent      12\n",
       "reanalysis_sat_precip_amt_mm              15\n",
       "reanalysis_specific_humidity_g_per_kg     12\n",
       "reanalysis_tdtr_k                         12\n",
       "station_avg_temp_c                        55\n",
       "station_diur_temp_rng_c                   55\n",
       "station_max_temp_c                        23\n",
       "station_min_temp_c                        23\n",
       "station_precip_mm                         27\n",
       "dtype: int64"
      ]
     },
     "execution_count": 7,
     "metadata": {},
     "output_type": "execute_result"
    }
   ],
   "source": [
    "data.isnull().sum()"
   ]
  },
  {
   "cell_type": "code",
   "execution_count": 8,
   "metadata": {
    "collapsed": true
   },
   "outputs": [],
   "source": [
    "city=test['city']\n",
    "year=test['year']\n",
    "week_of_year=test['weekofyear']"
   ]
  },
  {
   "cell_type": "code",
   "execution_count": 9,
   "metadata": {
    "collapsed": false
   },
   "outputs": [
    {
     "data": {
      "text/plain": [
       "sj    1196\n",
       "iq     676\n",
       "Name: city, dtype: int64"
      ]
     },
     "execution_count": 9,
     "metadata": {},
     "output_type": "execute_result"
    }
   ],
   "source": [
    "data['city'].value_counts()"
   ]
  },
  {
   "cell_type": "code",
   "execution_count": 10,
   "metadata": {
    "collapsed": false
   },
   "outputs": [
    {
     "data": {
      "image/png": "[encoded data removed]"
     },
     "metadata": {},
     "output_type": "display_data"
    }
   ],
   "source": [
    "%%R -i data -h 500 -w 800\n",
    "library('ggplot2')\n",
    "ggplot(data, aes(x=city))+\n",
    "geom_bar()"
   ]
  },
  {
   "cell_type": "code",
   "execution_count": 11,
   "metadata": {
    "collapsed": false
   },
   "outputs": [],
   "source": [
    "dummy_city=pd.get_dummies(data['city'])\n",
    "data['city1']=dummy_city['sj']\n",
    "data['city2']=dummy_city['iq']\n",
    "data.drop('city',1,inplace=True)"
   ]
  },
  {
   "cell_type": "code",
   "execution_count": 12,
   "metadata": {
    "collapsed": false
   },
   "outputs": [
    {
     "data": {
      "text/plain": [
       "0    18\n",
       "1    19\n",
       "2    20\n",
       "3    21\n",
       "4    22\n",
       "Name: weekofyear, dtype: int64"
      ]
     },
     "execution_count": 12,
     "metadata": {},
     "output_type": "execute_result"
    }
   ],
   "source": [
    "data['weekofyear'].head(5)"
   ]
  },
  {
   "cell_type": "code",
   "execution_count": 13,
   "metadata": {
    "collapsed": true
   },
   "outputs": [],
   "source": [
    "data.drop('week_start_date',1,inplace=True)"
   ]
  },
  {
   "cell_type": "code",
   "execution_count": 14,
   "metadata": {
    "collapsed": false
   },
   "outputs": [],
   "source": [
    "store=pd.HDFStore('store.h5')\n",
    "store['df']=data"
   ]
  },
  {
   "cell_type": "code",
   "execution_count": 15,
   "metadata": {
    "collapsed": false
   },
   "outputs": [],
   "source": [
    "def remove_missing_values(column, model, na_columns):\n",
    "    columns=[col for col in na_columns if col!=column]\n",
    "    df=store['df']\n",
    "    for col in columns:\n",
    "        if df.dtypes[col] == 'float64':\n",
    "            df[col].fillna(df[col].mean(),inplace=True)\n",
    "        else:\n",
    "            df[col].fillna(df[col].median(),inplace=True)\n",
    "    \n",
    "    na_indexes=df[column].isnull()\n",
    "    train,test=df[~na_indexes],df[na_indexes]\n",
    "    x_train,y_train=train.drop(column,1), train[column]\n",
    "    x_test,y_test=test.drop(column,1), test[column]\n",
    "    \n",
    "    if model=='r':\n",
    "        rforest=RandomForestRegressor(n_estimators=100)\n",
    "        rforest.fit(x_train,y_train)\n",
    "        y_test=rforest.predict(x_test)\n",
    "    if model=='c':\n",
    "        rforest=RandomForestClassifier(n_estimators=100)\n",
    "        rforest.fit(x_train,y_train)\n",
    "        y_test=rforest.predict(x_test)\n",
    "        \n",
    "    return pd.Series(y_test)"
   ]
  },
  {
   "cell_type": "code",
   "execution_count": 16,
   "metadata": {
    "collapsed": false,
    "scrolled": false
   },
   "outputs": [
    {
     "name": "stderr",
     "output_type": "stream",
     "text": [
      "/Users/adityavyas/anaconda/lib/python2.7/site-packages/ipykernel/__main__.py:7: SettingWithCopyWarning: \n",
      "A value is trying to be set on a copy of a slice from a DataFrame\n",
      "\n",
      "See the caveats in the documentation: http://pandas.pydata.org/pandas-docs/stable/indexing.html#indexing-view-versus-copy\n"
     ]
    },
    {
     "name": "stdout",
     "output_type": "stream",
     "text": [
      "ndvi_ne Done\n",
      "ndvi_nw Done\n",
      "ndvi_se Done\n",
      "ndvi_sw Done\n",
      "precipitation_amt_mm Done\n",
      "reanalysis_air_temp_k Done\n",
      "reanalysis_avg_temp_k Done\n",
      "reanalysis_dew_point_temp_k Done\n",
      "reanalysis_max_air_temp_k Done\n",
      "reanalysis_min_air_temp_k Done\n",
      "reanalysis_precip_amt_kg_per_m2 Done\n",
      "reanalysis_relative_humidity_percent Done\n",
      "reanalysis_sat_precip_amt_mm Done\n",
      "reanalysis_specific_humidity_g_per_kg Done\n",
      "reanalysis_tdtr_k Done\n",
      "station_avg_temp_c Done\n",
      "station_diur_temp_rng_c Done\n",
      "station_max_temp_c Done\n",
      "station_min_temp_c Done\n",
      "station_precip_mm Done\n"
     ]
    }
   ],
   "source": [
    "na_columns=[col for col in data.columns if dict(data.isnull().sum())[col]!=0]\n",
    "\n",
    "\n",
    "for col in na_columns:\n",
    "    if data.dtypes[col] != 'object':\n",
    "        values=remove_missing_values(col,'r',na_columns)\n",
    "        data[col][pd.isnull(data[col])]=values\n",
    "        print col+' '+'Done'\n",
    "    else:\n",
    "        values=remove_missing_values(col,'c')"
   ]
  },
  {
   "cell_type": "code",
   "execution_count": 17,
   "metadata": {
    "collapsed": false
   },
   "outputs": [
    {
     "data": {
      "text/plain": [
       "year                                     0\n",
       "weekofyear                               0\n",
       "ndvi_ne                                  0\n",
       "ndvi_nw                                  0\n",
       "ndvi_se                                  0\n",
       "ndvi_sw                                  0\n",
       "precipitation_amt_mm                     0\n",
       "reanalysis_air_temp_k                    0\n",
       "reanalysis_avg_temp_k                    0\n",
       "reanalysis_dew_point_temp_k              0\n",
       "reanalysis_max_air_temp_k                0\n",
       "reanalysis_min_air_temp_k                0\n",
       "reanalysis_precip_amt_kg_per_m2          0\n",
       "reanalysis_relative_humidity_percent     0\n",
       "reanalysis_sat_precip_amt_mm             0\n",
       "reanalysis_specific_humidity_g_per_kg    0\n",
       "reanalysis_tdtr_k                        0\n",
       "station_avg_temp_c                       0\n",
       "station_diur_temp_rng_c                  0\n",
       "station_max_temp_c                       0\n",
       "station_min_temp_c                       0\n",
       "station_precip_mm                        0\n",
       "city1                                    0\n",
       "city2                                    0\n",
       "dtype: int64"
      ]
     },
     "execution_count": 17,
     "metadata": {},
     "output_type": "execute_result"
    }
   ],
   "source": [
    "#We have successfully imputed the values using random forests\n",
    "\n",
    "data.isnull().sum()"
   ]
  },
  {
   "cell_type": "code",
   "execution_count": 18,
   "metadata": {
    "collapsed": false
   },
   "outputs": [
    {
     "name": "stderr",
     "output_type": "stream",
     "text": [
      "/Users/adityavyas/anaconda/lib/python2.7/site-packages/ipykernel/__main__.py:6: SettingWithCopyWarning: \n",
      "A value is trying to be set on a copy of a slice from a DataFrame.\n",
      "Try using .loc[row_indexer,col_indexer] = value instead\n",
      "\n",
      "See the caveats in the documentation: http://pandas.pydata.org/pandas-docs/stable/indexing.html#indexing-view-versus-copy\n"
     ]
    }
   ],
   "source": [
    "#Since all the features are numerical we will run a basic random forest to calculate the feature importances\n",
    "\n",
    "train_df=data[0:1456]\n",
    "test_df=data[1456:]\n",
    "\n",
    "train_df['labels']=train_labels['total_cases']"
   ]
  },
  {
   "cell_type": "code",
   "execution_count": 19,
   "metadata": {
    "collapsed": false
   },
   "outputs": [
    {
     "data": {
      "text/plain": [
       "RandomForestRegressor(bootstrap=True, criterion='mse', max_depth=None,\n",
       "           max_features='auto', max_leaf_nodes=None,\n",
       "           min_impurity_split=1e-07, min_samples_leaf=1,\n",
       "           min_samples_split=2, min_weight_fraction_leaf=0.0,\n",
       "           n_estimators=100, n_jobs=1, oob_score=False, random_state=None,\n",
       "           verbose=0, warm_start=False)"
      ]
     },
     "execution_count": 19,
     "metadata": {},
     "output_type": "execute_result"
    }
   ],
   "source": [
    "basic_rf=RandomForestRegressor(n_estimators=100)\n",
    "basic_rf.fit(train_df.drop('labels',1),train_df['labels'])"
   ]
  },
  {
   "cell_type": "code",
   "execution_count": 20,
   "metadata": {
    "collapsed": false
   },
   "outputs": [
    {
     "data": {
      "text/plain": [
       "<matplotlib.text.Text at 0x11b238b10>"
      ]
     },
     "execution_count": 20,
     "metadata": {},
     "output_type": "execute_result"
    },
    {
     "data": {
      "image/png": "[encoded data removed]",
      "text/plain": [
       "<matplotlib.figure.Figure at 0x11b1974d0>"
      ]
     },
     "metadata": {},
     "output_type": "display_data"
    }
   ],
   "source": [
    "importances=basic_rf.feature_importances_\n",
    "indices=np.argsort(importances)[::-1]\n",
    "features=train_df.drop('labels',1).columns\n",
    "plt.figure(figsize = (15,9))\n",
    "ax=sns.barplot(x=importances[indices],y=range(len(indices)))\n",
    "ax = plt.xticks(range(len(indices)),features[indices],rotation=90)\n",
    "plt.ylabel('Feature Importances')\n",
    "plt.xlabel('Features')"
   ]
  },
  {
   "cell_type": "code",
   "execution_count": 21,
   "metadata": {
    "collapsed": false
   },
   "outputs": [
    {
     "data": {
      "text/plain": [
       "2001    104\n",
       "2003    104\n",
       "2002    104\n",
       "2007    104\n",
       "2006    104\n",
       "2005    104\n",
       "2004    104\n",
       "2000     78\n",
       "2008     69\n",
       "1991     52\n",
       "2009     52\n",
       "1999     52\n",
       "1998     52\n",
       "1997     52\n",
       "1996     52\n",
       "1995     52\n",
       "1994     52\n",
       "1993     52\n",
       "1992     52\n",
       "1990     35\n",
       "2010     26\n",
       "Name: year, dtype: int64"
      ]
     },
     "execution_count": 21,
     "metadata": {},
     "output_type": "execute_result"
    }
   ],
   "source": [
    "#Now we know the basic feature importances. Let us visualize the datasets and the relation between the labels\n",
    "\n",
    "train_df['year'].value_counts()"
   ]
  },
  {
   "cell_type": "code",
   "execution_count": 22,
   "metadata": {
    "collapsed": false
   },
   "outputs": [
    {
     "name": "stderr",
     "output_type": "stream",
     "text": [
      "/Users/adityavyas/anaconda/lib/python2.7/site-packages/rpy2/robjects/pandas2ri.py:57: UserWarning: Error while trying to convert the column \"city1\". Fall back to string conversion. The error is: Cannot convert numpy array of unsigned values -- R does not have unsigned integers.\n",
      "  (name, str(e)))\n",
      "/Users/adityavyas/anaconda/lib/python2.7/site-packages/rpy2/robjects/pandas2ri.py:57: UserWarning: Error while trying to convert the column \"city2\". Fall back to string conversion. The error is: Cannot convert numpy array of unsigned values -- R does not have unsigned integers.\n",
      "  (name, str(e)))\n"
     ]
    },
    {
     "data": {
      "image/png": "[encoded data removed]"
     },
     "metadata": {},
     "output_type": "display_data"
    }
   ],
   "source": [
    "%%R -i train_df -h 900 -w 900\n",
    "ggplot(train_df, aes(x=factor(year)))+\n",
    "geom_bar()+\n",
    "coord_flip()"
   ]
  },
  {
   "cell_type": "code",
   "execution_count": 23,
   "metadata": {
    "collapsed": false
   },
   "outputs": [
    {
     "name": "stderr",
     "output_type": "stream",
     "text": [
      "/Users/adityavyas/anaconda/lib/python2.7/site-packages/rpy2/rinterface/__init__.py:186: RRuntimeWarning: `stat_bin()` using `bins = 30`. Pick better value with `binwidth`.\n",
      "\n",
      "  warnings.warn(x, RRuntimeWarning)\n"
     ]
    },
    {
     "data": {
      "image/png": "[encoded data removed]"
     },
     "metadata": {},
     "output_type": "display_data"
    }
   ],
   "source": [
    "%%R -i train_df -h 900 -w 900\n",
    "ggplot(train_df, aes(x=(ndvi_ne)))+\n",
    "geom_histogram()"
   ]
  },
  {
   "cell_type": "code",
   "execution_count": 24,
   "metadata": {
    "collapsed": false,
    "scrolled": true
   },
   "outputs": [
    {
     "name": "stderr",
     "output_type": "stream",
     "text": [
      "/Users/adityavyas/anaconda/lib/python2.7/site-packages/ipykernel/__main__.py:8: SettingWithCopyWarning: \n",
      "A value is trying to be set on a copy of a slice from a DataFrame\n",
      "\n",
      "See the caveats in the documentation: http://pandas.pydata.org/pandas-docs/stable/indexing.html#indexing-view-versus-copy\n",
      "/Users/adityavyas/anaconda/lib/python2.7/site-packages/pandas/core/generic.py:4702: SettingWithCopyWarning: \n",
      "A value is trying to be set on a copy of a slice from a DataFrame\n",
      "\n",
      "See the caveats in the documentation: http://pandas.pydata.org/pandas-docs/stable/indexing.html#indexing-view-versus-copy\n",
      "  self._update_inplace(new_data)\n",
      "/Users/adityavyas/anaconda/lib/python2.7/site-packages/ipykernel/__main__.py:11: SettingWithCopyWarning: \n",
      "A value is trying to be set on a copy of a slice from a DataFrame\n",
      "\n",
      "See the caveats in the documentation: http://pandas.pydata.org/pandas-docs/stable/indexing.html#indexing-view-versus-copy\n"
     ]
    }
   ],
   "source": [
    "def remove_outliers(df):\n",
    "    columns=[col for col in df.select_dtypes(['float64']).columns if col !='labels']\n",
    "    for cols in columns:\n",
    "        Q1, Q3 = df[col].quantile(0.25), df[col].quantile(0.75)\n",
    "        IQR=np.abs(Q1-Q3)\n",
    "        lb=Q1-1.5*IQR\n",
    "        ub=Q3+1.5*IQR\n",
    "        df[col][(df[col]<=lb) & (df[col]>=ub)]=df[col].mean()  \n",
    "    return df\n",
    "\n",
    "train_df=remove_outliers(train_df)"
   ]
  },
  {
   "cell_type": "code",
   "execution_count": 25,
   "metadata": {
    "collapsed": false
   },
   "outputs": [
    {
     "data": {
      "text/html": [
       "<div>\n",
       "<table border=\"1\" class=\"dataframe\">\n",
       "  <thead>\n",
       "    <tr style=\"text-align: right;\">\n",
       "      <th></th>\n",
       "      <th>year</th>\n",
       "      <th>weekofyear</th>\n",
       "      <th>ndvi_ne</th>\n",
       "      <th>ndvi_nw</th>\n",
       "      <th>ndvi_se</th>\n",
       "      <th>ndvi_sw</th>\n",
       "      <th>precipitation_amt_mm</th>\n",
       "      <th>reanalysis_air_temp_k</th>\n",
       "      <th>reanalysis_avg_temp_k</th>\n",
       "      <th>reanalysis_dew_point_temp_k</th>\n",
       "      <th>...</th>\n",
       "      <th>reanalysis_specific_humidity_g_per_kg</th>\n",
       "      <th>reanalysis_tdtr_k</th>\n",
       "      <th>station_avg_temp_c</th>\n",
       "      <th>station_diur_temp_rng_c</th>\n",
       "      <th>station_max_temp_c</th>\n",
       "      <th>station_min_temp_c</th>\n",
       "      <th>station_precip_mm</th>\n",
       "      <th>city1</th>\n",
       "      <th>city2</th>\n",
       "      <th>labels</th>\n",
       "    </tr>\n",
       "  </thead>\n",
       "  <tbody>\n",
       "    <tr>\n",
       "      <th>count</th>\n",
       "      <td>1456.000000</td>\n",
       "      <td>1456.000000</td>\n",
       "      <td>1456.000000</td>\n",
       "      <td>1456.000000</td>\n",
       "      <td>1456.000000</td>\n",
       "      <td>1456.000000</td>\n",
       "      <td>1456.000000</td>\n",
       "      <td>1456.000000</td>\n",
       "      <td>1456.000000</td>\n",
       "      <td>1456.000000</td>\n",
       "      <td>...</td>\n",
       "      <td>1456.000000</td>\n",
       "      <td>1456.000000</td>\n",
       "      <td>1456.000000</td>\n",
       "      <td>1456.000000</td>\n",
       "      <td>1456.000000</td>\n",
       "      <td>1456.000000</td>\n",
       "      <td>1456.000000</td>\n",
       "      <td>1456.000000</td>\n",
       "      <td>1456.000000</td>\n",
       "      <td>1456.000000</td>\n",
       "    </tr>\n",
       "    <tr>\n",
       "      <th>mean</th>\n",
       "      <td>2001.031593</td>\n",
       "      <td>26.503434</td>\n",
       "      <td>0.132020</td>\n",
       "      <td>0.129014</td>\n",
       "      <td>0.203677</td>\n",
       "      <td>0.202020</td>\n",
       "      <td>45.745355</td>\n",
       "      <td>298.700652</td>\n",
       "      <td>299.227094</td>\n",
       "      <td>295.246824</td>\n",
       "      <td>...</td>\n",
       "      <td>16.746487</td>\n",
       "      <td>4.909054</td>\n",
       "      <td>27.180177</td>\n",
       "      <td>8.104706</td>\n",
       "      <td>32.459389</td>\n",
       "      <td>22.100370</td>\n",
       "      <td>39.489776</td>\n",
       "      <td>0.642857</td>\n",
       "      <td>0.357143</td>\n",
       "      <td>24.675137</td>\n",
       "    </tr>\n",
       "    <tr>\n",
       "      <th>std</th>\n",
       "      <td>5.408314</td>\n",
       "      <td>15.019437</td>\n",
       "      <td>0.136478</td>\n",
       "      <td>0.118463</td>\n",
       "      <td>0.073313</td>\n",
       "      <td>0.083303</td>\n",
       "      <td>43.520094</td>\n",
       "      <td>1.357817</td>\n",
       "      <td>1.257506</td>\n",
       "      <td>1.522561</td>\n",
       "      <td>...</td>\n",
       "      <td>1.537185</td>\n",
       "      <td>3.547076</td>\n",
       "      <td>1.277246</td>\n",
       "      <td>2.125051</td>\n",
       "      <td>1.947294</td>\n",
       "      <td>1.566715</td>\n",
       "      <td>47.314072</td>\n",
       "      <td>0.479322</td>\n",
       "      <td>0.479322</td>\n",
       "      <td>43.596000</td>\n",
       "    </tr>\n",
       "    <tr>\n",
       "      <th>min</th>\n",
       "      <td>1990.000000</td>\n",
       "      <td>1.000000</td>\n",
       "      <td>-0.406250</td>\n",
       "      <td>-0.456100</td>\n",
       "      <td>-0.015533</td>\n",
       "      <td>-0.063457</td>\n",
       "      <td>0.000000</td>\n",
       "      <td>294.635714</td>\n",
       "      <td>294.892857</td>\n",
       "      <td>289.642857</td>\n",
       "      <td>...</td>\n",
       "      <td>11.715714</td>\n",
       "      <td>1.357143</td>\n",
       "      <td>21.400000</td>\n",
       "      <td>4.528571</td>\n",
       "      <td>26.700000</td>\n",
       "      <td>14.700000</td>\n",
       "      <td>0.000000</td>\n",
       "      <td>0.000000</td>\n",
       "      <td>0.000000</td>\n",
       "      <td>0.000000</td>\n",
       "    </tr>\n",
       "    <tr>\n",
       "      <th>25%</th>\n",
       "      <td>1997.000000</td>\n",
       "      <td>13.750000</td>\n",
       "      <td>0.040212</td>\n",
       "      <td>0.049375</td>\n",
       "      <td>0.155625</td>\n",
       "      <td>0.144718</td>\n",
       "      <td>9.960000</td>\n",
       "      <td>297.665000</td>\n",
       "      <td>298.264286</td>\n",
       "      <td>294.130357</td>\n",
       "      <td>...</td>\n",
       "      <td>15.561429</td>\n",
       "      <td>2.328571</td>\n",
       "      <td>26.326162</td>\n",
       "      <td>6.528571</td>\n",
       "      <td>31.100000</td>\n",
       "      <td>21.100000</td>\n",
       "      <td>8.700000</td>\n",
       "      <td>0.000000</td>\n",
       "      <td>0.000000</td>\n",
       "      <td>5.000000</td>\n",
       "    </tr>\n",
       "    <tr>\n",
       "      <th>50%</th>\n",
       "      <td>2002.000000</td>\n",
       "      <td>26.500000</td>\n",
       "      <td>0.112475</td>\n",
       "      <td>0.118379</td>\n",
       "      <td>0.195907</td>\n",
       "      <td>0.188018</td>\n",
       "      <td>38.710000</td>\n",
       "      <td>298.627857</td>\n",
       "      <td>299.307143</td>\n",
       "      <td>295.625714</td>\n",
       "      <td>...</td>\n",
       "      <td>17.065000</td>\n",
       "      <td>2.857143</td>\n",
       "      <td>27.400000</td>\n",
       "      <td>7.371429</td>\n",
       "      <td>32.800000</td>\n",
       "      <td>22.200000</td>\n",
       "      <td>24.150000</td>\n",
       "      <td>1.000000</td>\n",
       "      <td>0.000000</td>\n",
       "      <td>12.000000</td>\n",
       "    </tr>\n",
       "    <tr>\n",
       "      <th>75%</th>\n",
       "      <td>2005.000000</td>\n",
       "      <td>39.250000</td>\n",
       "      <td>0.231908</td>\n",
       "      <td>0.212325</td>\n",
       "      <td>0.247021</td>\n",
       "      <td>0.246082</td>\n",
       "      <td>70.047500</td>\n",
       "      <td>299.827500</td>\n",
       "      <td>300.207143</td>\n",
       "      <td>296.456071</td>\n",
       "      <td>...</td>\n",
       "      <td>17.974643</td>\n",
       "      <td>7.646429</td>\n",
       "      <td>28.128571</td>\n",
       "      <td>9.650000</td>\n",
       "      <td>33.900000</td>\n",
       "      <td>23.300000</td>\n",
       "      <td>53.900000</td>\n",
       "      <td>1.000000</td>\n",
       "      <td>1.000000</td>\n",
       "      <td>28.000000</td>\n",
       "    </tr>\n",
       "    <tr>\n",
       "      <th>max</th>\n",
       "      <td>2010.000000</td>\n",
       "      <td>53.000000</td>\n",
       "      <td>0.508357</td>\n",
       "      <td>0.454429</td>\n",
       "      <td>0.538314</td>\n",
       "      <td>0.546017</td>\n",
       "      <td>390.600000</td>\n",
       "      <td>302.200000</td>\n",
       "      <td>302.928571</td>\n",
       "      <td>298.450000</td>\n",
       "      <td>...</td>\n",
       "      <td>20.461429</td>\n",
       "      <td>16.028571</td>\n",
       "      <td>30.800000</td>\n",
       "      <td>15.800000</td>\n",
       "      <td>42.200000</td>\n",
       "      <td>25.600000</td>\n",
       "      <td>543.300000</td>\n",
       "      <td>1.000000</td>\n",
       "      <td>1.000000</td>\n",
       "      <td>461.000000</td>\n",
       "    </tr>\n",
       "  </tbody>\n",
       "</table>\n",
       "<p>8 rows × 25 columns</p>\n",
       "</div>"
      ],
      "text/plain": [
       "              year   weekofyear      ndvi_ne      ndvi_nw      ndvi_se  \\\n",
       "count  1456.000000  1456.000000  1456.000000  1456.000000  1456.000000   \n",
       "mean   2001.031593    26.503434     0.132020     0.129014     0.203677   \n",
       "std       5.408314    15.019437     0.136478     0.118463     0.073313   \n",
       "min    1990.000000     1.000000    -0.406250    -0.456100    -0.015533   \n",
       "25%    1997.000000    13.750000     0.040212     0.049375     0.155625   \n",
       "50%    2002.000000    26.500000     0.112475     0.118379     0.195907   \n",
       "75%    2005.000000    39.250000     0.231908     0.212325     0.247021   \n",
       "max    2010.000000    53.000000     0.508357     0.454429     0.538314   \n",
       "\n",
       "           ndvi_sw  precipitation_amt_mm  reanalysis_air_temp_k  \\\n",
       "count  1456.000000           1456.000000            1456.000000   \n",
       "mean      0.202020             45.745355             298.700652   \n",
       "std       0.083303             43.520094               1.357817   \n",
       "min      -0.063457              0.000000             294.635714   \n",
       "25%       0.144718              9.960000             297.665000   \n",
       "50%       0.188018             38.710000             298.627857   \n",
       "75%       0.246082             70.047500             299.827500   \n",
       "max       0.546017            390.600000             302.200000   \n",
       "\n",
       "       reanalysis_avg_temp_k  reanalysis_dew_point_temp_k     ...       \\\n",
       "count            1456.000000                  1456.000000     ...        \n",
       "mean              299.227094                   295.246824     ...        \n",
       "std                 1.257506                     1.522561     ...        \n",
       "min               294.892857                   289.642857     ...        \n",
       "25%               298.264286                   294.130357     ...        \n",
       "50%               299.307143                   295.625714     ...        \n",
       "75%               300.207143                   296.456071     ...        \n",
       "max               302.928571                   298.450000     ...        \n",
       "\n",
       "       reanalysis_specific_humidity_g_per_kg  reanalysis_tdtr_k  \\\n",
       "count                            1456.000000        1456.000000   \n",
       "mean                               16.746487           4.909054   \n",
       "std                                 1.537185           3.547076   \n",
       "min                                11.715714           1.357143   \n",
       "25%                                15.561429           2.328571   \n",
       "50%                                17.065000           2.857143   \n",
       "75%                                17.974643           7.646429   \n",
       "max                                20.461429          16.028571   \n",
       "\n",
       "       station_avg_temp_c  station_diur_temp_rng_c  station_max_temp_c  \\\n",
       "count         1456.000000              1456.000000         1456.000000   \n",
       "mean            27.180177                 8.104706           32.459389   \n",
       "std              1.277246                 2.125051            1.947294   \n",
       "min             21.400000                 4.528571           26.700000   \n",
       "25%             26.326162                 6.528571           31.100000   \n",
       "50%             27.400000                 7.371429           32.800000   \n",
       "75%             28.128571                 9.650000           33.900000   \n",
       "max             30.800000                15.800000           42.200000   \n",
       "\n",
       "       station_min_temp_c  station_precip_mm        city1        city2  \\\n",
       "count         1456.000000        1456.000000  1456.000000  1456.000000   \n",
       "mean            22.100370          39.489776     0.642857     0.357143   \n",
       "std              1.566715          47.314072     0.479322     0.479322   \n",
       "min             14.700000           0.000000     0.000000     0.000000   \n",
       "25%             21.100000           8.700000     0.000000     0.000000   \n",
       "50%             22.200000          24.150000     1.000000     0.000000   \n",
       "75%             23.300000          53.900000     1.000000     1.000000   \n",
       "max             25.600000         543.300000     1.000000     1.000000   \n",
       "\n",
       "            labels  \n",
       "count  1456.000000  \n",
       "mean     24.675137  \n",
       "std      43.596000  \n",
       "min       0.000000  \n",
       "25%       5.000000  \n",
       "50%      12.000000  \n",
       "75%      28.000000  \n",
       "max     461.000000  \n",
       "\n",
       "[8 rows x 25 columns]"
      ]
     },
     "execution_count": 25,
     "metadata": {},
     "output_type": "execute_result"
    }
   ],
   "source": [
    "#Now let us see how the data varies\n",
    "\n",
    "train_df.describe()"
   ]
  },
  {
   "cell_type": "code",
   "execution_count": 26,
   "metadata": {
    "collapsed": true
   },
   "outputs": [],
   "source": [
    "scaler=StandardScaler(with_mean=True,with_std=True)\n",
    "labels=train_df['labels']\n",
    "train_scaled_features=scaler.fit_transform(train_df.drop('labels',1))\n",
    "test_scaled_features=scaler.fit_transform(test_df)\n",
    "\n",
    "scaled_train=pd.DataFrame(train_scaled_features,index=train_df.index, columns=train_df.drop('labels',1).columns)\n",
    "scaled_test=pd.DataFrame(test_scaled_features,index=test_df.index, columns=test_df.columns)\n",
    "\n",
    "scaled_train['labels']=labels"
   ]
  },
  {
   "cell_type": "code",
   "execution_count": 27,
   "metadata": {
    "collapsed": false
   },
   "outputs": [
    {
     "data": {
      "text/html": [
       "<div>\n",
       "<table border=\"1\" class=\"dataframe\">\n",
       "  <thead>\n",
       "    <tr style=\"text-align: right;\">\n",
       "      <th></th>\n",
       "      <th>year</th>\n",
       "      <th>weekofyear</th>\n",
       "      <th>ndvi_ne</th>\n",
       "      <th>ndvi_nw</th>\n",
       "      <th>ndvi_se</th>\n",
       "      <th>ndvi_sw</th>\n",
       "      <th>precipitation_amt_mm</th>\n",
       "      <th>reanalysis_air_temp_k</th>\n",
       "      <th>reanalysis_avg_temp_k</th>\n",
       "      <th>reanalysis_dew_point_temp_k</th>\n",
       "      <th>...</th>\n",
       "      <th>reanalysis_specific_humidity_g_per_kg</th>\n",
       "      <th>reanalysis_tdtr_k</th>\n",
       "      <th>station_avg_temp_c</th>\n",
       "      <th>station_diur_temp_rng_c</th>\n",
       "      <th>station_max_temp_c</th>\n",
       "      <th>station_min_temp_c</th>\n",
       "      <th>station_precip_mm</th>\n",
       "      <th>city1</th>\n",
       "      <th>city2</th>\n",
       "      <th>labels</th>\n",
       "    </tr>\n",
       "  </thead>\n",
       "  <tbody>\n",
       "    <tr>\n",
       "      <th>count</th>\n",
       "      <td>1.456000e+03</td>\n",
       "      <td>1.456000e+03</td>\n",
       "      <td>1.456000e+03</td>\n",
       "      <td>1.456000e+03</td>\n",
       "      <td>1.456000e+03</td>\n",
       "      <td>1.456000e+03</td>\n",
       "      <td>1.456000e+03</td>\n",
       "      <td>1.456000e+03</td>\n",
       "      <td>1.456000e+03</td>\n",
       "      <td>1.456000e+03</td>\n",
       "      <td>...</td>\n",
       "      <td>1.456000e+03</td>\n",
       "      <td>1.456000e+03</td>\n",
       "      <td>1.456000e+03</td>\n",
       "      <td>1.456000e+03</td>\n",
       "      <td>1.456000e+03</td>\n",
       "      <td>1.456000e+03</td>\n",
       "      <td>1.456000e+03</td>\n",
       "      <td>1.456000e+03</td>\n",
       "      <td>1.456000e+03</td>\n",
       "      <td>1456.000000</td>\n",
       "    </tr>\n",
       "    <tr>\n",
       "      <th>mean</th>\n",
       "      <td>-4.980753e-16</td>\n",
       "      <td>-1.544095e-18</td>\n",
       "      <td>-5.999474e-16</td>\n",
       "      <td>-8.997687e-17</td>\n",
       "      <td>1.056084e-16</td>\n",
       "      <td>3.133940e-16</td>\n",
       "      <td>-7.150492e-16</td>\n",
       "      <td>-1.347686e-14</td>\n",
       "      <td>2.677879e-15</td>\n",
       "      <td>6.154380e-15</td>\n",
       "      <td>...</td>\n",
       "      <td>-1.435665e-15</td>\n",
       "      <td>-1.220025e-17</td>\n",
       "      <td>9.899552e-16</td>\n",
       "      <td>-3.196466e-16</td>\n",
       "      <td>-1.958141e-15</td>\n",
       "      <td>-5.845256e-16</td>\n",
       "      <td>-2.156776e-16</td>\n",
       "      <td>1.071335e-14</td>\n",
       "      <td>-1.071335e-14</td>\n",
       "      <td>24.675137</td>\n",
       "    </tr>\n",
       "    <tr>\n",
       "      <th>std</th>\n",
       "      <td>1.000344e+00</td>\n",
       "      <td>1.000344e+00</td>\n",
       "      <td>1.000344e+00</td>\n",
       "      <td>1.000344e+00</td>\n",
       "      <td>1.000344e+00</td>\n",
       "      <td>1.000344e+00</td>\n",
       "      <td>1.000344e+00</td>\n",
       "      <td>1.000344e+00</td>\n",
       "      <td>1.000344e+00</td>\n",
       "      <td>1.000344e+00</td>\n",
       "      <td>...</td>\n",
       "      <td>1.000344e+00</td>\n",
       "      <td>1.000344e+00</td>\n",
       "      <td>1.000344e+00</td>\n",
       "      <td>1.000344e+00</td>\n",
       "      <td>1.000344e+00</td>\n",
       "      <td>1.000344e+00</td>\n",
       "      <td>1.000344e+00</td>\n",
       "      <td>1.000344e+00</td>\n",
       "      <td>1.000344e+00</td>\n",
       "      <td>43.596000</td>\n",
       "    </tr>\n",
       "    <tr>\n",
       "      <th>min</th>\n",
       "      <td>-2.040448e+00</td>\n",
       "      <td>-1.698612e+00</td>\n",
       "      <td>-3.945368e+00</td>\n",
       "      <td>-4.940891e+00</td>\n",
       "      <td>-2.991089e+00</td>\n",
       "      <td>-3.187987e+00</td>\n",
       "      <td>-1.051493e+00</td>\n",
       "      <td>-2.994759e+00</td>\n",
       "      <td>-3.447876e+00</td>\n",
       "      <td>-3.681883e+00</td>\n",
       "      <td>...</td>\n",
       "      <td>-3.273843e+00</td>\n",
       "      <td>-1.001707e+00</td>\n",
       "      <td>-4.527055e+00</td>\n",
       "      <td>-1.683425e+00</td>\n",
       "      <td>-2.958653e+00</td>\n",
       "      <td>-4.725118e+00</td>\n",
       "      <td>-8.349174e-01</td>\n",
       "      <td>-1.341641e+00</td>\n",
       "      <td>-7.453560e-01</td>\n",
       "      <td>0.000000</td>\n",
       "    </tr>\n",
       "    <tr>\n",
       "      <th>25%</th>\n",
       "      <td>-7.456998e-01</td>\n",
       "      <td>-8.494204e-01</td>\n",
       "      <td>-6.729255e-01</td>\n",
       "      <td>-6.724957e-01</td>\n",
       "      <td>-6.556588e-01</td>\n",
       "      <td>-6.881099e-01</td>\n",
       "      <td>-8.225545e-01</td>\n",
       "      <td>-7.629952e-01</td>\n",
       "      <td>-7.659119e-01</td>\n",
       "      <td>-7.335340e-01</td>\n",
       "      <td>...</td>\n",
       "      <td>-7.711926e-01</td>\n",
       "      <td>-7.277457e-01</td>\n",
       "      <td>-6.688671e-01</td>\n",
       "      <td>-7.419475e-01</td>\n",
       "      <td>-6.983312e-01</td>\n",
       "      <td>-6.387339e-01</td>\n",
       "      <td>-6.509766e-01</td>\n",
       "      <td>-1.341641e+00</td>\n",
       "      <td>-7.453560e-01</td>\n",
       "      <td>5.000000</td>\n",
       "    </tr>\n",
       "    <tr>\n",
       "      <th>50%</th>\n",
       "      <td>1.791204e-01</td>\n",
       "      <td>-2.287200e-04</td>\n",
       "      <td>-1.432619e-01</td>\n",
       "      <td>-8.980231e-02</td>\n",
       "      <td>-1.060153e-01</td>\n",
       "      <td>-1.681386e-01</td>\n",
       "      <td>-1.617132e-01</td>\n",
       "      <td>-5.363020e-02</td>\n",
       "      <td>6.367874e-02</td>\n",
       "      <td>2.489361e-01</td>\n",
       "      <td>...</td>\n",
       "      <td>2.072766e-01</td>\n",
       "      <td>-5.786784e-01</td>\n",
       "      <td>1.721663e-01</td>\n",
       "      <td>-3.451820e-01</td>\n",
       "      <td>1.749749e-01</td>\n",
       "      <td>6.361339e-02</td>\n",
       "      <td>-3.243231e-01</td>\n",
       "      <td>7.453560e-01</td>\n",
       "      <td>-7.453560e-01</td>\n",
       "      <td>12.000000</td>\n",
       "    </tr>\n",
       "    <tr>\n",
       "      <th>75%</th>\n",
       "      <td>7.340125e-01</td>\n",
       "      <td>8.489629e-01</td>\n",
       "      <td>7.321503e-01</td>\n",
       "      <td>7.035069e-01</td>\n",
       "      <td>5.914313e-01</td>\n",
       "      <td>5.291259e-01</td>\n",
       "      <td>5.586039e-01</td>\n",
       "      <td>8.301818e-01</td>\n",
       "      <td>7.796269e-01</td>\n",
       "      <td>7.944921e-01</td>\n",
       "      <td>...</td>\n",
       "      <td>7.992389e-01</td>\n",
       "      <td>7.719921e-01</td>\n",
       "      <td>7.427860e-01</td>\n",
       "      <td>7.274296e-01</td>\n",
       "      <td>7.400553e-01</td>\n",
       "      <td>7.659607e-01</td>\n",
       "      <td>3.046699e-01</td>\n",
       "      <td>7.453560e-01</td>\n",
       "      <td>1.341641e+00</td>\n",
       "      <td>28.000000</td>\n",
       "    </tr>\n",
       "    <tr>\n",
       "      <th>max</th>\n",
       "      <td>1.658833e+00</td>\n",
       "      <td>1.764758e+00</td>\n",
       "      <td>2.758441e+00</td>\n",
       "      <td>2.747908e+00</td>\n",
       "      <td>4.566079e+00</td>\n",
       "      <td>4.130901e+00</td>\n",
       "      <td>7.926755e+00</td>\n",
       "      <td>2.578072e+00</td>\n",
       "      <td>2.944518e+00</td>\n",
       "      <td>2.104530e+00</td>\n",
       "      <td>...</td>\n",
       "      <td>2.417548e+00</td>\n",
       "      <td>3.135917e+00</td>\n",
       "      <td>2.835058e+00</td>\n",
       "      <td>3.622472e+00</td>\n",
       "      <td>5.003844e+00</td>\n",
       "      <td>2.234505e+00</td>\n",
       "      <td>1.065187e+01</td>\n",
       "      <td>7.453560e-01</td>\n",
       "      <td>1.341641e+00</td>\n",
       "      <td>461.000000</td>\n",
       "    </tr>\n",
       "  </tbody>\n",
       "</table>\n",
       "<p>8 rows × 25 columns</p>\n",
       "</div>"
      ],
      "text/plain": [
       "               year    weekofyear       ndvi_ne       ndvi_nw       ndvi_se  \\\n",
       "count  1.456000e+03  1.456000e+03  1.456000e+03  1.456000e+03  1.456000e+03   \n",
       "mean  -4.980753e-16 -1.544095e-18 -5.999474e-16 -8.997687e-17  1.056084e-16   \n",
       "std    1.000344e+00  1.000344e+00  1.000344e+00  1.000344e+00  1.000344e+00   \n",
       "min   -2.040448e+00 -1.698612e+00 -3.945368e+00 -4.940891e+00 -2.991089e+00   \n",
       "25%   -7.456998e-01 -8.494204e-01 -6.729255e-01 -6.724957e-01 -6.556588e-01   \n",
       "50%    1.791204e-01 -2.287200e-04 -1.432619e-01 -8.980231e-02 -1.060153e-01   \n",
       "75%    7.340125e-01  8.489629e-01  7.321503e-01  7.035069e-01  5.914313e-01   \n",
       "max    1.658833e+00  1.764758e+00  2.758441e+00  2.747908e+00  4.566079e+00   \n",
       "\n",
       "            ndvi_sw  precipitation_amt_mm  reanalysis_air_temp_k  \\\n",
       "count  1.456000e+03          1.456000e+03           1.456000e+03   \n",
       "mean   3.133940e-16         -7.150492e-16          -1.347686e-14   \n",
       "std    1.000344e+00          1.000344e+00           1.000344e+00   \n",
       "min   -3.187987e+00         -1.051493e+00          -2.994759e+00   \n",
       "25%   -6.881099e-01         -8.225545e-01          -7.629952e-01   \n",
       "50%   -1.681386e-01         -1.617132e-01          -5.363020e-02   \n",
       "75%    5.291259e-01          5.586039e-01           8.301818e-01   \n",
       "max    4.130901e+00          7.926755e+00           2.578072e+00   \n",
       "\n",
       "       reanalysis_avg_temp_k  reanalysis_dew_point_temp_k     ...       \\\n",
       "count           1.456000e+03                 1.456000e+03     ...        \n",
       "mean            2.677879e-15                 6.154380e-15     ...        \n",
       "std             1.000344e+00                 1.000344e+00     ...        \n",
       "min            -3.447876e+00                -3.681883e+00     ...        \n",
       "25%            -7.659119e-01                -7.335340e-01     ...        \n",
       "50%             6.367874e-02                 2.489361e-01     ...        \n",
       "75%             7.796269e-01                 7.944921e-01     ...        \n",
       "max             2.944518e+00                 2.104530e+00     ...        \n",
       "\n",
       "       reanalysis_specific_humidity_g_per_kg  reanalysis_tdtr_k  \\\n",
       "count                           1.456000e+03       1.456000e+03   \n",
       "mean                           -1.435665e-15      -1.220025e-17   \n",
       "std                             1.000344e+00       1.000344e+00   \n",
       "min                            -3.273843e+00      -1.001707e+00   \n",
       "25%                            -7.711926e-01      -7.277457e-01   \n",
       "50%                             2.072766e-01      -5.786784e-01   \n",
       "75%                             7.992389e-01       7.719921e-01   \n",
       "max                             2.417548e+00       3.135917e+00   \n",
       "\n",
       "       station_avg_temp_c  station_diur_temp_rng_c  station_max_temp_c  \\\n",
       "count        1.456000e+03             1.456000e+03        1.456000e+03   \n",
       "mean         9.899552e-16            -3.196466e-16       -1.958141e-15   \n",
       "std          1.000344e+00             1.000344e+00        1.000344e+00   \n",
       "min         -4.527055e+00            -1.683425e+00       -2.958653e+00   \n",
       "25%         -6.688671e-01            -7.419475e-01       -6.983312e-01   \n",
       "50%          1.721663e-01            -3.451820e-01        1.749749e-01   \n",
       "75%          7.427860e-01             7.274296e-01        7.400553e-01   \n",
       "max          2.835058e+00             3.622472e+00        5.003844e+00   \n",
       "\n",
       "       station_min_temp_c  station_precip_mm         city1         city2  \\\n",
       "count        1.456000e+03       1.456000e+03  1.456000e+03  1.456000e+03   \n",
       "mean        -5.845256e-16      -2.156776e-16  1.071335e-14 -1.071335e-14   \n",
       "std          1.000344e+00       1.000344e+00  1.000344e+00  1.000344e+00   \n",
       "min         -4.725118e+00      -8.349174e-01 -1.341641e+00 -7.453560e-01   \n",
       "25%         -6.387339e-01      -6.509766e-01 -1.341641e+00 -7.453560e-01   \n",
       "50%          6.361339e-02      -3.243231e-01  7.453560e-01 -7.453560e-01   \n",
       "75%          7.659607e-01       3.046699e-01  7.453560e-01  1.341641e+00   \n",
       "max          2.234505e+00       1.065187e+01  7.453560e-01  1.341641e+00   \n",
       "\n",
       "            labels  \n",
       "count  1456.000000  \n",
       "mean     24.675137  \n",
       "std      43.596000  \n",
       "min       0.000000  \n",
       "25%       5.000000  \n",
       "50%      12.000000  \n",
       "75%      28.000000  \n",
       "max     461.000000  \n",
       "\n",
       "[8 rows x 25 columns]"
      ]
     },
     "execution_count": 27,
     "metadata": {},
     "output_type": "execute_result"
    }
   ],
   "source": [
    "scaled_train.describe()"
   ]
  },
  {
   "cell_type": "code",
   "execution_count": 28,
   "metadata": {
    "collapsed": false
   },
   "outputs": [],
   "source": [
    "#We now apply PCA on the data. We arrange the columns according to the random forest importances\n",
    "\n",
    "labels=scaled_train['labels']\n",
    "scaled_train.drop('labels',1,inplace=True)\n",
    "scaled_train=scaled_train.reindex_axis(train_df.drop('labels',1).columns[indices],axis=1)\n",
    "scaled_train['labels']=labels"
   ]
  },
  {
   "cell_type": "code",
   "execution_count": 29,
   "metadata": {
    "collapsed": false
   },
   "outputs": [
    {
     "data": {
      "text/plain": [
       "<matplotlib.axes._subplots.AxesSubplot at 0x119cf3e90>"
      ]
     },
     "execution_count": 29,
     "metadata": {},
     "output_type": "execute_result"
    },
    {
     "data": {
      "image/png": "[encoded data removed]",
      "text/plain": [
       "<matplotlib.figure.Figure at 0x11a2fa450>"
      ]
     },
     "metadata": {},
     "output_type": "display_data"
    }
   ],
   "source": [
    "#We plot the correlation of features with the total_cases feature\n",
    "plt.figure(figsize=(15,10))\n",
    "sns.heatmap(scaled_train.corr())"
   ]
  },
  {
   "cell_type": "code",
   "execution_count": 49,
   "metadata": {
    "collapsed": false
   },
   "outputs": [
    {
     "data": {
      "text/plain": [
       "Index([u'year', u'weekofyear', u'ndvi_sw', u'ndvi_ne',\n",
       "       u'reanalysis_air_temp_k', u'station_max_temp_c', u'ndvi_nw',\n",
       "       u'reanalysis_specific_humidity_g_per_kg',\n",
       "       u'reanalysis_dew_point_temp_k', u'reanalysis_precip_amt_kg_per_m2',\n",
       "       u'station_precip_mm', u'reanalysis_tdtr_k', u'ndvi_se',\n",
       "       u'reanalysis_avg_temp_k', u'reanalysis_relative_humidity_percent',\n",
       "       u'reanalysis_min_air_temp_k', u'reanalysis_max_air_temp_k',\n",
       "       u'station_avg_temp_c', u'station_diur_temp_rng_c',\n",
       "       u'precipitation_amt_mm', u'station_min_temp_c',\n",
       "       u'reanalysis_sat_precip_amt_mm', u'city1', u'city2', u'labels'],\n",
       "      dtype='object')"
      ]
     },
     "execution_count": 49,
     "metadata": {},
     "output_type": "execute_result"
    }
   ],
   "source": [
    "scaled_train.columns"
   ]
  },
  {
   "cell_type": "code",
   "execution_count": 89,
   "metadata": {
    "collapsed": true
   },
   "outputs": [],
   "source": [
    "scaled_test=scaled_test.reindex_axis(test_df.columns[indices],axis=1)"
   ]
  },
  {
   "cell_type": "code",
   "execution_count": 79,
   "metadata": {
    "collapsed": false
   },
   "outputs": [
    {
     "data": {
      "text/plain": [
       "30.902552466841684"
      ]
     },
     "execution_count": 79,
     "metadata": {},
     "output_type": "execute_result"
    }
   ],
   "source": [
    "#Stratified K-Fold Validation\n",
    "from sklearn.metrics import mean_squared_error\n",
    "from math import sqrt \n",
    "\n",
    "rmse=[]\n",
    "kfold=KFold(len(scaled_train['labels']),n_folds=10)\n",
    "for train_index,val_index in kfold:\n",
    "    x_train=scaled_train.ix[train_index,scaled_train.columns[0:]].drop('labels',1)\n",
    "    y_train=(scaled_train.ix[train_index])['labels']\n",
    "    x_val,y_val=scaled_train.ix[val_index,scaled_train.columns[0:]].drop('labels',1), scaled_train.ix[val_index]['labels']\n",
    "    rf=RandomForestRegressor(n_estimators=100)\n",
    "    rf.fit(x_train,y_train)\n",
    "    pred_val=rf.predict(x_val)\n",
    "    rmse.append(sqrt(mean_squared_error(pred_val,y_val)))\n",
    "np.mean(rmse)"
   ]
  },
  {
   "cell_type": "code",
   "execution_count": 84,
   "metadata": {
    "collapsed": false
   },
   "outputs": [
    {
     "data": {
      "text/plain": [
       "30.678122032725888"
      ]
     },
     "execution_count": 84,
     "metadata": {},
     "output_type": "execute_result"
    }
   ],
   "source": [
    "#Stratified K-Fold Validation\n",
    "from sklearn.metrics import mean_squared_error\n",
    "from math import sqrt \n",
    "\n",
    "n_columns=0\n",
    "rmse2=[]\n",
    "kfold=KFold(len(scaled_train['labels']),n_folds=10)\n",
    "for train_index,val_index in kfold:\n",
    "    x_train=scaled_train.ix[train_index].drop('labels',1)\n",
    "    #print x_train\n",
    "    y_train=scaled_train.ix[train_index]['labels']\n",
    "    x_val,y_val=scaled_train.ix[val_index].drop('labels',1), scaled_train.ix[val_index]['labels']\n",
    "    xg=xgb.XGBRegressor(n_estimators=100)\n",
    "    xg.fit(x_train,y_train)\n",
    "    pred_val=xg.predict(x_val)\n",
    "    rmse2.append(sqrt(mean_squared_error(pred_val,y_val)))\n",
    "np.mean(rmse2)"
   ]
  },
  {
   "cell_type": "code",
   "execution_count": 91,
   "metadata": {
    "collapsed": false
   },
   "outputs": [],
   "source": [
    "FINAL_PRED=xg.predict(scaled_test)"
   ]
  },
  {
   "cell_type": "code",
   "execution_count": 101,
   "metadata": {
    "collapsed": true
   },
   "outputs": [],
   "source": [
    "final_pred=np.round(FINAL_PRED)"
   ]
  },
  {
   "cell_type": "code",
   "execution_count": 104,
   "metadata": {
    "collapsed": true
   },
   "outputs": [],
   "source": [
    "xg.fit(scaled_train.drop('labels',1),scaled_train['labels'])\n",
    "pred=xg.predict(scaled_test)"
   ]
  },
  {
   "cell_type": "code",
   "execution_count": 107,
   "metadata": {
    "collapsed": true
   },
   "outputs": [],
   "source": [
    "final_df=pd.DataFrame(data={'city':city,'year':year,'weekofyear':week_of_year,'total_cases':np.round(pred)})\n",
    "#final_df=pd.DataFrame(data={'total_cases':FINAL_PRED})"
   ]
  },
  {
   "cell_type": "code",
   "execution_count": 108,
   "metadata": {
    "collapsed": true
   },
   "outputs": [],
   "source": [
    "final_df.to_csv('/Users/adityavyas/Desktop/dengue_.csv',header=True)"
   ]
  },
  {
   "cell_type": "code",
   "execution_count": 969,
   "metadata": {
    "collapsed": false
   },
   "outputs": [
    {
     "data": {
      "text/plain": [
       "Index([u'year', u'weekofyear', u'ndvi_ne', u'ndvi_nw', u'ndvi_se', u'ndvi_sw',\n",
       "       u'precipitation_amt_mm', u'reanalysis_air_temp_k',\n",
       "       u'reanalysis_avg_temp_k', u'reanalysis_dew_point_temp_k',\n",
       "       u'reanalysis_max_air_temp_k', u'reanalysis_min_air_temp_k',\n",
       "       u'reanalysis_precip_amt_kg_per_m2',\n",
       "       u'reanalysis_relative_humidity_percent',\n",
       "       u'reanalysis_sat_precip_amt_mm',\n",
       "       u'reanalysis_specific_humidity_g_per_kg', u'reanalysis_tdtr_k',\n",
       "       u'station_avg_temp_c', u'station_diur_temp_rng_c',\n",
       "       u'station_max_temp_c', u'station_min_temp_c', u'station_precip_mm',\n",
       "       u'city1', u'city2', u'labels'],\n",
       "      dtype='object')"
      ]
     },
     "execution_count": 969,
     "metadata": {},
     "output_type": "execute_result"
    }
   ],
   "source": [
    "train_df.columns"
   ]
  },
  {
   "cell_type": "code",
   "execution_count": null,
   "metadata": {
    "collapsed": true
   },
   "outputs": [],
   "source": [
    "sub.mean(axis=1)"
   ]
  },
  {
   "cell_type": "code",
   "execution_count": null,
   "metadata": {
    "collapsed": true
   },
   "outputs": [],
   "source": []
  }
 ],
 "metadata": {
  "kernelspec": {
   "display_name": "Python [default]",
   "language": "python",
   "name": "python2"
  },
  "language_info": {
   "codemirror_mode": {
    "name": "ipython",
    "version": 2
   },
   "file_extension": ".py",
   "mimetype": "text/x-python",
   "name": "python",
   "nbconvert_exporter": "python",
   "pygments_lexer": "ipython2",
   "version": "2.7.13"
  }
 },
 "nbformat": 4,
 "nbformat_minor": 2
}
