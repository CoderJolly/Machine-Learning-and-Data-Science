{
 "cells": [
  {
   "cell_type": "code",
   "execution_count": 75,
   "metadata": {
    "collapsed": true
   },
   "outputs": [],
   "source": [
    "%matplotlib inline\n",
    "import numpy as np\n",
    "import pandas as pd\n",
    "import matplotlib.pyplot as plt\n",
    "import matplotlib\n",
    "from collections import defaultdict\n",
    "\n",
    "import sys\n",
    "if \"../\" not in sys.path:\n",
    "  sys.path.append(\"../\")\n",
    "\n",
    "import gym\n",
    "import plotting\n",
    "from lib.envs.gridworld import GridworldEnv\n",
    "import itertools\n",
    "matplotlib.style.use('ggplot')"
   ]
  },
  {
   "cell_type": "code",
   "execution_count": 76,
   "metadata": {
    "collapsed": true
   },
   "outputs": [],
   "source": [
    "env = GridworldEnv()"
   ]
  },
  {
   "cell_type": "code",
   "execution_count": 51,
   "metadata": {
    "collapsed": true
   },
   "outputs": [],
   "source": [
    "def random_policy(state, nA):\n",
    "    A = np.ones(nA, dtype=float) / nA\n",
    "    return A"
   ]
  },
  {
   "cell_type": "code",
   "execution_count": 45,
   "metadata": {},
   "outputs": [],
   "source": [
    "# env.observation_space\n",
    "state_space_size = 70"
   ]
  },
  {
   "cell_type": "markdown",
   "metadata": {},
   "source": [
    "## Online Tabular TD( λ )"
   ]
  },
  {
   "cell_type": "code",
   "execution_count": 59,
   "metadata": {
    "collapsed": true
   },
   "outputs": [],
   "source": [
    "def online_td_lambda(env, num_episodes, discount=1.0, epsilon=0.1, alpha=0.5, lbda=0.5, gamma=0.5, debug=False):\n",
    "    \n",
    "    V = defaultdict(float)\n",
    "    \n",
    "    for i_episode in range(1, num_episodes+1):\n",
    "        \n",
    "        if debug:\n",
    "            if i_episode % 100 == 0:\n",
    "                print(\"\\rEpisode {}/{}.\".format(i_episode, num_episodes))\n",
    "                \n",
    "        E = {key:0 for key in np.arange(state_space_size)}\n",
    "        state = env.reset()\n",
    "        for t in itertools.count():\n",
    "            action_probs = random_policy(state, env.nA)\n",
    "            action = np.random.choice(np.arange(len(action_probs)), p=action_probs)\n",
    "            next_state, reward, done, _ = env.step(action)\n",
    "            \n",
    "            delta = reward + gamma * V[next_state] - V[state]\n",
    "            E[state] += 1\n",
    "            \n",
    "            for s in E.keys():\n",
    "                V[s] += alpha*delta*E[s]\n",
    "                E[s] = gamma*lbda*E[s]\n",
    "                    \n",
    "            if done:\n",
    "                break\n",
    "                \n",
    "            state = next_state\n",
    "    \n",
    "    return V"
   ]
  },
  {
   "cell_type": "code",
   "execution_count": 62,
   "metadata": {},
   "outputs": [
    {
     "name": "stdout",
     "output_type": "stream",
     "text": [
      "Episode 100/200.\n",
      "Episode 200/200.\n"
     ]
    }
   ],
   "source": [
    "V = online_td_lambda(env, num_episodes=200, debug=True)"
   ]
  },
  {
   "cell_type": "code",
   "execution_count": 65,
   "metadata": {},
   "outputs": [
    {
     "data": {
      "text/plain": [
       "defaultdict(float,\n",
       "            {0: -1.9999999999999998,\n",
       "             1: -1.9999999999999991,\n",
       "             2: -1.9999999999999971,\n",
       "             3: -1.999999999999994,\n",
       "             4: -1.9999999999999827,\n",
       "             5: -1.9999999999995695,\n",
       "             6: -1.999999999970696,\n",
       "             7: -1.9999999998057143,\n",
       "             8: -1.9999999983563992,\n",
       "             9: -1.9999999950599563,\n",
       "             10: -1.9999999999999953,\n",
       "             11: -1.9999999999999951,\n",
       "             12: -1.9999999999999922,\n",
       "             13: -1.9999999999999432,\n",
       "             14: -1.9999999999997848,\n",
       "             15: -1.9999999999701155,\n",
       "             16: -1.999999999328964,\n",
       "             17: -1.9999997964549732,\n",
       "             18: -1.999999998239193,\n",
       "             19: -1.9999673585262316,\n",
       "             20: -1.9999999999999365,\n",
       "             21: -1.9999999999999833,\n",
       "             22: -1.9999999999999816,\n",
       "             23: -1.999999999999962,\n",
       "             24: -1.999999999997015,\n",
       "             25: -1.9999999998958584,\n",
       "             26: -1.9999998948965332,\n",
       "             27: -1.9999968945519018,\n",
       "             28: -1.9999907270605708,\n",
       "             29: -1.999919857184823,\n",
       "             30: -1.9999999999998153,\n",
       "             31: -1.9999999999998819,\n",
       "             32: -1.9999999999993532,\n",
       "             33: -1.9999999999984694,\n",
       "             34: -1.999999999969879,\n",
       "             35: -1.999999990198435,\n",
       "             36: -1.9999994631391886,\n",
       "             37: 0.0,\n",
       "             38: -1.999979357418015,\n",
       "             39: -1.9997380406544782,\n",
       "             40: -1.9999999999991924,\n",
       "             41: -1.999999999999692,\n",
       "             42: -1.9999999999978795,\n",
       "             43: -1.9999999999998426,\n",
       "             44: -1.9999999999573275,\n",
       "             45: -1.9999998268306867,\n",
       "             46: 0.0,\n",
       "             47: -1.421560555050732,\n",
       "             48: -1.4898827501013776,\n",
       "             49: -1.8715217236365145,\n",
       "             50: -1.9999999999910203,\n",
       "             51: -1.999999999999547,\n",
       "             52: -1.9999999999958347,\n",
       "             53: -1.9999999999996845,\n",
       "             54: -1.9999999854035395,\n",
       "             55: 0.0,\n",
       "             56: 0.0,\n",
       "             57: -1.9055019831942916,\n",
       "             58: -1.9659027724888574,\n",
       "             59: -1.9887239573048943,\n",
       "             60: -1.999999999973004,\n",
       "             61: -1.9999999999081257,\n",
       "             62: -1.9999999998384446,\n",
       "             63: -1.9999999997572286,\n",
       "             64: 0.0,\n",
       "             65: 0.0,\n",
       "             66: 0.0,\n",
       "             67: 0.0,\n",
       "             68: -1.985859306508818,\n",
       "             69: -1.9932095321237668})"
      ]
     },
     "execution_count": 65,
     "metadata": {},
     "output_type": "execute_result"
    }
   ],
   "source": [
    "V"
   ]
  },
  {
   "cell_type": "code",
   "execution_count": null,
   "metadata": {
    "collapsed": true
   },
   "outputs": [],
   "source": []
  }
 ],
 "metadata": {
  "kernelspec": {
   "display_name": "Python 2",
   "language": "python",
   "name": "python2"
  },
  "language_info": {
   "codemirror_mode": {
    "name": "ipython",
    "version": 2
   },
   "file_extension": ".py",
   "mimetype": "text/x-python",
   "name": "python",
   "nbconvert_exporter": "python",
   "pygments_lexer": "ipython2",
   "version": "2.7.13"
  }
 },
 "nbformat": 4,
 "nbformat_minor": 2
}
