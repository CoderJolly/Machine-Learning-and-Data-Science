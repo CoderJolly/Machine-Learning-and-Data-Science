{
 "cells": [
  {
   "cell_type": "code",
   "execution_count": 2,
   "metadata": {},
   "outputs": [
    {
     "name": "stderr",
     "output_type": "stream",
     "text": [
      "/Users/adityavyas/anaconda/envs/py36/lib/python3.6/site-packages/tensorflow/python/framework/dtypes.py:516: FutureWarning: Passing (type, 1) or '1type' as a synonym of type is deprecated; in a future version of numpy, it will be understood as (type, (1,)) / '(1,)type'.\n",
      "  _np_qint8 = np.dtype([(\"qint8\", np.int8, 1)])\n",
      "/Users/adityavyas/anaconda/envs/py36/lib/python3.6/site-packages/tensorflow/python/framework/dtypes.py:517: FutureWarning: Passing (type, 1) or '1type' as a synonym of type is deprecated; in a future version of numpy, it will be understood as (type, (1,)) / '(1,)type'.\n",
      "  _np_quint8 = np.dtype([(\"quint8\", np.uint8, 1)])\n",
      "/Users/adityavyas/anaconda/envs/py36/lib/python3.6/site-packages/tensorflow/python/framework/dtypes.py:518: FutureWarning: Passing (type, 1) or '1type' as a synonym of type is deprecated; in a future version of numpy, it will be understood as (type, (1,)) / '(1,)type'.\n",
      "  _np_qint16 = np.dtype([(\"qint16\", np.int16, 1)])\n",
      "/Users/adityavyas/anaconda/envs/py36/lib/python3.6/site-packages/tensorflow/python/framework/dtypes.py:519: FutureWarning: Passing (type, 1) or '1type' as a synonym of type is deprecated; in a future version of numpy, it will be understood as (type, (1,)) / '(1,)type'.\n",
      "  _np_quint16 = np.dtype([(\"quint16\", np.uint16, 1)])\n",
      "/Users/adityavyas/anaconda/envs/py36/lib/python3.6/site-packages/tensorflow/python/framework/dtypes.py:520: FutureWarning: Passing (type, 1) or '1type' as a synonym of type is deprecated; in a future version of numpy, it will be understood as (type, (1,)) / '(1,)type'.\n",
      "  _np_qint32 = np.dtype([(\"qint32\", np.int32, 1)])\n",
      "/Users/adityavyas/anaconda/envs/py36/lib/python3.6/site-packages/tensorflow/python/framework/dtypes.py:525: FutureWarning: Passing (type, 1) or '1type' as a synonym of type is deprecated; in a future version of numpy, it will be understood as (type, (1,)) / '(1,)type'.\n",
      "  np_resource = np.dtype([(\"resource\", np.ubyte, 1)])\n",
      "/Users/adityavyas/anaconda/envs/py36/lib/python3.6/site-packages/tensorboard/compat/tensorflow_stub/dtypes.py:541: FutureWarning: Passing (type, 1) or '1type' as a synonym of type is deprecated; in a future version of numpy, it will be understood as (type, (1,)) / '(1,)type'.\n",
      "  _np_qint8 = np.dtype([(\"qint8\", np.int8, 1)])\n",
      "/Users/adityavyas/anaconda/envs/py36/lib/python3.6/site-packages/tensorboard/compat/tensorflow_stub/dtypes.py:542: FutureWarning: Passing (type, 1) or '1type' as a synonym of type is deprecated; in a future version of numpy, it will be understood as (type, (1,)) / '(1,)type'.\n",
      "  _np_quint8 = np.dtype([(\"quint8\", np.uint8, 1)])\n",
      "/Users/adityavyas/anaconda/envs/py36/lib/python3.6/site-packages/tensorboard/compat/tensorflow_stub/dtypes.py:543: FutureWarning: Passing (type, 1) or '1type' as a synonym of type is deprecated; in a future version of numpy, it will be understood as (type, (1,)) / '(1,)type'.\n",
      "  _np_qint16 = np.dtype([(\"qint16\", np.int16, 1)])\n",
      "/Users/adityavyas/anaconda/envs/py36/lib/python3.6/site-packages/tensorboard/compat/tensorflow_stub/dtypes.py:544: FutureWarning: Passing (type, 1) or '1type' as a synonym of type is deprecated; in a future version of numpy, it will be understood as (type, (1,)) / '(1,)type'.\n",
      "  _np_quint16 = np.dtype([(\"quint16\", np.uint16, 1)])\n",
      "/Users/adityavyas/anaconda/envs/py36/lib/python3.6/site-packages/tensorboard/compat/tensorflow_stub/dtypes.py:545: FutureWarning: Passing (type, 1) or '1type' as a synonym of type is deprecated; in a future version of numpy, it will be understood as (type, (1,)) / '(1,)type'.\n",
      "  _np_qint32 = np.dtype([(\"qint32\", np.int32, 1)])\n",
      "/Users/adityavyas/anaconda/envs/py36/lib/python3.6/site-packages/tensorboard/compat/tensorflow_stub/dtypes.py:550: FutureWarning: Passing (type, 1) or '1type' as a synonym of type is deprecated; in a future version of numpy, it will be understood as (type, (1,)) / '(1,)type'.\n",
      "  np_resource = np.dtype([(\"resource\", np.ubyte, 1)])\n",
      "I1117 17:50:22.228126 4706551232 file_utils.py:39] PyTorch version 0.4.1 available.\n",
      "I1117 17:50:22.321741 4706551232 modeling_xlnet.py:194] Better speed can be achieved with apex installed from https://www.github.com/nvidia/apex .\n"
     ]
    }
   ],
   "source": [
    "from model import GPT2Model\n",
    "from transformers import AdamW"
   ]
  },
  {
   "cell_type": "code",
   "execution_count": 2,
   "metadata": {},
   "outputs": [],
   "source": [
    "x = GPT2Model()"
   ]
  },
  {
   "cell_type": "code",
   "execution_count": 3,
   "metadata": {
    "scrolled": true
   },
   "outputs": [
    {
     "name": "stderr",
     "output_type": "stream",
     "text": [
      "WARNING: Logging before flag parsing goes to stderr.\n",
      "W1114 01:07:47.050689 4539250112 deprecation_wrapper.py:119] From /Users/adityavyas/Desk/train_GPT2/model.py:127: The name tf.reset_default_graph is deprecated. Please use tf.compat.v1.reset_default_graph instead.\n",
      "\n",
      "W1114 01:07:54.255023 4539250112 deprecation.py:323] From /Users/adityavyas/anaconda/envs/py36/lib/python3.6/site-packages/tensorflow/python/training/saver.py:1276: checkpoint_exists (from tensorflow.python.training.checkpoint_management) is deprecated and will be removed in a future version.\n",
      "Instructions for updating:\n",
      "Use standard file APIs to check for files with this prefix.\n"
     ]
    },
    {
     "name": "stdout",
     "output_type": "stream",
     "text": [
      "Loading checkpoint checkpoint/reddit_comment_generator/model-900\n"
     ]
    }
   ],
   "source": [
    "x.load_pretrained_model()"
   ]
  },
  {
   "cell_type": "code",
   "execution_count": 4,
   "metadata": {},
   "outputs": [],
   "source": [
    "prefix = '****S t5_2tk0s\\nThe fancier mac and cheese gets, the less it tastes like mac and cheese.\\n\\nAdding breadcrumbs, a roux, and pork belly seem like a waste when you peaked at a box of Kraft. I\\'ve tried $8 dollars mac and $18 mac, the only thing I feel afterwards is disappointment in knowing I could have saved some money.\\n****ES'\n",
    "\n",
    "\n"
   ]
  },
  {
   "cell_type": "code",
   "execution_count": 5,
   "metadata": {},
   "outputs": [
    {
     "name": "stdout",
     "output_type": "stream",
     "text": [
      "****S t5_2tk0s\n",
      "The fancier mac and cheese gets, the less it tastes like mac and cheese.\n",
      "\n",
      "Adding breadcrumbs, a roux, and pork belly seem like a waste when you peaked at a box of Kraft. I've tried $8 dollars mac and $18 mac, the only thing I feel afterwards is disappointment in knowing I could have saved some money.\n",
      "****ES\n"
     ]
    }
   ],
   "source": [
    "print(prefix)"
   ]
  },
  {
   "cell_type": "code",
   "execution_count": 6,
   "metadata": {},
   "outputs": [],
   "source": [
    "from time import time"
   ]
  },
  {
   "cell_type": "code",
   "execution_count": 9,
   "metadata": {},
   "outputs": [
    {
     "name": "stdout",
     "output_type": "stream",
     "text": [
      "[\"****S t5_2tk0s\\nThe fancier mac and cheese gets, the less it tastes like mac and cheese.\\n\\nAdding breadcrumbs, a roux, and pork belly seem like a waste when you peaked at a box of Kraft. I've tried $8 dollars mac and $18 mac, the only thing I feel afterwards is disappointment in knowing I could have saved some money.\\n****ES bt59a0\\n\\n****TC bt59a0\\nI agree with the opinion that the tastiest mac and cheese is the ones with the spicy edge. But at the same time, I still don't think it's that good for you.\\n****ETC\\n\\n****TC bt59a0\\nYeah, I can see that. I don't think it's the cooking that's the problem. I like to have my mac and cheese with a sauce of my own. I don't think you can taste the pattiness of the mac and cheese.\\n****ETC\\n\\n****TC bt59a0\\nI disagree. I do like pizza, but I don't get the burning cheese,\", \"****S t5_2tk0s\\nThe fancier mac and cheese gets, the less it tastes like mac and cheese.\\n\\nAdding breadcrumbs, a roux, and pork belly seem like a waste when you peaked at a box of Kraft. I've tried $8 dollars mac and $18 mac, the only thing I feel afterwards is disappointment in knowing I could have saved some money.\\n****ES bt1mvb\\n\\n****TC bt1mvb\\nI mean, if you like mac and cheese, you might be into cheese and cheese over sausage, but that doesn't make it any worse.\\n****ETC\\n\\n****TC bt1mvb\\nDefinitely, but I’m not sure if I should try a crusty crust or a chewy crust.\\n****ETC\\n\\n****TC bt1mvb\\nI’m not sure if I should try a crusty crust or a chewy crust.\\n****ETC\\n\\n****TC bt1mvb\\nI like mac and cheese.\\n****ETC\\n\\n****TC b\", \"****S t5_2tk0s\\nThe fancier mac and cheese gets, the less it tastes like mac and cheese.\\n\\nAdding breadcrumbs, a roux, and pork belly seem like a waste when you peaked at a box of Kraft. I've tried $8 dollars mac and $18 mac, the only thing I feel afterwards is disappointment in knowing I could have saved some money.\\n****ES bu7hvq\\n\\n****TC bu7hvq\\nYou're right, I didn't even know the details. I'd be willing to pay $40 more for a loaf of breadcrumb, but that's just the price of a loaf.\\n****ETC\\n\\n****TC bu7hvq\\nI’m not sure if this is a **popular** or **unpopular** opinion. I’m not sure if this is a **popular** or **unpopular** opinion. I’m not sure if this is a **popular** or **unpopular** opinion. I’m not sure if this is a **popular** or **unpopular** opinion. I\"]\n",
      "44.96706795692444\n"
     ]
    }
   ],
   "source": [
    "start = time()\n",
    "comments = x.generate_comments(prefix_string = prefix, length = 150, num_samples = 3, batch_size = 3, temperature = 0.7)\n",
    "print(time() - start)"
   ]
  },
  {
   "cell_type": "code",
   "execution_count": 10,
   "metadata": {},
   "outputs": [
    {
     "data": {
      "text/plain": [
       "{'Definitely, but I’m not sure if I should try a crusty crust or a chewy crust.',\n",
       " \"I agree with the opinion that the tastiest mac and cheese is the ones with the spicy edge. But at the same time, I still don't think it's that good for you.\",\n",
       " \"I disagree. I do like pizza, but I don't get the burning cheese,\",\n",
       " 'I like mac and cheese.',\n",
       " \"I mean, if you like mac and cheese, you might be into cheese and cheese over sausage, but that doesn't make it any worse.\",\n",
       " 'I’m not sure if I should try a crusty crust or a chewy crust.',\n",
       " 'I’m not sure if this is a **popular** or **unpopular** opinion. I’m not sure if this is a **popular** or **unpopular** opinion. I’m not sure if this is a **popular** or **unpopular** opinion. I’m not sure if this is a **popular** or **unpopular** opinion. I',\n",
       " \"Yeah, I can see that. I don't think it's the cooking that's the problem. I like to have my mac and cheese with a sauce of my own. I don't think you can taste the pattiness of the mac and cheese.\",\n",
       " \"You're right, I didn't even know the details. I'd be willing to pay $40 more for a loaf of breadcrumb, but that's just the price of a loaf.\"}"
      ]
     },
     "execution_count": 10,
     "metadata": {},
     "output_type": "execute_result"
    }
   ],
   "source": [
    "comments"
   ]
  },
  {
   "cell_type": "code",
   "execution_count": null,
   "metadata": {},
   "outputs": [],
   "source": []
  }
 ],
 "metadata": {
  "kernelspec": {
   "display_name": "Python 3",
   "language": "python",
   "name": "python3"
  },
  "language_info": {
   "codemirror_mode": {
    "name": "ipython",
    "version": 3
   },
   "file_extension": ".py",
   "mimetype": "text/x-python",
   "name": "python",
   "nbconvert_exporter": "python",
   "pygments_lexer": "ipython3",
   "version": "3.6.1"
  }
 },
 "nbformat": 4,
 "nbformat_minor": 2
}
