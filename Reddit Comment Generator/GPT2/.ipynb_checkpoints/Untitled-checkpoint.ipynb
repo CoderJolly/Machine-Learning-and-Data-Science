{
 "cells": [
  {
   "cell_type": "code",
   "execution_count": 1,
   "metadata": {},
   "outputs": [
    {
     "name": "stderr",
     "output_type": "stream",
     "text": [
      "/Users/adityavyas/anaconda/envs/py36/lib/python3.6/site-packages/tensorflow/python/framework/dtypes.py:516: FutureWarning: Passing (type, 1) or '1type' as a synonym of type is deprecated; in a future version of numpy, it will be understood as (type, (1,)) / '(1,)type'.\n",
      "  _np_qint8 = np.dtype([(\"qint8\", np.int8, 1)])\n",
      "/Users/adityavyas/anaconda/envs/py36/lib/python3.6/site-packages/tensorflow/python/framework/dtypes.py:517: FutureWarning: Passing (type, 1) or '1type' as a synonym of type is deprecated; in a future version of numpy, it will be understood as (type, (1,)) / '(1,)type'.\n",
      "  _np_quint8 = np.dtype([(\"quint8\", np.uint8, 1)])\n",
      "/Users/adityavyas/anaconda/envs/py36/lib/python3.6/site-packages/tensorflow/python/framework/dtypes.py:518: FutureWarning: Passing (type, 1) or '1type' as a synonym of type is deprecated; in a future version of numpy, it will be understood as (type, (1,)) / '(1,)type'.\n",
      "  _np_qint16 = np.dtype([(\"qint16\", np.int16, 1)])\n",
      "/Users/adityavyas/anaconda/envs/py36/lib/python3.6/site-packages/tensorflow/python/framework/dtypes.py:519: FutureWarning: Passing (type, 1) or '1type' as a synonym of type is deprecated; in a future version of numpy, it will be understood as (type, (1,)) / '(1,)type'.\n",
      "  _np_quint16 = np.dtype([(\"quint16\", np.uint16, 1)])\n",
      "/Users/adityavyas/anaconda/envs/py36/lib/python3.6/site-packages/tensorflow/python/framework/dtypes.py:520: FutureWarning: Passing (type, 1) or '1type' as a synonym of type is deprecated; in a future version of numpy, it will be understood as (type, (1,)) / '(1,)type'.\n",
      "  _np_qint32 = np.dtype([(\"qint32\", np.int32, 1)])\n",
      "/Users/adityavyas/anaconda/envs/py36/lib/python3.6/site-packages/tensorflow/python/framework/dtypes.py:525: FutureWarning: Passing (type, 1) or '1type' as a synonym of type is deprecated; in a future version of numpy, it will be understood as (type, (1,)) / '(1,)type'.\n",
      "  np_resource = np.dtype([(\"resource\", np.ubyte, 1)])\n",
      "/Users/adityavyas/anaconda/envs/py36/lib/python3.6/site-packages/tensorboard/compat/tensorflow_stub/dtypes.py:541: FutureWarning: Passing (type, 1) or '1type' as a synonym of type is deprecated; in a future version of numpy, it will be understood as (type, (1,)) / '(1,)type'.\n",
      "  _np_qint8 = np.dtype([(\"qint8\", np.int8, 1)])\n",
      "/Users/adityavyas/anaconda/envs/py36/lib/python3.6/site-packages/tensorboard/compat/tensorflow_stub/dtypes.py:542: FutureWarning: Passing (type, 1) or '1type' as a synonym of type is deprecated; in a future version of numpy, it will be understood as (type, (1,)) / '(1,)type'.\n",
      "  _np_quint8 = np.dtype([(\"quint8\", np.uint8, 1)])\n",
      "/Users/adityavyas/anaconda/envs/py36/lib/python3.6/site-packages/tensorboard/compat/tensorflow_stub/dtypes.py:543: FutureWarning: Passing (type, 1) or '1type' as a synonym of type is deprecated; in a future version of numpy, it will be understood as (type, (1,)) / '(1,)type'.\n",
      "  _np_qint16 = np.dtype([(\"qint16\", np.int16, 1)])\n",
      "/Users/adityavyas/anaconda/envs/py36/lib/python3.6/site-packages/tensorboard/compat/tensorflow_stub/dtypes.py:544: FutureWarning: Passing (type, 1) or '1type' as a synonym of type is deprecated; in a future version of numpy, it will be understood as (type, (1,)) / '(1,)type'.\n",
      "  _np_quint16 = np.dtype([(\"quint16\", np.uint16, 1)])\n",
      "/Users/adityavyas/anaconda/envs/py36/lib/python3.6/site-packages/tensorboard/compat/tensorflow_stub/dtypes.py:545: FutureWarning: Passing (type, 1) or '1type' as a synonym of type is deprecated; in a future version of numpy, it will be understood as (type, (1,)) / '(1,)type'.\n",
      "  _np_qint32 = np.dtype([(\"qint32\", np.int32, 1)])\n",
      "/Users/adityavyas/anaconda/envs/py36/lib/python3.6/site-packages/tensorboard/compat/tensorflow_stub/dtypes.py:550: FutureWarning: Passing (type, 1) or '1type' as a synonym of type is deprecated; in a future version of numpy, it will be understood as (type, (1,)) / '(1,)type'.\n",
      "  np_resource = np.dtype([(\"resource\", np.ubyte, 1)])\n"
     ]
    }
   ],
   "source": [
    "from model import GPT2Model"
   ]
  },
  {
   "cell_type": "code",
   "execution_count": 2,
   "metadata": {},
   "outputs": [],
   "source": [
    "x = GPT2Model()"
   ]
  },
  {
   "cell_type": "code",
   "execution_count": 3,
   "metadata": {
    "scrolled": true
   },
   "outputs": [
    {
     "name": "stderr",
     "output_type": "stream",
     "text": [
      "WARNING: Logging before flag parsing goes to stderr.\n",
      "W1113 18:26:55.670415 4435420608 deprecation_wrapper.py:119] From /Users/adityavyas/Desk/train_GPT2/model.py:95: The name tf.reset_default_graph is deprecated. Please use tf.compat.v1.reset_default_graph instead.\n",
      "\n",
      "W1113 18:27:00.604598 4435420608 deprecation.py:323] From /Users/adityavyas/anaconda/envs/py36/lib/python3.6/site-packages/tensorflow/python/training/saver.py:1276: checkpoint_exists (from tensorflow.python.training.checkpoint_management) is deprecated and will be removed in a future version.\n",
      "Instructions for updating:\n",
      "Use standard file APIs to check for files with this prefix.\n"
     ]
    },
    {
     "name": "stdout",
     "output_type": "stream",
     "text": [
      "Loading checkpoint checkpoint/reddit_comment_generator/model-900\n"
     ]
    }
   ],
   "source": [
    "x.load_pretrained_model()"
   ]
  },
  {
   "cell_type": "code",
   "execution_count": 19,
   "metadata": {},
   "outputs": [],
   "source": [
    "prefix = '****S t5_2qi58\\nEngland star Jadon Sancho reveals he learned his flicks and tricks watching Ronaldinho on YouTube and admits he \\'looked up to\\' Chelsea duo Frank Lampard and Didier Drogba as a kid\\n****ES'\n",
    "\n",
    "\n"
   ]
  },
  {
   "cell_type": "code",
   "execution_count": 26,
   "metadata": {},
   "outputs": [],
   "source": [
    "comments = x.generate_comments(prefix_string = prefix, length = 200, num_samples = 2, batch_size = 2, temperature = 0.7)"
   ]
  },
  {
   "cell_type": "code",
   "execution_count": 27,
   "metadata": {},
   "outputs": [
    {
     "name": "stdout",
     "output_type": "stream",
     "text": [
      "****S t5_2qi58\n",
      "England star Jadon Sancho reveals he learned his flicks and tricks watching Ronaldinho on YouTube and admits he 'looked up to' Chelsea duo Frank Lampard and Didier Drogba as a kid\n",
      "****ES bt0r9x\n",
      "\n",
      "****TC bt0r9x\n",
      "Wrist, brushing your hair, and covering your face in makeup.\n",
      "****ETC\n",
      "\n",
      "****TC bt0r9x\n",
      "Also, a lot of the time they were both in the same spot for his age. \n",
      "\n",
      "I'm sure he picked out his own spots so he knows where he wants to find his next move.\n",
      "****ETC\n",
      "\n",
      "****TC bt0r9x\n",
      "All these things are 'state secrets' so they need to be kept secret. He's clearly just another one of those smart kids with a big enough bank account to put everything on a website, and on a phone.\n",
      "****ETC\n",
      "\n",
      "****TC bt0r9x\n",
      "Wrist, brushing your hair, and covering your face in makeup.\n",
      "****ETC\n",
      "\n",
      "****TC bt0r9x\n",
      "I will still be impressed he has good eyes\n",
      "#######################################\n",
      "****S t5_2qi58\n",
      "England star Jadon Sancho reveals he learned his flicks and tricks watching Ronaldinho on YouTube and admits he 'looked up to' Chelsea duo Frank Lampard and Didier Drogba as a kid\n",
      "****ES bs43bx\n",
      "\n",
      "****TC bs43bx\n",
      "What a huge influence he had, it's a fantastic talent but he turned out to be just as good as Drogba and he is the best ever player.\n",
      "****ETC\n",
      "\n",
      "****TC bs43bx\n",
      "I don't think Drogba or Sancho got the same level of fame as Sancho, he's a humble guy who has a lot of respect for the sport and especially for his family.\n",
      "****ETC\n",
      "\n",
      "****TC bs43bx\n",
      "Champions League, Champions League and FA Cup finalist.\n",
      "****ETC\n",
      "\n",
      "****TC bs43bx\n",
      "He's the best player in the world but not a great player, he's already been under a lot of criticism for not playing as well as he did last season. He's not a great player but he's still a good player.\n",
      "****ETC\n",
      "\n",
      "****TC bs\n",
      "#######################################\n"
     ]
    }
   ],
   "source": [
    "for comment in comments:\n",
    "    print(comment)\n",
    "    print('#######################################')"
   ]
  },
  {
   "cell_type": "code",
   "execution_count": null,
   "metadata": {},
   "outputs": [],
   "source": []
  }
 ],
 "metadata": {
  "kernelspec": {
   "display_name": "Python 3",
   "language": "python",
   "name": "python3"
  },
  "language_info": {
   "codemirror_mode": {
    "name": "ipython",
    "version": 3
   },
   "file_extension": ".py",
   "mimetype": "text/x-python",
   "name": "python",
   "nbconvert_exporter": "python",
   "pygments_lexer": "ipython3",
   "version": "3.6.1"
  }
 },
 "nbformat": 4,
 "nbformat_minor": 2
}
