{
 "cells": [
  {
   "cell_type": "code",
   "execution_count": 1,
   "metadata": {},
   "outputs": [],
   "source": [
    "import google\n",
    "from google.cloud import bigquery\n",
    "from google.oauth2 import service_account\n",
    "\n",
    "from sklearn.metrics import classification_report, confusion_matrix, accuracy_score\n",
    "import seaborn as sns\n",
    "\n",
    "import torch\n",
    "from torch.nn import CrossEntropyLoss\n",
    "from torch.utils.data import TensorDataset, DataLoader, RandomSampler, SequentialSampler\n",
    "from tensorflow.keras.preprocessing.sequence import pad_sequences\n",
    "from sklearn.model_selection import train_test_split\n",
    "# from transformers import BertTokenizer, BertConfig, BertForSequenceClassification\n",
    "from transformers import AdamW\n",
    "from transformers import DistilBertTokenizer, DistilBertConfig, DistilBertForSequenceClassification\n",
    "from tqdm import trange\n",
    "import pandas as pd\n",
    "import io\n",
    "import numpy as np\n",
    "import matplotlib.pyplot as plt\n",
    "import gc\n",
    "from tqdm.notebook import tqdm\n",
    "import sys\n",
    "import os\n",
    "import warnings\n",
    "warnings.filterwarnings(\"ignore\")"
   ]
  },
  {
   "cell_type": "code",
   "execution_count": 2,
   "metadata": {},
   "outputs": [
    {
     "data": {
      "text/plain": [
       "'Tesla P100-PCIE-16GB'"
      ]
     },
     "execution_count": 2,
     "metadata": {},
     "output_type": "execute_result"
    }
   ],
   "source": [
    "device = torch.device(\"cuda\" if torch.cuda.is_available() else \"cpu\")\n",
    "n_gpu = torch.cuda.device_count()\n",
    "torch.cuda.get_device_name(0)"
   ]
  },
  {
   "cell_type": "code",
   "execution_count": 3,
   "metadata": {},
   "outputs": [],
   "source": [
    "credentials = service_account.Credentials.from_service_account_file('auth.json')\n",
    "client = bigquery.Client(credentials = credentials, project = 'capstone-fall19')"
   ]
  },
  {
   "cell_type": "code",
   "execution_count": 4,
   "metadata": {},
   "outputs": [
    {
     "name": "stdout",
     "output_type": "stream",
     "text": [
      "CPU times: user 26.8 s, sys: 1.03 s, total: 27.8 s\n",
      "Wall time: 1min 36s\n"
     ]
    }
   ],
   "source": [
    "%%time\n",
    "data = client.query(\n",
    "    \"\"\"\n",
    "      SELECT title, subreddit\n",
    "      FROM reddit.posts_2019_new\n",
    "    \"\"\"\n",
    ").to_dataframe()"
   ]
  },
  {
   "cell_type": "code",
   "execution_count": 5,
   "metadata": {},
   "outputs": [],
   "source": [
    "class DataSet:\n",
    "    def __init__(self, data, subset=None, holdout=0.1):\n",
    "        self.subredditToLabel = {'funny': 0, 'soccer': 1, 'teenagers': 2, 'machinelearning': 3, 'gameofthrones': 4,\n",
    "                                 'Showerthoughts': 5, 'unpopularopinion': 6, 'politics': 7, 'worldnews': 8}\n",
    "        self.data = data\n",
    "        self.subset = subset\n",
    "        self.holdout = holdout\n",
    "        \n",
    "    def _transform(self):\n",
    "        try:\n",
    "            self.data[\"subreddit\"] = self.data[\"subreddit\"].apply(lambda x: self.subredditToLabel[x])\n",
    "        except:\n",
    "            pass\n",
    "        \n",
    "        if self.subset:\n",
    "            self.data = (self.data.groupby('subreddit', group_keys=False).apply(lambda x: x.sample(min(len(x), self.subset)))).reset_index()\n",
    "#             self.data.groupby(\"subreddit\")[\"subreddit\"].count()\n",
    "            self.data = self.data.sample(frac=1).reset_index(drop=True)\n",
    "        \n",
    "    def _prepareHoldout(self):\n",
    "        holdout_size = int(len(self.data)*self.holdout)\n",
    "        \n",
    "        self.sentences = self.data.title.values\n",
    "        self.test_sentences = self.sentences[-holdout_size:]\n",
    "        self.sentences = self.sentences[:-holdout_size]\n",
    "        self.labels = self.data.subreddit.values\n",
    "        self.test_labels = self.labels[-holdout_size:]\n",
    "        self.labels = self.labels[:-holdout_size]"
   ]
  },
  {
   "cell_type": "code",
   "execution_count": 6,
   "metadata": {},
   "outputs": [],
   "source": [
    "class TextPreprocess:\n",
    "    def __init__(self, tokenizer, sentences, labels=None, MAX_LEN=128, batch_size=32, train=False):\n",
    "        self.tokenizer = tokenizer\n",
    "        self.MAX_LEN = MAX_LEN\n",
    "        self.batch_size = batch_size\n",
    "        self.sentences = sentences\n",
    "        self.labels = labels\n",
    "        self.train = train\n",
    "        \n",
    "        # Create attention masks\n",
    "        self.attention_masks = []\n",
    "        \n",
    "    def _tokenize(self):\n",
    "        self.sentences = [\"[CLS] \" + str(sentence) + \" [SEP]\" for sentence in tqdm(self.sentences, total=len(self.sentences), \n",
    "                                                                                   desc=\"Converting Sentences: \")]\n",
    "        tokenized_texts = [self.tokenizer.tokenize(sent) for sent in tqdm(self.sentences, total=len(self.sentences),\n",
    "                                                                          desc=\"Tokenizing: \")]\n",
    "        \n",
    "        # Use the DistilBERT tokenizer to convert the tokens to their index numbers in the DistilBERT vocabulary\n",
    "        self.input_ids = [self.tokenizer.convert_tokens_to_ids(x) for x in tqdm(tokenized_texts, total=len(tokenized_texts),\n",
    "                                                                                desc=\"Token to IDs: \")]\n",
    "        \n",
    "        # Pad input tokens\n",
    "        print(\"Padding input tokens...\")\n",
    "        self.input_ids = pad_sequences(self.input_ids, maxlen=self.MAX_LEN, dtype=\"long\", truncating=\"post\", padding=\"post\")\n",
    "        print(\"Done!\")\n",
    "        # Create a mask of 1s for each token followed by 0s for padding\n",
    "        for seq in tqdm(self.input_ids, total=len(self.input_ids), desc=\"Creating attention masks: \"):\n",
    "            seq_mask = [float(i>0) for i in seq]\n",
    "            self.attention_masks.append(seq_mask)\n",
    "        \n",
    "    def _trainValidSplit(self, test_size=0.2):\n",
    "        self.train_inputs, self.validation_inputs, self.train_labels, self.validation_labels = train_test_split(self.input_ids, self.labels, \n",
    "                                                                                            random_state=2018, test_size=test_size)\n",
    "        self.train_masks, self.validation_masks, _, _ = train_test_split(self.attention_masks, self.input_ids,\n",
    "                                                               random_state=2018, test_size=test_size)\n",
    "        \n",
    "    def _convertToTensors(self):\n",
    "        print(\"Converting to tensors...\")\n",
    "        if self.train:\n",
    "            self.train_inputs = torch.tensor(self.train_inputs)\n",
    "            self.validation_inputs = torch.tensor(self.validation_inputs)\n",
    "            self.train_labels = torch.tensor(self.train_labels)\n",
    "            self.validation_labels = torch.tensor(self.validation_labels)\n",
    "            self.train_masks = torch.tensor(self.train_masks)\n",
    "            self.validation_masks = torch.tensor(self.validation_masks)\n",
    "            \n",
    "            train_data = TensorDataset(self.train_inputs, self.train_masks, self.train_labels)\n",
    "            train_sampler = RandomSampler(train_data)\n",
    "            self.train_dataloader = DataLoader(train_data, sampler=train_sampler, batch_size=self.batch_size)\n",
    "\n",
    "            validation_data = TensorDataset(self.validation_inputs, self.validation_masks, self.validation_labels)\n",
    "            validation_sampler = SequentialSampler(validation_data)\n",
    "            self.validation_dataloader = DataLoader(validation_data, sampler=validation_sampler, batch_size=self.batch_size)\n",
    "            \n",
    "        else:\n",
    "            prediction_inputs = torch.tensor(self.input_ids)\n",
    "            prediction_masks = torch.tensor(self.attention_masks)\n",
    "\n",
    "            if self.labels is None:\n",
    "                prediction_data = TensorDataset(prediction_inputs, prediction_masks)\n",
    "                prediction_sampler = SequentialSampler(prediction_data)\n",
    "                self.prediction_dataloader = DataLoader(prediction_data, sampler=prediction_sampler, batch_size=self.batch_size)\n",
    "\n",
    "            else:\n",
    "                prediction_labels = torch.tensor(self.labels)\n",
    "                prediction_data = TensorDataset(prediction_inputs, prediction_masks, prediction_labels)\n",
    "                prediction_sampler = SequentialSampler(prediction_data)\n",
    "                self.prediction_dataloader = DataLoader(prediction_data, sampler=prediction_sampler, batch_size=self.batch_size)\n",
    "        print(\"Done!\")"
   ]
  },
  {
   "cell_type": "code",
   "execution_count": 12,
   "metadata": {},
   "outputs": [],
   "source": [
    "class Trainer:\n",
    "    def __init__(self, model, tokenizer, train_dataloader, validation_dataloader, epochs=2):\n",
    "        self.model = model\n",
    "        self.train_loss_set = []\n",
    "        self.epochs = epochs\n",
    "        self.train_dataloader = train_dataloader\n",
    "        self.validation_dataloader = validation_dataloader\n",
    "        self.tokenizer = tokenizer\n",
    "        \n",
    "    def _setOptimizer(self):\n",
    "        param_optimizer = list(self.model.named_parameters())\n",
    "        no_decay = ['bias', 'gamma', 'beta']\n",
    "        optimizer_grouped_parameters = [\n",
    "            {'params': [p for n, p in param_optimizer if not any(nd in n for nd in no_decay)],\n",
    "             'weight_decay_rate': 0.01},\n",
    "            {'params': [p for n, p in param_optimizer if any(nd in n for nd in no_decay)],\n",
    "             'weight_decay_rate': 0.0}\n",
    "        ]\n",
    "        \n",
    "        self.optimizer = AdamW(optimizer_grouped_parameters, lr=2e-5)\n",
    "        self.loss_func = CrossEntropyLoss()\n",
    "        \n",
    "    def _flatAccuracy(self, preds, labels):\n",
    "        pred_flat = np.argmax(preds, axis=1).flatten()\n",
    "        labels_flat = labels.flatten()\n",
    "        return np.sum(pred_flat == labels_flat) / len(labels_flat)\n",
    "    \n",
    "    def _train(self):\n",
    "        for epoch in tqdm(range(self.epochs), desc=\"Epoch: \"):\n",
    "            # Set our model to training mode (as opposed to evaluation mode)\n",
    "            self.model.train()\n",
    "\n",
    "            # Tracking variables\n",
    "            tr_loss = 0\n",
    "            nb_tr_examples, nb_tr_steps = 0, 0\n",
    "\n",
    "            # Train the data for one epoch\n",
    "            with tqdm(enumerate(self.train_dataloader), total=len(self.train_dataloader), desc=\"Training: \") as t:\n",
    "                for step, batch in t:\n",
    "                    # Add batch to GPU\n",
    "                    batch = tuple(t.to(device) for t in batch)\n",
    "                    # Unpack the inputs from our dataloader\n",
    "                    b_input_ids, b_input_mask, b_labels = batch\n",
    "\n",
    "                    # Clear out the gradients (by default they accumulate)\n",
    "                    self.optimizer.zero_grad()\n",
    "\n",
    "                    # Forward pass\n",
    "                    outputs = self.model(b_input_ids, attention_mask=b_input_mask, labels=b_labels)\n",
    "                    loss = outputs[0]\n",
    "                    logits = outputs[1]\n",
    "                    self.train_loss_set.append(loss.item())    \n",
    "\n",
    "                    # Backward pass\n",
    "                    loss.backward()\n",
    "\n",
    "                    # Update parameters and take a step using the computed gradient\n",
    "                    self.optimizer.step()\n",
    "\n",
    "    #                 if step % 100 == 0:\n",
    "    #                     print(\"Epoch: {}, Step: {}, Loss: {}\".format(epoch, step, loss.item()))\n",
    "\n",
    "                # Update tracking variables\n",
    "                tr_loss += loss.item()\n",
    "                nb_tr_examples += b_input_ids.size(0)\n",
    "                nb_tr_steps += 1\n",
    "\n",
    "                t.set_postfix(train_loss=(tr_loss/nb_tr_steps))\n",
    "\n",
    "                # Validation\n",
    "                self._evaluator(epoch)\n",
    "    \n",
    "    def _evaluator(self, epoch):\n",
    "        # Put model in evaluation mode to evaluate loss on the validation set\n",
    "        model.eval()\n",
    "\n",
    "        # Tracking variables \n",
    "        eval_loss, eval_accuracy = 0, 0\n",
    "        nb_eval_steps, nb_eval_examples = 0, 0\n",
    "\n",
    "        # Evaluate data for one epoch\n",
    "        with tqdm(self.validation_dataloader, total=len(self.validation_dataloader), desc=\"Validating: \") as t:\n",
    "            for batch in t:\n",
    "                # Add batch to GPU\n",
    "                batch = tuple(t.to(device) for t in batch)\n",
    "                # Unpack the inputs from our dataloader\n",
    "                b_input_ids, b_input_mask, b_labels = batch\n",
    "                # Telling the model not to compute or store gradients, saving memory and speeding up validation\n",
    "                with torch.no_grad():\n",
    "                    # Forward pass, calculate logit predictions\n",
    "                    output = self.model(b_input_ids, attention_mask=b_input_mask)\n",
    "                    logits = output[0]\n",
    "\n",
    "            # Move logits and labels to CPU\n",
    "            logits = logits.detach().cpu().numpy()\n",
    "            label_ids = b_labels.to('cpu').numpy()\n",
    "\n",
    "            tmp_eval_accuracy = self._flatAccuracy(logits, label_ids)\n",
    "\n",
    "            eval_accuracy += tmp_eval_accuracy\n",
    "            nb_eval_steps += 1\n",
    "\n",
    "            t.set_postfix(val_acc=(eval_accuracy/nb_eval_steps))\n",
    "\n",
    "            directory = \"distilbert_epoch_\" + str(epoch+3) + '_wholedata/'\n",
    "\n",
    "            if not os.path.exists(directory):\n",
    "                os.makedirs(directory)\n",
    "\n",
    "            self.model.save_pretrained(directory)  # save\n",
    "            self.tokenizer.save_pretrained(directory)  # save     "
   ]
  },
  {
   "cell_type": "code",
   "execution_count": 8,
   "metadata": {},
   "outputs": [
    {
     "name": "stdout",
     "output_type": "stream",
     "text": [
      "Length of dataset:  2425279\n",
      "Length of training dataset:  2401027\n",
      "Length of holdout dataset:  24252\n"
     ]
    }
   ],
   "source": [
    "dataset = DataSet(data=data, holdout=0.01)\n",
    "dataset._transform()\n",
    "dataset._prepareHoldout()\n",
    "print(\"Length of dataset: \", len(dataset.data))\n",
    "print(\"Length of training dataset: \", len(dataset.sentences))\n",
    "print(\"Length of holdout dataset: \", len(dataset.test_sentences))"
   ]
  },
  {
   "cell_type": "code",
   "execution_count": 9,
   "metadata": {},
   "outputs": [
    {
     "data": {
      "text/plain": [
       "DistilBertForSequenceClassification(\n",
       "  (distilbert): DistilBertModel(\n",
       "    (embeddings): Embeddings(\n",
       "      (word_embeddings): Embedding(30522, 768, padding_idx=0)\n",
       "      (position_embeddings): Embedding(512, 768)\n",
       "      (LayerNorm): LayerNorm((768,), eps=1e-12, elementwise_affine=True)\n",
       "      (dropout): Dropout(p=0.1, inplace=False)\n",
       "    )\n",
       "    (transformer): Transformer(\n",
       "      (layer): ModuleList(\n",
       "        (0): TransformerBlock(\n",
       "          (dropout): Dropout(p=0.1, inplace=False)\n",
       "          (attention): MultiHeadSelfAttention(\n",
       "            (dropout): Dropout(p=0.1, inplace=False)\n",
       "            (q_lin): Linear(in_features=768, out_features=768, bias=True)\n",
       "            (k_lin): Linear(in_features=768, out_features=768, bias=True)\n",
       "            (v_lin): Linear(in_features=768, out_features=768, bias=True)\n",
       "            (out_lin): Linear(in_features=768, out_features=768, bias=True)\n",
       "          )\n",
       "          (sa_layer_norm): LayerNorm((768,), eps=1e-12, elementwise_affine=True)\n",
       "          (ffn): FFN(\n",
       "            (dropout): Dropout(p=0.1, inplace=False)\n",
       "            (lin1): Linear(in_features=768, out_features=3072, bias=True)\n",
       "            (lin2): Linear(in_features=3072, out_features=768, bias=True)\n",
       "          )\n",
       "          (output_layer_norm): LayerNorm((768,), eps=1e-12, elementwise_affine=True)\n",
       "        )\n",
       "        (1): TransformerBlock(\n",
       "          (dropout): Dropout(p=0.1, inplace=False)\n",
       "          (attention): MultiHeadSelfAttention(\n",
       "            (dropout): Dropout(p=0.1, inplace=False)\n",
       "            (q_lin): Linear(in_features=768, out_features=768, bias=True)\n",
       "            (k_lin): Linear(in_features=768, out_features=768, bias=True)\n",
       "            (v_lin): Linear(in_features=768, out_features=768, bias=True)\n",
       "            (out_lin): Linear(in_features=768, out_features=768, bias=True)\n",
       "          )\n",
       "          (sa_layer_norm): LayerNorm((768,), eps=1e-12, elementwise_affine=True)\n",
       "          (ffn): FFN(\n",
       "            (dropout): Dropout(p=0.1, inplace=False)\n",
       "            (lin1): Linear(in_features=768, out_features=3072, bias=True)\n",
       "            (lin2): Linear(in_features=3072, out_features=768, bias=True)\n",
       "          )\n",
       "          (output_layer_norm): LayerNorm((768,), eps=1e-12, elementwise_affine=True)\n",
       "        )\n",
       "        (2): TransformerBlock(\n",
       "          (dropout): Dropout(p=0.1, inplace=False)\n",
       "          (attention): MultiHeadSelfAttention(\n",
       "            (dropout): Dropout(p=0.1, inplace=False)\n",
       "            (q_lin): Linear(in_features=768, out_features=768, bias=True)\n",
       "            (k_lin): Linear(in_features=768, out_features=768, bias=True)\n",
       "            (v_lin): Linear(in_features=768, out_features=768, bias=True)\n",
       "            (out_lin): Linear(in_features=768, out_features=768, bias=True)\n",
       "          )\n",
       "          (sa_layer_norm): LayerNorm((768,), eps=1e-12, elementwise_affine=True)\n",
       "          (ffn): FFN(\n",
       "            (dropout): Dropout(p=0.1, inplace=False)\n",
       "            (lin1): Linear(in_features=768, out_features=3072, bias=True)\n",
       "            (lin2): Linear(in_features=3072, out_features=768, bias=True)\n",
       "          )\n",
       "          (output_layer_norm): LayerNorm((768,), eps=1e-12, elementwise_affine=True)\n",
       "        )\n",
       "        (3): TransformerBlock(\n",
       "          (dropout): Dropout(p=0.1, inplace=False)\n",
       "          (attention): MultiHeadSelfAttention(\n",
       "            (dropout): Dropout(p=0.1, inplace=False)\n",
       "            (q_lin): Linear(in_features=768, out_features=768, bias=True)\n",
       "            (k_lin): Linear(in_features=768, out_features=768, bias=True)\n",
       "            (v_lin): Linear(in_features=768, out_features=768, bias=True)\n",
       "            (out_lin): Linear(in_features=768, out_features=768, bias=True)\n",
       "          )\n",
       "          (sa_layer_norm): LayerNorm((768,), eps=1e-12, elementwise_affine=True)\n",
       "          (ffn): FFN(\n",
       "            (dropout): Dropout(p=0.1, inplace=False)\n",
       "            (lin1): Linear(in_features=768, out_features=3072, bias=True)\n",
       "            (lin2): Linear(in_features=3072, out_features=768, bias=True)\n",
       "          )\n",
       "          (output_layer_norm): LayerNorm((768,), eps=1e-12, elementwise_affine=True)\n",
       "        )\n",
       "        (4): TransformerBlock(\n",
       "          (dropout): Dropout(p=0.1, inplace=False)\n",
       "          (attention): MultiHeadSelfAttention(\n",
       "            (dropout): Dropout(p=0.1, inplace=False)\n",
       "            (q_lin): Linear(in_features=768, out_features=768, bias=True)\n",
       "            (k_lin): Linear(in_features=768, out_features=768, bias=True)\n",
       "            (v_lin): Linear(in_features=768, out_features=768, bias=True)\n",
       "            (out_lin): Linear(in_features=768, out_features=768, bias=True)\n",
       "          )\n",
       "          (sa_layer_norm): LayerNorm((768,), eps=1e-12, elementwise_affine=True)\n",
       "          (ffn): FFN(\n",
       "            (dropout): Dropout(p=0.1, inplace=False)\n",
       "            (lin1): Linear(in_features=768, out_features=3072, bias=True)\n",
       "            (lin2): Linear(in_features=3072, out_features=768, bias=True)\n",
       "          )\n",
       "          (output_layer_norm): LayerNorm((768,), eps=1e-12, elementwise_affine=True)\n",
       "        )\n",
       "        (5): TransformerBlock(\n",
       "          (dropout): Dropout(p=0.1, inplace=False)\n",
       "          (attention): MultiHeadSelfAttention(\n",
       "            (dropout): Dropout(p=0.1, inplace=False)\n",
       "            (q_lin): Linear(in_features=768, out_features=768, bias=True)\n",
       "            (k_lin): Linear(in_features=768, out_features=768, bias=True)\n",
       "            (v_lin): Linear(in_features=768, out_features=768, bias=True)\n",
       "            (out_lin): Linear(in_features=768, out_features=768, bias=True)\n",
       "          )\n",
       "          (sa_layer_norm): LayerNorm((768,), eps=1e-12, elementwise_affine=True)\n",
       "          (ffn): FFN(\n",
       "            (dropout): Dropout(p=0.1, inplace=False)\n",
       "            (lin1): Linear(in_features=768, out_features=3072, bias=True)\n",
       "            (lin2): Linear(in_features=3072, out_features=768, bias=True)\n",
       "          )\n",
       "          (output_layer_norm): LayerNorm((768,), eps=1e-12, elementwise_affine=True)\n",
       "        )\n",
       "      )\n",
       "    )\n",
       "  )\n",
       "  (pre_classifier): Linear(in_features=768, out_features=768, bias=True)\n",
       "  (classifier): Linear(in_features=768, out_features=9, bias=True)\n",
       "  (dropout): Dropout(p=0.2, inplace=False)\n",
       ")"
      ]
     },
     "execution_count": 9,
     "metadata": {},
     "output_type": "execute_result"
    }
   ],
   "source": [
    "# Load pre-trained tokenizer\n",
    "# tokenizer = DistilBertTokenizer.from_pretrained('distilbert-base-uncased', do_lower_case=True)\n",
    "tokenizer = DistilBertTokenizer.from_pretrained('distilbert_epoch_2_wholedata/', do_lower_case=True)\n",
    "# Load pre-trained DistilBert model\n",
    "# model = DistilBertForSequenceClassification.from_pretrained(\"distilbert-base-uncased\", num_labels=9)\n",
    "model = DistilBertForSequenceClassification.from_pretrained(\"distilbert_epoch_2_wholedata/\", num_labels=9)\n",
    "model.cuda()"
   ]
  },
  {
   "cell_type": "code",
   "execution_count": 10,
   "metadata": {},
   "outputs": [
    {
     "data": {
      "application/vnd.jupyter.widget-view+json": {
       "model_id": "c187bf384c1f4c78be3c5114f28f6682",
       "version_major": 2,
       "version_minor": 0
      },
      "text/plain": [
       "HBox(children=(IntProgress(value=0, description='Converting Sentences: ', max=2401027, style=ProgressStyle(des…"
      ]
     },
     "metadata": {},
     "output_type": "display_data"
    },
    {
     "name": "stdout",
     "output_type": "stream",
     "text": [
      "\n"
     ]
    },
    {
     "data": {
      "application/vnd.jupyter.widget-view+json": {
       "model_id": "9b84f7f1088a4d39882d9aff7f476abb",
       "version_major": 2,
       "version_minor": 0
      },
      "text/plain": [
       "HBox(children=(IntProgress(value=0, description='Tokenizing: ', max=2401027, style=ProgressStyle(description_w…"
      ]
     },
     "metadata": {},
     "output_type": "display_data"
    },
    {
     "name": "stdout",
     "output_type": "stream",
     "text": [
      "\n"
     ]
    },
    {
     "data": {
      "application/vnd.jupyter.widget-view+json": {
       "model_id": "329af52b04a5476a9e77f3ef2f27ba12",
       "version_major": 2,
       "version_minor": 0
      },
      "text/plain": [
       "HBox(children=(IntProgress(value=0, description='Token to IDs: ', max=2401027, style=ProgressStyle(description…"
      ]
     },
     "metadata": {},
     "output_type": "display_data"
    },
    {
     "name": "stdout",
     "output_type": "stream",
     "text": [
      "\n",
      "Padding input tokens...\n",
      "Done!\n"
     ]
    },
    {
     "data": {
      "application/vnd.jupyter.widget-view+json": {
       "model_id": "917a0b9eaed24feb9b484f8150dd2eae",
       "version_major": 2,
       "version_minor": 0
      },
      "text/plain": [
       "HBox(children=(IntProgress(value=0, description='Creating attention masks: ', max=2401027, style=ProgressStyle…"
      ]
     },
     "metadata": {},
     "output_type": "display_data"
    },
    {
     "name": "stdout",
     "output_type": "stream",
     "text": [
      "\n",
      "Converting to tensors...\n",
      "Done!\n"
     ]
    }
   ],
   "source": [
    "preprocess = TextPreprocess(tokenizer=tokenizer, sentences=dataset.sentences, labels=dataset.labels, train=True)\n",
    "preprocess._tokenize()\n",
    "preprocess._trainValidSplit()\n",
    "preprocess._convertToTensors()"
   ]
  },
  {
   "cell_type": "code",
   "execution_count": 11,
   "metadata": {},
   "outputs": [
    {
     "data": {
      "text/plain": [
       "45"
      ]
     },
     "execution_count": 11,
     "metadata": {},
     "output_type": "execute_result"
    }
   ],
   "source": [
    "gc.collect()"
   ]
  },
  {
   "cell_type": "code",
   "execution_count": 13,
   "metadata": {},
   "outputs": [
    {
     "data": {
      "application/vnd.jupyter.widget-view+json": {
       "model_id": "959b2aa061134ab3a005de4f10975c8e",
       "version_major": 2,
       "version_minor": 0
      },
      "text/plain": [
       "HBox(children=(IntProgress(value=0, description='Epoch: ', max=2, style=ProgressStyle(description_width='initi…"
      ]
     },
     "metadata": {},
     "output_type": "display_data"
    },
    {
     "data": {
      "application/vnd.jupyter.widget-view+json": {
       "model_id": "14ca8ed3717f4b02b9771b8a4affd2f3",
       "version_major": 2,
       "version_minor": 0
      },
      "text/plain": [
       "HBox(children=(IntProgress(value=0, description='Training: ', max=60026, style=ProgressStyle(description_width…"
      ]
     },
     "metadata": {},
     "output_type": "display_data"
    },
    {
     "name": "stdout",
     "output_type": "stream",
     "text": [
      "\n"
     ]
    },
    {
     "ename": "RuntimeError",
     "evalue": "CUDA error: uncorrectable ECC error encountered",
     "output_type": "error",
     "traceback": [
      "\u001b[0;31m---------------------------------------------------------------------------\u001b[0m",
      "\u001b[0;31mRuntimeError\u001b[0m                              Traceback (most recent call last)",
      "\u001b[0;32m<ipython-input-13-74315c2d60f1>\u001b[0m in \u001b[0;36m<module>\u001b[0;34m\u001b[0m\n\u001b[1;32m      2\u001b[0m                   validation_dataloader=preprocess.validation_dataloader)\n\u001b[1;32m      3\u001b[0m \u001b[0mtrainer\u001b[0m\u001b[0;34m.\u001b[0m\u001b[0m_setOptimizer\u001b[0m\u001b[0;34m(\u001b[0m\u001b[0;34m)\u001b[0m\u001b[0;34m\u001b[0m\u001b[0;34m\u001b[0m\u001b[0m\n\u001b[0;32m----> 4\u001b[0;31m \u001b[0mtrainer\u001b[0m\u001b[0;34m.\u001b[0m\u001b[0m_train\u001b[0m\u001b[0;34m(\u001b[0m\u001b[0;34m)\u001b[0m\u001b[0;34m\u001b[0m\u001b[0;34m\u001b[0m\u001b[0m\n\u001b[0m",
      "\u001b[0;32m<ipython-input-12-f13277b87525>\u001b[0m in \u001b[0;36m_train\u001b[0;34m(self)\u001b[0m\n\u001b[1;32m     50\u001b[0m                     \u001b[0mloss\u001b[0m \u001b[0;34m=\u001b[0m \u001b[0moutputs\u001b[0m\u001b[0;34m[\u001b[0m\u001b[0;36m0\u001b[0m\u001b[0;34m]\u001b[0m\u001b[0;34m\u001b[0m\u001b[0;34m\u001b[0m\u001b[0m\n\u001b[1;32m     51\u001b[0m                     \u001b[0mlogits\u001b[0m \u001b[0;34m=\u001b[0m \u001b[0moutputs\u001b[0m\u001b[0;34m[\u001b[0m\u001b[0;36m1\u001b[0m\u001b[0;34m]\u001b[0m\u001b[0;34m\u001b[0m\u001b[0;34m\u001b[0m\u001b[0m\n\u001b[0;32m---> 52\u001b[0;31m                     \u001b[0mself\u001b[0m\u001b[0;34m.\u001b[0m\u001b[0mtrain_loss_set\u001b[0m\u001b[0;34m.\u001b[0m\u001b[0mappend\u001b[0m\u001b[0;34m(\u001b[0m\u001b[0mloss\u001b[0m\u001b[0;34m.\u001b[0m\u001b[0mitem\u001b[0m\u001b[0;34m(\u001b[0m\u001b[0;34m)\u001b[0m\u001b[0;34m)\u001b[0m\u001b[0;34m\u001b[0m\u001b[0;34m\u001b[0m\u001b[0m\n\u001b[0m\u001b[1;32m     53\u001b[0m \u001b[0;34m\u001b[0m\u001b[0m\n\u001b[1;32m     54\u001b[0m                     \u001b[0;31m# Backward pass\u001b[0m\u001b[0;34m\u001b[0m\u001b[0;34m\u001b[0m\u001b[0;34m\u001b[0m\u001b[0m\n",
      "\u001b[0;31mRuntimeError\u001b[0m: CUDA error: uncorrectable ECC error encountered"
     ]
    }
   ],
   "source": [
    "trainer = Trainer(model=model, tokenizer=tokenizer, train_dataloader=preprocess.train_dataloader, \n",
    "                  validation_dataloader=preprocess.validation_dataloader)\n",
    "trainer._setOptimizer()\n",
    "trainer._train()"
   ]
  },
  {
   "cell_type": "code",
   "execution_count": 6,
   "metadata": {},
   "outputs": [],
   "source": [
    "torch.cuda.empty_cache()"
   ]
  },
  {
   "cell_type": "code",
   "execution_count": 96,
   "metadata": {},
   "outputs": [
    {
     "data": {
      "image/png": "[encoded data removed]",
      "text/plain": [
       "<Figure size 1080x576 with 1 Axes>"
      ]
     },
     "metadata": {
      "needs_background": "light"
     },
     "output_type": "display_data"
    }
   ],
   "source": [
    "plt.figure(figsize=(15,8))\n",
    "plt.title(\"Training loss\")\n",
    "plt.xlabel(\"Batch\")\n",
    "plt.ylabel(\"Loss\")\n",
    "plt.plot(trainer.train_loss_set)\n",
    "plt.show()"
   ]
  },
  {
   "cell_type": "markdown",
   "metadata": {},
   "source": [
    "### Load fine-tuned DistilBERT Model"
   ]
  },
  {
   "cell_type": "code",
   "execution_count": 97,
   "metadata": {},
   "outputs": [
    {
     "data": {
      "text/plain": [
       "DistilBertForSequenceClassification(\n",
       "  (distilbert): DistilBertModel(\n",
       "    (embeddings): Embeddings(\n",
       "      (word_embeddings): Embedding(30522, 768, padding_idx=0)\n",
       "      (position_embeddings): Embedding(512, 768)\n",
       "      (LayerNorm): LayerNorm((768,), eps=1e-12, elementwise_affine=True)\n",
       "      (dropout): Dropout(p=0.1, inplace=False)\n",
       "    )\n",
       "    (transformer): Transformer(\n",
       "      (layer): ModuleList(\n",
       "        (0): TransformerBlock(\n",
       "          (dropout): Dropout(p=0.1, inplace=False)\n",
       "          (attention): MultiHeadSelfAttention(\n",
       "            (dropout): Dropout(p=0.1, inplace=False)\n",
       "            (q_lin): Linear(in_features=768, out_features=768, bias=True)\n",
       "            (k_lin): Linear(in_features=768, out_features=768, bias=True)\n",
       "            (v_lin): Linear(in_features=768, out_features=768, bias=True)\n",
       "            (out_lin): Linear(in_features=768, out_features=768, bias=True)\n",
       "          )\n",
       "          (sa_layer_norm): LayerNorm((768,), eps=1e-12, elementwise_affine=True)\n",
       "          (ffn): FFN(\n",
       "            (dropout): Dropout(p=0.1, inplace=False)\n",
       "            (lin1): Linear(in_features=768, out_features=3072, bias=True)\n",
       "            (lin2): Linear(in_features=3072, out_features=768, bias=True)\n",
       "          )\n",
       "          (output_layer_norm): LayerNorm((768,), eps=1e-12, elementwise_affine=True)\n",
       "        )\n",
       "        (1): TransformerBlock(\n",
       "          (dropout): Dropout(p=0.1, inplace=False)\n",
       "          (attention): MultiHeadSelfAttention(\n",
       "            (dropout): Dropout(p=0.1, inplace=False)\n",
       "            (q_lin): Linear(in_features=768, out_features=768, bias=True)\n",
       "            (k_lin): Linear(in_features=768, out_features=768, bias=True)\n",
       "            (v_lin): Linear(in_features=768, out_features=768, bias=True)\n",
       "            (out_lin): Linear(in_features=768, out_features=768, bias=True)\n",
       "          )\n",
       "          (sa_layer_norm): LayerNorm((768,), eps=1e-12, elementwise_affine=True)\n",
       "          (ffn): FFN(\n",
       "            (dropout): Dropout(p=0.1, inplace=False)\n",
       "            (lin1): Linear(in_features=768, out_features=3072, bias=True)\n",
       "            (lin2): Linear(in_features=3072, out_features=768, bias=True)\n",
       "          )\n",
       "          (output_layer_norm): LayerNorm((768,), eps=1e-12, elementwise_affine=True)\n",
       "        )\n",
       "        (2): TransformerBlock(\n",
       "          (dropout): Dropout(p=0.1, inplace=False)\n",
       "          (attention): MultiHeadSelfAttention(\n",
       "            (dropout): Dropout(p=0.1, inplace=False)\n",
       "            (q_lin): Linear(in_features=768, out_features=768, bias=True)\n",
       "            (k_lin): Linear(in_features=768, out_features=768, bias=True)\n",
       "            (v_lin): Linear(in_features=768, out_features=768, bias=True)\n",
       "            (out_lin): Linear(in_features=768, out_features=768, bias=True)\n",
       "          )\n",
       "          (sa_layer_norm): LayerNorm((768,), eps=1e-12, elementwise_affine=True)\n",
       "          (ffn): FFN(\n",
       "            (dropout): Dropout(p=0.1, inplace=False)\n",
       "            (lin1): Linear(in_features=768, out_features=3072, bias=True)\n",
       "            (lin2): Linear(in_features=3072, out_features=768, bias=True)\n",
       "          )\n",
       "          (output_layer_norm): LayerNorm((768,), eps=1e-12, elementwise_affine=True)\n",
       "        )\n",
       "        (3): TransformerBlock(\n",
       "          (dropout): Dropout(p=0.1, inplace=False)\n",
       "          (attention): MultiHeadSelfAttention(\n",
       "            (dropout): Dropout(p=0.1, inplace=False)\n",
       "            (q_lin): Linear(in_features=768, out_features=768, bias=True)\n",
       "            (k_lin): Linear(in_features=768, out_features=768, bias=True)\n",
       "            (v_lin): Linear(in_features=768, out_features=768, bias=True)\n",
       "            (out_lin): Linear(in_features=768, out_features=768, bias=True)\n",
       "          )\n",
       "          (sa_layer_norm): LayerNorm((768,), eps=1e-12, elementwise_affine=True)\n",
       "          (ffn): FFN(\n",
       "            (dropout): Dropout(p=0.1, inplace=False)\n",
       "            (lin1): Linear(in_features=768, out_features=3072, bias=True)\n",
       "            (lin2): Linear(in_features=3072, out_features=768, bias=True)\n",
       "          )\n",
       "          (output_layer_norm): LayerNorm((768,), eps=1e-12, elementwise_affine=True)\n",
       "        )\n",
       "        (4): TransformerBlock(\n",
       "          (dropout): Dropout(p=0.1, inplace=False)\n",
       "          (attention): MultiHeadSelfAttention(\n",
       "            (dropout): Dropout(p=0.1, inplace=False)\n",
       "            (q_lin): Linear(in_features=768, out_features=768, bias=True)\n",
       "            (k_lin): Linear(in_features=768, out_features=768, bias=True)\n",
       "            (v_lin): Linear(in_features=768, out_features=768, bias=True)\n",
       "            (out_lin): Linear(in_features=768, out_features=768, bias=True)\n",
       "          )\n",
       "          (sa_layer_norm): LayerNorm((768,), eps=1e-12, elementwise_affine=True)\n",
       "          (ffn): FFN(\n",
       "            (dropout): Dropout(p=0.1, inplace=False)\n",
       "            (lin1): Linear(in_features=768, out_features=3072, bias=True)\n",
       "            (lin2): Linear(in_features=3072, out_features=768, bias=True)\n",
       "          )\n",
       "          (output_layer_norm): LayerNorm((768,), eps=1e-12, elementwise_affine=True)\n",
       "        )\n",
       "        (5): TransformerBlock(\n",
       "          (dropout): Dropout(p=0.1, inplace=False)\n",
       "          (attention): MultiHeadSelfAttention(\n",
       "            (dropout): Dropout(p=0.1, inplace=False)\n",
       "            (q_lin): Linear(in_features=768, out_features=768, bias=True)\n",
       "            (k_lin): Linear(in_features=768, out_features=768, bias=True)\n",
       "            (v_lin): Linear(in_features=768, out_features=768, bias=True)\n",
       "            (out_lin): Linear(in_features=768, out_features=768, bias=True)\n",
       "          )\n",
       "          (sa_layer_norm): LayerNorm((768,), eps=1e-12, elementwise_affine=True)\n",
       "          (ffn): FFN(\n",
       "            (dropout): Dropout(p=0.1, inplace=False)\n",
       "            (lin1): Linear(in_features=768, out_features=3072, bias=True)\n",
       "            (lin2): Linear(in_features=3072, out_features=768, bias=True)\n",
       "          )\n",
       "          (output_layer_norm): LayerNorm((768,), eps=1e-12, elementwise_affine=True)\n",
       "        )\n",
       "      )\n",
       "    )\n",
       "  )\n",
       "  (pre_classifier): Linear(in_features=768, out_features=768, bias=True)\n",
       "  (classifier): Linear(in_features=768, out_features=9, bias=True)\n",
       "  (dropout): Dropout(p=0.2, inplace=False)\n",
       ")"
      ]
     },
     "execution_count": 97,
     "metadata": {},
     "output_type": "execute_result"
    }
   ],
   "source": [
    "model = DistilBertForSequenceClassification.from_pretrained('distilbert_epoch_4_data_102/')  # re-load\n",
    "tokenizer = DistilBertTokenizer.from_pretrained('distilbert_epoch_4_data_102/')  # re-load\n",
    "model.cuda()"
   ]
  },
  {
   "cell_type": "code",
   "execution_count": 123,
   "metadata": {},
   "outputs": [],
   "source": [
    " class Tester:\n",
    "    def __init__(self, model, device, prediction_dataloader, plotlabels=None, labels_available=False):\n",
    "        self.model = model\n",
    "        self.predictions = []\n",
    "        self.true_labels = []\n",
    "        self.device = device\n",
    "        self.labels_available = labels_available\n",
    "        self.prediction_dataloader = prediction_dataloader\n",
    "        self.plotlabels = plotlabels\n",
    "        \n",
    "    def _evaluation(self):\n",
    "        self.model.eval()\n",
    "        n = len(self.prediction_dataloader)\n",
    "        for batch in tqdm(self.prediction_dataloader, total=len(self.prediction_dataloader), desc=\"Evaluating: \"):            \n",
    "            # Add batch to GPU\n",
    "            batch = tuple(t.to(self.device) for t in batch)\n",
    "            \n",
    "            # Unpack the inputs from our dataloader\n",
    "            if self.labels_available:\n",
    "                b_input_ids, b_input_mask, b_labels = batch\n",
    "            else:\n",
    "                b_input_ids, b_input_mask = batch\n",
    "            \n",
    "            # Telling the model not to compute or store gradients, saving memory and speeding up prediction\n",
    "            with torch.no_grad():\n",
    "                # Forward pass, calculate logit predictions\n",
    "                outputs = self.model(b_input_ids, attention_mask=b_input_mask)\n",
    "                logits = outputs[0]\n",
    "\n",
    "            # Move logits and labels to CPU\n",
    "            logits = logits.detach().cpu().numpy()\n",
    "            if self.labels_available:\n",
    "                label_ids = b_labels.to('cpu').numpy()\n",
    "                \n",
    "            # Store predictions\n",
    "            self.predictions.append(logits)\n",
    "            if self.labels_available:\n",
    "                self.true_labels.append(label_ids)\n",
    "        \n",
    "        self._retrieveClasses()\n",
    "        if self.labels_available:\n",
    "            self._printStats()\n",
    "            \n",
    "    def _retrieveClasses(self):\n",
    "        self.flat_predictions = [item for sublist in self.predictions for item in sublist]\n",
    "        self.flat_predictions = np.argmax(self.flat_predictions, axis=1).flatten()\n",
    "        if self.labels_available:\n",
    "            self.flat_true_labels = [item for sublist in self.true_labels for item in sublist]\n",
    "            \n",
    "    def _printStats(self, sep='-', sep_len=40):\n",
    "        print('Accuracy = %.3f' % accuracy_score(self.flat_true_labels, self.flat_predictions))\n",
    "        print(sep*sep_len)\n",
    "        print('Classification report:')\n",
    "        print(classification_report(self.flat_true_labels, self.flat_predictions))\n",
    "        print(sep*sep_len)\n",
    "        print('Confusion matrix')\n",
    "        cm=confusion_matrix(self.flat_true_labels, self.flat_predictions)\n",
    "        cm = cm / np.sum(cm, axis=1)[:,None]\n",
    "        heatmap = sns.heatmap(cm, \n",
    "            xticklabels=self.plotlabels,\n",
    "            yticklabels=self.plotlabels,\n",
    "            annot=True, cmap = 'YlGnBu')\n",
    "        fig = heatmap.get_figure()\n",
    "        if self.labels_available:\n",
    "            fig.savefig(\"heatmap_holdout.png\")\n",
    "        else:\n",
    "            fig.savefig(\"new_predictions.png\")"
   ]
  },
  {
   "cell_type": "code",
   "execution_count": 124,
   "metadata": {},
   "outputs": [
    {
     "data": {
      "application/vnd.jupyter.widget-view+json": {
       "model_id": "0026725cc5824f319f3dc76140426a1d",
       "version_major": 2,
       "version_minor": 0
      },
      "text/plain": [
       "HBox(children=(IntProgress(value=0, description='Converting Sentences: ', max=450, style=ProgressStyle(descrip…"
      ]
     },
     "metadata": {},
     "output_type": "display_data"
    },
    {
     "name": "stdout",
     "output_type": "stream",
     "text": [
      "\n"
     ]
    },
    {
     "data": {
      "application/vnd.jupyter.widget-view+json": {
       "model_id": "2b8787e21ad7485aa3043cb633114060",
       "version_major": 2,
       "version_minor": 0
      },
      "text/plain": [
       "HBox(children=(IntProgress(value=0, description='Tokenizing: ', max=450, style=ProgressStyle(description_width…"
      ]
     },
     "metadata": {},
     "output_type": "display_data"
    },
    {
     "name": "stdout",
     "output_type": "stream",
     "text": [
      "\n"
     ]
    },
    {
     "data": {
      "application/vnd.jupyter.widget-view+json": {
       "model_id": "0341b34459134083904ac3787688ae49",
       "version_major": 2,
       "version_minor": 0
      },
      "text/plain": [
       "HBox(children=(IntProgress(value=0, description='Token to IDs: ', max=450, style=ProgressStyle(description_wid…"
      ]
     },
     "metadata": {},
     "output_type": "display_data"
    },
    {
     "name": "stdout",
     "output_type": "stream",
     "text": [
      "\n",
      "Padding input tokens...\n",
      "Done!\n"
     ]
    },
    {
     "data": {
      "application/vnd.jupyter.widget-view+json": {
       "model_id": "ce768fbcdb654202a42f29640d797e29",
       "version_major": 2,
       "version_minor": 0
      },
      "text/plain": [
       "HBox(children=(IntProgress(value=0, description='Creating attention masks: ', max=450, style=ProgressStyle(des…"
      ]
     },
     "metadata": {},
     "output_type": "display_data"
    },
    {
     "name": "stdout",
     "output_type": "stream",
     "text": [
      "\n",
      "Converting to tensors...\n",
      "Done!\n"
     ]
    },
    {
     "data": {
      "application/vnd.jupyter.widget-view+json": {
       "model_id": "8dce1ad5c2174f5b85bb43684fea7d71",
       "version_major": 2,
       "version_minor": 0
      },
      "text/plain": [
       "HBox(children=(IntProgress(value=0, description='Evaluating: ', max=15, style=ProgressStyle(description_width=…"
      ]
     },
     "metadata": {},
     "output_type": "display_data"
    },
    {
     "name": "stdout",
     "output_type": "stream",
     "text": [
      "\n",
      "Accuracy = 0.716\n",
      "----------------------------------------\n",
      "Classification report:\n",
      "              precision    recall  f1-score   support\n",
      "\n",
      "           0       0.59      0.56      0.57        54\n",
      "           1       0.95      0.80      0.87        49\n",
      "           2       0.48      0.61      0.54        46\n",
      "           3       0.95      0.88      0.91        48\n",
      "           4       0.90      0.86      0.88        51\n",
      "           5       0.60      0.70      0.65        44\n",
      "           6       0.71      0.71      0.71        65\n",
      "           7       0.94      0.59      0.72        51\n",
      "           8       0.55      0.76      0.64        42\n",
      "\n",
      "    accuracy                           0.72       450\n",
      "   macro avg       0.74      0.72      0.72       450\n",
      "weighted avg       0.75      0.72      0.72       450\n",
      "\n",
      "----------------------------------------\n",
      "Confusion matrix\n"
     ]
    },
    {
     "data": {
      "image/png": "[encoded data removed]",
      "text/plain": [
       "<Figure size 1440x1080 with 2 Axes>"
      ]
     },
     "metadata": {},
     "output_type": "display_data"
    }
   ],
   "source": [
    "preprocess = TextPreprocess(sentences=dataset.test_sentences, labels=dataset.test_labels, tokenizer=tokenizer)\n",
    "preprocess._tokenize()\n",
    "preprocess._convertToTensors()\n",
    "\n",
    "evaluator = Tester(model, device, prediction_dataloader=preprocess.prediction_dataloader, plotlabels=dataset.subredditToLabel.keys(), labels_available=True)\n",
    "evaluator._evaluation()"
   ]
  },
  {
   "cell_type": "code",
   "execution_count": 125,
   "metadata": {},
   "outputs": [
    {
     "data": {
      "application/vnd.jupyter.widget-view+json": {
       "model_id": "971973bf764f4e11becdfc311c112f72",
       "version_major": 2,
       "version_minor": 0
      },
      "text/plain": [
       "HBox(children=(IntProgress(value=0, description='Converting Sentences: ', max=6, style=ProgressStyle(descripti…"
      ]
     },
     "metadata": {},
     "output_type": "display_data"
    },
    {
     "name": "stdout",
     "output_type": "stream",
     "text": [
      "\n"
     ]
    },
    {
     "data": {
      "application/vnd.jupyter.widget-view+json": {
       "model_id": "f672fb74d6b34de7a66fba07b3fe8b7c",
       "version_major": 2,
       "version_minor": 0
      },
      "text/plain": [
       "HBox(children=(IntProgress(value=0, description='Tokenizing: ', max=6, style=ProgressStyle(description_width='…"
      ]
     },
     "metadata": {},
     "output_type": "display_data"
    },
    {
     "name": "stdout",
     "output_type": "stream",
     "text": [
      "\n"
     ]
    },
    {
     "data": {
      "application/vnd.jupyter.widget-view+json": {
       "model_id": "45e32aa1bfd340ee891264d4c00ada68",
       "version_major": 2,
       "version_minor": 0
      },
      "text/plain": [
       "HBox(children=(IntProgress(value=0, description='Token to IDs: ', max=6, style=ProgressStyle(description_width…"
      ]
     },
     "metadata": {},
     "output_type": "display_data"
    },
    {
     "name": "stdout",
     "output_type": "stream",
     "text": [
      "\n",
      "Padding input tokens...\n",
      "Done!\n"
     ]
    },
    {
     "data": {
      "application/vnd.jupyter.widget-view+json": {
       "model_id": "c1e259a68a034ce284950014b27ef90f",
       "version_major": 2,
       "version_minor": 0
      },
      "text/plain": [
       "HBox(children=(IntProgress(value=0, description='Creating attention masks: ', max=6, style=ProgressStyle(descr…"
      ]
     },
     "metadata": {},
     "output_type": "display_data"
    },
    {
     "name": "stdout",
     "output_type": "stream",
     "text": [
      "\n",
      "Converting to tensors...\n",
      "Done!\n"
     ]
    },
    {
     "data": {
      "application/vnd.jupyter.widget-view+json": {
       "model_id": "c0aa25644a6043cbbdd2916e99a9639e",
       "version_major": 2,
       "version_minor": 0
      },
      "text/plain": [
       "HBox(children=(IntProgress(value=0, description='Evaluating: ', max=1, style=ProgressStyle(description_width='…"
      ]
     },
     "metadata": {},
     "output_type": "display_data"
    },
    {
     "name": "stdout",
     "output_type": "stream",
     "text": [
      "\n",
      "[2 3 6 5 2 5]\n"
     ]
    }
   ],
   "source": [
    "random_text = [\"How are A/B tests performed at your company?\", \n",
    "               \"[E] Senior Statistics Undergraduate Anxiety Questions\", \n",
    "               \"Death is a universal experience no one can relate to.\",\n",
    "               \"You've probably squished a bug that has been on an epic movie-worthy journey in its lifetime.\",\n",
    "               \"Stop campaigning for your favourite rappers to be freed from jail. They're criminals!\",\n",
    "               \"I want to become a top coder, not only on leetcode, but also on Kaggle. How do I do that?\"\n",
    "              ]\n",
    "\n",
    "preprocess = TextPreprocess(sentences=random_text, tokenizer=tokenizer)\n",
    "preprocess._tokenize()\n",
    "preprocess._convertToTensors()\n",
    "\n",
    "evaluator = Tester(model, device, prediction_dataloader=preprocess.prediction_dataloader)\n",
    "evaluator._evaluation()\n",
    "print(evaluator.flat_predictions)"
   ]
  },
  {
   "cell_type": "code",
   "execution_count": null,
   "metadata": {},
   "outputs": [],
   "source": []
  }
 ],
 "metadata": {
  "kernelspec": {
   "display_name": "Python 3",
   "language": "python",
   "name": "python3"
  },
  "language_info": {
   "codemirror_mode": {
    "name": "ipython",
    "version": 3
   },
   "file_extension": ".py",
   "mimetype": "text/x-python",
   "name": "python",
   "nbconvert_exporter": "python",
   "pygments_lexer": "ipython3",
   "version": "3.6.1"
  }
 },
 "nbformat": 4,
 "nbformat_minor": 4
}
